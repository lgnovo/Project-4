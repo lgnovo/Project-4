{
  "nbformat": 4,
  "nbformat_minor": 0,
  "metadata": {
    "colab": {
      "provenance": []
    },
    "kernelspec": {
      "name": "python3",
      "display_name": "Python 3"
    },
    "language_info": {
      "name": "python"
    }
  },
  "cells": [
    {
      "cell_type": "code",
      "execution_count": 1,
      "metadata": {
        "colab": {
          "base_uri": "https://localhost:8080/"
        },
        "id": "zdevKISlkjnb",
        "outputId": "c66bef2c-b21a-4c43-bc33-8b0375193c52"
      },
      "outputs": [
        {
          "output_type": "stream",
          "name": "stdout",
          "text": [
            "\r0% [Working]\r            \rHit:1 https://cloud.r-project.org/bin/linux/ubuntu jammy-cran40/ InRelease\n",
            "Hit:2 https://developer.download.nvidia.com/compute/cuda/repos/ubuntu2204/x86_64  InRelease\n",
            "Hit:3 http://archive.ubuntu.com/ubuntu jammy InRelease\n",
            "Get:4 http://security.ubuntu.com/ubuntu jammy-security InRelease [129 kB]\n",
            "Get:5 http://archive.ubuntu.com/ubuntu jammy-updates InRelease [128 kB]\n",
            "Hit:6 http://archive.ubuntu.com/ubuntu jammy-backports InRelease\n",
            "Hit:7 https://ppa.launchpadcontent.net/c2d4u.team/c2d4u4.0+/ubuntu jammy InRelease\n",
            "Get:8 http://archive.ubuntu.com/ubuntu jammy-updates/universe amd64 Packages [1,377 kB]\n",
            "Hit:9 https://ppa.launchpadcontent.net/deadsnakes/ppa/ubuntu jammy InRelease\n",
            "Hit:10 https://ppa.launchpadcontent.net/graphics-drivers/ppa/ubuntu jammy InRelease\n",
            "Get:11 http://archive.ubuntu.com/ubuntu jammy-updates/main amd64 Packages [2,129 kB]\n",
            "Hit:12 https://ppa.launchpadcontent.net/ubuntugis/ppa/ubuntu jammy InRelease\n",
            "Fetched 3,762 kB in 2s (2,057 kB/s)\n",
            "Reading package lists... Done\n"
          ]
        }
      ],
      "source": [
        "import os\n",
        "# Find the latest version of spark 3.2 from http://www.apache.org/dist/spark/ and enter as the spark version\n",
        "# For example:\n",
        "spark_version = 'spark-3.5.1'\n",
        "os.environ['SPARK_VERSION']=spark_version\n",
        "\n",
        "# Install Spark and Java\n",
        "!apt-get update\n",
        "!apt-get install openjdk-11-jdk-headless -qq > /dev/null\n",
        "!wget -q http://www.apache.org/dist/spark/$SPARK_VERSION/$SPARK_VERSION-bin-hadoop3.tgz\n",
        "!tar xf $SPARK_VERSION-bin-hadoop3.tgz\n",
        "!pip install -q findspark\n",
        "\n",
        "# Set Environment Variables\n",
        "import os\n",
        "os.environ[\"JAVA_HOME\"] = \"/usr/lib/jvm/java-11-openjdk-amd64\"\n",
        "os.environ[\"SPARK_HOME\"] = f\"/content/{spark_version}-bin-hadoop3\"\n",
        "\n",
        "# Start a SparkSession\n",
        "import findspark\n",
        "findspark.init()\n",
        "\n",
        "\n",
        "from pyspark.sql import SparkSession\n",
        "spark = SparkSession.builder.appName(\"Testing\").getOrCreate()\n"
      ]
    },
    {
      "cell_type": "code",
      "source": [
        "# Start Spark session\n",
        "from pyspark.sql import SparkSession\n",
        "from pyspark.sql.functions import col, desc, when\n",
        "spark = SparkSession.builder.appName(\"BankChurners\").getOrCreate()"
      ],
      "metadata": {
        "id": "8fd1v8X3oHlm"
      },
      "execution_count": 2,
      "outputs": []
    },
    {
      "cell_type": "code",
      "source": [
        "# Read in data from S3 Buckets\n",
        "from pyspark import SparkFiles\n",
        "url = \"https://groupfourproject.s3.ca-central-1.amazonaws.com/bank_churners.csv\"\n",
        "spark.sparkContext.addFile(url)\n",
        "df = spark.read.csv(SparkFiles.get(\"bank_churners.csv\"), header=True, sep=',', inferSchema=True)\n",
        "\n",
        "\n",
        "# Show DataFrame\n",
        "df.show()"
      ],
      "metadata": {
        "colab": {
          "base_uri": "https://localhost:8080/"
        },
        "id": "yey_-3fjn0xM",
        "outputId": "b0c50751-0ec7-4e07-b89d-e3798b4bec47"
      },
      "execution_count": 3,
      "outputs": [
        {
          "output_type": "stream",
          "name": "stdout",
          "text": [
            "+---------+-----------------+------------+------+---------------+---------------+--------------+---------------+-------------+--------------+------------------------+----------------------+---------------------+------------+-------------------+---------------+--------------------+---------------+--------------+-------------------+---------------------+----------------------------------------------------------------------------------------------------------------------------------+----------------------------------------------------------------------------------------------------------------------------------+\n",
            "|CLIENTNUM|   Attrition_Flag|Customer_Age|Gender|Dependent_count|Education_Level|Marital_Status|Income_Category|Card_Category|Months_on_book|Total_Relationship_Count|Months_Inactive_12_mon|Contacts_Count_12_mon|Credit_Limit|Total_Revolving_Bal|Avg_Open_To_Buy|Total_Amt_Chng_Q4_Q1|Total_Trans_Amt|Total_Trans_Ct|Total_Ct_Chng_Q4_Q1|Avg_Utilization_Ratio|Naive_Bayes_Classifier_Attrition_Flag_Card_Category_Contacts_Count_12_mon_Dependent_count_Education_Level_Months_Inactive_12_mon_1|Naive_Bayes_Classifier_Attrition_Flag_Card_Category_Contacts_Count_12_mon_Dependent_count_Education_Level_Months_Inactive_12_mon_2|\n",
            "+---------+-----------------+------------+------+---------------+---------------+--------------+---------------+-------------+--------------+------------------------+----------------------+---------------------+------------+-------------------+---------------+--------------------+---------------+--------------+-------------------+---------------------+----------------------------------------------------------------------------------------------------------------------------------+----------------------------------------------------------------------------------------------------------------------------------+\n",
            "|768805383|Existing Customer|          45|     M|              3|    High School|       Married|    $60K - $80K|         Blue|            39|                       5|                     1|                    3|     12691.0|                777|        11914.0|               1.335|           1144|            42|              1.625|                0.061|                                                                                                                         9.3448E-5|                                                                                                                           0.99991|\n",
            "|818770008|Existing Customer|          49|     F|              5|       Graduate|        Single| Less than $40K|         Blue|            44|                       6|                     1|                    2|      8256.0|                864|         7392.0|               1.541|           1291|            33|              3.714|                0.105|                                                                                                                         5.6861E-5|                                                                                                                           0.99994|\n",
            "|713982108|Existing Customer|          51|     M|              3|       Graduate|       Married|   $80K - $120K|         Blue|            36|                       4|                     1|                    0|      3418.0|                  0|         3418.0|               2.594|           1887|            20|              2.333|                  0.0|                                                                                                                         2.1081E-5|                                                                                                                           0.99998|\n",
            "|769911858|Existing Customer|          40|     F|              4|    High School|       Unknown| Less than $40K|         Blue|            34|                       3|                     4|                    1|      3313.0|               2517|          796.0|               1.405|           1171|            20|              2.333|                 0.76|                                                                                                                         1.3366E-4|                                                                                                                           0.99987|\n",
            "|709106358|Existing Customer|          40|     M|              3|     Uneducated|       Married|    $60K - $80K|         Blue|            21|                       5|                     1|                    0|      4716.0|                  0|         4716.0|               2.175|            816|            28|                2.5|                  0.0|                                                                                                                         2.1676E-5|                                                                                                                           0.99998|\n",
            "|713061558|Existing Customer|          44|     M|              2|       Graduate|       Married|    $40K - $60K|         Blue|            36|                       3|                     1|                    2|      4010.0|               1247|         2763.0|               1.376|           1088|            24|              0.846|                0.311|                                                                                                                         5.5077E-5|                                                                                                                           0.99994|\n",
            "|810347208|Existing Customer|          51|     M|              4|        Unknown|       Married|        $120K +|         Gold|            46|                       6|                     1|                    3|     34516.0|               2264|        32252.0|               1.975|           1330|            31|              0.722|                0.066|                                                                                                                         1.2303E-4|                                                                                                                           0.99988|\n",
            "|818906208|Existing Customer|          32|     M|              0|    High School|       Unknown|    $60K - $80K|       Silver|            27|                       2|                     2|                    2|     29081.0|               1396|        27685.0|               2.204|           1538|            36|              0.714|                0.048|                                                                                                                         8.5795E-5|                                                                                                                           0.99991|\n",
            "|710930508|Existing Customer|          37|     M|              3|     Uneducated|        Single|    $60K - $80K|         Blue|            36|                       5|                     2|                    0|     22352.0|               2517|        19835.0|               3.355|           1350|            24|              1.182|                0.113|                                                                                                                         4.4796E-5|                                                                                                                           0.99996|\n",
            "|719661558|Existing Customer|          48|     M|              2|       Graduate|        Single|   $80K - $120K|         Blue|            36|                       6|                     3|                    3|     11656.0|               1677|         9979.0|               1.524|           1441|            32|              0.882|                0.144|                                                                                                                         3.0251E-4|                                                                                                                            0.9997|\n",
            "|708790833|Existing Customer|          42|     M|              5|     Uneducated|       Unknown|        $120K +|         Blue|            31|                       5|                     3|                    2|      6748.0|               1467|         5281.0|               0.831|           1201|            42|               0.68|                0.217|                                                                                                                         1.9094E-4|                                                                                                                           0.99981|\n",
            "|710821833|Existing Customer|          65|     M|              1|        Unknown|       Married|    $40K - $60K|         Blue|            54|                       6|                     2|                    3|      9095.0|               1587|         7508.0|               1.433|           1314|            26|              1.364|                0.174|                                                                                                                         1.9751E-4|                                                                                                                            0.9998|\n",
            "|710599683|Existing Customer|          56|     M|              1|        College|        Single|   $80K - $120K|         Blue|            36|                       3|                     6|                    0|     11751.0|                  0|        11751.0|               3.397|           1539|            17|               3.25|                  0.0|                                                                                                                         4.7799E-5|                                                                                                                           0.99995|\n",
            "|816082233|Existing Customer|          35|     M|              3|       Graduate|       Unknown|    $60K - $80K|         Blue|            30|                       5|                     1|                    3|      8547.0|               1666|         6881.0|               1.163|           1311|            33|                2.0|                0.195|                                                                                                                         9.6126E-5|                                                                                                                            0.9999|\n",
            "|712396908|Existing Customer|          57|     F|              2|       Graduate|       Married| Less than $40K|         Blue|            48|                       5|                     2|                    2|      2436.0|                680|         1756.0|                1.19|           1570|            29|              0.611|                0.279|                                                                                                                         1.1382E-4|                                                                                                                           0.99989|\n",
            "|714885258|Existing Customer|          44|     M|              4|        Unknown|       Unknown|   $80K - $120K|         Blue|            37|                       5|                     1|                    2|      4234.0|                972|         3262.0|               1.707|           1348|            27|                1.7|                 0.23|                                                                                                                         6.3492E-5|                                                                                                                           0.99994|\n",
            "|709967358|Existing Customer|          48|     M|              4|  Post-Graduate|        Single|   $80K - $120K|         Blue|            36|                       6|                     2|                    3|     30367.0|               2362|        28005.0|               1.708|           1671|            27|              0.929|                0.078|                                                                                                                         2.3623E-4|                                                                                                                           0.99976|\n",
            "|753327333|Existing Customer|          41|     M|              3|        Unknown|       Married|   $80K - $120K|         Blue|            34|                       4|                     4|                    1|     13535.0|               1291|        12244.0|               0.653|           1028|            21|              1.625|                0.095|                                                                                                                         1.4953E-4|                                                                                                                           0.99985|\n",
            "|806160108|Existing Customer|          61|     M|              1|    High School|       Married|    $40K - $60K|         Blue|            56|                       2|                     2|                    3|      3193.0|               2517|          676.0|               1.831|           1336|            30|              1.143|                0.788|                                                                                                                         1.7468E-4|                                                                                                                           0.99983|\n",
            "|709327383|Existing Customer|          45|     F|              2|       Graduate|       Married|        Unknown|         Blue|            37|                       6|                     1|                    2|     14470.0|               1157|        13313.0|               0.966|           1207|            21|              0.909|                 0.08|                                                                                                                         5.5077E-5|                                                                                                                           0.99994|\n",
            "+---------+-----------------+------------+------+---------------+---------------+--------------+---------------+-------------+--------------+------------------------+----------------------+---------------------+------------+-------------------+---------------+--------------------+---------------+--------------+-------------------+---------------------+----------------------------------------------------------------------------------------------------------------------------------+----------------------------------------------------------------------------------------------------------------------------------+\n",
            "only showing top 20 rows\n",
            "\n"
          ]
        }
      ]
    },
    {
      "cell_type": "code",
      "source": [
        "#Showing Column Type\n",
        "df.printSchema()"
      ],
      "metadata": {
        "colab": {
          "base_uri": "https://localhost:8080/"
        },
        "id": "w0fA2MS8Naal",
        "outputId": "48395730-060d-46b9-c3ec-078dc4fe171c"
      },
      "execution_count": 4,
      "outputs": [
        {
          "output_type": "stream",
          "name": "stdout",
          "text": [
            "root\n",
            " |-- CLIENTNUM: integer (nullable = true)\n",
            " |-- Attrition_Flag: string (nullable = true)\n",
            " |-- Customer_Age: integer (nullable = true)\n",
            " |-- Gender: string (nullable = true)\n",
            " |-- Dependent_count: integer (nullable = true)\n",
            " |-- Education_Level: string (nullable = true)\n",
            " |-- Marital_Status: string (nullable = true)\n",
            " |-- Income_Category: string (nullable = true)\n",
            " |-- Card_Category: string (nullable = true)\n",
            " |-- Months_on_book: integer (nullable = true)\n",
            " |-- Total_Relationship_Count: integer (nullable = true)\n",
            " |-- Months_Inactive_12_mon: integer (nullable = true)\n",
            " |-- Contacts_Count_12_mon: integer (nullable = true)\n",
            " |-- Credit_Limit: double (nullable = true)\n",
            " |-- Total_Revolving_Bal: integer (nullable = true)\n",
            " |-- Avg_Open_To_Buy: double (nullable = true)\n",
            " |-- Total_Amt_Chng_Q4_Q1: double (nullable = true)\n",
            " |-- Total_Trans_Amt: integer (nullable = true)\n",
            " |-- Total_Trans_Ct: integer (nullable = true)\n",
            " |-- Total_Ct_Chng_Q4_Q1: double (nullable = true)\n",
            " |-- Avg_Utilization_Ratio: double (nullable = true)\n",
            " |-- Naive_Bayes_Classifier_Attrition_Flag_Card_Category_Contacts_Count_12_mon_Dependent_count_Education_Level_Months_Inactive_12_mon_1: double (nullable = true)\n",
            " |-- Naive_Bayes_Classifier_Attrition_Flag_Card_Category_Contacts_Count_12_mon_Dependent_count_Education_Level_Months_Inactive_12_mon_2: double (nullable = true)\n",
            "\n"
          ]
        }
      ]
    },
    {
      "cell_type": "code",
      "source": [
        "#Dropping duplicates within the dataframe\n",
        "df.dropDuplicates().show()"
      ],
      "metadata": {
        "id": "WLKWXrRongRV",
        "colab": {
          "base_uri": "https://localhost:8080/"
        },
        "outputId": "5718a1be-5ed3-4615-842e-e6f51c57b2c3"
      },
      "execution_count": 5,
      "outputs": [
        {
          "output_type": "stream",
          "name": "stdout",
          "text": [
            "+---------+-----------------+------------+------+---------------+---------------+--------------+---------------+-------------+--------------+------------------------+----------------------+---------------------+------------+-------------------+---------------+--------------------+---------------+--------------+-------------------+---------------------+----------------------------------------------------------------------------------------------------------------------------------+----------------------------------------------------------------------------------------------------------------------------------+\n",
            "|CLIENTNUM|   Attrition_Flag|Customer_Age|Gender|Dependent_count|Education_Level|Marital_Status|Income_Category|Card_Category|Months_on_book|Total_Relationship_Count|Months_Inactive_12_mon|Contacts_Count_12_mon|Credit_Limit|Total_Revolving_Bal|Avg_Open_To_Buy|Total_Amt_Chng_Q4_Q1|Total_Trans_Amt|Total_Trans_Ct|Total_Ct_Chng_Q4_Q1|Avg_Utilization_Ratio|Naive_Bayes_Classifier_Attrition_Flag_Card_Category_Contacts_Count_12_mon_Dependent_count_Education_Level_Months_Inactive_12_mon_1|Naive_Bayes_Classifier_Attrition_Flag_Card_Category_Contacts_Count_12_mon_Dependent_count_Education_Level_Months_Inactive_12_mon_2|\n",
            "+---------+-----------------+------------+------+---------------+---------------+--------------+---------------+-------------+--------------+------------------------+----------------------+---------------------+------------+-------------------+---------------+--------------------+---------------+--------------+-------------------+---------------------+----------------------------------------------------------------------------------------------------------------------------------+----------------------------------------------------------------------------------------------------------------------------------+\n",
            "|789124683|Existing Customer|          54|     M|              2|        Unknown|       Married|   $80K - $120K|         Blue|            42|                       4|                     2|                    3|     12217.0|                  0|        12217.0|               1.075|           1110|            21|               0.75|                  0.0|                                                                                                                         2.1042E-4|                                                                                                                           0.99979|\n",
            "|717296808|Existing Customer|          67|     F|              1|       Graduate|       Married| Less than $40K|         Blue|            56|                       4|                     3|                    2|      3006.0|               2517|          489.0|               2.053|           1661|            32|                1.0|                0.837|                                                                                                                         1.6883E-4|                                                                                                                           0.99983|\n",
            "|711551958|Attrited Customer|          59|     M|              2|  Post-Graduate|       Married|    $60K - $80K|         Blue|            46|                       3|                     3|                    3|      1438.3|                  0|         1438.3|               0.688|            844|            24|                0.5|                  0.0|                                                                                                                            0.9972|                                                                                                                        0.00280059|\n",
            "|713441958|Existing Customer|          46|     M|              2|    High School|       Married|        $120K +|         Blue|            36|                       5|                     3|                    2|     19727.0|               1785|        17942.0|               0.572|           1245|            25|              0.786|                 0.09|                                                                                                                         1.7486E-4|                                                                                                                           0.99983|\n",
            "|789513858|Attrited Customer|          43|     M|              3|        Unknown|       Married|    $40K - $60K|         Blue|            35|                       2|                     2|                    3|      1438.3|                  0|         1438.3|               0.694|            891|            28|                0.4|                  0.0|                                                                                                                           0.99544|                                                                                                                        0.00455805|\n",
            "|720680058|Existing Customer|          47|     M|              2|  Post-Graduate|       Married| Less than $40K|         Blue|            36|                       6|                     1|                    3|      3888.0|               1663|         2225.0|               0.664|           1145|            37|              0.423|                0.428|                                                                                                                           1.09E-4|                                                                                                                           0.99989|\n",
            "|802817358|Existing Customer|          38|     F|              3|    High School|       Married|        Unknown|         Blue|            32|                       4|                     2|                    1|     11594.0|               2072|         9522.0|               0.983|           2320|            51|              0.594|                0.179|                                                                                                                         6.9242E-5|                                                                                                                           0.99993|\n",
            "|801369258|Existing Customer|          47|     F|              5|  Post-Graduate|       Married|    $40K - $60K|         Blue|            41|                       6|                     2|                    2|      4466.0|                777|         3689.0|                1.02|           1757|            59|              0.595|                0.174|                                                                                                                         1.3827E-4|                                                                                                                           0.99986|\n",
            "|770882508|Existing Customer|          38|     M|              2|        College|       Married|   $80K - $120K|         Blue|            24|                       4|                     1|                    5|     17162.0|                773|        16389.0|               1.238|           2457|            54|                1.0|                0.045|                                                                                                                         2.6586E-4|                                                                                                                           0.99973|\n",
            "|709334658|Existing Customer|          39|     F|              2|     Uneducated|       Married| Less than $40K|         Blue|            26|                       4|                     2|                    5|      5484.0|               2517|         2967.0|               0.489|           2025|            51|              0.378|                0.459|                                                                                                                         5.8091E-4|                                                                                                                           0.99942|\n",
            "|710540883|Existing Customer|          37|     M|              3|    High School|        Single|   $80K - $120K|         Blue|            24|                       5|                     3|                    2|      6590.0|                  0|         6590.0|               0.714|           2449|            67|              0.634|                  0.0|                                                                                                                         1.8145E-4|                                                                                                                           0.99982|\n",
            "|713426358|Existing Customer|          28|     F|              0|        College|       Married|        Unknown|         Blue|            36|                       3|                     2|                    3|      5685.0|                  0|         5685.0|               1.334|           2395|            62|                1.0|                  0.0|                                                                                                                         1.5971E-4|                                                                                                                           0.99984|\n",
            "|770937183|Existing Customer|          40|     F|              4|       Graduate|        Single| Less than $40K|       Silver|            27|                       3|                     1|                    2|     10745.0|               2084|         8661.0|               0.847|           3502|            87|              0.933|                0.194|                                                                                                                         5.2192E-5|                                                                                                                           0.99995|\n",
            "|789430083|Existing Customer|          41|     F|              5|    High School|        Single|    $40K - $60K|         Blue|            32|                       6|                     1|                    2|     14987.0|               1425|        13562.0|                 0.8|           4470|            83|              0.844|                0.095|                                                                                                                         5.5277E-5|                                                                                                                           0.99994|\n",
            "|827476983|Attrited Customer|          56|     F|              2|        College|        Single| Less than $40K|         Blue|            52|                       3|                     5|                    1|      3639.0|               2178|         1461.0|               0.451|           1865|            42|                0.5|                0.599|                                                                                                                           0.99158|                                                                                                                           0.00842|\n",
            "|816261858|Attrited Customer|          61|     M|              0|       Graduate|        Single|    $40K - $60K|         Blue|            56|                       2|                     5|                    4|      3984.0|               2245|         1739.0|               0.612|           1821|            39|              0.696|                0.564|                                                                                                                           0.99798|                                                                                                                        0.00201684|\n",
            "|716714733|Existing Customer|          41|     M|              3|       Graduate|        Single|   $80K - $120K|         Blue|            30|                       3|                     2|                    0|      3460.0|                955|         2505.0|               0.644|           3642|            69|              0.769|                0.276|                                                                                                                         4.3568E-5|                                                                                                                           0.99996|\n",
            "|785529708|Existing Customer|          59|     M|              1|       Graduate|        Single|        $120K +|         Blue|            53|                       6|                     2|                    2|     34516.0|                  0|        34516.0|               0.711|           4333|            70|              0.628|                  0.0|                                                                                                                         1.0684E-4|                                                                                                                           0.99989|\n",
            "|771790083|Existing Customer|          43|     F|              3|        Unknown|       Married| Less than $40K|       Silver|            32|                       4|                     3|                    2|     10466.0|               2080|         8386.0|               0.648|           4116|            64|              0.684|                0.199|                                                                                                                         1.8538E-4|                                                                                                                           0.99981|\n",
            "|720519333|Attrited Customer|          59|     F|              2|        Unknown|        Single|        Unknown|         Blue|            45|                       1|                     3|                    3|      2721.0|               1885|          836.0|               0.853|           2594|            48|              0.455|                0.693|                                                                                                                             0.997|                                                                                                                        0.00299743|\n",
            "+---------+-----------------+------------+------+---------------+---------------+--------------+---------------+-------------+--------------+------------------------+----------------------+---------------------+------------+-------------------+---------------+--------------------+---------------+--------------+-------------------+---------------------+----------------------------------------------------------------------------------------------------------------------------------+----------------------------------------------------------------------------------------------------------------------------------+\n",
            "only showing top 20 rows\n",
            "\n"
          ]
        }
      ]
    },
    {
      "cell_type": "code",
      "source": [
        "#Drooping NA in the dataframe\n",
        "df.na.drop(how='all').show()"
      ],
      "metadata": {
        "id": "FPpPNFzNngLZ",
        "colab": {
          "base_uri": "https://localhost:8080/"
        },
        "outputId": "647a6b3b-2945-4be3-d3d9-7b481cbd8caa"
      },
      "execution_count": 6,
      "outputs": [
        {
          "output_type": "stream",
          "name": "stdout",
          "text": [
            "+---------+-----------------+------------+------+---------------+---------------+--------------+---------------+-------------+--------------+------------------------+----------------------+---------------------+------------+-------------------+---------------+--------------------+---------------+--------------+-------------------+---------------------+----------------------------------------------------------------------------------------------------------------------------------+----------------------------------------------------------------------------------------------------------------------------------+\n",
            "|CLIENTNUM|   Attrition_Flag|Customer_Age|Gender|Dependent_count|Education_Level|Marital_Status|Income_Category|Card_Category|Months_on_book|Total_Relationship_Count|Months_Inactive_12_mon|Contacts_Count_12_mon|Credit_Limit|Total_Revolving_Bal|Avg_Open_To_Buy|Total_Amt_Chng_Q4_Q1|Total_Trans_Amt|Total_Trans_Ct|Total_Ct_Chng_Q4_Q1|Avg_Utilization_Ratio|Naive_Bayes_Classifier_Attrition_Flag_Card_Category_Contacts_Count_12_mon_Dependent_count_Education_Level_Months_Inactive_12_mon_1|Naive_Bayes_Classifier_Attrition_Flag_Card_Category_Contacts_Count_12_mon_Dependent_count_Education_Level_Months_Inactive_12_mon_2|\n",
            "+---------+-----------------+------------+------+---------------+---------------+--------------+---------------+-------------+--------------+------------------------+----------------------+---------------------+------------+-------------------+---------------+--------------------+---------------+--------------+-------------------+---------------------+----------------------------------------------------------------------------------------------------------------------------------+----------------------------------------------------------------------------------------------------------------------------------+\n",
            "|768805383|Existing Customer|          45|     M|              3|    High School|       Married|    $60K - $80K|         Blue|            39|                       5|                     1|                    3|     12691.0|                777|        11914.0|               1.335|           1144|            42|              1.625|                0.061|                                                                                                                         9.3448E-5|                                                                                                                           0.99991|\n",
            "|818770008|Existing Customer|          49|     F|              5|       Graduate|        Single| Less than $40K|         Blue|            44|                       6|                     1|                    2|      8256.0|                864|         7392.0|               1.541|           1291|            33|              3.714|                0.105|                                                                                                                         5.6861E-5|                                                                                                                           0.99994|\n",
            "|713982108|Existing Customer|          51|     M|              3|       Graduate|       Married|   $80K - $120K|         Blue|            36|                       4|                     1|                    0|      3418.0|                  0|         3418.0|               2.594|           1887|            20|              2.333|                  0.0|                                                                                                                         2.1081E-5|                                                                                                                           0.99998|\n",
            "|769911858|Existing Customer|          40|     F|              4|    High School|       Unknown| Less than $40K|         Blue|            34|                       3|                     4|                    1|      3313.0|               2517|          796.0|               1.405|           1171|            20|              2.333|                 0.76|                                                                                                                         1.3366E-4|                                                                                                                           0.99987|\n",
            "|709106358|Existing Customer|          40|     M|              3|     Uneducated|       Married|    $60K - $80K|         Blue|            21|                       5|                     1|                    0|      4716.0|                  0|         4716.0|               2.175|            816|            28|                2.5|                  0.0|                                                                                                                         2.1676E-5|                                                                                                                           0.99998|\n",
            "|713061558|Existing Customer|          44|     M|              2|       Graduate|       Married|    $40K - $60K|         Blue|            36|                       3|                     1|                    2|      4010.0|               1247|         2763.0|               1.376|           1088|            24|              0.846|                0.311|                                                                                                                         5.5077E-5|                                                                                                                           0.99994|\n",
            "|810347208|Existing Customer|          51|     M|              4|        Unknown|       Married|        $120K +|         Gold|            46|                       6|                     1|                    3|     34516.0|               2264|        32252.0|               1.975|           1330|            31|              0.722|                0.066|                                                                                                                         1.2303E-4|                                                                                                                           0.99988|\n",
            "|818906208|Existing Customer|          32|     M|              0|    High School|       Unknown|    $60K - $80K|       Silver|            27|                       2|                     2|                    2|     29081.0|               1396|        27685.0|               2.204|           1538|            36|              0.714|                0.048|                                                                                                                         8.5795E-5|                                                                                                                           0.99991|\n",
            "|710930508|Existing Customer|          37|     M|              3|     Uneducated|        Single|    $60K - $80K|         Blue|            36|                       5|                     2|                    0|     22352.0|               2517|        19835.0|               3.355|           1350|            24|              1.182|                0.113|                                                                                                                         4.4796E-5|                                                                                                                           0.99996|\n",
            "|719661558|Existing Customer|          48|     M|              2|       Graduate|        Single|   $80K - $120K|         Blue|            36|                       6|                     3|                    3|     11656.0|               1677|         9979.0|               1.524|           1441|            32|              0.882|                0.144|                                                                                                                         3.0251E-4|                                                                                                                            0.9997|\n",
            "|708790833|Existing Customer|          42|     M|              5|     Uneducated|       Unknown|        $120K +|         Blue|            31|                       5|                     3|                    2|      6748.0|               1467|         5281.0|               0.831|           1201|            42|               0.68|                0.217|                                                                                                                         1.9094E-4|                                                                                                                           0.99981|\n",
            "|710821833|Existing Customer|          65|     M|              1|        Unknown|       Married|    $40K - $60K|         Blue|            54|                       6|                     2|                    3|      9095.0|               1587|         7508.0|               1.433|           1314|            26|              1.364|                0.174|                                                                                                                         1.9751E-4|                                                                                                                            0.9998|\n",
            "|710599683|Existing Customer|          56|     M|              1|        College|        Single|   $80K - $120K|         Blue|            36|                       3|                     6|                    0|     11751.0|                  0|        11751.0|               3.397|           1539|            17|               3.25|                  0.0|                                                                                                                         4.7799E-5|                                                                                                                           0.99995|\n",
            "|816082233|Existing Customer|          35|     M|              3|       Graduate|       Unknown|    $60K - $80K|         Blue|            30|                       5|                     1|                    3|      8547.0|               1666|         6881.0|               1.163|           1311|            33|                2.0|                0.195|                                                                                                                         9.6126E-5|                                                                                                                            0.9999|\n",
            "|712396908|Existing Customer|          57|     F|              2|       Graduate|       Married| Less than $40K|         Blue|            48|                       5|                     2|                    2|      2436.0|                680|         1756.0|                1.19|           1570|            29|              0.611|                0.279|                                                                                                                         1.1382E-4|                                                                                                                           0.99989|\n",
            "|714885258|Existing Customer|          44|     M|              4|        Unknown|       Unknown|   $80K - $120K|         Blue|            37|                       5|                     1|                    2|      4234.0|                972|         3262.0|               1.707|           1348|            27|                1.7|                 0.23|                                                                                                                         6.3492E-5|                                                                                                                           0.99994|\n",
            "|709967358|Existing Customer|          48|     M|              4|  Post-Graduate|        Single|   $80K - $120K|         Blue|            36|                       6|                     2|                    3|     30367.0|               2362|        28005.0|               1.708|           1671|            27|              0.929|                0.078|                                                                                                                         2.3623E-4|                                                                                                                           0.99976|\n",
            "|753327333|Existing Customer|          41|     M|              3|        Unknown|       Married|   $80K - $120K|         Blue|            34|                       4|                     4|                    1|     13535.0|               1291|        12244.0|               0.653|           1028|            21|              1.625|                0.095|                                                                                                                         1.4953E-4|                                                                                                                           0.99985|\n",
            "|806160108|Existing Customer|          61|     M|              1|    High School|       Married|    $40K - $60K|         Blue|            56|                       2|                     2|                    3|      3193.0|               2517|          676.0|               1.831|           1336|            30|              1.143|                0.788|                                                                                                                         1.7468E-4|                                                                                                                           0.99983|\n",
            "|709327383|Existing Customer|          45|     F|              2|       Graduate|       Married|        Unknown|         Blue|            37|                       6|                     1|                    2|     14470.0|               1157|        13313.0|               0.966|           1207|            21|              0.909|                 0.08|                                                                                                                         5.5077E-5|                                                                                                                           0.99994|\n",
            "+---------+-----------------+------------+------+---------------+---------------+--------------+---------------+-------------+--------------+------------------------+----------------------+---------------------+------------+-------------------+---------------+--------------------+---------------+--------------+-------------------+---------------------+----------------------------------------------------------------------------------------------------------------------------------+----------------------------------------------------------------------------------------------------------------------------------+\n",
            "only showing top 20 rows\n",
            "\n"
          ]
        }
      ]
    },
    {
      "cell_type": "code",
      "source": [
        "#Showing the head of the dataframe\n",
        "df.show(10)\n",
        "\n",
        "#Displaying the tail of the dataframe\n",
        "df.tail(10)\n",
        "df.show()"
      ],
      "metadata": {
        "id": "FjxZlGoUngCU",
        "colab": {
          "base_uri": "https://localhost:8080/"
        },
        "outputId": "640f562f-98be-40e3-ede3-e32e599e804c"
      },
      "execution_count": 7,
      "outputs": [
        {
          "output_type": "stream",
          "name": "stdout",
          "text": [
            "+---------+-----------------+------------+------+---------------+---------------+--------------+---------------+-------------+--------------+------------------------+----------------------+---------------------+------------+-------------------+---------------+--------------------+---------------+--------------+-------------------+---------------------+----------------------------------------------------------------------------------------------------------------------------------+----------------------------------------------------------------------------------------------------------------------------------+\n",
            "|CLIENTNUM|   Attrition_Flag|Customer_Age|Gender|Dependent_count|Education_Level|Marital_Status|Income_Category|Card_Category|Months_on_book|Total_Relationship_Count|Months_Inactive_12_mon|Contacts_Count_12_mon|Credit_Limit|Total_Revolving_Bal|Avg_Open_To_Buy|Total_Amt_Chng_Q4_Q1|Total_Trans_Amt|Total_Trans_Ct|Total_Ct_Chng_Q4_Q1|Avg_Utilization_Ratio|Naive_Bayes_Classifier_Attrition_Flag_Card_Category_Contacts_Count_12_mon_Dependent_count_Education_Level_Months_Inactive_12_mon_1|Naive_Bayes_Classifier_Attrition_Flag_Card_Category_Contacts_Count_12_mon_Dependent_count_Education_Level_Months_Inactive_12_mon_2|\n",
            "+---------+-----------------+------------+------+---------------+---------------+--------------+---------------+-------------+--------------+------------------------+----------------------+---------------------+------------+-------------------+---------------+--------------------+---------------+--------------+-------------------+---------------------+----------------------------------------------------------------------------------------------------------------------------------+----------------------------------------------------------------------------------------------------------------------------------+\n",
            "|768805383|Existing Customer|          45|     M|              3|    High School|       Married|    $60K - $80K|         Blue|            39|                       5|                     1|                    3|     12691.0|                777|        11914.0|               1.335|           1144|            42|              1.625|                0.061|                                                                                                                         9.3448E-5|                                                                                                                           0.99991|\n",
            "|818770008|Existing Customer|          49|     F|              5|       Graduate|        Single| Less than $40K|         Blue|            44|                       6|                     1|                    2|      8256.0|                864|         7392.0|               1.541|           1291|            33|              3.714|                0.105|                                                                                                                         5.6861E-5|                                                                                                                           0.99994|\n",
            "|713982108|Existing Customer|          51|     M|              3|       Graduate|       Married|   $80K - $120K|         Blue|            36|                       4|                     1|                    0|      3418.0|                  0|         3418.0|               2.594|           1887|            20|              2.333|                  0.0|                                                                                                                         2.1081E-5|                                                                                                                           0.99998|\n",
            "|769911858|Existing Customer|          40|     F|              4|    High School|       Unknown| Less than $40K|         Blue|            34|                       3|                     4|                    1|      3313.0|               2517|          796.0|               1.405|           1171|            20|              2.333|                 0.76|                                                                                                                         1.3366E-4|                                                                                                                           0.99987|\n",
            "|709106358|Existing Customer|          40|     M|              3|     Uneducated|       Married|    $60K - $80K|         Blue|            21|                       5|                     1|                    0|      4716.0|                  0|         4716.0|               2.175|            816|            28|                2.5|                  0.0|                                                                                                                         2.1676E-5|                                                                                                                           0.99998|\n",
            "|713061558|Existing Customer|          44|     M|              2|       Graduate|       Married|    $40K - $60K|         Blue|            36|                       3|                     1|                    2|      4010.0|               1247|         2763.0|               1.376|           1088|            24|              0.846|                0.311|                                                                                                                         5.5077E-5|                                                                                                                           0.99994|\n",
            "|810347208|Existing Customer|          51|     M|              4|        Unknown|       Married|        $120K +|         Gold|            46|                       6|                     1|                    3|     34516.0|               2264|        32252.0|               1.975|           1330|            31|              0.722|                0.066|                                                                                                                         1.2303E-4|                                                                                                                           0.99988|\n",
            "|818906208|Existing Customer|          32|     M|              0|    High School|       Unknown|    $60K - $80K|       Silver|            27|                       2|                     2|                    2|     29081.0|               1396|        27685.0|               2.204|           1538|            36|              0.714|                0.048|                                                                                                                         8.5795E-5|                                                                                                                           0.99991|\n",
            "|710930508|Existing Customer|          37|     M|              3|     Uneducated|        Single|    $60K - $80K|         Blue|            36|                       5|                     2|                    0|     22352.0|               2517|        19835.0|               3.355|           1350|            24|              1.182|                0.113|                                                                                                                         4.4796E-5|                                                                                                                           0.99996|\n",
            "|719661558|Existing Customer|          48|     M|              2|       Graduate|        Single|   $80K - $120K|         Blue|            36|                       6|                     3|                    3|     11656.0|               1677|         9979.0|               1.524|           1441|            32|              0.882|                0.144|                                                                                                                         3.0251E-4|                                                                                                                            0.9997|\n",
            "+---------+-----------------+------------+------+---------------+---------------+--------------+---------------+-------------+--------------+------------------------+----------------------+---------------------+------------+-------------------+---------------+--------------------+---------------+--------------+-------------------+---------------------+----------------------------------------------------------------------------------------------------------------------------------+----------------------------------------------------------------------------------------------------------------------------------+\n",
            "only showing top 10 rows\n",
            "\n",
            "+---------+-----------------+------------+------+---------------+---------------+--------------+---------------+-------------+--------------+------------------------+----------------------+---------------------+------------+-------------------+---------------+--------------------+---------------+--------------+-------------------+---------------------+----------------------------------------------------------------------------------------------------------------------------------+----------------------------------------------------------------------------------------------------------------------------------+\n",
            "|CLIENTNUM|   Attrition_Flag|Customer_Age|Gender|Dependent_count|Education_Level|Marital_Status|Income_Category|Card_Category|Months_on_book|Total_Relationship_Count|Months_Inactive_12_mon|Contacts_Count_12_mon|Credit_Limit|Total_Revolving_Bal|Avg_Open_To_Buy|Total_Amt_Chng_Q4_Q1|Total_Trans_Amt|Total_Trans_Ct|Total_Ct_Chng_Q4_Q1|Avg_Utilization_Ratio|Naive_Bayes_Classifier_Attrition_Flag_Card_Category_Contacts_Count_12_mon_Dependent_count_Education_Level_Months_Inactive_12_mon_1|Naive_Bayes_Classifier_Attrition_Flag_Card_Category_Contacts_Count_12_mon_Dependent_count_Education_Level_Months_Inactive_12_mon_2|\n",
            "+---------+-----------------+------------+------+---------------+---------------+--------------+---------------+-------------+--------------+------------------------+----------------------+---------------------+------------+-------------------+---------------+--------------------+---------------+--------------+-------------------+---------------------+----------------------------------------------------------------------------------------------------------------------------------+----------------------------------------------------------------------------------------------------------------------------------+\n",
            "|768805383|Existing Customer|          45|     M|              3|    High School|       Married|    $60K - $80K|         Blue|            39|                       5|                     1|                    3|     12691.0|                777|        11914.0|               1.335|           1144|            42|              1.625|                0.061|                                                                                                                         9.3448E-5|                                                                                                                           0.99991|\n",
            "|818770008|Existing Customer|          49|     F|              5|       Graduate|        Single| Less than $40K|         Blue|            44|                       6|                     1|                    2|      8256.0|                864|         7392.0|               1.541|           1291|            33|              3.714|                0.105|                                                                                                                         5.6861E-5|                                                                                                                           0.99994|\n",
            "|713982108|Existing Customer|          51|     M|              3|       Graduate|       Married|   $80K - $120K|         Blue|            36|                       4|                     1|                    0|      3418.0|                  0|         3418.0|               2.594|           1887|            20|              2.333|                  0.0|                                                                                                                         2.1081E-5|                                                                                                                           0.99998|\n",
            "|769911858|Existing Customer|          40|     F|              4|    High School|       Unknown| Less than $40K|         Blue|            34|                       3|                     4|                    1|      3313.0|               2517|          796.0|               1.405|           1171|            20|              2.333|                 0.76|                                                                                                                         1.3366E-4|                                                                                                                           0.99987|\n",
            "|709106358|Existing Customer|          40|     M|              3|     Uneducated|       Married|    $60K - $80K|         Blue|            21|                       5|                     1|                    0|      4716.0|                  0|         4716.0|               2.175|            816|            28|                2.5|                  0.0|                                                                                                                         2.1676E-5|                                                                                                                           0.99998|\n",
            "|713061558|Existing Customer|          44|     M|              2|       Graduate|       Married|    $40K - $60K|         Blue|            36|                       3|                     1|                    2|      4010.0|               1247|         2763.0|               1.376|           1088|            24|              0.846|                0.311|                                                                                                                         5.5077E-5|                                                                                                                           0.99994|\n",
            "|810347208|Existing Customer|          51|     M|              4|        Unknown|       Married|        $120K +|         Gold|            46|                       6|                     1|                    3|     34516.0|               2264|        32252.0|               1.975|           1330|            31|              0.722|                0.066|                                                                                                                         1.2303E-4|                                                                                                                           0.99988|\n",
            "|818906208|Existing Customer|          32|     M|              0|    High School|       Unknown|    $60K - $80K|       Silver|            27|                       2|                     2|                    2|     29081.0|               1396|        27685.0|               2.204|           1538|            36|              0.714|                0.048|                                                                                                                         8.5795E-5|                                                                                                                           0.99991|\n",
            "|710930508|Existing Customer|          37|     M|              3|     Uneducated|        Single|    $60K - $80K|         Blue|            36|                       5|                     2|                    0|     22352.0|               2517|        19835.0|               3.355|           1350|            24|              1.182|                0.113|                                                                                                                         4.4796E-5|                                                                                                                           0.99996|\n",
            "|719661558|Existing Customer|          48|     M|              2|       Graduate|        Single|   $80K - $120K|         Blue|            36|                       6|                     3|                    3|     11656.0|               1677|         9979.0|               1.524|           1441|            32|              0.882|                0.144|                                                                                                                         3.0251E-4|                                                                                                                            0.9997|\n",
            "|708790833|Existing Customer|          42|     M|              5|     Uneducated|       Unknown|        $120K +|         Blue|            31|                       5|                     3|                    2|      6748.0|               1467|         5281.0|               0.831|           1201|            42|               0.68|                0.217|                                                                                                                         1.9094E-4|                                                                                                                           0.99981|\n",
            "|710821833|Existing Customer|          65|     M|              1|        Unknown|       Married|    $40K - $60K|         Blue|            54|                       6|                     2|                    3|      9095.0|               1587|         7508.0|               1.433|           1314|            26|              1.364|                0.174|                                                                                                                         1.9751E-4|                                                                                                                            0.9998|\n",
            "|710599683|Existing Customer|          56|     M|              1|        College|        Single|   $80K - $120K|         Blue|            36|                       3|                     6|                    0|     11751.0|                  0|        11751.0|               3.397|           1539|            17|               3.25|                  0.0|                                                                                                                         4.7799E-5|                                                                                                                           0.99995|\n",
            "|816082233|Existing Customer|          35|     M|              3|       Graduate|       Unknown|    $60K - $80K|         Blue|            30|                       5|                     1|                    3|      8547.0|               1666|         6881.0|               1.163|           1311|            33|                2.0|                0.195|                                                                                                                         9.6126E-5|                                                                                                                            0.9999|\n",
            "|712396908|Existing Customer|          57|     F|              2|       Graduate|       Married| Less than $40K|         Blue|            48|                       5|                     2|                    2|      2436.0|                680|         1756.0|                1.19|           1570|            29|              0.611|                0.279|                                                                                                                         1.1382E-4|                                                                                                                           0.99989|\n",
            "|714885258|Existing Customer|          44|     M|              4|        Unknown|       Unknown|   $80K - $120K|         Blue|            37|                       5|                     1|                    2|      4234.0|                972|         3262.0|               1.707|           1348|            27|                1.7|                 0.23|                                                                                                                         6.3492E-5|                                                                                                                           0.99994|\n",
            "|709967358|Existing Customer|          48|     M|              4|  Post-Graduate|        Single|   $80K - $120K|         Blue|            36|                       6|                     2|                    3|     30367.0|               2362|        28005.0|               1.708|           1671|            27|              0.929|                0.078|                                                                                                                         2.3623E-4|                                                                                                                           0.99976|\n",
            "|753327333|Existing Customer|          41|     M|              3|        Unknown|       Married|   $80K - $120K|         Blue|            34|                       4|                     4|                    1|     13535.0|               1291|        12244.0|               0.653|           1028|            21|              1.625|                0.095|                                                                                                                         1.4953E-4|                                                                                                                           0.99985|\n",
            "|806160108|Existing Customer|          61|     M|              1|    High School|       Married|    $40K - $60K|         Blue|            56|                       2|                     2|                    3|      3193.0|               2517|          676.0|               1.831|           1336|            30|              1.143|                0.788|                                                                                                                         1.7468E-4|                                                                                                                           0.99983|\n",
            "|709327383|Existing Customer|          45|     F|              2|       Graduate|       Married|        Unknown|         Blue|            37|                       6|                     1|                    2|     14470.0|               1157|        13313.0|               0.966|           1207|            21|              0.909|                 0.08|                                                                                                                         5.5077E-5|                                                                                                                           0.99994|\n",
            "+---------+-----------------+------------+------+---------------+---------------+--------------+---------------+-------------+--------------+------------------------+----------------------+---------------------+------------+-------------------+---------------+--------------------+---------------+--------------+-------------------+---------------------+----------------------------------------------------------------------------------------------------------------------------------+----------------------------------------------------------------------------------------------------------------------------------+\n",
            "only showing top 20 rows\n",
            "\n"
          ]
        }
      ]
    },
    {
      "cell_type": "code",
      "source": [
        "df.drop('CLIENTNUM',\n",
        "'Naive_Bayes_Classifier_Attrition_Flag_Card_Category_Contacts_Count_12_mon_Dependent_count_Education_Level_Months_Inactive_12_mon_1',\n",
        "'Naive_Bayes_Classifier_Attrition_Flag_Card_Category_Contacts_Count_12_mon_Dependent_count_Education_Level_Months_Inactive_12_mon_2').show()\n"
      ],
      "metadata": {
        "colab": {
          "base_uri": "https://localhost:8080/"
        },
        "id": "uUYaFCf_G6YV",
        "outputId": "1c9c9a65-324c-4ecc-f24a-9e056be08caf"
      },
      "execution_count": 8,
      "outputs": [
        {
          "output_type": "stream",
          "name": "stdout",
          "text": [
            "+-----------------+------------+------+---------------+---------------+--------------+---------------+-------------+--------------+------------------------+----------------------+---------------------+------------+-------------------+---------------+--------------------+---------------+--------------+-------------------+---------------------+\n",
            "|   Attrition_Flag|Customer_Age|Gender|Dependent_count|Education_Level|Marital_Status|Income_Category|Card_Category|Months_on_book|Total_Relationship_Count|Months_Inactive_12_mon|Contacts_Count_12_mon|Credit_Limit|Total_Revolving_Bal|Avg_Open_To_Buy|Total_Amt_Chng_Q4_Q1|Total_Trans_Amt|Total_Trans_Ct|Total_Ct_Chng_Q4_Q1|Avg_Utilization_Ratio|\n",
            "+-----------------+------------+------+---------------+---------------+--------------+---------------+-------------+--------------+------------------------+----------------------+---------------------+------------+-------------------+---------------+--------------------+---------------+--------------+-------------------+---------------------+\n",
            "|Existing Customer|          45|     M|              3|    High School|       Married|    $60K - $80K|         Blue|            39|                       5|                     1|                    3|     12691.0|                777|        11914.0|               1.335|           1144|            42|              1.625|                0.061|\n",
            "|Existing Customer|          49|     F|              5|       Graduate|        Single| Less than $40K|         Blue|            44|                       6|                     1|                    2|      8256.0|                864|         7392.0|               1.541|           1291|            33|              3.714|                0.105|\n",
            "|Existing Customer|          51|     M|              3|       Graduate|       Married|   $80K - $120K|         Blue|            36|                       4|                     1|                    0|      3418.0|                  0|         3418.0|               2.594|           1887|            20|              2.333|                  0.0|\n",
            "|Existing Customer|          40|     F|              4|    High School|       Unknown| Less than $40K|         Blue|            34|                       3|                     4|                    1|      3313.0|               2517|          796.0|               1.405|           1171|            20|              2.333|                 0.76|\n",
            "|Existing Customer|          40|     M|              3|     Uneducated|       Married|    $60K - $80K|         Blue|            21|                       5|                     1|                    0|      4716.0|                  0|         4716.0|               2.175|            816|            28|                2.5|                  0.0|\n",
            "|Existing Customer|          44|     M|              2|       Graduate|       Married|    $40K - $60K|         Blue|            36|                       3|                     1|                    2|      4010.0|               1247|         2763.0|               1.376|           1088|            24|              0.846|                0.311|\n",
            "|Existing Customer|          51|     M|              4|        Unknown|       Married|        $120K +|         Gold|            46|                       6|                     1|                    3|     34516.0|               2264|        32252.0|               1.975|           1330|            31|              0.722|                0.066|\n",
            "|Existing Customer|          32|     M|              0|    High School|       Unknown|    $60K - $80K|       Silver|            27|                       2|                     2|                    2|     29081.0|               1396|        27685.0|               2.204|           1538|            36|              0.714|                0.048|\n",
            "|Existing Customer|          37|     M|              3|     Uneducated|        Single|    $60K - $80K|         Blue|            36|                       5|                     2|                    0|     22352.0|               2517|        19835.0|               3.355|           1350|            24|              1.182|                0.113|\n",
            "|Existing Customer|          48|     M|              2|       Graduate|        Single|   $80K - $120K|         Blue|            36|                       6|                     3|                    3|     11656.0|               1677|         9979.0|               1.524|           1441|            32|              0.882|                0.144|\n",
            "|Existing Customer|          42|     M|              5|     Uneducated|       Unknown|        $120K +|         Blue|            31|                       5|                     3|                    2|      6748.0|               1467|         5281.0|               0.831|           1201|            42|               0.68|                0.217|\n",
            "|Existing Customer|          65|     M|              1|        Unknown|       Married|    $40K - $60K|         Blue|            54|                       6|                     2|                    3|      9095.0|               1587|         7508.0|               1.433|           1314|            26|              1.364|                0.174|\n",
            "|Existing Customer|          56|     M|              1|        College|        Single|   $80K - $120K|         Blue|            36|                       3|                     6|                    0|     11751.0|                  0|        11751.0|               3.397|           1539|            17|               3.25|                  0.0|\n",
            "|Existing Customer|          35|     M|              3|       Graduate|       Unknown|    $60K - $80K|         Blue|            30|                       5|                     1|                    3|      8547.0|               1666|         6881.0|               1.163|           1311|            33|                2.0|                0.195|\n",
            "|Existing Customer|          57|     F|              2|       Graduate|       Married| Less than $40K|         Blue|            48|                       5|                     2|                    2|      2436.0|                680|         1756.0|                1.19|           1570|            29|              0.611|                0.279|\n",
            "|Existing Customer|          44|     M|              4|        Unknown|       Unknown|   $80K - $120K|         Blue|            37|                       5|                     1|                    2|      4234.0|                972|         3262.0|               1.707|           1348|            27|                1.7|                 0.23|\n",
            "|Existing Customer|          48|     M|              4|  Post-Graduate|        Single|   $80K - $120K|         Blue|            36|                       6|                     2|                    3|     30367.0|               2362|        28005.0|               1.708|           1671|            27|              0.929|                0.078|\n",
            "|Existing Customer|          41|     M|              3|        Unknown|       Married|   $80K - $120K|         Blue|            34|                       4|                     4|                    1|     13535.0|               1291|        12244.0|               0.653|           1028|            21|              1.625|                0.095|\n",
            "|Existing Customer|          61|     M|              1|    High School|       Married|    $40K - $60K|         Blue|            56|                       2|                     2|                    3|      3193.0|               2517|          676.0|               1.831|           1336|            30|              1.143|                0.788|\n",
            "|Existing Customer|          45|     F|              2|       Graduate|       Married|        Unknown|         Blue|            37|                       6|                     1|                    2|     14470.0|               1157|        13313.0|               0.966|           1207|            21|              0.909|                 0.08|\n",
            "+-----------------+------------+------+---------------+---------------+--------------+---------------+-------------+--------------+------------------------+----------------------+---------------------+------------+-------------------+---------------+--------------------+---------------+--------------+-------------------+---------------------+\n",
            "only showing top 20 rows\n",
            "\n"
          ]
        }
      ]
    },
    {
      "cell_type": "code",
      "source": [
        "#Create a temporary view\n",
        "df.createOrReplaceTempView(\"bank\")\n"
      ],
      "metadata": {
        "id": "bbNBAu9m_U8i"
      },
      "execution_count": 9,
      "outputs": []
    },
    {
      "cell_type": "markdown",
      "source": [
        "**Demographic Data to Analyze**"
      ],
      "metadata": {
        "id": "u3VxdsoNbD4C"
      }
    },
    {
      "cell_type": "markdown",
      "source": [
        "**Gender**"
      ],
      "metadata": {
        "id": "NcelSmF1bRf7"
      }
    },
    {
      "cell_type": "code",
      "source": [
        "gender = spark.sql(\"\"\"\n",
        "SELECT\n",
        "  Attrition_Flag as Flag,\n",
        "  COUNT(Attrition_Flag) as Gender\n",
        "FROM\n",
        "  bank\n",
        "WHERE\n",
        "  Gender IN ('F', 'M')\n",
        "GROUP BY\n",
        "  Attrition_Flag\n",
        "\"\"\")\n",
        "\n",
        "gender.show()\n",
        "\n"
      ],
      "metadata": {
        "colab": {
          "base_uri": "https://localhost:8080/"
        },
        "id": "JjhH6Kh0_VJJ",
        "outputId": "af45fef4-99ca-4a24-9a78-d1561c293d99"
      },
      "execution_count": 10,
      "outputs": [
        {
          "output_type": "stream",
          "name": "stdout",
          "text": [
            "+-----------------+------+\n",
            "|             Flag|Gender|\n",
            "+-----------------+------+\n",
            "|Existing Customer|  8500|\n",
            "|Attrited Customer|  1627|\n",
            "+-----------------+------+\n",
            "\n"
          ]
        }
      ]
    },
    {
      "cell_type": "markdown",
      "source": [
        "**Dependent Count**"
      ],
      "metadata": {
        "id": "hYLpwdGqbVnK"
      }
    },
    {
      "cell_type": "code",
      "source": [
        "dependent_count= spark.sql(\"\"\"\n",
        "SELECT\n",
        "  Attrition_Flag as Flag,\n",
        "  COUNT(*) as DependentCount,\n",
        "  CASE\n",
        "    WHEN Dependent_count BETWEEN 0 AND 5 THEN '0-5'\n",
        "    ELSE 'Other'\n",
        "  END AS DependentRange\n",
        "FROM\n",
        "  bank\n",
        "GROUP BY\n",
        "  Attrition_Flag,\n",
        "  CASE\n",
        "    WHEN Dependent_count BETWEEN 0 AND 5 THEN '0-5'\n",
        "    ELSE 'Other'\n",
        "  END\n",
        "ORDER BY\n",
        "  DependentRange\n",
        "\"\"\")\n",
        "dependent_count.show()"
      ],
      "metadata": {
        "colab": {
          "base_uri": "https://localhost:8080/"
        },
        "id": "DFWZYrJC_VLt",
        "outputId": "3f9cd0a1-5101-4a9d-c5d0-04154ad30a41"
      },
      "execution_count": 11,
      "outputs": [
        {
          "output_type": "stream",
          "name": "stdout",
          "text": [
            "+-----------------+--------------+--------------+\n",
            "|             Flag|DependentCount|DependentRange|\n",
            "+-----------------+--------------+--------------+\n",
            "|Attrited Customer|          1627|           0-5|\n",
            "|Existing Customer|          8500|           0-5|\n",
            "+-----------------+--------------+--------------+\n",
            "\n"
          ]
        }
      ]
    },
    {
      "cell_type": "markdown",
      "source": [
        "**Education**"
      ],
      "metadata": {
        "id": "uAn1SW2gbZvK"
      }
    },
    {
      "cell_type": "code",
      "source": [
        "education = spark.sql(\"\"\"\n",
        "SELECT\n",
        "  Attrition_Flag as Flag,\n",
        "  Education_Level as Education,\n",
        "  COUNT(Education_Level) as EducationCount\n",
        "FROM\n",
        "  bank\n",
        "GROUP BY\n",
        "  Attrition_Flag,\n",
        "  Education_Level\n",
        "ORDER BY\n",
        "  Attrition_Flag,\n",
        "  Education_Level\n",
        "\"\"\")\n",
        "education.show()"
      ],
      "metadata": {
        "colab": {
          "base_uri": "https://localhost:8080/"
        },
        "id": "SQElJoHP_VOL",
        "outputId": "381b22ef-c4e8-47c5-f72d-9d653a01beb7"
      },
      "execution_count": 12,
      "outputs": [
        {
          "output_type": "stream",
          "name": "stdout",
          "text": [
            "+-----------------+-------------+--------------+\n",
            "|             Flag|    Education|EducationCount|\n",
            "+-----------------+-------------+--------------+\n",
            "|Attrited Customer|      College|           154|\n",
            "|Attrited Customer|    Doctorate|            95|\n",
            "|Attrited Customer|     Graduate|           487|\n",
            "|Attrited Customer|  High School|           306|\n",
            "|Attrited Customer|Post-Graduate|            92|\n",
            "|Attrited Customer|   Uneducated|           237|\n",
            "|Attrited Customer|      Unknown|           256|\n",
            "|Existing Customer|      College|           859|\n",
            "|Existing Customer|    Doctorate|           356|\n",
            "|Existing Customer|     Graduate|          2641|\n",
            "|Existing Customer|  High School|          1707|\n",
            "|Existing Customer|Post-Graduate|           424|\n",
            "|Existing Customer|   Uneducated|          1250|\n",
            "|Existing Customer|      Unknown|          1263|\n",
            "+-----------------+-------------+--------------+\n",
            "\n"
          ]
        }
      ]
    },
    {
      "cell_type": "markdown",
      "source": [
        "**Income Category**"
      ],
      "metadata": {
        "id": "VHKqw2mobd6S"
      }
    },
    {
      "cell_type": "code",
      "source": [
        "income = spark.sql(\"\"\"\n",
        "SELECT\n",
        "  Attrition_Flag as Flag,\n",
        "  Income_Category as Income,\n",
        "  COUNT(*) as Income_Category,\n",
        "  CASE\n",
        "    WHEN Income_Category = 'Unknown' THEN 'Unknown'\n",
        "    WHEN Income_Category <= 40000 THEN '<= 40,000'\n",
        "    WHEN Income_Category BETWEEN 60000 and 80000 THEN '60,000-80,000'\n",
        "    WHEN Income_Category BETWEEN 80000 and 120000 THEN '80,000-120,000'\n",
        "    WHEN Income_Category > 120000 THEN '> 120,000'\n",
        "    ELSE 'Other'\n",
        "  END AS IncomeRange\n",
        "FROM\n",
        "  bank\n",
        "GROUP BY\n",
        "  Attrition_Flag,\n",
        "   Income_Category,\n",
        "  CASE\n",
        "    WHEN Income_Category = 'Unknown' THEN 'Unknown'\n",
        "    WHEN Income_Category <= 40000 THEN '<= 40,000'\n",
        "    WHEN Income_Category BETWEEN 60000 and 80000 THEN '60,000-80,000'\n",
        "    WHEN Income_Category BETWEEN 80000 and 120000 THEN '80,000-120,000'\n",
        "    WHEN Income_Category > 120000 THEN '> 120,000'\n",
        "    ELSE 'Other'\n",
        "  END\n",
        "ORDER BY\n",
        "  Attrition_Flag\n",
        "\"\"\")\n",
        "\n",
        "income.show()\n"
      ],
      "metadata": {
        "colab": {
          "base_uri": "https://localhost:8080/"
        },
        "id": "19Px5uga_VQt",
        "outputId": "18c3adff-6a85-48a0-9b7d-19a501214831"
      },
      "execution_count": 13,
      "outputs": [
        {
          "output_type": "stream",
          "name": "stdout",
          "text": [
            "+-----------------+--------------+---------------+-----------+\n",
            "|             Flag|        Income|Income_Category|IncomeRange|\n",
            "+-----------------+--------------+---------------+-----------+\n",
            "|Attrited Customer|   $40K - $60K|            271|      Other|\n",
            "|Attrited Customer|       Unknown|            187|    Unknown|\n",
            "|Attrited Customer|   $60K - $80K|            189|      Other|\n",
            "|Attrited Customer|Less than $40K|            612|      Other|\n",
            "|Attrited Customer|       $120K +|            126|      Other|\n",
            "|Attrited Customer|  $80K - $120K|            242|      Other|\n",
            "|Existing Customer|   $40K - $60K|           1519|      Other|\n",
            "|Existing Customer|       $120K +|            601|      Other|\n",
            "|Existing Customer|   $60K - $80K|           1213|      Other|\n",
            "|Existing Customer|  $80K - $120K|           1293|      Other|\n",
            "|Existing Customer|       Unknown|            925|    Unknown|\n",
            "|Existing Customer|Less than $40K|           2949|      Other|\n",
            "+-----------------+--------------+---------------+-----------+\n",
            "\n"
          ]
        }
      ]
    },
    {
      "cell_type": "markdown",
      "source": [
        "**Behavioral (Bank) Data**"
      ],
      "metadata": {
        "id": "QJXxbaH4bKG9"
      }
    },
    {
      "cell_type": "markdown",
      "source": [
        "**Months on book**"
      ],
      "metadata": {
        "id": "uDwkNQyXblOO"
      }
    },
    {
      "cell_type": "code",
      "source": [],
      "metadata": {
        "id": "5_iKF271a51f"
      },
      "execution_count": 13,
      "outputs": []
    },
    {
      "cell_type": "code",
      "source": [],
      "metadata": {
        "id": "7-AIveICa5yt"
      },
      "execution_count": 13,
      "outputs": []
    },
    {
      "cell_type": "code",
      "source": [],
      "metadata": {
        "id": "QNcBIYC-a5v8"
      },
      "execution_count": 13,
      "outputs": []
    },
    {
      "cell_type": "code",
      "source": [],
      "metadata": {
        "id": "65IOU0x9a5tO"
      },
      "execution_count": 13,
      "outputs": []
    },
    {
      "cell_type": "code",
      "source": [],
      "metadata": {
        "id": "8HjjTPopa5qs"
      },
      "execution_count": 13,
      "outputs": []
    },
    {
      "cell_type": "code",
      "source": [],
      "metadata": {
        "id": "OejN653ua5n7"
      },
      "execution_count": 13,
      "outputs": []
    },
    {
      "cell_type": "code",
      "source": [],
      "metadata": {
        "id": "8JWi7hBEa5le"
      },
      "execution_count": 13,
      "outputs": []
    },
    {
      "cell_type": "code",
      "source": [],
      "metadata": {
        "id": "JqAMZQXR_VTO"
      },
      "execution_count": 13,
      "outputs": []
    },
    {
      "cell_type": "code",
      "source": [],
      "metadata": {
        "id": "eZ8rhg-9_VV6"
      },
      "execution_count": 13,
      "outputs": []
    },
    {
      "cell_type": "code",
      "source": [],
      "metadata": {
        "id": "AyKMkIVq_VY5"
      },
      "execution_count": 13,
      "outputs": []
    },
    {
      "cell_type": "code",
      "source": [],
      "metadata": {
        "id": "WlID62-R_VcL"
      },
      "execution_count": 13,
      "outputs": []
    },
    {
      "cell_type": "code",
      "source": [],
      "metadata": {
        "id": "uU38eSF1_Ve4"
      },
      "execution_count": 13,
      "outputs": []
    },
    {
      "cell_type": "code",
      "source": [],
      "metadata": {
        "id": "RdZG97yf_VhH"
      },
      "execution_count": 13,
      "outputs": []
    }
  ]
}