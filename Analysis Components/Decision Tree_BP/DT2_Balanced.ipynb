{
  "nbformat": 4,
  "nbformat_minor": 0,
  "metadata": {
    "colab": {
      "provenance": []
    },
    "kernelspec": {
      "name": "python3",
      "display_name": "Python 3"
    },
    "language_info": {
      "name": "python"
    }
  },
  "cells": [
    {
      "cell_type": "code",
      "execution_count": 1,
      "metadata": {
        "colab": {
          "base_uri": "https://localhost:8080/"
        },
        "id": "npm45MHjgU2B",
        "outputId": "009691f6-9836-4b4c-cce3-1bb35e398b8d"
      },
      "outputs": [
        {
          "output_type": "stream",
          "name": "stdout",
          "text": [
            "\r0% [Working]\r            \rHit:1 http://security.ubuntu.com/ubuntu jammy-security InRelease\n",
            "\r0% [Waiting for headers] [Connected to cloud.r-project.org (18.160.213.93)] [Connecting to ppa.launc\r                                                                                                    \rHit:2 https://cloud.r-project.org/bin/linux/ubuntu jammy-cran40/ InRelease\n",
            "\r0% [Waiting for headers] [Connecting to ppa.launchpadcontent.net (185.125.190.80)] [Waiting for head\r                                                                                                    \rHit:3 http://archive.ubuntu.com/ubuntu jammy InRelease\n",
            "\r0% [Waiting for headers] [Connecting to ppa.launchpadcontent.net (185.125.190.80)] [Waiting for head\r                                                                                                    \rHit:4 https://developer.download.nvidia.com/compute/cuda/repos/ubuntu2204/x86_64  InRelease\n",
            "Hit:5 http://archive.ubuntu.com/ubuntu jammy-updates InRelease\n",
            "Hit:6 http://archive.ubuntu.com/ubuntu jammy-backports InRelease\n",
            "Hit:7 https://ppa.launchpadcontent.net/c2d4u.team/c2d4u4.0+/ubuntu jammy InRelease\n",
            "Hit:8 https://ppa.launchpadcontent.net/deadsnakes/ppa/ubuntu jammy InRelease\n",
            "Hit:9 https://ppa.launchpadcontent.net/graphics-drivers/ppa/ubuntu jammy InRelease\n",
            "Hit:10 https://ppa.launchpadcontent.net/ubuntugis/ppa/ubuntu jammy InRelease\n",
            "Reading package lists... Done\n"
          ]
        }
      ],
      "source": [
        "import os\n",
        "# Find the latest version of spark 3.2 from http://www.apache.org/dist/spark/ and enter as the spark version\n",
        "# For example:\n",
        "spark_version = 'spark-3.5.1'\n",
        "os.environ['SPARK_VERSION']=spark_version\n",
        "\n",
        "# Install Spark and Java\n",
        "!apt-get update\n",
        "!apt-get install openjdk-11-jdk-headless -qq > /dev/null\n",
        "!wget -q http://www.apache.org/dist/spark/$SPARK_VERSION/$SPARK_VERSION-bin-hadoop3.tgz\n",
        "!tar xf $SPARK_VERSION-bin-hadoop3.tgz\n",
        "!pip install -q findspark\n",
        "\n",
        "# Set Environment Variables\n",
        "import os\n",
        "os.environ[\"JAVA_HOME\"] = \"/usr/lib/jvm/java-11-openjdk-amd64\"\n",
        "os.environ[\"SPARK_HOME\"] = f\"/content/{spark_version}-bin-hadoop3\"\n",
        "\n",
        "# Start a SparkSession\n",
        "import findspark\n",
        "findspark.init()\n"
      ]
    },
    {
      "cell_type": "code",
      "source": [
        "from pyspark.sql import functions as F\n",
        "from pyspark.sql import types as T\n",
        "\n",
        "\n",
        "#Gives a label to each category\n",
        "#creates onehot encoding vector\n",
        "from pyspark.ml.feature import StringIndexer, OneHotEncoder\n",
        "\n",
        "#Used to creat vector from features and modeling takes vector as an input\n",
        "from pyspark.ml.feature import VectorAssembler\n",
        "\n",
        "#Used for classification problems\n",
        "from pyspark.ml.classification import DecisionTreeClassifier\n",
        "\n"
      ],
      "metadata": {
        "id": "kbWXRGzOhS13"
      },
      "execution_count": 2,
      "outputs": []
    },
    {
      "cell_type": "code",
      "source": [
        "# Start Spark session\n",
        "from pyspark.sql import SparkSession\n",
        "from pyspark.sql.functions import col, desc, when\n",
        "spark = SparkSession.builder.appName(\"BankChurners\").getOrCreate()"
      ],
      "metadata": {
        "id": "LjA9lF-dgZPr"
      },
      "execution_count": 3,
      "outputs": []
    },
    {
      "cell_type": "code",
      "source": [
        "# Read in data from S3 Buckets\n",
        "from pyspark import SparkFiles\n",
        "url = \"https://groupfourproject.s3.ca-central-1.amazonaws.com/bank_churners.csv\"\n",
        "spark.sparkContext.addFile(url)\n",
        "df = spark.read.csv(SparkFiles.get(\"bank_churners.csv\"), header=True, sep=',', inferSchema=True)\n",
        "\n",
        "\n",
        "# Show DataFrame\n",
        "df.show()"
      ],
      "metadata": {
        "colab": {
          "base_uri": "https://localhost:8080/"
        },
        "id": "h8W6b4-3gZMy",
        "outputId": "a4abacc1-3908-4e52-a27c-1bc4bd9466ab"
      },
      "execution_count": 4,
      "outputs": [
        {
          "output_type": "stream",
          "name": "stdout",
          "text": [
            "+---------+-----------------+------------+------+---------------+---------------+--------------+---------------+-------------+--------------+------------------------+----------------------+---------------------+------------+-------------------+---------------+--------------------+---------------+--------------+-------------------+---------------------+----------------------------------------------------------------------------------------------------------------------------------+----------------------------------------------------------------------------------------------------------------------------------+\n",
            "|CLIENTNUM|   Attrition_Flag|Customer_Age|Gender|Dependent_count|Education_Level|Marital_Status|Income_Category|Card_Category|Months_on_book|Total_Relationship_Count|Months_Inactive_12_mon|Contacts_Count_12_mon|Credit_Limit|Total_Revolving_Bal|Avg_Open_To_Buy|Total_Amt_Chng_Q4_Q1|Total_Trans_Amt|Total_Trans_Ct|Total_Ct_Chng_Q4_Q1|Avg_Utilization_Ratio|Naive_Bayes_Classifier_Attrition_Flag_Card_Category_Contacts_Count_12_mon_Dependent_count_Education_Level_Months_Inactive_12_mon_1|Naive_Bayes_Classifier_Attrition_Flag_Card_Category_Contacts_Count_12_mon_Dependent_count_Education_Level_Months_Inactive_12_mon_2|\n",
            "+---------+-----------------+------------+------+---------------+---------------+--------------+---------------+-------------+--------------+------------------------+----------------------+---------------------+------------+-------------------+---------------+--------------------+---------------+--------------+-------------------+---------------------+----------------------------------------------------------------------------------------------------------------------------------+----------------------------------------------------------------------------------------------------------------------------------+\n",
            "|768805383|Existing Customer|          45|     M|              3|    High School|       Married|    $60K - $80K|         Blue|            39|                       5|                     1|                    3|     12691.0|                777|        11914.0|               1.335|           1144|            42|              1.625|                0.061|                                                                                                                         9.3448E-5|                                                                                                                           0.99991|\n",
            "|818770008|Existing Customer|          49|     F|              5|       Graduate|        Single| Less than $40K|         Blue|            44|                       6|                     1|                    2|      8256.0|                864|         7392.0|               1.541|           1291|            33|              3.714|                0.105|                                                                                                                         5.6861E-5|                                                                                                                           0.99994|\n",
            "|713982108|Existing Customer|          51|     M|              3|       Graduate|       Married|   $80K - $120K|         Blue|            36|                       4|                     1|                    0|      3418.0|                  0|         3418.0|               2.594|           1887|            20|              2.333|                  0.0|                                                                                                                         2.1081E-5|                                                                                                                           0.99998|\n",
            "|769911858|Existing Customer|          40|     F|              4|    High School|       Unknown| Less than $40K|         Blue|            34|                       3|                     4|                    1|      3313.0|               2517|          796.0|               1.405|           1171|            20|              2.333|                 0.76|                                                                                                                         1.3366E-4|                                                                                                                           0.99987|\n",
            "|709106358|Existing Customer|          40|     M|              3|     Uneducated|       Married|    $60K - $80K|         Blue|            21|                       5|                     1|                    0|      4716.0|                  0|         4716.0|               2.175|            816|            28|                2.5|                  0.0|                                                                                                                         2.1676E-5|                                                                                                                           0.99998|\n",
            "|713061558|Existing Customer|          44|     M|              2|       Graduate|       Married|    $40K - $60K|         Blue|            36|                       3|                     1|                    2|      4010.0|               1247|         2763.0|               1.376|           1088|            24|              0.846|                0.311|                                                                                                                         5.5077E-5|                                                                                                                           0.99994|\n",
            "|810347208|Existing Customer|          51|     M|              4|        Unknown|       Married|        $120K +|         Gold|            46|                       6|                     1|                    3|     34516.0|               2264|        32252.0|               1.975|           1330|            31|              0.722|                0.066|                                                                                                                         1.2303E-4|                                                                                                                           0.99988|\n",
            "|818906208|Existing Customer|          32|     M|              0|    High School|       Unknown|    $60K - $80K|       Silver|            27|                       2|                     2|                    2|     29081.0|               1396|        27685.0|               2.204|           1538|            36|              0.714|                0.048|                                                                                                                         8.5795E-5|                                                                                                                           0.99991|\n",
            "|710930508|Existing Customer|          37|     M|              3|     Uneducated|        Single|    $60K - $80K|         Blue|            36|                       5|                     2|                    0|     22352.0|               2517|        19835.0|               3.355|           1350|            24|              1.182|                0.113|                                                                                                                         4.4796E-5|                                                                                                                           0.99996|\n",
            "|719661558|Existing Customer|          48|     M|              2|       Graduate|        Single|   $80K - $120K|         Blue|            36|                       6|                     3|                    3|     11656.0|               1677|         9979.0|               1.524|           1441|            32|              0.882|                0.144|                                                                                                                         3.0251E-4|                                                                                                                            0.9997|\n",
            "|708790833|Existing Customer|          42|     M|              5|     Uneducated|       Unknown|        $120K +|         Blue|            31|                       5|                     3|                    2|      6748.0|               1467|         5281.0|               0.831|           1201|            42|               0.68|                0.217|                                                                                                                         1.9094E-4|                                                                                                                           0.99981|\n",
            "|710821833|Existing Customer|          65|     M|              1|        Unknown|       Married|    $40K - $60K|         Blue|            54|                       6|                     2|                    3|      9095.0|               1587|         7508.0|               1.433|           1314|            26|              1.364|                0.174|                                                                                                                         1.9751E-4|                                                                                                                            0.9998|\n",
            "|710599683|Existing Customer|          56|     M|              1|        College|        Single|   $80K - $120K|         Blue|            36|                       3|                     6|                    0|     11751.0|                  0|        11751.0|               3.397|           1539|            17|               3.25|                  0.0|                                                                                                                         4.7799E-5|                                                                                                                           0.99995|\n",
            "|816082233|Existing Customer|          35|     M|              3|       Graduate|       Unknown|    $60K - $80K|         Blue|            30|                       5|                     1|                    3|      8547.0|               1666|         6881.0|               1.163|           1311|            33|                2.0|                0.195|                                                                                                                         9.6126E-5|                                                                                                                            0.9999|\n",
            "|712396908|Existing Customer|          57|     F|              2|       Graduate|       Married| Less than $40K|         Blue|            48|                       5|                     2|                    2|      2436.0|                680|         1756.0|                1.19|           1570|            29|              0.611|                0.279|                                                                                                                         1.1382E-4|                                                                                                                           0.99989|\n",
            "|714885258|Existing Customer|          44|     M|              4|        Unknown|       Unknown|   $80K - $120K|         Blue|            37|                       5|                     1|                    2|      4234.0|                972|         3262.0|               1.707|           1348|            27|                1.7|                 0.23|                                                                                                                         6.3492E-5|                                                                                                                           0.99994|\n",
            "|709967358|Existing Customer|          48|     M|              4|  Post-Graduate|        Single|   $80K - $120K|         Blue|            36|                       6|                     2|                    3|     30367.0|               2362|        28005.0|               1.708|           1671|            27|              0.929|                0.078|                                                                                                                         2.3623E-4|                                                                                                                           0.99976|\n",
            "|753327333|Existing Customer|          41|     M|              3|        Unknown|       Married|   $80K - $120K|         Blue|            34|                       4|                     4|                    1|     13535.0|               1291|        12244.0|               0.653|           1028|            21|              1.625|                0.095|                                                                                                                         1.4953E-4|                                                                                                                           0.99985|\n",
            "|806160108|Existing Customer|          61|     M|              1|    High School|       Married|    $40K - $60K|         Blue|            56|                       2|                     2|                    3|      3193.0|               2517|          676.0|               1.831|           1336|            30|              1.143|                0.788|                                                                                                                         1.7468E-4|                                                                                                                           0.99983|\n",
            "|709327383|Existing Customer|          45|     F|              2|       Graduate|       Married|        Unknown|         Blue|            37|                       6|                     1|                    2|     14470.0|               1157|        13313.0|               0.966|           1207|            21|              0.909|                 0.08|                                                                                                                         5.5077E-5|                                                                                                                           0.99994|\n",
            "+---------+-----------------+------------+------+---------------+---------------+--------------+---------------+-------------+--------------+------------------------+----------------------+---------------------+------------+-------------------+---------------+--------------------+---------------+--------------+-------------------+---------------------+----------------------------------------------------------------------------------------------------------------------------------+----------------------------------------------------------------------------------------------------------------------------------+\n",
            "only showing top 20 rows\n",
            "\n"
          ]
        }
      ]
    },
    {
      "cell_type": "code",
      "source": [
        "#Dropping duplicates within the dataframe\n",
        "df.dropDuplicates().show()"
      ],
      "metadata": {
        "colab": {
          "base_uri": "https://localhost:8080/"
        },
        "id": "YAv1UX-UgZJ0",
        "outputId": "139d4a1a-37d2-4cb5-ecbe-188fcc7ccf1e"
      },
      "execution_count": 5,
      "outputs": [
        {
          "output_type": "stream",
          "name": "stdout",
          "text": [
            "+---------+-----------------+------------+------+---------------+---------------+--------------+---------------+-------------+--------------+------------------------+----------------------+---------------------+------------+-------------------+---------------+--------------------+---------------+--------------+-------------------+---------------------+----------------------------------------------------------------------------------------------------------------------------------+----------------------------------------------------------------------------------------------------------------------------------+\n",
            "|CLIENTNUM|   Attrition_Flag|Customer_Age|Gender|Dependent_count|Education_Level|Marital_Status|Income_Category|Card_Category|Months_on_book|Total_Relationship_Count|Months_Inactive_12_mon|Contacts_Count_12_mon|Credit_Limit|Total_Revolving_Bal|Avg_Open_To_Buy|Total_Amt_Chng_Q4_Q1|Total_Trans_Amt|Total_Trans_Ct|Total_Ct_Chng_Q4_Q1|Avg_Utilization_Ratio|Naive_Bayes_Classifier_Attrition_Flag_Card_Category_Contacts_Count_12_mon_Dependent_count_Education_Level_Months_Inactive_12_mon_1|Naive_Bayes_Classifier_Attrition_Flag_Card_Category_Contacts_Count_12_mon_Dependent_count_Education_Level_Months_Inactive_12_mon_2|\n",
            "+---------+-----------------+------------+------+---------------+---------------+--------------+---------------+-------------+--------------+------------------------+----------------------+---------------------+------------+-------------------+---------------+--------------------+---------------+--------------+-------------------+---------------------+----------------------------------------------------------------------------------------------------------------------------------+----------------------------------------------------------------------------------------------------------------------------------+\n",
            "|789124683|Existing Customer|          54|     M|              2|        Unknown|       Married|   $80K - $120K|         Blue|            42|                       4|                     2|                    3|     12217.0|                  0|        12217.0|               1.075|           1110|            21|               0.75|                  0.0|                                                                                                                         2.1042E-4|                                                                                                                           0.99979|\n",
            "|717296808|Existing Customer|          67|     F|              1|       Graduate|       Married| Less than $40K|         Blue|            56|                       4|                     3|                    2|      3006.0|               2517|          489.0|               2.053|           1661|            32|                1.0|                0.837|                                                                                                                         1.6883E-4|                                                                                                                           0.99983|\n",
            "|711551958|Attrited Customer|          59|     M|              2|  Post-Graduate|       Married|    $60K - $80K|         Blue|            46|                       3|                     3|                    3|      1438.3|                  0|         1438.3|               0.688|            844|            24|                0.5|                  0.0|                                                                                                                            0.9972|                                                                                                                        0.00280059|\n",
            "|713441958|Existing Customer|          46|     M|              2|    High School|       Married|        $120K +|         Blue|            36|                       5|                     3|                    2|     19727.0|               1785|        17942.0|               0.572|           1245|            25|              0.786|                 0.09|                                                                                                                         1.7486E-4|                                                                                                                           0.99983|\n",
            "|789513858|Attrited Customer|          43|     M|              3|        Unknown|       Married|    $40K - $60K|         Blue|            35|                       2|                     2|                    3|      1438.3|                  0|         1438.3|               0.694|            891|            28|                0.4|                  0.0|                                                                                                                           0.99544|                                                                                                                        0.00455805|\n",
            "|720680058|Existing Customer|          47|     M|              2|  Post-Graduate|       Married| Less than $40K|         Blue|            36|                       6|                     1|                    3|      3888.0|               1663|         2225.0|               0.664|           1145|            37|              0.423|                0.428|                                                                                                                           1.09E-4|                                                                                                                           0.99989|\n",
            "|802817358|Existing Customer|          38|     F|              3|    High School|       Married|        Unknown|         Blue|            32|                       4|                     2|                    1|     11594.0|               2072|         9522.0|               0.983|           2320|            51|              0.594|                0.179|                                                                                                                         6.9242E-5|                                                                                                                           0.99993|\n",
            "|801369258|Existing Customer|          47|     F|              5|  Post-Graduate|       Married|    $40K - $60K|         Blue|            41|                       6|                     2|                    2|      4466.0|                777|         3689.0|                1.02|           1757|            59|              0.595|                0.174|                                                                                                                         1.3827E-4|                                                                                                                           0.99986|\n",
            "|770882508|Existing Customer|          38|     M|              2|        College|       Married|   $80K - $120K|         Blue|            24|                       4|                     1|                    5|     17162.0|                773|        16389.0|               1.238|           2457|            54|                1.0|                0.045|                                                                                                                         2.6586E-4|                                                                                                                           0.99973|\n",
            "|709334658|Existing Customer|          39|     F|              2|     Uneducated|       Married| Less than $40K|         Blue|            26|                       4|                     2|                    5|      5484.0|               2517|         2967.0|               0.489|           2025|            51|              0.378|                0.459|                                                                                                                         5.8091E-4|                                                                                                                           0.99942|\n",
            "|710540883|Existing Customer|          37|     M|              3|    High School|        Single|   $80K - $120K|         Blue|            24|                       5|                     3|                    2|      6590.0|                  0|         6590.0|               0.714|           2449|            67|              0.634|                  0.0|                                                                                                                         1.8145E-4|                                                                                                                           0.99982|\n",
            "|713426358|Existing Customer|          28|     F|              0|        College|       Married|        Unknown|         Blue|            36|                       3|                     2|                    3|      5685.0|                  0|         5685.0|               1.334|           2395|            62|                1.0|                  0.0|                                                                                                                         1.5971E-4|                                                                                                                           0.99984|\n",
            "|770937183|Existing Customer|          40|     F|              4|       Graduate|        Single| Less than $40K|       Silver|            27|                       3|                     1|                    2|     10745.0|               2084|         8661.0|               0.847|           3502|            87|              0.933|                0.194|                                                                                                                         5.2192E-5|                                                                                                                           0.99995|\n",
            "|789430083|Existing Customer|          41|     F|              5|    High School|        Single|    $40K - $60K|         Blue|            32|                       6|                     1|                    2|     14987.0|               1425|        13562.0|                 0.8|           4470|            83|              0.844|                0.095|                                                                                                                         5.5277E-5|                                                                                                                           0.99994|\n",
            "|827476983|Attrited Customer|          56|     F|              2|        College|        Single| Less than $40K|         Blue|            52|                       3|                     5|                    1|      3639.0|               2178|         1461.0|               0.451|           1865|            42|                0.5|                0.599|                                                                                                                           0.99158|                                                                                                                           0.00842|\n",
            "|816261858|Attrited Customer|          61|     M|              0|       Graduate|        Single|    $40K - $60K|         Blue|            56|                       2|                     5|                    4|      3984.0|               2245|         1739.0|               0.612|           1821|            39|              0.696|                0.564|                                                                                                                           0.99798|                                                                                                                        0.00201684|\n",
            "|716714733|Existing Customer|          41|     M|              3|       Graduate|        Single|   $80K - $120K|         Blue|            30|                       3|                     2|                    0|      3460.0|                955|         2505.0|               0.644|           3642|            69|              0.769|                0.276|                                                                                                                         4.3568E-5|                                                                                                                           0.99996|\n",
            "|785529708|Existing Customer|          59|     M|              1|       Graduate|        Single|        $120K +|         Blue|            53|                       6|                     2|                    2|     34516.0|                  0|        34516.0|               0.711|           4333|            70|              0.628|                  0.0|                                                                                                                         1.0684E-4|                                                                                                                           0.99989|\n",
            "|771790083|Existing Customer|          43|     F|              3|        Unknown|       Married| Less than $40K|       Silver|            32|                       4|                     3|                    2|     10466.0|               2080|         8386.0|               0.648|           4116|            64|              0.684|                0.199|                                                                                                                         1.8538E-4|                                                                                                                           0.99981|\n",
            "|720519333|Attrited Customer|          59|     F|              2|        Unknown|        Single|        Unknown|         Blue|            45|                       1|                     3|                    3|      2721.0|               1885|          836.0|               0.853|           2594|            48|              0.455|                0.693|                                                                                                                             0.997|                                                                                                                        0.00299743|\n",
            "+---------+-----------------+------------+------+---------------+---------------+--------------+---------------+-------------+--------------+------------------------+----------------------+---------------------+------------+-------------------+---------------+--------------------+---------------+--------------+-------------------+---------------------+----------------------------------------------------------------------------------------------------------------------------------+----------------------------------------------------------------------------------------------------------------------------------+\n",
            "only showing top 20 rows\n",
            "\n"
          ]
        }
      ]
    },
    {
      "cell_type": "code",
      "source": [
        "credit_df= df.drop('CLIENTNUM', 'Customer_Age', 'Marital_Status',\n",
        "'Naive_Bayes_Classifier_Attrition_Flag_Card_Category_Contacts_Count_12_mon_Dependent_count_Education_Level_Months_Inactive_12_mon_1',\n",
        "'Naive_Bayes_Classifier_Attrition_Flag_Card_Category_Contacts_Count_12_mon_Dependent_count_Education_Level_Months_Inactive_12_mon_2',\n",
        "'Naive_Bayes_Classifier_Attrition_Flag_Card_Category_Contacts_Count_12_mon_Dependent_count_Education_Level_Months_Inactive_12_mon_1')\n",
        "\n",
        "credit_df.show()"
      ],
      "metadata": {
        "colab": {
          "base_uri": "https://localhost:8080/"
        },
        "id": "HswTx8awgZGx",
        "outputId": "ceab559b-f2a0-447f-ea9f-b8c0ba76b10d"
      },
      "execution_count": 6,
      "outputs": [
        {
          "output_type": "stream",
          "name": "stdout",
          "text": [
            "+-----------------+------+---------------+---------------+---------------+-------------+--------------+------------------------+----------------------+---------------------+------------+-------------------+---------------+--------------------+---------------+--------------+-------------------+---------------------+\n",
            "|   Attrition_Flag|Gender|Dependent_count|Education_Level|Income_Category|Card_Category|Months_on_book|Total_Relationship_Count|Months_Inactive_12_mon|Contacts_Count_12_mon|Credit_Limit|Total_Revolving_Bal|Avg_Open_To_Buy|Total_Amt_Chng_Q4_Q1|Total_Trans_Amt|Total_Trans_Ct|Total_Ct_Chng_Q4_Q1|Avg_Utilization_Ratio|\n",
            "+-----------------+------+---------------+---------------+---------------+-------------+--------------+------------------------+----------------------+---------------------+------------+-------------------+---------------+--------------------+---------------+--------------+-------------------+---------------------+\n",
            "|Existing Customer|     M|              3|    High School|    $60K - $80K|         Blue|            39|                       5|                     1|                    3|     12691.0|                777|        11914.0|               1.335|           1144|            42|              1.625|                0.061|\n",
            "|Existing Customer|     F|              5|       Graduate| Less than $40K|         Blue|            44|                       6|                     1|                    2|      8256.0|                864|         7392.0|               1.541|           1291|            33|              3.714|                0.105|\n",
            "|Existing Customer|     M|              3|       Graduate|   $80K - $120K|         Blue|            36|                       4|                     1|                    0|      3418.0|                  0|         3418.0|               2.594|           1887|            20|              2.333|                  0.0|\n",
            "|Existing Customer|     F|              4|    High School| Less than $40K|         Blue|            34|                       3|                     4|                    1|      3313.0|               2517|          796.0|               1.405|           1171|            20|              2.333|                 0.76|\n",
            "|Existing Customer|     M|              3|     Uneducated|    $60K - $80K|         Blue|            21|                       5|                     1|                    0|      4716.0|                  0|         4716.0|               2.175|            816|            28|                2.5|                  0.0|\n",
            "|Existing Customer|     M|              2|       Graduate|    $40K - $60K|         Blue|            36|                       3|                     1|                    2|      4010.0|               1247|         2763.0|               1.376|           1088|            24|              0.846|                0.311|\n",
            "|Existing Customer|     M|              4|        Unknown|        $120K +|         Gold|            46|                       6|                     1|                    3|     34516.0|               2264|        32252.0|               1.975|           1330|            31|              0.722|                0.066|\n",
            "|Existing Customer|     M|              0|    High School|    $60K - $80K|       Silver|            27|                       2|                     2|                    2|     29081.0|               1396|        27685.0|               2.204|           1538|            36|              0.714|                0.048|\n",
            "|Existing Customer|     M|              3|     Uneducated|    $60K - $80K|         Blue|            36|                       5|                     2|                    0|     22352.0|               2517|        19835.0|               3.355|           1350|            24|              1.182|                0.113|\n",
            "|Existing Customer|     M|              2|       Graduate|   $80K - $120K|         Blue|            36|                       6|                     3|                    3|     11656.0|               1677|         9979.0|               1.524|           1441|            32|              0.882|                0.144|\n",
            "|Existing Customer|     M|              5|     Uneducated|        $120K +|         Blue|            31|                       5|                     3|                    2|      6748.0|               1467|         5281.0|               0.831|           1201|            42|               0.68|                0.217|\n",
            "|Existing Customer|     M|              1|        Unknown|    $40K - $60K|         Blue|            54|                       6|                     2|                    3|      9095.0|               1587|         7508.0|               1.433|           1314|            26|              1.364|                0.174|\n",
            "|Existing Customer|     M|              1|        College|   $80K - $120K|         Blue|            36|                       3|                     6|                    0|     11751.0|                  0|        11751.0|               3.397|           1539|            17|               3.25|                  0.0|\n",
            "|Existing Customer|     M|              3|       Graduate|    $60K - $80K|         Blue|            30|                       5|                     1|                    3|      8547.0|               1666|         6881.0|               1.163|           1311|            33|                2.0|                0.195|\n",
            "|Existing Customer|     F|              2|       Graduate| Less than $40K|         Blue|            48|                       5|                     2|                    2|      2436.0|                680|         1756.0|                1.19|           1570|            29|              0.611|                0.279|\n",
            "|Existing Customer|     M|              4|        Unknown|   $80K - $120K|         Blue|            37|                       5|                     1|                    2|      4234.0|                972|         3262.0|               1.707|           1348|            27|                1.7|                 0.23|\n",
            "|Existing Customer|     M|              4|  Post-Graduate|   $80K - $120K|         Blue|            36|                       6|                     2|                    3|     30367.0|               2362|        28005.0|               1.708|           1671|            27|              0.929|                0.078|\n",
            "|Existing Customer|     M|              3|        Unknown|   $80K - $120K|         Blue|            34|                       4|                     4|                    1|     13535.0|               1291|        12244.0|               0.653|           1028|            21|              1.625|                0.095|\n",
            "|Existing Customer|     M|              1|    High School|    $40K - $60K|         Blue|            56|                       2|                     2|                    3|      3193.0|               2517|          676.0|               1.831|           1336|            30|              1.143|                0.788|\n",
            "|Existing Customer|     F|              2|       Graduate|        Unknown|         Blue|            37|                       6|                     1|                    2|     14470.0|               1157|        13313.0|               0.966|           1207|            21|              0.909|                 0.08|\n",
            "+-----------------+------+---------------+---------------+---------------+-------------+--------------+------------------------+----------------------+---------------------+------------+-------------------+---------------+--------------------+---------------+--------------+-------------------+---------------------+\n",
            "only showing top 20 rows\n",
            "\n"
          ]
        }
      ]
    },
    {
      "cell_type": "code",
      "source": [
        "#Maniplating Attrition_Flag to 0= Attrited Customer and 1= Existing Customer\n",
        "attrition_df = credit_df.withColumn(\"Attrition_Flag\", F.when(F.col(\"Attrition_Flag\") =='Attrited Customer', 0).otherwise(1))\n",
        "\n",
        "#Displaying DataFrame\n",
        "attrition_df.show(3, truncate=False)\n",
        "\n",
        "#Displaying count of Attrition_Flag\n",
        "attrition_df.groupby(\"Attrition_Flag\").count().show()\n",
        "\n"
      ],
      "metadata": {
        "colab": {
          "base_uri": "https://localhost:8080/"
        },
        "id": "a__vuyMJgZEO",
        "outputId": "60f34e1d-fb44-4427-94b2-f1e6b92e28d4"
      },
      "execution_count": 7,
      "outputs": [
        {
          "output_type": "stream",
          "name": "stdout",
          "text": [
            "+--------------+------+---------------+---------------+---------------+-------------+--------------+------------------------+----------------------+---------------------+------------+-------------------+---------------+--------------------+---------------+--------------+-------------------+---------------------+\n",
            "|Attrition_Flag|Gender|Dependent_count|Education_Level|Income_Category|Card_Category|Months_on_book|Total_Relationship_Count|Months_Inactive_12_mon|Contacts_Count_12_mon|Credit_Limit|Total_Revolving_Bal|Avg_Open_To_Buy|Total_Amt_Chng_Q4_Q1|Total_Trans_Amt|Total_Trans_Ct|Total_Ct_Chng_Q4_Q1|Avg_Utilization_Ratio|\n",
            "+--------------+------+---------------+---------------+---------------+-------------+--------------+------------------------+----------------------+---------------------+------------+-------------------+---------------+--------------------+---------------+--------------+-------------------+---------------------+\n",
            "|1             |M     |3              |High School    |$60K - $80K    |Blue         |39            |5                       |1                     |3                    |12691.0     |777                |11914.0        |1.335               |1144           |42            |1.625              |0.061                |\n",
            "|1             |F     |5              |Graduate       |Less than $40K |Blue         |44            |6                       |1                     |2                    |8256.0      |864                |7392.0         |1.541               |1291           |33            |3.714              |0.105                |\n",
            "|1             |M     |3              |Graduate       |$80K - $120K   |Blue         |36            |4                       |1                     |0                    |3418.0      |0                  |3418.0         |2.594               |1887           |20            |2.333              |0.0                  |\n",
            "+--------------+------+---------------+---------------+---------------+-------------+--------------+------------------------+----------------------+---------------------+------------+-------------------+---------------+--------------------+---------------+--------------+-------------------+---------------------+\n",
            "only showing top 3 rows\n",
            "\n",
            "+--------------+-----+\n",
            "|Attrition_Flag|count|\n",
            "+--------------+-----+\n",
            "|             1| 8500|\n",
            "|             0| 1627|\n",
            "+--------------+-----+\n",
            "\n"
          ]
        }
      ]
    },
    {
      "cell_type": "code",
      "source": [
        "from pyspark.sql import functions as F\n",
        "\n",
        "# Perform groupBy and count operation on 'Attrition_Flag' column\n",
        "attrition_flag_counts = credit_df.groupBy(\"Attrition_Flag\").count()\n",
        "\n",
        "# Join the original DataFrame with the DataFrame containing counts\n",
        "updated_df = credit_df.join(attrition_flag_counts, \"Attrition_Flag\", \"left\")\n",
        "\n",
        "df_8500 = updated_df.filter(updated_df[\"count\"]==8500)\n",
        "df_sample =df_8500.sample(fraction=1627.0/8500.0, seed=1)\n",
        "\n",
        "df_1627 = updated_df.filter(updated_df[\"count\"] !=8500)\n",
        "\n",
        "# Combine the sampled data with the original data\n",
        "updated_df = df_sample.union(df_1627)\n",
        "\n",
        "# Show the updated DataFrame\n",
        "updated_df.show()\n",
        "\n",
        "updated_df.tail(10)\n",
        "updated_df.show()\n"
      ],
      "metadata": {
        "colab": {
          "base_uri": "https://localhost:8080/"
        },
        "id": "0oJTk7xkDdQJ",
        "outputId": "9df980ea-e945-46fb-ea92-c64a3002b41f"
      },
      "execution_count": 8,
      "outputs": [
        {
          "output_type": "stream",
          "name": "stdout",
          "text": [
            "+-----------------+------+---------------+---------------+---------------+-------------+--------------+------------------------+----------------------+---------------------+------------+-------------------+---------------+--------------------+---------------+--------------+-------------------+---------------------+-----+\n",
            "|   Attrition_Flag|Gender|Dependent_count|Education_Level|Income_Category|Card_Category|Months_on_book|Total_Relationship_Count|Months_Inactive_12_mon|Contacts_Count_12_mon|Credit_Limit|Total_Revolving_Bal|Avg_Open_To_Buy|Total_Amt_Chng_Q4_Q1|Total_Trans_Amt|Total_Trans_Ct|Total_Ct_Chng_Q4_Q1|Avg_Utilization_Ratio|count|\n",
            "+-----------------+------+---------------+---------------+---------------+-------------+--------------+------------------------+----------------------+---------------------+------------+-------------------+---------------+--------------------+---------------+--------------+-------------------+---------------------+-----+\n",
            "|Existing Customer|     M|              3|       Graduate|   $80K - $120K|         Blue|            36|                       4|                     1|                    0|      3418.0|                  0|         3418.0|               2.594|           1887|            20|              2.333|                  0.0| 8500|\n",
            "|Existing Customer|     F|              4|    High School| Less than $40K|         Blue|            34|                       3|                     4|                    1|      3313.0|               2517|          796.0|               1.405|           1171|            20|              2.333|                 0.76| 8500|\n",
            "|Existing Customer|     M|              0|    High School|    $60K - $80K|       Silver|            27|                       2|                     2|                    2|     29081.0|               1396|        27685.0|               2.204|           1538|            36|              0.714|                0.048| 8500|\n",
            "|Existing Customer|     M|              1|        Unknown|    $40K - $60K|         Blue|            54|                       6|                     2|                    3|      9095.0|               1587|         7508.0|               1.433|           1314|            26|              1.364|                0.174| 8500|\n",
            "|Existing Customer|     M|              1|    High School|    $40K - $60K|         Blue|            56|                       2|                     2|                    3|      3193.0|               2517|          676.0|               1.831|           1336|            30|              1.143|                0.788| 8500|\n",
            "|Existing Customer|     M|              1|      Doctorate|    $60K - $80K|         Blue|            42|                       5|                     2|                    0|     20979.0|               1800|        19179.0|               0.906|           1178|            27|              0.929|                0.086| 8500|\n",
            "|Existing Customer|     F|              3|       Graduate| Less than $40K|         Blue|            28|                       6|                     1|                    2|      7768.0|               1669|         6099.0|               0.797|           1051|            22|              0.833|                0.215| 8500|\n",
            "|Existing Customer|     M|              4|    High School|    $40K - $60K|         Blue|            42|                       6|                     0|                    0|      4785.0|               1362|         3423.0|               0.739|           1045|            38|                0.9|                0.285| 8500|\n",
            "|Existing Customer|     M|              1|      Doctorate|    $40K - $60K|         Blue|            52|                       3|                     2|                    2|      2548.0|               2020|          528.0|               2.357|           1719|            27|                1.7|                0.793| 8500|\n",
            "|Existing Customer|     M|              2|        Unknown|        $120K +|         Blue|            36|                       4|                     2|                    0|     19763.0|               2517|        17246.0|               0.664|           1414|            35|               0.25|                0.127| 8500|\n",
            "|Existing Customer|     M|              2|    High School|    $60K - $80K|         Blue|            34|                       4|                     4|                    3|      3336.0|               1753|         1583.0|                0.69|           1168|            27|               1.25|                0.525| 8500|\n",
            "|Existing Customer|     M|              3|        Unknown|   $80K - $120K|         Blue|            47|                       4|                     2|                    3|      3436.0|               2016|         1420.0|               0.901|           1097|            33|              0.833|                0.587| 8500|\n",
            "|Existing Customer|     M|              4|     Uneducated|   $80K - $120K|       Silver|            38|                       4|                     1|                    4|     34516.0|               1515|        33001.0|               0.592|           1293|            32|                0.6|                0.044| 8500|\n",
            "|Existing Customer|     M|              2|        College|    $60K - $80K|         Blue|            52|                       5|                     3|                    3|      6584.0|               1817|         4767.0|                0.62|           1353|            35|              0.667|                0.276| 8500|\n",
            "|Existing Customer|     M|              2|      Doctorate|   $80K - $120K|         Blue|            38|                       6|                     2|                    2|     25300.0|               1330|        23970.0|               1.072|            837|            15|                2.0|                0.053| 8500|\n",
            "|Existing Customer|     M|              3|       Graduate|    $60K - $80K|         Blue|            30|                       6|                     1|                    2|      2536.0|               1823|          713.0|               0.703|           1468|            23|              0.353|                0.719| 8500|\n",
            "|Existing Customer|     M|              1|        Unknown|        $120K +|         Blue|            36|                       6|                     2|                    2|     34516.0|               1533|        32983.0|               0.924|           1603|            29|              0.526|                0.044| 8500|\n",
            "|Existing Customer|     M|              2|       Graduate|    $60K - $80K|         Blue|            47|                       5|                     3|                    0|      3085.0|               1910|         1175.0|               0.921|           1531|            35|              0.667|                0.619| 8500|\n",
            "|Existing Customer|     M|              4|    High School|   $80K - $120K|         Blue|            38|                       4|                     3|                    0|     31302.0|               1953|        29349.0|               0.875|           1564|            35|              2.182|                0.062| 8500|\n",
            "|Existing Customer|     M|              0|       Graduate|   $80K - $120K|         Blue|            42|                       5|                     4|                    1|      2664.0|               2037|          627.0|                0.85|           1286|            29|              0.933|                0.765| 8500|\n",
            "+-----------------+------+---------------+---------------+---------------+-------------+--------------+------------------------+----------------------+---------------------+------------+-------------------+---------------+--------------------+---------------+--------------+-------------------+---------------------+-----+\n",
            "only showing top 20 rows\n",
            "\n",
            "+-----------------+------+---------------+---------------+---------------+-------------+--------------+------------------------+----------------------+---------------------+------------+-------------------+---------------+--------------------+---------------+--------------+-------------------+---------------------+-----+\n",
            "|   Attrition_Flag|Gender|Dependent_count|Education_Level|Income_Category|Card_Category|Months_on_book|Total_Relationship_Count|Months_Inactive_12_mon|Contacts_Count_12_mon|Credit_Limit|Total_Revolving_Bal|Avg_Open_To_Buy|Total_Amt_Chng_Q4_Q1|Total_Trans_Amt|Total_Trans_Ct|Total_Ct_Chng_Q4_Q1|Avg_Utilization_Ratio|count|\n",
            "+-----------------+------+---------------+---------------+---------------+-------------+--------------+------------------------+----------------------+---------------------+------------+-------------------+---------------+--------------------+---------------+--------------+-------------------+---------------------+-----+\n",
            "|Existing Customer|     M|              3|       Graduate|   $80K - $120K|         Blue|            36|                       4|                     1|                    0|      3418.0|                  0|         3418.0|               2.594|           1887|            20|              2.333|                  0.0| 8500|\n",
            "|Existing Customer|     F|              4|    High School| Less than $40K|         Blue|            34|                       3|                     4|                    1|      3313.0|               2517|          796.0|               1.405|           1171|            20|              2.333|                 0.76| 8500|\n",
            "|Existing Customer|     M|              0|    High School|    $60K - $80K|       Silver|            27|                       2|                     2|                    2|     29081.0|               1396|        27685.0|               2.204|           1538|            36|              0.714|                0.048| 8500|\n",
            "|Existing Customer|     M|              1|        Unknown|    $40K - $60K|         Blue|            54|                       6|                     2|                    3|      9095.0|               1587|         7508.0|               1.433|           1314|            26|              1.364|                0.174| 8500|\n",
            "|Existing Customer|     M|              1|    High School|    $40K - $60K|         Blue|            56|                       2|                     2|                    3|      3193.0|               2517|          676.0|               1.831|           1336|            30|              1.143|                0.788| 8500|\n",
            "|Existing Customer|     M|              1|      Doctorate|    $60K - $80K|         Blue|            42|                       5|                     2|                    0|     20979.0|               1800|        19179.0|               0.906|           1178|            27|              0.929|                0.086| 8500|\n",
            "|Existing Customer|     F|              3|       Graduate| Less than $40K|         Blue|            28|                       6|                     1|                    2|      7768.0|               1669|         6099.0|               0.797|           1051|            22|              0.833|                0.215| 8500|\n",
            "|Existing Customer|     M|              4|    High School|    $40K - $60K|         Blue|            42|                       6|                     0|                    0|      4785.0|               1362|         3423.0|               0.739|           1045|            38|                0.9|                0.285| 8500|\n",
            "|Existing Customer|     M|              1|      Doctorate|    $40K - $60K|         Blue|            52|                       3|                     2|                    2|      2548.0|               2020|          528.0|               2.357|           1719|            27|                1.7|                0.793| 8500|\n",
            "|Existing Customer|     M|              2|        Unknown|        $120K +|         Blue|            36|                       4|                     2|                    0|     19763.0|               2517|        17246.0|               0.664|           1414|            35|               0.25|                0.127| 8500|\n",
            "|Existing Customer|     M|              2|    High School|    $60K - $80K|         Blue|            34|                       4|                     4|                    3|      3336.0|               1753|         1583.0|                0.69|           1168|            27|               1.25|                0.525| 8500|\n",
            "|Existing Customer|     M|              3|        Unknown|   $80K - $120K|         Blue|            47|                       4|                     2|                    3|      3436.0|               2016|         1420.0|               0.901|           1097|            33|              0.833|                0.587| 8500|\n",
            "|Existing Customer|     M|              4|     Uneducated|   $80K - $120K|       Silver|            38|                       4|                     1|                    4|     34516.0|               1515|        33001.0|               0.592|           1293|            32|                0.6|                0.044| 8500|\n",
            "|Existing Customer|     M|              2|        College|    $60K - $80K|         Blue|            52|                       5|                     3|                    3|      6584.0|               1817|         4767.0|                0.62|           1353|            35|              0.667|                0.276| 8500|\n",
            "|Existing Customer|     M|              2|      Doctorate|   $80K - $120K|         Blue|            38|                       6|                     2|                    2|     25300.0|               1330|        23970.0|               1.072|            837|            15|                2.0|                0.053| 8500|\n",
            "|Existing Customer|     M|              3|       Graduate|    $60K - $80K|         Blue|            30|                       6|                     1|                    2|      2536.0|               1823|          713.0|               0.703|           1468|            23|              0.353|                0.719| 8500|\n",
            "|Existing Customer|     M|              1|        Unknown|        $120K +|         Blue|            36|                       6|                     2|                    2|     34516.0|               1533|        32983.0|               0.924|           1603|            29|              0.526|                0.044| 8500|\n",
            "|Existing Customer|     M|              2|       Graduate|    $60K - $80K|         Blue|            47|                       5|                     3|                    0|      3085.0|               1910|         1175.0|               0.921|           1531|            35|              0.667|                0.619| 8500|\n",
            "|Existing Customer|     M|              4|    High School|   $80K - $120K|         Blue|            38|                       4|                     3|                    0|     31302.0|               1953|        29349.0|               0.875|           1564|            35|              2.182|                0.062| 8500|\n",
            "|Existing Customer|     M|              0|       Graduate|   $80K - $120K|         Blue|            42|                       5|                     4|                    1|      2664.0|               2037|          627.0|                0.85|           1286|            29|              0.933|                0.765| 8500|\n",
            "+-----------------+------+---------------+---------------+---------------+-------------+--------------+------------------------+----------------------+---------------------+------------+-------------------+---------------+--------------------+---------------+--------------+-------------------+---------------------+-----+\n",
            "only showing top 20 rows\n",
            "\n"
          ]
        }
      ]
    },
    {
      "cell_type": "code",
      "source": [
        "new_attrited_df = updated_df.withColumn(\"Attrition_Flag\", F.when(F.col(\"Attrition_Flag\") =='Attrited Customer', 0).otherwise(1))\n",
        "new_attrited_df.show()\n",
        "\n",
        "new_attrited_df.groupby(\"Attrition_Flag\").count().show()\n"
      ],
      "metadata": {
        "colab": {
          "base_uri": "https://localhost:8080/"
        },
        "id": "HEiRoZPdDdOL",
        "outputId": "72c4c0f3-8dda-4ea4-8276-b09cd976ce82"
      },
      "execution_count": 9,
      "outputs": [
        {
          "output_type": "stream",
          "name": "stdout",
          "text": [
            "+--------------+------+---------------+---------------+---------------+-------------+--------------+------------------------+----------------------+---------------------+------------+-------------------+---------------+--------------------+---------------+--------------+-------------------+---------------------+-----+\n",
            "|Attrition_Flag|Gender|Dependent_count|Education_Level|Income_Category|Card_Category|Months_on_book|Total_Relationship_Count|Months_Inactive_12_mon|Contacts_Count_12_mon|Credit_Limit|Total_Revolving_Bal|Avg_Open_To_Buy|Total_Amt_Chng_Q4_Q1|Total_Trans_Amt|Total_Trans_Ct|Total_Ct_Chng_Q4_Q1|Avg_Utilization_Ratio|count|\n",
            "+--------------+------+---------------+---------------+---------------+-------------+--------------+------------------------+----------------------+---------------------+------------+-------------------+---------------+--------------------+---------------+--------------+-------------------+---------------------+-----+\n",
            "|             1|     M|              3|       Graduate|   $80K - $120K|         Blue|            36|                       4|                     1|                    0|      3418.0|                  0|         3418.0|               2.594|           1887|            20|              2.333|                  0.0| 8500|\n",
            "|             1|     F|              4|    High School| Less than $40K|         Blue|            34|                       3|                     4|                    1|      3313.0|               2517|          796.0|               1.405|           1171|            20|              2.333|                 0.76| 8500|\n",
            "|             1|     M|              0|    High School|    $60K - $80K|       Silver|            27|                       2|                     2|                    2|     29081.0|               1396|        27685.0|               2.204|           1538|            36|              0.714|                0.048| 8500|\n",
            "|             1|     M|              1|        Unknown|    $40K - $60K|         Blue|            54|                       6|                     2|                    3|      9095.0|               1587|         7508.0|               1.433|           1314|            26|              1.364|                0.174| 8500|\n",
            "|             1|     M|              1|    High School|    $40K - $60K|         Blue|            56|                       2|                     2|                    3|      3193.0|               2517|          676.0|               1.831|           1336|            30|              1.143|                0.788| 8500|\n",
            "|             1|     M|              1|      Doctorate|    $60K - $80K|         Blue|            42|                       5|                     2|                    0|     20979.0|               1800|        19179.0|               0.906|           1178|            27|              0.929|                0.086| 8500|\n",
            "|             1|     F|              3|       Graduate| Less than $40K|         Blue|            28|                       6|                     1|                    2|      7768.0|               1669|         6099.0|               0.797|           1051|            22|              0.833|                0.215| 8500|\n",
            "|             1|     M|              4|    High School|    $40K - $60K|         Blue|            42|                       6|                     0|                    0|      4785.0|               1362|         3423.0|               0.739|           1045|            38|                0.9|                0.285| 8500|\n",
            "|             1|     M|              1|      Doctorate|    $40K - $60K|         Blue|            52|                       3|                     2|                    2|      2548.0|               2020|          528.0|               2.357|           1719|            27|                1.7|                0.793| 8500|\n",
            "|             1|     M|              2|        Unknown|        $120K +|         Blue|            36|                       4|                     2|                    0|     19763.0|               2517|        17246.0|               0.664|           1414|            35|               0.25|                0.127| 8500|\n",
            "|             1|     M|              2|    High School|    $60K - $80K|         Blue|            34|                       4|                     4|                    3|      3336.0|               1753|         1583.0|                0.69|           1168|            27|               1.25|                0.525| 8500|\n",
            "|             1|     M|              3|        Unknown|   $80K - $120K|         Blue|            47|                       4|                     2|                    3|      3436.0|               2016|         1420.0|               0.901|           1097|            33|              0.833|                0.587| 8500|\n",
            "|             1|     M|              4|     Uneducated|   $80K - $120K|       Silver|            38|                       4|                     1|                    4|     34516.0|               1515|        33001.0|               0.592|           1293|            32|                0.6|                0.044| 8500|\n",
            "|             1|     M|              2|        College|    $60K - $80K|         Blue|            52|                       5|                     3|                    3|      6584.0|               1817|         4767.0|                0.62|           1353|            35|              0.667|                0.276| 8500|\n",
            "|             1|     M|              2|      Doctorate|   $80K - $120K|         Blue|            38|                       6|                     2|                    2|     25300.0|               1330|        23970.0|               1.072|            837|            15|                2.0|                0.053| 8500|\n",
            "|             1|     M|              3|       Graduate|    $60K - $80K|         Blue|            30|                       6|                     1|                    2|      2536.0|               1823|          713.0|               0.703|           1468|            23|              0.353|                0.719| 8500|\n",
            "|             1|     M|              1|        Unknown|        $120K +|         Blue|            36|                       6|                     2|                    2|     34516.0|               1533|        32983.0|               0.924|           1603|            29|              0.526|                0.044| 8500|\n",
            "|             1|     M|              2|       Graduate|    $60K - $80K|         Blue|            47|                       5|                     3|                    0|      3085.0|               1910|         1175.0|               0.921|           1531|            35|              0.667|                0.619| 8500|\n",
            "|             1|     M|              4|    High School|   $80K - $120K|         Blue|            38|                       4|                     3|                    0|     31302.0|               1953|        29349.0|               0.875|           1564|            35|              2.182|                0.062| 8500|\n",
            "|             1|     M|              0|       Graduate|   $80K - $120K|         Blue|            42|                       5|                     4|                    1|      2664.0|               2037|          627.0|                0.85|           1286|            29|              0.933|                0.765| 8500|\n",
            "+--------------+------+---------------+---------------+---------------+-------------+--------------+------------------------+----------------------+---------------------+------------+-------------------+---------------+--------------------+---------------+--------------+-------------------+---------------------+-----+\n",
            "only showing top 20 rows\n",
            "\n",
            "+--------------+-----+\n",
            "|Attrition_Flag|count|\n",
            "+--------------+-----+\n",
            "|             1| 1684|\n",
            "|             0| 1627|\n",
            "+--------------+-----+\n",
            "\n"
          ]
        }
      ]
    },
    {
      "cell_type": "code",
      "source": [
        "attrition_counts = new_attrited_df.groupby(\"Attrition_Flag\").count()\n",
        "attrition_counts.show()\n",
        "\n",
        "#Convert Spark DataFrame to Pandas DataFrame\n",
        "attrition_counts_pd = attrition_counts.toPandas()\n",
        "\n",
        "# Create a pie chart using Matplotlib\n",
        "import matplotlib.pyplot as plt\n",
        "\n",
        "# Labels for the pie chart\n",
        "labels = ['Attrited Customer', 'Existing Customer']\n",
        "\n",
        "# Define custom colors\n",
        "colors = ['#66b3ff','#99ff99']\n",
        "\n",
        "# Values for the pie chart\n",
        "sizes = attrition_counts_pd['count']\n",
        "\n",
        "# Plotting the pie chart\n",
        "plt.figure(figsize=(7,7))\n",
        "plt.pie(sizes, labels=labels, autopct='%1.1f%%', startangle=90, colors=colors)\n",
        "plt.title('Customer Attrition')\n",
        "plt.axis('equal')  # Equal aspect ratio ensures that pie is drawn as a circle.\n",
        "\n",
        "# Save the figure\n",
        "plt.savefig(\"Balanced Dataset.png\")\n",
        "\n",
        "# Show the plot\n",
        "plt.show()"
      ],
      "metadata": {
        "colab": {
          "base_uri": "https://localhost:8080/",
          "height": 744
        },
        "id": "zBZaXMhSdRHE",
        "outputId": "4be7a24f-f03f-4b42-fdf7-2464182738d3"
      },
      "execution_count": 10,
      "outputs": [
        {
          "output_type": "stream",
          "name": "stdout",
          "text": [
            "+--------------+-----+\n",
            "|Attrition_Flag|count|\n",
            "+--------------+-----+\n",
            "|             1| 1684|\n",
            "|             0| 1627|\n",
            "+--------------+-----+\n",
            "\n"
          ]
        },
        {
          "output_type": "display_data",
          "data": {
            "text/plain": [
              "<Figure size 700x700 with 1 Axes>"
            ],
            "image/png": "[encoded data removed]"
          },
          "metadata": {}
        },
        {
          "output_type": "display_data",
          "data": {
            "text/plain": [
              "<Figure size 640x480 with 0 Axes>"
            ]
          },
          "metadata": {}
        }
      ]
    },
    {
      "cell_type": "markdown",
      "source": [
        "**2nd Modeling**"
      ],
      "metadata": {
        "id": "z1k-BnDbJXEx"
      }
    },
    {
      "cell_type": "code",
      "source": [
        "(train_df_2, test_df_2) = new_attrited_df.randomSplit([0.8, 0.2], 11)\n",
        "print(\"Number of train samples: \" + str(train_df_2.count()))\n",
        "print(\"Number of test samples: \" + str(test_df_2.count()))"
      ],
      "metadata": {
        "id": "YclDU45FDdL5",
        "colab": {
          "base_uri": "https://localhost:8080/"
        },
        "outputId": "1ee8ba9e-7f90-43c6-8bbf-31a04902e997"
      },
      "execution_count": 11,
      "outputs": [
        {
          "output_type": "stream",
          "name": "stdout",
          "text": [
            "Number of train samples: 2632\n",
            "Number of test samples: 679\n"
          ]
        }
      ]
    },
    {
      "cell_type": "code",
      "source": [
        "# Apply StringIndexer to the Attrition_Flag column\n",
        "attrition_indexer_2 = StringIndexer(inputCol=\"Attrition_Flag\", outputCol=\"Attrition_Flag_Index\")\n",
        "attrition_indexer_2 = attrition_indexer_2.fit(train_df_2)\n",
        "attrited_train_df_2 = attrition_indexer_2.transform(train_df_2)\n",
        "\n",
        "# Show the transformed DataFrame\n",
        "attrited_train_df_2.show(n=3, truncate=False)"
      ],
      "metadata": {
        "id": "wPbWbqPpHuuN",
        "colab": {
          "base_uri": "https://localhost:8080/"
        },
        "outputId": "ab8b2b3c-addd-43be-9f06-6a70760c095a"
      },
      "execution_count": 12,
      "outputs": [
        {
          "output_type": "stream",
          "name": "stdout",
          "text": [
            "+--------------+------+---------------+---------------+---------------+-------------+--------------+------------------------+----------------------+---------------------+------------+-------------------+---------------+--------------------+---------------+--------------+-------------------+---------------------+-----+--------------------+\n",
            "|Attrition_Flag|Gender|Dependent_count|Education_Level|Income_Category|Card_Category|Months_on_book|Total_Relationship_Count|Months_Inactive_12_mon|Contacts_Count_12_mon|Credit_Limit|Total_Revolving_Bal|Avg_Open_To_Buy|Total_Amt_Chng_Q4_Q1|Total_Trans_Amt|Total_Trans_Ct|Total_Ct_Chng_Q4_Q1|Avg_Utilization_Ratio|count|Attrition_Flag_Index|\n",
            "+--------------+------+---------------+---------------+---------------+-------------+--------------+------------------------+----------------------+---------------------+------------+-------------------+---------------+--------------------+---------------+--------------+-------------------+---------------------+-----+--------------------+\n",
            "|1             |F     |0              |College        |$40K - $60K    |Blue         |13            |2                       |3                     |3                    |2010.0      |1070               |940.0          |0.906               |3625           |85            |0.635              |0.532                |8500 |0.0                 |\n",
            "|1             |F     |0              |College        |$40K - $60K    |Blue         |46            |6                       |2                     |3                    |2254.0      |533                |1721.0         |1.043               |4913           |84            |0.909              |0.236                |8500 |0.0                 |\n",
            "|1             |F     |0              |College        |$40K - $60K    |Blue         |53            |3                       |2                     |0                    |1438.3      |0                  |1438.3         |0.896               |4457           |79            |0.927              |0.0                  |8500 |0.0                 |\n",
            "+--------------+------+---------------+---------------+---------------+-------------+--------------+------------------------+----------------------+---------------------+------------+-------------------+---------------+--------------------+---------------+--------------+-------------------+---------------------+-----+--------------------+\n",
            "only showing top 3 rows\n",
            "\n"
          ]
        }
      ]
    },
    {
      "cell_type": "code",
      "source": [
        "attrited_train_df_2.tail(50)\n",
        "attrited_train_df_2.show()"
      ],
      "metadata": {
        "id": "rtO-cCxMuxPu",
        "colab": {
          "base_uri": "https://localhost:8080/"
        },
        "outputId": "2ca4cefe-3e65-4835-c8e8-896c3cea58ad"
      },
      "execution_count": 13,
      "outputs": [
        {
          "output_type": "stream",
          "name": "stdout",
          "text": [
            "+--------------+------+---------------+---------------+---------------+-------------+--------------+------------------------+----------------------+---------------------+------------+-------------------+---------------+--------------------+---------------+--------------+-------------------+---------------------+-----+--------------------+\n",
            "|Attrition_Flag|Gender|Dependent_count|Education_Level|Income_Category|Card_Category|Months_on_book|Total_Relationship_Count|Months_Inactive_12_mon|Contacts_Count_12_mon|Credit_Limit|Total_Revolving_Bal|Avg_Open_To_Buy|Total_Amt_Chng_Q4_Q1|Total_Trans_Amt|Total_Trans_Ct|Total_Ct_Chng_Q4_Q1|Avg_Utilization_Ratio|count|Attrition_Flag_Index|\n",
            "+--------------+------+---------------+---------------+---------------+-------------+--------------+------------------------+----------------------+---------------------+------------+-------------------+---------------+--------------------+---------------+--------------+-------------------+---------------------+-----+--------------------+\n",
            "|             1|     F|              0|        College|    $40K - $60K|         Blue|            13|                       2|                     3|                    3|      2010.0|               1070|          940.0|               0.906|           3625|            85|              0.635|                0.532| 8500|                 0.0|\n",
            "|             1|     F|              0|        College|    $40K - $60K|         Blue|            46|                       6|                     2|                    3|      2254.0|                533|         1721.0|               1.043|           4913|            84|              0.909|                0.236| 8500|                 0.0|\n",
            "|             1|     F|              0|        College|    $40K - $60K|         Blue|            53|                       3|                     2|                    0|      1438.3|                  0|         1438.3|               0.896|           4457|            79|              0.927|                  0.0| 8500|                 0.0|\n",
            "|             1|     F|              0|        College| Less than $40K|         Blue|            30|                       3|                     2|                    3|      1978.0|                871|         1107.0|               0.636|           4299|            59|              0.844|                 0.44| 8500|                 0.0|\n",
            "|             1|     F|              0|        College| Less than $40K|         Blue|            36|                       1|                     2|                    2|      4366.0|               1870|         2496.0|               0.814|          15451|           127|              0.764|                0.428| 8500|                 0.0|\n",
            "|             1|     F|              0|        College|        Unknown|         Blue|            56|                       5|                     2|                    3|     13666.0|                  0|        13666.0|               0.808|           3998|            70|                1.0|                  0.0| 8500|                 0.0|\n",
            "|             1|     F|              0|      Doctorate|    $40K - $60K|         Blue|            51|                       3|                     3|                    2|      3377.0|                948|         2429.0|               0.461|           1407|            44|              0.467|                0.281| 8500|                 0.0|\n",
            "|             1|     F|              0|      Doctorate|    $40K - $60K|       Silver|            36|                       1|                     1|                    3|     19107.0|                933|        18174.0|                0.88|           8987|            89|              0.561|                0.049| 8500|                 0.0|\n",
            "|             1|     F|              0|      Doctorate| Less than $40K|         Blue|            36|                       3|                     1|                    2|      1438.3|                  0|         1438.3|               0.691|           1904|            47|              0.382|                  0.0| 8500|                 0.0|\n",
            "|             1|     F|              0|      Doctorate| Less than $40K|         Blue|            45|                       5|                     2|                    4|      1438.3|                648|          790.3|               0.477|           1267|            27|              1.077|                0.451| 8500|                 0.0|\n",
            "|             1|     F|              0|       Graduate|    $40K - $60K|         Blue|            50|                       3|                     2|                    4|     11352.0|               2517|         8835.0|               0.751|           4021|            56|              0.806|                0.222| 8500|                 0.0|\n",
            "|             1|     F|              0|       Graduate|    $40K - $60K|         Blue|            56|                       4|                     3|                    5|      7118.0|                813|         6305.0|               0.475|           3964|            66|               0.65|                0.114| 8500|                 0.0|\n",
            "|             1|     F|              0|       Graduate|    $40K - $60K|       Silver|            45|                       6|                     3|                    3|     21358.0|               1225|        20133.0|               0.681|           3646|            77|               0.75|                0.057| 8500|                 0.0|\n",
            "|             1|     F|              0|       Graduate| Less than $40K|         Blue|            17|                       4|                     1|                    3|      4704.0|                  0|         4704.0|               1.177|           3294|            87|              0.891|                  0.0| 8500|                 0.0|\n",
            "|             1|     F|              0|       Graduate| Less than $40K|         Blue|            20|                       5|                     1|                    1|      1438.3|                  0|         1438.3|               0.689|           4397|            86|              0.755|                  0.0| 8500|                 0.0|\n",
            "|             1|     F|              0|       Graduate| Less than $40K|         Blue|            26|                       3|                     1|                    1|      3540.0|               1173|         2367.0|               1.106|           1912|            45|              0.667|                0.331| 8500|                 0.0|\n",
            "|             1|     F|              0|       Graduate| Less than $40K|         Blue|            26|                       6|                     1|                    3|      2382.0|               1565|          817.0|                0.73|           4011|            68|              0.838|                0.657| 8500|                 0.0|\n",
            "|             1|     F|              0|       Graduate| Less than $40K|         Blue|            32|                       2|                     2|                    1|      1438.3|                801|          637.3|               1.155|           4386|            64|              0.778|                0.557| 8500|                 0.0|\n",
            "|             1|     F|              0|       Graduate| Less than $40K|         Blue|            36|                       2|                     2|                    2|      1621.0|               1046|          575.0|               0.729|           5247|            84|              0.615|                0.645| 8500|                 0.0|\n",
            "|             1|     F|              0|       Graduate| Less than $40K|         Blue|            36|                       4|                     3|                    1|      3828.0|                  0|         3828.0|               0.599|           4470|            58|              0.812|                  0.0| 8500|                 0.0|\n",
            "+--------------+------+---------------+---------------+---------------+-------------+--------------+------------------------+----------------------+---------------------+------------+-------------------+---------------+--------------------+---------------+--------------+-------------------+---------------------+-----+--------------------+\n",
            "only showing top 20 rows\n",
            "\n"
          ]
        }
      ]
    },
    {
      "cell_type": "code",
      "source": [
        "inputCols_2=[\n",
        " 'Dependent_count',\n",
        " 'Months_on_book',\n",
        " 'Total_Relationship_Count',\n",
        " 'Months_Inactive_12_mon',\n",
        " 'Contacts_Count_12_mon',\n",
        " 'Credit_Limit',\n",
        " 'Total_Revolving_Bal',\n",
        " 'Avg_Open_To_Buy',\n",
        " 'Total_Amt_Chng_Q4_Q1',\n",
        " 'Total_Trans_Amt',\n",
        " 'Total_Trans_Ct',\n",
        " 'Total_Ct_Chng_Q4_Q1',\n",
        " 'Avg_Utilization_Ratio'\n",
        "    ]\n",
        "\n",
        "outputCol_2=\"features\"\n",
        "\n",
        "vector_assembler_2 = VectorAssembler(inputCols= inputCols_2, outputCol=outputCol_2)\n",
        "train_df2 = vector_assembler_2.transform(train_df_2)"
      ],
      "metadata": {
        "id": "cYdaU4D4DdI2"
      },
      "execution_count": 14,
      "outputs": []
    },
    {
      "cell_type": "code",
      "source": [
        "train_df2.show(3, truncate=False)"
      ],
      "metadata": {
        "id": "cN56jN28Elu5",
        "colab": {
          "base_uri": "https://localhost:8080/"
        },
        "outputId": "45881e3b-274a-4a14-f494-13236fa34c43"
      },
      "execution_count": 15,
      "outputs": [
        {
          "output_type": "stream",
          "name": "stdout",
          "text": [
            "+--------------+------+---------------+---------------+---------------+-------------+--------------+------------------------+----------------------+---------------------+------------+-------------------+---------------+--------------------+---------------+--------------+-------------------+---------------------+-----+------------------------------------------------------------------------+\n",
            "|Attrition_Flag|Gender|Dependent_count|Education_Level|Income_Category|Card_Category|Months_on_book|Total_Relationship_Count|Months_Inactive_12_mon|Contacts_Count_12_mon|Credit_Limit|Total_Revolving_Bal|Avg_Open_To_Buy|Total_Amt_Chng_Q4_Q1|Total_Trans_Amt|Total_Trans_Ct|Total_Ct_Chng_Q4_Q1|Avg_Utilization_Ratio|count|features                                                                |\n",
            "+--------------+------+---------------+---------------+---------------+-------------+--------------+------------------------+----------------------+---------------------+------------+-------------------+---------------+--------------------+---------------+--------------+-------------------+---------------------+-----+------------------------------------------------------------------------+\n",
            "|1             |F     |0              |College        |$40K - $60K    |Blue         |13            |2                       |3                     |3                    |2010.0      |1070               |940.0          |0.906               |3625           |85            |0.635              |0.532                |8500 |[0.0,13.0,2.0,3.0,3.0,2010.0,1070.0,940.0,0.906,3625.0,85.0,0.635,0.532]|\n",
            "|1             |F     |0              |College        |$40K - $60K    |Blue         |46            |6                       |2                     |3                    |2254.0      |533                |1721.0         |1.043               |4913           |84            |0.909              |0.236                |8500 |[0.0,46.0,6.0,2.0,3.0,2254.0,533.0,1721.0,1.043,4913.0,84.0,0.909,0.236]|\n",
            "|1             |F     |0              |College        |$40K - $60K    |Blue         |53            |3                       |2                     |0                    |1438.3      |0                  |1438.3         |0.896               |4457           |79            |0.927              |0.0                  |8500 |[0.0,53.0,3.0,2.0,0.0,1438.3,0.0,1438.3,0.896,4457.0,79.0,0.927,0.0]    |\n",
            "+--------------+------+---------------+---------------+---------------+-------------+--------------+------------------------+----------------------+---------------------+------------+-------------------+---------------+--------------------+---------------+--------------+-------------------+---------------------+-----+------------------------------------------------------------------------+\n",
            "only showing top 3 rows\n",
            "\n"
          ]
        }
      ]
    },
    {
      "cell_type": "code",
      "source": [
        "#Modeling dataframe for Attrition_Flag\n",
        "modeling_df_2 = train_df2.select(['features', 'Attrition_Flag'])\n",
        "\n",
        "#Displaying top DataFrame\n",
        "modeling_df_2.show()\n",
        "\n",
        "#Displaying bottom DataFrame\n",
        "modeling_df_2.tail(10)\n",
        "modeling_df_2.show()"
      ],
      "metadata": {
        "id": "NLMlzk5dDdGG",
        "colab": {
          "base_uri": "https://localhost:8080/"
        },
        "outputId": "6818a5aa-2025-4d18-bd70-5e56d7c38968"
      },
      "execution_count": 16,
      "outputs": [
        {
          "output_type": "stream",
          "name": "stdout",
          "text": [
            "+--------------------+--------------+\n",
            "|            features|Attrition_Flag|\n",
            "+--------------------+--------------+\n",
            "|[0.0,13.0,2.0,3.0...|             1|\n",
            "|[0.0,46.0,6.0,2.0...|             1|\n",
            "|[0.0,53.0,3.0,2.0...|             1|\n",
            "|[0.0,30.0,3.0,2.0...|             1|\n",
            "|[0.0,36.0,1.0,2.0...|             1|\n",
            "|[0.0,56.0,5.0,2.0...|             1|\n",
            "|[0.0,51.0,3.0,3.0...|             1|\n",
            "|[0.0,36.0,1.0,1.0...|             1|\n",
            "|[0.0,36.0,3.0,1.0...|             1|\n",
            "|[0.0,45.0,5.0,2.0...|             1|\n",
            "|[0.0,50.0,3.0,2.0...|             1|\n",
            "|[0.0,56.0,4.0,3.0...|             1|\n",
            "|[0.0,45.0,6.0,3.0...|             1|\n",
            "|[0.0,17.0,4.0,1.0...|             1|\n",
            "|[0.0,20.0,5.0,1.0...|             1|\n",
            "|[0.0,26.0,3.0,1.0...|             1|\n",
            "|[0.0,26.0,6.0,1.0...|             1|\n",
            "|[0.0,32.0,2.0,2.0...|             1|\n",
            "|[0.0,36.0,2.0,2.0...|             1|\n",
            "|[0.0,36.0,4.0,3.0...|             1|\n",
            "+--------------------+--------------+\n",
            "only showing top 20 rows\n",
            "\n",
            "+--------------------+--------------+\n",
            "|            features|Attrition_Flag|\n",
            "+--------------------+--------------+\n",
            "|[0.0,13.0,2.0,3.0...|             1|\n",
            "|[0.0,46.0,6.0,2.0...|             1|\n",
            "|[0.0,53.0,3.0,2.0...|             1|\n",
            "|[0.0,30.0,3.0,2.0...|             1|\n",
            "|[0.0,36.0,1.0,2.0...|             1|\n",
            "|[0.0,56.0,5.0,2.0...|             1|\n",
            "|[0.0,51.0,3.0,3.0...|             1|\n",
            "|[0.0,36.0,1.0,1.0...|             1|\n",
            "|[0.0,36.0,3.0,1.0...|             1|\n",
            "|[0.0,45.0,5.0,2.0...|             1|\n",
            "|[0.0,50.0,3.0,2.0...|             1|\n",
            "|[0.0,56.0,4.0,3.0...|             1|\n",
            "|[0.0,45.0,6.0,3.0...|             1|\n",
            "|[0.0,17.0,4.0,1.0...|             1|\n",
            "|[0.0,20.0,5.0,1.0...|             1|\n",
            "|[0.0,26.0,3.0,1.0...|             1|\n",
            "|[0.0,26.0,6.0,1.0...|             1|\n",
            "|[0.0,32.0,2.0,2.0...|             1|\n",
            "|[0.0,36.0,2.0,2.0...|             1|\n",
            "|[0.0,36.0,4.0,3.0...|             1|\n",
            "+--------------------+--------------+\n",
            "only showing top 20 rows\n",
            "\n"
          ]
        }
      ]
    },
    {
      "cell_type": "code",
      "source": [
        "#Creating a DecisionTreeClassifier model\n",
        "model_attrition_2 = DecisionTreeClassifier(labelCol=\"Attrition_Flag\", featuresCol=\"features\")\n",
        "\n",
        "#Train model\n",
        "model_attrition_2 = model_attrition_2.fit(modeling_df_2)"
      ],
      "metadata": {
        "id": "Cf4ambYLDdDG"
      },
      "execution_count": 17,
      "outputs": []
    },
    {
      "cell_type": "code",
      "source": [
        "prediction = model_attrition_2.transform(modeling_df_2)\n",
        "prediction.show()"
      ],
      "metadata": {
        "id": "86drB-VpDdAa",
        "colab": {
          "base_uri": "https://localhost:8080/"
        },
        "outputId": "3c0e8b79-e25e-4ae8-f29c-2931c2b79a6b"
      },
      "execution_count": 18,
      "outputs": [
        {
          "output_type": "stream",
          "name": "stdout",
          "text": [
            "+--------------------+--------------+-------------+--------------------+----------+\n",
            "|            features|Attrition_Flag|rawPrediction|         probability|prediction|\n",
            "+--------------------+--------------+-------------+--------------------+----------+\n",
            "|[0.0,13.0,2.0,3.0...|             1|  [4.0,619.0]|[0.00642054574638...|       1.0|\n",
            "|[0.0,46.0,6.0,2.0...|             1|  [4.0,619.0]|[0.00642054574638...|       1.0|\n",
            "|[0.0,53.0,3.0,2.0...|             1|  [4.0,619.0]|[0.00642054574638...|       1.0|\n",
            "|[0.0,30.0,3.0,2.0...|             1|   [5.0,73.0]|[0.06410256410256...|       1.0|\n",
            "|[0.0,36.0,1.0,2.0...|             1|  [6.0,186.0]|   [0.03125,0.96875]|       1.0|\n",
            "|[0.0,56.0,5.0,2.0...|             1|  [4.0,619.0]|[0.00642054574638...|       1.0|\n",
            "|[0.0,51.0,3.0,3.0...|             1| [45.0,235.0]|[0.16071428571428...|       1.0|\n",
            "|[0.0,36.0,1.0,1.0...|             1|  [6.0,186.0]|   [0.03125,0.96875]|       1.0|\n",
            "|[0.0,36.0,3.0,1.0...|             1|   [25.0,2.0]|[0.92592592592592...|       0.0|\n",
            "|[0.0,45.0,5.0,2.0...|             1| [660.0,27.0]|[0.96069868995633...|       0.0|\n",
            "|[0.0,50.0,3.0,2.0...|             1|  [48.0,86.0]|[0.35820895522388...|       1.0|\n",
            "|[0.0,56.0,4.0,3.0...|             1|  [4.0,619.0]|[0.00642054574638...|       1.0|\n",
            "|[0.0,45.0,6.0,3.0...|             1|  [4.0,619.0]|[0.00642054574638...|       1.0|\n",
            "|[0.0,17.0,4.0,1.0...|             1|  [4.0,619.0]|[0.00642054574638...|       1.0|\n",
            "|[0.0,20.0,5.0,1.0...|             1|  [4.0,619.0]|[0.00642054574638...|       1.0|\n",
            "|[0.0,26.0,3.0,1.0...|             1| [45.0,235.0]|[0.16071428571428...|       1.0|\n",
            "|[0.0,26.0,6.0,1.0...|             1|  [4.0,619.0]|[0.00642054574638...|       1.0|\n",
            "|[0.0,32.0,2.0,2.0...|             1|  [4.0,619.0]|[0.00642054574638...|       1.0|\n",
            "|[0.0,36.0,2.0,2.0...|             1|  [4.0,619.0]|[0.00642054574638...|       1.0|\n",
            "|[0.0,36.0,4.0,3.0...|             1| [660.0,27.0]|[0.96069868995633...|       0.0|\n",
            "+--------------------+--------------+-------------+--------------------+----------+\n",
            "only showing top 20 rows\n",
            "\n"
          ]
        }
      ]
    },
    {
      "cell_type": "code",
      "source": [
        "from pyspark.ml.evaluation import MulticlassClassificationEvaluator\n",
        "\n",
        "evaluator = MulticlassClassificationEvaluator(labelCol=\"Attrition_Flag\")\n",
        "\n",
        "\n",
        "accuracy = evaluator.evaluate(prediction, {evaluator.metricName: 'accuracy'})\n",
        "f1 = evaluator.evaluate(prediction, {evaluator.metricName: 'f1'})\n",
        "recall = evaluator.evaluate(prediction, {evaluator.metricName: 'recallByLabel'})\n",
        "precision = evaluator.evaluate(prediction, {evaluator.metricName: 'precisionByLabel'})\n",
        "\n",
        "print(f\"The Precision for 2nd Train Prediction: {precision}\")\n",
        "print(f\"The F1 for 2nd Train Prediction: {f1}\")\n",
        "print(f\"The Recall for 2nd Train Prediction: {recall}\")\n",
        "print(f\"The Accuracy for 2nd Train Prediction: {accuracy}\")\n",
        "\n"
      ],
      "metadata": {
        "id": "pumYeaAaDc9m",
        "colab": {
          "base_uri": "https://localhost:8080/"
        },
        "outputId": "b2ee6c40-2984-4217-bceb-6fd5060b5dd4"
      },
      "execution_count": 19,
      "outputs": [
        {
          "output_type": "stream",
          "name": "stdout",
          "text": [
            "The Precision for 2nd Train Prediction: 0.9309791332263242\n",
            "The F1 for 2nd Train Prediction: 0.9205489536427204\n",
            "The Recall for 2nd Train Prediction: 0.9041309431021044\n",
            "The Accuracy for 2nd Train Prediction: 0.9205927051671733\n"
          ]
        }
      ]
    },
    {
      "cell_type": "markdown",
      "source": [
        "**2nd Test Prediction**"
      ],
      "metadata": {
        "id": "AVbsa_vjGuui"
      }
    },
    {
      "cell_type": "code",
      "source": [
        "test_df_2 = attrition_indexer_2 .transform(test_df_2)\n",
        "test_df_2 = vector_assembler_2.transform(test_df_2)\n",
        "test_predications = model_attrition_2.transform(test_df_2)\n",
        "\n",
        "test_predications.show(3, truncate=False)"
      ],
      "metadata": {
        "id": "4XqnPSL4Dc63",
        "colab": {
          "base_uri": "https://localhost:8080/"
        },
        "outputId": "30371a5f-2cf7-4b13-c653-d1ae675de2ec"
      },
      "execution_count": 20,
      "outputs": [
        {
          "output_type": "stream",
          "name": "stdout",
          "text": [
            "+--------------+------+---------------+---------------+---------------+-------------+--------------+------------------------+----------------------+---------------------+------------+-------------------+---------------+--------------------+---------------+--------------+-------------------+---------------------+-----+--------------------+-------------------------------------------------------------------------+-------------+-----------------------------------------+----------+\n",
            "|Attrition_Flag|Gender|Dependent_count|Education_Level|Income_Category|Card_Category|Months_on_book|Total_Relationship_Count|Months_Inactive_12_mon|Contacts_Count_12_mon|Credit_Limit|Total_Revolving_Bal|Avg_Open_To_Buy|Total_Amt_Chng_Q4_Q1|Total_Trans_Amt|Total_Trans_Ct|Total_Ct_Chng_Q4_Q1|Avg_Utilization_Ratio|count|Attrition_Flag_Index|features                                                                 |rawPrediction|probability                              |prediction|\n",
            "+--------------+------+---------------+---------------+---------------+-------------+--------------+------------------------+----------------------+---------------------+------------+-------------------+---------------+--------------------+---------------+--------------+-------------------+---------------------+-----+--------------------+-------------------------------------------------------------------------+-------------+-----------------------------------------+----------+\n",
            "|1             |F     |0              |College        |Less than $40K |Blue         |50            |5                       |3                     |2                    |3426.0      |1650               |1776.0         |0.622               |4467           |69            |1.029              |0.482                |8500 |0.0                 |[0.0,50.0,5.0,3.0,2.0,3426.0,1650.0,1776.0,0.622,4467.0,69.0,1.029,0.482]|[4.0,619.0]  |[0.006420545746388443,0.9935794542536116]|1.0       |\n",
            "|1             |F     |0              |College        |Unknown        |Blue         |26            |5                       |3                     |3                    |4692.0      |0                  |4692.0         |0.837               |4281           |69            |0.643              |0.0                  |8500 |0.0                 |[0.0,26.0,5.0,3.0,3.0,4692.0,0.0,4692.0,0.837,4281.0,69.0,0.643,0.0]     |[4.0,619.0]  |[0.006420545746388443,0.9935794542536116]|1.0       |\n",
            "|1             |F     |0              |Doctorate      |Less than $40K |Blue         |53            |4                       |1                     |3                    |5462.0      |1864               |3598.0         |0.67                |1523           |35            |0.667              |0.341                |8500 |0.0                 |[0.0,53.0,4.0,1.0,3.0,5462.0,1864.0,3598.0,0.67,1523.0,35.0,0.667,0.341] |[45.0,235.0] |[0.16071428571428573,0.8392857142857143] |1.0       |\n",
            "+--------------+------+---------------+---------------+---------------+-------------+--------------+------------------------+----------------------+---------------------+------------+-------------------+---------------+--------------------+---------------+--------------+-------------------+---------------------+-----+--------------------+-------------------------------------------------------------------------+-------------+-----------------------------------------+----------+\n",
            "only showing top 3 rows\n",
            "\n"
          ]
        }
      ]
    },
    {
      "cell_type": "code",
      "source": [
        "evaluator = MulticlassClassificationEvaluator(labelCol=\"Attrition_Flag\")\n",
        "\n",
        "accuracy = evaluator.evaluate(test_predications, {evaluator.metricName: 'accuracy'})\n",
        "f1 = evaluator.evaluate(test_predications, {evaluator.metricName: 'f1'})\n",
        "recall = evaluator.evaluate(test_predications, {evaluator.metricName: 'recallByLabel'})\n",
        "precision = evaluator.evaluate(test_predications, {evaluator.metricName: 'precisionByLabel'})\n",
        "\n",
        "print(f\"The Precision for 2nd Test Prediction: {precision}\")\n",
        "print(f\"The F1 for 2nd Test Prediction: {f1}\")\n",
        "print(f\"The Recall for 2nd Test Prediction: {recall}\")\n",
        "print(f\"The Accuracy for 2nd Test Prediction: {accuracy}\")"
      ],
      "metadata": {
        "id": "PKo6TEyxDc33",
        "colab": {
          "base_uri": "https://localhost:8080/"
        },
        "outputId": "5a55993b-3106-4f2f-e9d6-175041b83308"
      },
      "execution_count": 21,
      "outputs": [
        {
          "output_type": "stream",
          "name": "stdout",
          "text": [
            "The Precision for 2nd Test Prediction: 0.9101796407185628\n",
            "The F1 for 2nd Test Prediction: 0.8969049804028901\n",
            "The Recall for 2nd Test Prediction: 0.8837209302325582\n",
            "The Accuracy for 2nd Test Prediction: 0.8969072164948454\n"
          ]
        }
      ]
    }
  ]
}