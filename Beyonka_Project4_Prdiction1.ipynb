{
  "nbformat": 4,
  "nbformat_minor": 0,
  "metadata": {
    "colab": {
      "provenance": []
    },
    "kernelspec": {
      "name": "python3",
      "display_name": "Python 3"
    },
    "language_info": {
      "name": "python"
    }
  },
  "cells": [
    {
      "cell_type": "code",
      "execution_count": 1,
      "metadata": {
        "colab": {
          "base_uri": "https://localhost:8080/"
        },
        "id": "zdevKISlkjnb",
        "outputId": "7f330ddd-3834-4130-c5e3-5ac35ca9fca0"
      },
      "outputs": [
        {
          "output_type": "stream",
          "name": "stdout",
          "text": [
            "Hit:1 https://developer.download.nvidia.com/compute/cuda/repos/ubuntu2204/x86_64  InRelease\n",
            "Hit:2 http://archive.ubuntu.com/ubuntu jammy InRelease\n",
            "Get:3 http://archive.ubuntu.com/ubuntu jammy-updates InRelease [128 kB]\n",
            "Get:4 http://security.ubuntu.com/ubuntu jammy-security InRelease [129 kB]\n",
            "Get:5 https://cloud.r-project.org/bin/linux/ubuntu jammy-cran40/ InRelease [3,626 B]\n",
            "Hit:6 https://ppa.launchpadcontent.net/c2d4u.team/c2d4u4.0+/ubuntu jammy InRelease\n",
            "Hit:7 https://ppa.launchpadcontent.net/deadsnakes/ppa/ubuntu jammy InRelease\n",
            "Get:8 http://archive.ubuntu.com/ubuntu jammy-backports InRelease [127 kB]\n",
            "Get:9 https://ppa.launchpadcontent.net/graphics-drivers/ppa/ubuntu jammy InRelease [24.3 kB]\n",
            "Hit:10 https://ppa.launchpadcontent.net/ubuntugis/ppa/ubuntu jammy InRelease\n",
            "Get:11 http://security.ubuntu.com/ubuntu jammy-security/main amd64 Packages [1,858 kB]\n",
            "Get:12 http://archive.ubuntu.com/ubuntu jammy-updates/universe amd64 Packages [1,377 kB]\n",
            "Get:13 http://archive.ubuntu.com/ubuntu jammy-updates/main amd64 Packages [2,129 kB]\n",
            "Get:14 https://ppa.launchpadcontent.net/graphics-drivers/ppa/ubuntu jammy/main amd64 Packages [47.6 kB]\n",
            "Get:15 http://security.ubuntu.com/ubuntu jammy-security/universe amd64 Packages [1,084 kB]\n",
            "Fetched 6,907 kB in 6s (1,225 kB/s)\n",
            "Reading package lists... Done\n"
          ]
        }
      ],
      "source": [
        "import os\n",
        "# Find the latest version of spark 3.2 from http://www.apache.org/dist/spark/ and enter as the spark version\n",
        "# For example:\n",
        "spark_version = 'spark-3.5.1'\n",
        "os.environ['SPARK_VERSION']=spark_version\n",
        "\n",
        "# Install Spark and Java\n",
        "!apt-get update\n",
        "!apt-get install openjdk-11-jdk-headless -qq > /dev/null\n",
        "!wget -q http://www.apache.org/dist/spark/$SPARK_VERSION/$SPARK_VERSION-bin-hadoop3.tgz\n",
        "!tar xf $SPARK_VERSION-bin-hadoop3.tgz\n",
        "!pip install -q findspark\n",
        "\n",
        "# Set Environment Variables\n",
        "import os\n",
        "os.environ[\"JAVA_HOME\"] = \"/usr/lib/jvm/java-11-openjdk-amd64\"\n",
        "os.environ[\"SPARK_HOME\"] = f\"/content/{spark_version}-bin-hadoop3\"\n",
        "\n",
        "# Start a SparkSession\n",
        "import findspark\n",
        "findspark.init()\n",
        "\n",
        "\n",
        "from pyspark.sql import SparkSession\n",
        "spark = SparkSession.builder.appName(\"Testing\").getOrCreate()\n"
      ]
    },
    {
      "cell_type": "code",
      "source": [
        "# Start Spark session\n",
        "from pyspark.sql import SparkSession\n",
        "from pyspark.sql.functions import col, desc, when\n",
        "spark = SparkSession.builder.appName(\"BankChurners\").getOrCreate()"
      ],
      "metadata": {
        "id": "8fd1v8X3oHlm"
      },
      "execution_count": 2,
      "outputs": []
    },
    {
      "cell_type": "code",
      "source": [
        "# Read in data from S3 Buckets\n",
        "from pyspark import SparkFiles\n",
        "url = \"https://groupfourproject.s3.ca-central-1.amazonaws.com/bank_churners.csv\"\n",
        "spark.sparkContext.addFile(url)\n",
        "df = spark.read.csv(SparkFiles.get(\"bank_churners.csv\"), header=True, sep=',', inferSchema=True)\n",
        "\n",
        "\n",
        "# Show DataFrame\n",
        "df.show()"
      ],
      "metadata": {
        "colab": {
          "base_uri": "https://localhost:8080/"
        },
        "id": "yey_-3fjn0xM",
        "outputId": "01b92f70-7337-479c-9ebd-ba164ff033c3"
      },
      "execution_count": 3,
      "outputs": [
        {
          "output_type": "stream",
          "name": "stdout",
          "text": [
            "+---------+-----------------+------------+------+---------------+---------------+--------------+---------------+-------------+--------------+------------------------+----------------------+---------------------+------------+-------------------+---------------+--------------------+---------------+--------------+-------------------+---------------------+----------------------------------------------------------------------------------------------------------------------------------+----------------------------------------------------------------------------------------------------------------------------------+\n",
            "|CLIENTNUM|   Attrition_Flag|Customer_Age|Gender|Dependent_count|Education_Level|Marital_Status|Income_Category|Card_Category|Months_on_book|Total_Relationship_Count|Months_Inactive_12_mon|Contacts_Count_12_mon|Credit_Limit|Total_Revolving_Bal|Avg_Open_To_Buy|Total_Amt_Chng_Q4_Q1|Total_Trans_Amt|Total_Trans_Ct|Total_Ct_Chng_Q4_Q1|Avg_Utilization_Ratio|Naive_Bayes_Classifier_Attrition_Flag_Card_Category_Contacts_Count_12_mon_Dependent_count_Education_Level_Months_Inactive_12_mon_1|Naive_Bayes_Classifier_Attrition_Flag_Card_Category_Contacts_Count_12_mon_Dependent_count_Education_Level_Months_Inactive_12_mon_2|\n",
            "+---------+-----------------+------------+------+---------------+---------------+--------------+---------------+-------------+--------------+------------------------+----------------------+---------------------+------------+-------------------+---------------+--------------------+---------------+--------------+-------------------+---------------------+----------------------------------------------------------------------------------------------------------------------------------+----------------------------------------------------------------------------------------------------------------------------------+\n",
            "|768805383|Existing Customer|          45|     M|              3|    High School|       Married|    $60K - $80K|         Blue|            39|                       5|                     1|                    3|     12691.0|                777|        11914.0|               1.335|           1144|            42|              1.625|                0.061|                                                                                                                         9.3448E-5|                                                                                                                           0.99991|\n",
            "|818770008|Existing Customer|          49|     F|              5|       Graduate|        Single| Less than $40K|         Blue|            44|                       6|                     1|                    2|      8256.0|                864|         7392.0|               1.541|           1291|            33|              3.714|                0.105|                                                                                                                         5.6861E-5|                                                                                                                           0.99994|\n",
            "|713982108|Existing Customer|          51|     M|              3|       Graduate|       Married|   $80K - $120K|         Blue|            36|                       4|                     1|                    0|      3418.0|                  0|         3418.0|               2.594|           1887|            20|              2.333|                  0.0|                                                                                                                         2.1081E-5|                                                                                                                           0.99998|\n",
            "|769911858|Existing Customer|          40|     F|              4|    High School|       Unknown| Less than $40K|         Blue|            34|                       3|                     4|                    1|      3313.0|               2517|          796.0|               1.405|           1171|            20|              2.333|                 0.76|                                                                                                                         1.3366E-4|                                                                                                                           0.99987|\n",
            "|709106358|Existing Customer|          40|     M|              3|     Uneducated|       Married|    $60K - $80K|         Blue|            21|                       5|                     1|                    0|      4716.0|                  0|         4716.0|               2.175|            816|            28|                2.5|                  0.0|                                                                                                                         2.1676E-5|                                                                                                                           0.99998|\n",
            "|713061558|Existing Customer|          44|     M|              2|       Graduate|       Married|    $40K - $60K|         Blue|            36|                       3|                     1|                    2|      4010.0|               1247|         2763.0|               1.376|           1088|            24|              0.846|                0.311|                                                                                                                         5.5077E-5|                                                                                                                           0.99994|\n",
            "|810347208|Existing Customer|          51|     M|              4|        Unknown|       Married|        $120K +|         Gold|            46|                       6|                     1|                    3|     34516.0|               2264|        32252.0|               1.975|           1330|            31|              0.722|                0.066|                                                                                                                         1.2303E-4|                                                                                                                           0.99988|\n",
            "|818906208|Existing Customer|          32|     M|              0|    High School|       Unknown|    $60K - $80K|       Silver|            27|                       2|                     2|                    2|     29081.0|               1396|        27685.0|               2.204|           1538|            36|              0.714|                0.048|                                                                                                                         8.5795E-5|                                                                                                                           0.99991|\n",
            "|710930508|Existing Customer|          37|     M|              3|     Uneducated|        Single|    $60K - $80K|         Blue|            36|                       5|                     2|                    0|     22352.0|               2517|        19835.0|               3.355|           1350|            24|              1.182|                0.113|                                                                                                                         4.4796E-5|                                                                                                                           0.99996|\n",
            "|719661558|Existing Customer|          48|     M|              2|       Graduate|        Single|   $80K - $120K|         Blue|            36|                       6|                     3|                    3|     11656.0|               1677|         9979.0|               1.524|           1441|            32|              0.882|                0.144|                                                                                                                         3.0251E-4|                                                                                                                            0.9997|\n",
            "|708790833|Existing Customer|          42|     M|              5|     Uneducated|       Unknown|        $120K +|         Blue|            31|                       5|                     3|                    2|      6748.0|               1467|         5281.0|               0.831|           1201|            42|               0.68|                0.217|                                                                                                                         1.9094E-4|                                                                                                                           0.99981|\n",
            "|710821833|Existing Customer|          65|     M|              1|        Unknown|       Married|    $40K - $60K|         Blue|            54|                       6|                     2|                    3|      9095.0|               1587|         7508.0|               1.433|           1314|            26|              1.364|                0.174|                                                                                                                         1.9751E-4|                                                                                                                            0.9998|\n",
            "|710599683|Existing Customer|          56|     M|              1|        College|        Single|   $80K - $120K|         Blue|            36|                       3|                     6|                    0|     11751.0|                  0|        11751.0|               3.397|           1539|            17|               3.25|                  0.0|                                                                                                                         4.7799E-5|                                                                                                                           0.99995|\n",
            "|816082233|Existing Customer|          35|     M|              3|       Graduate|       Unknown|    $60K - $80K|         Blue|            30|                       5|                     1|                    3|      8547.0|               1666|         6881.0|               1.163|           1311|            33|                2.0|                0.195|                                                                                                                         9.6126E-5|                                                                                                                            0.9999|\n",
            "|712396908|Existing Customer|          57|     F|              2|       Graduate|       Married| Less than $40K|         Blue|            48|                       5|                     2|                    2|      2436.0|                680|         1756.0|                1.19|           1570|            29|              0.611|                0.279|                                                                                                                         1.1382E-4|                                                                                                                           0.99989|\n",
            "|714885258|Existing Customer|          44|     M|              4|        Unknown|       Unknown|   $80K - $120K|         Blue|            37|                       5|                     1|                    2|      4234.0|                972|         3262.0|               1.707|           1348|            27|                1.7|                 0.23|                                                                                                                         6.3492E-5|                                                                                                                           0.99994|\n",
            "|709967358|Existing Customer|          48|     M|              4|  Post-Graduate|        Single|   $80K - $120K|         Blue|            36|                       6|                     2|                    3|     30367.0|               2362|        28005.0|               1.708|           1671|            27|              0.929|                0.078|                                                                                                                         2.3623E-4|                                                                                                                           0.99976|\n",
            "|753327333|Existing Customer|          41|     M|              3|        Unknown|       Married|   $80K - $120K|         Blue|            34|                       4|                     4|                    1|     13535.0|               1291|        12244.0|               0.653|           1028|            21|              1.625|                0.095|                                                                                                                         1.4953E-4|                                                                                                                           0.99985|\n",
            "|806160108|Existing Customer|          61|     M|              1|    High School|       Married|    $40K - $60K|         Blue|            56|                       2|                     2|                    3|      3193.0|               2517|          676.0|               1.831|           1336|            30|              1.143|                0.788|                                                                                                                         1.7468E-4|                                                                                                                           0.99983|\n",
            "|709327383|Existing Customer|          45|     F|              2|       Graduate|       Married|        Unknown|         Blue|            37|                       6|                     1|                    2|     14470.0|               1157|        13313.0|               0.966|           1207|            21|              0.909|                 0.08|                                                                                                                         5.5077E-5|                                                                                                                           0.99994|\n",
            "+---------+-----------------+------------+------+---------------+---------------+--------------+---------------+-------------+--------------+------------------------+----------------------+---------------------+------------+-------------------+---------------+--------------------+---------------+--------------+-------------------+---------------------+----------------------------------------------------------------------------------------------------------------------------------+----------------------------------------------------------------------------------------------------------------------------------+\n",
            "only showing top 20 rows\n",
            "\n"
          ]
        }
      ]
    },
    {
      "cell_type": "code",
      "source": [
        "#Showing Column Type\n",
        "df.printSchema()"
      ],
      "metadata": {
        "colab": {
          "base_uri": "https://localhost:8080/"
        },
        "id": "w0fA2MS8Naal",
        "outputId": "11e5a8b8-2290-4c28-ec4b-05d200fbbd79"
      },
      "execution_count": 4,
      "outputs": [
        {
          "output_type": "stream",
          "name": "stdout",
          "text": [
            "root\n",
            " |-- CLIENTNUM: integer (nullable = true)\n",
            " |-- Attrition_Flag: string (nullable = true)\n",
            " |-- Customer_Age: integer (nullable = true)\n",
            " |-- Gender: string (nullable = true)\n",
            " |-- Dependent_count: integer (nullable = true)\n",
            " |-- Education_Level: string (nullable = true)\n",
            " |-- Marital_Status: string (nullable = true)\n",
            " |-- Income_Category: string (nullable = true)\n",
            " |-- Card_Category: string (nullable = true)\n",
            " |-- Months_on_book: integer (nullable = true)\n",
            " |-- Total_Relationship_Count: integer (nullable = true)\n",
            " |-- Months_Inactive_12_mon: integer (nullable = true)\n",
            " |-- Contacts_Count_12_mon: integer (nullable = true)\n",
            " |-- Credit_Limit: double (nullable = true)\n",
            " |-- Total_Revolving_Bal: integer (nullable = true)\n",
            " |-- Avg_Open_To_Buy: double (nullable = true)\n",
            " |-- Total_Amt_Chng_Q4_Q1: double (nullable = true)\n",
            " |-- Total_Trans_Amt: integer (nullable = true)\n",
            " |-- Total_Trans_Ct: integer (nullable = true)\n",
            " |-- Total_Ct_Chng_Q4_Q1: double (nullable = true)\n",
            " |-- Avg_Utilization_Ratio: double (nullable = true)\n",
            " |-- Naive_Bayes_Classifier_Attrition_Flag_Card_Category_Contacts_Count_12_mon_Dependent_count_Education_Level_Months_Inactive_12_mon_1: double (nullable = true)\n",
            " |-- Naive_Bayes_Classifier_Attrition_Flag_Card_Category_Contacts_Count_12_mon_Dependent_count_Education_Level_Months_Inactive_12_mon_2: double (nullable = true)\n",
            "\n"
          ]
        }
      ]
    },
    {
      "cell_type": "code",
      "source": [
        "#Dropping duplicates within the dataframe\n",
        "df.dropDuplicates().show()"
      ],
      "metadata": {
        "id": "WLKWXrRongRV",
        "colab": {
          "base_uri": "https://localhost:8080/"
        },
        "outputId": "5ef511b0-5e9c-4e6e-ea35-ca167db183db"
      },
      "execution_count": 5,
      "outputs": [
        {
          "output_type": "stream",
          "name": "stdout",
          "text": [
            "+---------+-----------------+------------+------+---------------+---------------+--------------+---------------+-------------+--------------+------------------------+----------------------+---------------------+------------+-------------------+---------------+--------------------+---------------+--------------+-------------------+---------------------+----------------------------------------------------------------------------------------------------------------------------------+----------------------------------------------------------------------------------------------------------------------------------+\n",
            "|CLIENTNUM|   Attrition_Flag|Customer_Age|Gender|Dependent_count|Education_Level|Marital_Status|Income_Category|Card_Category|Months_on_book|Total_Relationship_Count|Months_Inactive_12_mon|Contacts_Count_12_mon|Credit_Limit|Total_Revolving_Bal|Avg_Open_To_Buy|Total_Amt_Chng_Q4_Q1|Total_Trans_Amt|Total_Trans_Ct|Total_Ct_Chng_Q4_Q1|Avg_Utilization_Ratio|Naive_Bayes_Classifier_Attrition_Flag_Card_Category_Contacts_Count_12_mon_Dependent_count_Education_Level_Months_Inactive_12_mon_1|Naive_Bayes_Classifier_Attrition_Flag_Card_Category_Contacts_Count_12_mon_Dependent_count_Education_Level_Months_Inactive_12_mon_2|\n",
            "+---------+-----------------+------------+------+---------------+---------------+--------------+---------------+-------------+--------------+------------------------+----------------------+---------------------+------------+-------------------+---------------+--------------------+---------------+--------------+-------------------+---------------------+----------------------------------------------------------------------------------------------------------------------------------+----------------------------------------------------------------------------------------------------------------------------------+\n",
            "|789124683|Existing Customer|          54|     M|              2|        Unknown|       Married|   $80K - $120K|         Blue|            42|                       4|                     2|                    3|     12217.0|                  0|        12217.0|               1.075|           1110|            21|               0.75|                  0.0|                                                                                                                         2.1042E-4|                                                                                                                           0.99979|\n",
            "|717296808|Existing Customer|          67|     F|              1|       Graduate|       Married| Less than $40K|         Blue|            56|                       4|                     3|                    2|      3006.0|               2517|          489.0|               2.053|           1661|            32|                1.0|                0.837|                                                                                                                         1.6883E-4|                                                                                                                           0.99983|\n",
            "|711551958|Attrited Customer|          59|     M|              2|  Post-Graduate|       Married|    $60K - $80K|         Blue|            46|                       3|                     3|                    3|      1438.3|                  0|         1438.3|               0.688|            844|            24|                0.5|                  0.0|                                                                                                                            0.9972|                                                                                                                        0.00280059|\n",
            "|713441958|Existing Customer|          46|     M|              2|    High School|       Married|        $120K +|         Blue|            36|                       5|                     3|                    2|     19727.0|               1785|        17942.0|               0.572|           1245|            25|              0.786|                 0.09|                                                                                                                         1.7486E-4|                                                                                                                           0.99983|\n",
            "|789513858|Attrited Customer|          43|     M|              3|        Unknown|       Married|    $40K - $60K|         Blue|            35|                       2|                     2|                    3|      1438.3|                  0|         1438.3|               0.694|            891|            28|                0.4|                  0.0|                                                                                                                           0.99544|                                                                                                                        0.00455805|\n",
            "|720680058|Existing Customer|          47|     M|              2|  Post-Graduate|       Married| Less than $40K|         Blue|            36|                       6|                     1|                    3|      3888.0|               1663|         2225.0|               0.664|           1145|            37|              0.423|                0.428|                                                                                                                           1.09E-4|                                                                                                                           0.99989|\n",
            "|802817358|Existing Customer|          38|     F|              3|    High School|       Married|        Unknown|         Blue|            32|                       4|                     2|                    1|     11594.0|               2072|         9522.0|               0.983|           2320|            51|              0.594|                0.179|                                                                                                                         6.9242E-5|                                                                                                                           0.99993|\n",
            "|801369258|Existing Customer|          47|     F|              5|  Post-Graduate|       Married|    $40K - $60K|         Blue|            41|                       6|                     2|                    2|      4466.0|                777|         3689.0|                1.02|           1757|            59|              0.595|                0.174|                                                                                                                         1.3827E-4|                                                                                                                           0.99986|\n",
            "|770882508|Existing Customer|          38|     M|              2|        College|       Married|   $80K - $120K|         Blue|            24|                       4|                     1|                    5|     17162.0|                773|        16389.0|               1.238|           2457|            54|                1.0|                0.045|                                                                                                                         2.6586E-4|                                                                                                                           0.99973|\n",
            "|709334658|Existing Customer|          39|     F|              2|     Uneducated|       Married| Less than $40K|         Blue|            26|                       4|                     2|                    5|      5484.0|               2517|         2967.0|               0.489|           2025|            51|              0.378|                0.459|                                                                                                                         5.8091E-4|                                                                                                                           0.99942|\n",
            "|710540883|Existing Customer|          37|     M|              3|    High School|        Single|   $80K - $120K|         Blue|            24|                       5|                     3|                    2|      6590.0|                  0|         6590.0|               0.714|           2449|            67|              0.634|                  0.0|                                                                                                                         1.8145E-4|                                                                                                                           0.99982|\n",
            "|713426358|Existing Customer|          28|     F|              0|        College|       Married|        Unknown|         Blue|            36|                       3|                     2|                    3|      5685.0|                  0|         5685.0|               1.334|           2395|            62|                1.0|                  0.0|                                                                                                                         1.5971E-4|                                                                                                                           0.99984|\n",
            "|770937183|Existing Customer|          40|     F|              4|       Graduate|        Single| Less than $40K|       Silver|            27|                       3|                     1|                    2|     10745.0|               2084|         8661.0|               0.847|           3502|            87|              0.933|                0.194|                                                                                                                         5.2192E-5|                                                                                                                           0.99995|\n",
            "|789430083|Existing Customer|          41|     F|              5|    High School|        Single|    $40K - $60K|         Blue|            32|                       6|                     1|                    2|     14987.0|               1425|        13562.0|                 0.8|           4470|            83|              0.844|                0.095|                                                                                                                         5.5277E-5|                                                                                                                           0.99994|\n",
            "|827476983|Attrited Customer|          56|     F|              2|        College|        Single| Less than $40K|         Blue|            52|                       3|                     5|                    1|      3639.0|               2178|         1461.0|               0.451|           1865|            42|                0.5|                0.599|                                                                                                                           0.99158|                                                                                                                           0.00842|\n",
            "|816261858|Attrited Customer|          61|     M|              0|       Graduate|        Single|    $40K - $60K|         Blue|            56|                       2|                     5|                    4|      3984.0|               2245|         1739.0|               0.612|           1821|            39|              0.696|                0.564|                                                                                                                           0.99798|                                                                                                                        0.00201684|\n",
            "|716714733|Existing Customer|          41|     M|              3|       Graduate|        Single|   $80K - $120K|         Blue|            30|                       3|                     2|                    0|      3460.0|                955|         2505.0|               0.644|           3642|            69|              0.769|                0.276|                                                                                                                         4.3568E-5|                                                                                                                           0.99996|\n",
            "|785529708|Existing Customer|          59|     M|              1|       Graduate|        Single|        $120K +|         Blue|            53|                       6|                     2|                    2|     34516.0|                  0|        34516.0|               0.711|           4333|            70|              0.628|                  0.0|                                                                                                                         1.0684E-4|                                                                                                                           0.99989|\n",
            "|771790083|Existing Customer|          43|     F|              3|        Unknown|       Married| Less than $40K|       Silver|            32|                       4|                     3|                    2|     10466.0|               2080|         8386.0|               0.648|           4116|            64|              0.684|                0.199|                                                                                                                         1.8538E-4|                                                                                                                           0.99981|\n",
            "|720519333|Attrited Customer|          59|     F|              2|        Unknown|        Single|        Unknown|         Blue|            45|                       1|                     3|                    3|      2721.0|               1885|          836.0|               0.853|           2594|            48|              0.455|                0.693|                                                                                                                             0.997|                                                                                                                        0.00299743|\n",
            "+---------+-----------------+------------+------+---------------+---------------+--------------+---------------+-------------+--------------+------------------------+----------------------+---------------------+------------+-------------------+---------------+--------------------+---------------+--------------+-------------------+---------------------+----------------------------------------------------------------------------------------------------------------------------------+----------------------------------------------------------------------------------------------------------------------------------+\n",
            "only showing top 20 rows\n",
            "\n"
          ]
        }
      ]
    },
    {
      "cell_type": "code",
      "source": [
        "#Drooping NA in the dataframe\n",
        "df.na.drop(how='all').show()"
      ],
      "metadata": {
        "id": "FPpPNFzNngLZ",
        "colab": {
          "base_uri": "https://localhost:8080/"
        },
        "outputId": "5bc37072-bcf4-4977-c95e-bdcd7313910c"
      },
      "execution_count": 6,
      "outputs": [
        {
          "output_type": "stream",
          "name": "stdout",
          "text": [
            "+---------+-----------------+------------+------+---------------+---------------+--------------+---------------+-------------+--------------+------------------------+----------------------+---------------------+------------+-------------------+---------------+--------------------+---------------+--------------+-------------------+---------------------+----------------------------------------------------------------------------------------------------------------------------------+----------------------------------------------------------------------------------------------------------------------------------+\n",
            "|CLIENTNUM|   Attrition_Flag|Customer_Age|Gender|Dependent_count|Education_Level|Marital_Status|Income_Category|Card_Category|Months_on_book|Total_Relationship_Count|Months_Inactive_12_mon|Contacts_Count_12_mon|Credit_Limit|Total_Revolving_Bal|Avg_Open_To_Buy|Total_Amt_Chng_Q4_Q1|Total_Trans_Amt|Total_Trans_Ct|Total_Ct_Chng_Q4_Q1|Avg_Utilization_Ratio|Naive_Bayes_Classifier_Attrition_Flag_Card_Category_Contacts_Count_12_mon_Dependent_count_Education_Level_Months_Inactive_12_mon_1|Naive_Bayes_Classifier_Attrition_Flag_Card_Category_Contacts_Count_12_mon_Dependent_count_Education_Level_Months_Inactive_12_mon_2|\n",
            "+---------+-----------------+------------+------+---------------+---------------+--------------+---------------+-------------+--------------+------------------------+----------------------+---------------------+------------+-------------------+---------------+--------------------+---------------+--------------+-------------------+---------------------+----------------------------------------------------------------------------------------------------------------------------------+----------------------------------------------------------------------------------------------------------------------------------+\n",
            "|768805383|Existing Customer|          45|     M|              3|    High School|       Married|    $60K - $80K|         Blue|            39|                       5|                     1|                    3|     12691.0|                777|        11914.0|               1.335|           1144|            42|              1.625|                0.061|                                                                                                                         9.3448E-5|                                                                                                                           0.99991|\n",
            "|818770008|Existing Customer|          49|     F|              5|       Graduate|        Single| Less than $40K|         Blue|            44|                       6|                     1|                    2|      8256.0|                864|         7392.0|               1.541|           1291|            33|              3.714|                0.105|                                                                                                                         5.6861E-5|                                                                                                                           0.99994|\n",
            "|713982108|Existing Customer|          51|     M|              3|       Graduate|       Married|   $80K - $120K|         Blue|            36|                       4|                     1|                    0|      3418.0|                  0|         3418.0|               2.594|           1887|            20|              2.333|                  0.0|                                                                                                                         2.1081E-5|                                                                                                                           0.99998|\n",
            "|769911858|Existing Customer|          40|     F|              4|    High School|       Unknown| Less than $40K|         Blue|            34|                       3|                     4|                    1|      3313.0|               2517|          796.0|               1.405|           1171|            20|              2.333|                 0.76|                                                                                                                         1.3366E-4|                                                                                                                           0.99987|\n",
            "|709106358|Existing Customer|          40|     M|              3|     Uneducated|       Married|    $60K - $80K|         Blue|            21|                       5|                     1|                    0|      4716.0|                  0|         4716.0|               2.175|            816|            28|                2.5|                  0.0|                                                                                                                         2.1676E-5|                                                                                                                           0.99998|\n",
            "|713061558|Existing Customer|          44|     M|              2|       Graduate|       Married|    $40K - $60K|         Blue|            36|                       3|                     1|                    2|      4010.0|               1247|         2763.0|               1.376|           1088|            24|              0.846|                0.311|                                                                                                                         5.5077E-5|                                                                                                                           0.99994|\n",
            "|810347208|Existing Customer|          51|     M|              4|        Unknown|       Married|        $120K +|         Gold|            46|                       6|                     1|                    3|     34516.0|               2264|        32252.0|               1.975|           1330|            31|              0.722|                0.066|                                                                                                                         1.2303E-4|                                                                                                                           0.99988|\n",
            "|818906208|Existing Customer|          32|     M|              0|    High School|       Unknown|    $60K - $80K|       Silver|            27|                       2|                     2|                    2|     29081.0|               1396|        27685.0|               2.204|           1538|            36|              0.714|                0.048|                                                                                                                         8.5795E-5|                                                                                                                           0.99991|\n",
            "|710930508|Existing Customer|          37|     M|              3|     Uneducated|        Single|    $60K - $80K|         Blue|            36|                       5|                     2|                    0|     22352.0|               2517|        19835.0|               3.355|           1350|            24|              1.182|                0.113|                                                                                                                         4.4796E-5|                                                                                                                           0.99996|\n",
            "|719661558|Existing Customer|          48|     M|              2|       Graduate|        Single|   $80K - $120K|         Blue|            36|                       6|                     3|                    3|     11656.0|               1677|         9979.0|               1.524|           1441|            32|              0.882|                0.144|                                                                                                                         3.0251E-4|                                                                                                                            0.9997|\n",
            "|708790833|Existing Customer|          42|     M|              5|     Uneducated|       Unknown|        $120K +|         Blue|            31|                       5|                     3|                    2|      6748.0|               1467|         5281.0|               0.831|           1201|            42|               0.68|                0.217|                                                                                                                         1.9094E-4|                                                                                                                           0.99981|\n",
            "|710821833|Existing Customer|          65|     M|              1|        Unknown|       Married|    $40K - $60K|         Blue|            54|                       6|                     2|                    3|      9095.0|               1587|         7508.0|               1.433|           1314|            26|              1.364|                0.174|                                                                                                                         1.9751E-4|                                                                                                                            0.9998|\n",
            "|710599683|Existing Customer|          56|     M|              1|        College|        Single|   $80K - $120K|         Blue|            36|                       3|                     6|                    0|     11751.0|                  0|        11751.0|               3.397|           1539|            17|               3.25|                  0.0|                                                                                                                         4.7799E-5|                                                                                                                           0.99995|\n",
            "|816082233|Existing Customer|          35|     M|              3|       Graduate|       Unknown|    $60K - $80K|         Blue|            30|                       5|                     1|                    3|      8547.0|               1666|         6881.0|               1.163|           1311|            33|                2.0|                0.195|                                                                                                                         9.6126E-5|                                                                                                                            0.9999|\n",
            "|712396908|Existing Customer|          57|     F|              2|       Graduate|       Married| Less than $40K|         Blue|            48|                       5|                     2|                    2|      2436.0|                680|         1756.0|                1.19|           1570|            29|              0.611|                0.279|                                                                                                                         1.1382E-4|                                                                                                                           0.99989|\n",
            "|714885258|Existing Customer|          44|     M|              4|        Unknown|       Unknown|   $80K - $120K|         Blue|            37|                       5|                     1|                    2|      4234.0|                972|         3262.0|               1.707|           1348|            27|                1.7|                 0.23|                                                                                                                         6.3492E-5|                                                                                                                           0.99994|\n",
            "|709967358|Existing Customer|          48|     M|              4|  Post-Graduate|        Single|   $80K - $120K|         Blue|            36|                       6|                     2|                    3|     30367.0|               2362|        28005.0|               1.708|           1671|            27|              0.929|                0.078|                                                                                                                         2.3623E-4|                                                                                                                           0.99976|\n",
            "|753327333|Existing Customer|          41|     M|              3|        Unknown|       Married|   $80K - $120K|         Blue|            34|                       4|                     4|                    1|     13535.0|               1291|        12244.0|               0.653|           1028|            21|              1.625|                0.095|                                                                                                                         1.4953E-4|                                                                                                                           0.99985|\n",
            "|806160108|Existing Customer|          61|     M|              1|    High School|       Married|    $40K - $60K|         Blue|            56|                       2|                     2|                    3|      3193.0|               2517|          676.0|               1.831|           1336|            30|              1.143|                0.788|                                                                                                                         1.7468E-4|                                                                                                                           0.99983|\n",
            "|709327383|Existing Customer|          45|     F|              2|       Graduate|       Married|        Unknown|         Blue|            37|                       6|                     1|                    2|     14470.0|               1157|        13313.0|               0.966|           1207|            21|              0.909|                 0.08|                                                                                                                         5.5077E-5|                                                                                                                           0.99994|\n",
            "+---------+-----------------+------------+------+---------------+---------------+--------------+---------------+-------------+--------------+------------------------+----------------------+---------------------+------------+-------------------+---------------+--------------------+---------------+--------------+-------------------+---------------------+----------------------------------------------------------------------------------------------------------------------------------+----------------------------------------------------------------------------------------------------------------------------------+\n",
            "only showing top 20 rows\n",
            "\n"
          ]
        }
      ]
    },
    {
      "cell_type": "code",
      "source": [
        "#Showing the head of the dataframe\n",
        "df.show(10)\n",
        "\n",
        "#Displaying the tail of the dataframe\n",
        "df.tail(10)\n",
        "df.show()"
      ],
      "metadata": {
        "id": "FjxZlGoUngCU",
        "colab": {
          "base_uri": "https://localhost:8080/"
        },
        "outputId": "beda94fe-80bc-428f-d743-03f092d24702"
      },
      "execution_count": 7,
      "outputs": [
        {
          "output_type": "stream",
          "name": "stdout",
          "text": [
            "+---------+-----------------+------------+------+---------------+---------------+--------------+---------------+-------------+--------------+------------------------+----------------------+---------------------+------------+-------------------+---------------+--------------------+---------------+--------------+-------------------+---------------------+----------------------------------------------------------------------------------------------------------------------------------+----------------------------------------------------------------------------------------------------------------------------------+\n",
            "|CLIENTNUM|   Attrition_Flag|Customer_Age|Gender|Dependent_count|Education_Level|Marital_Status|Income_Category|Card_Category|Months_on_book|Total_Relationship_Count|Months_Inactive_12_mon|Contacts_Count_12_mon|Credit_Limit|Total_Revolving_Bal|Avg_Open_To_Buy|Total_Amt_Chng_Q4_Q1|Total_Trans_Amt|Total_Trans_Ct|Total_Ct_Chng_Q4_Q1|Avg_Utilization_Ratio|Naive_Bayes_Classifier_Attrition_Flag_Card_Category_Contacts_Count_12_mon_Dependent_count_Education_Level_Months_Inactive_12_mon_1|Naive_Bayes_Classifier_Attrition_Flag_Card_Category_Contacts_Count_12_mon_Dependent_count_Education_Level_Months_Inactive_12_mon_2|\n",
            "+---------+-----------------+------------+------+---------------+---------------+--------------+---------------+-------------+--------------+------------------------+----------------------+---------------------+------------+-------------------+---------------+--------------------+---------------+--------------+-------------------+---------------------+----------------------------------------------------------------------------------------------------------------------------------+----------------------------------------------------------------------------------------------------------------------------------+\n",
            "|768805383|Existing Customer|          45|     M|              3|    High School|       Married|    $60K - $80K|         Blue|            39|                       5|                     1|                    3|     12691.0|                777|        11914.0|               1.335|           1144|            42|              1.625|                0.061|                                                                                                                         9.3448E-5|                                                                                                                           0.99991|\n",
            "|818770008|Existing Customer|          49|     F|              5|       Graduate|        Single| Less than $40K|         Blue|            44|                       6|                     1|                    2|      8256.0|                864|         7392.0|               1.541|           1291|            33|              3.714|                0.105|                                                                                                                         5.6861E-5|                                                                                                                           0.99994|\n",
            "|713982108|Existing Customer|          51|     M|              3|       Graduate|       Married|   $80K - $120K|         Blue|            36|                       4|                     1|                    0|      3418.0|                  0|         3418.0|               2.594|           1887|            20|              2.333|                  0.0|                                                                                                                         2.1081E-5|                                                                                                                           0.99998|\n",
            "|769911858|Existing Customer|          40|     F|              4|    High School|       Unknown| Less than $40K|         Blue|            34|                       3|                     4|                    1|      3313.0|               2517|          796.0|               1.405|           1171|            20|              2.333|                 0.76|                                                                                                                         1.3366E-4|                                                                                                                           0.99987|\n",
            "|709106358|Existing Customer|          40|     M|              3|     Uneducated|       Married|    $60K - $80K|         Blue|            21|                       5|                     1|                    0|      4716.0|                  0|         4716.0|               2.175|            816|            28|                2.5|                  0.0|                                                                                                                         2.1676E-5|                                                                                                                           0.99998|\n",
            "|713061558|Existing Customer|          44|     M|              2|       Graduate|       Married|    $40K - $60K|         Blue|            36|                       3|                     1|                    2|      4010.0|               1247|         2763.0|               1.376|           1088|            24|              0.846|                0.311|                                                                                                                         5.5077E-5|                                                                                                                           0.99994|\n",
            "|810347208|Existing Customer|          51|     M|              4|        Unknown|       Married|        $120K +|         Gold|            46|                       6|                     1|                    3|     34516.0|               2264|        32252.0|               1.975|           1330|            31|              0.722|                0.066|                                                                                                                         1.2303E-4|                                                                                                                           0.99988|\n",
            "|818906208|Existing Customer|          32|     M|              0|    High School|       Unknown|    $60K - $80K|       Silver|            27|                       2|                     2|                    2|     29081.0|               1396|        27685.0|               2.204|           1538|            36|              0.714|                0.048|                                                                                                                         8.5795E-5|                                                                                                                           0.99991|\n",
            "|710930508|Existing Customer|          37|     M|              3|     Uneducated|        Single|    $60K - $80K|         Blue|            36|                       5|                     2|                    0|     22352.0|               2517|        19835.0|               3.355|           1350|            24|              1.182|                0.113|                                                                                                                         4.4796E-5|                                                                                                                           0.99996|\n",
            "|719661558|Existing Customer|          48|     M|              2|       Graduate|        Single|   $80K - $120K|         Blue|            36|                       6|                     3|                    3|     11656.0|               1677|         9979.0|               1.524|           1441|            32|              0.882|                0.144|                                                                                                                         3.0251E-4|                                                                                                                            0.9997|\n",
            "+---------+-----------------+------------+------+---------------+---------------+--------------+---------------+-------------+--------------+------------------------+----------------------+---------------------+------------+-------------------+---------------+--------------------+---------------+--------------+-------------------+---------------------+----------------------------------------------------------------------------------------------------------------------------------+----------------------------------------------------------------------------------------------------------------------------------+\n",
            "only showing top 10 rows\n",
            "\n",
            "+---------+-----------------+------------+------+---------------+---------------+--------------+---------------+-------------+--------------+------------------------+----------------------+---------------------+------------+-------------------+---------------+--------------------+---------------+--------------+-------------------+---------------------+----------------------------------------------------------------------------------------------------------------------------------+----------------------------------------------------------------------------------------------------------------------------------+\n",
            "|CLIENTNUM|   Attrition_Flag|Customer_Age|Gender|Dependent_count|Education_Level|Marital_Status|Income_Category|Card_Category|Months_on_book|Total_Relationship_Count|Months_Inactive_12_mon|Contacts_Count_12_mon|Credit_Limit|Total_Revolving_Bal|Avg_Open_To_Buy|Total_Amt_Chng_Q4_Q1|Total_Trans_Amt|Total_Trans_Ct|Total_Ct_Chng_Q4_Q1|Avg_Utilization_Ratio|Naive_Bayes_Classifier_Attrition_Flag_Card_Category_Contacts_Count_12_mon_Dependent_count_Education_Level_Months_Inactive_12_mon_1|Naive_Bayes_Classifier_Attrition_Flag_Card_Category_Contacts_Count_12_mon_Dependent_count_Education_Level_Months_Inactive_12_mon_2|\n",
            "+---------+-----------------+------------+------+---------------+---------------+--------------+---------------+-------------+--------------+------------------------+----------------------+---------------------+------------+-------------------+---------------+--------------------+---------------+--------------+-------------------+---------------------+----------------------------------------------------------------------------------------------------------------------------------+----------------------------------------------------------------------------------------------------------------------------------+\n",
            "|768805383|Existing Customer|          45|     M|              3|    High School|       Married|    $60K - $80K|         Blue|            39|                       5|                     1|                    3|     12691.0|                777|        11914.0|               1.335|           1144|            42|              1.625|                0.061|                                                                                                                         9.3448E-5|                                                                                                                           0.99991|\n",
            "|818770008|Existing Customer|          49|     F|              5|       Graduate|        Single| Less than $40K|         Blue|            44|                       6|                     1|                    2|      8256.0|                864|         7392.0|               1.541|           1291|            33|              3.714|                0.105|                                                                                                                         5.6861E-5|                                                                                                                           0.99994|\n",
            "|713982108|Existing Customer|          51|     M|              3|       Graduate|       Married|   $80K - $120K|         Blue|            36|                       4|                     1|                    0|      3418.0|                  0|         3418.0|               2.594|           1887|            20|              2.333|                  0.0|                                                                                                                         2.1081E-5|                                                                                                                           0.99998|\n",
            "|769911858|Existing Customer|          40|     F|              4|    High School|       Unknown| Less than $40K|         Blue|            34|                       3|                     4|                    1|      3313.0|               2517|          796.0|               1.405|           1171|            20|              2.333|                 0.76|                                                                                                                         1.3366E-4|                                                                                                                           0.99987|\n",
            "|709106358|Existing Customer|          40|     M|              3|     Uneducated|       Married|    $60K - $80K|         Blue|            21|                       5|                     1|                    0|      4716.0|                  0|         4716.0|               2.175|            816|            28|                2.5|                  0.0|                                                                                                                         2.1676E-5|                                                                                                                           0.99998|\n",
            "|713061558|Existing Customer|          44|     M|              2|       Graduate|       Married|    $40K - $60K|         Blue|            36|                       3|                     1|                    2|      4010.0|               1247|         2763.0|               1.376|           1088|            24|              0.846|                0.311|                                                                                                                         5.5077E-5|                                                                                                                           0.99994|\n",
            "|810347208|Existing Customer|          51|     M|              4|        Unknown|       Married|        $120K +|         Gold|            46|                       6|                     1|                    3|     34516.0|               2264|        32252.0|               1.975|           1330|            31|              0.722|                0.066|                                                                                                                         1.2303E-4|                                                                                                                           0.99988|\n",
            "|818906208|Existing Customer|          32|     M|              0|    High School|       Unknown|    $60K - $80K|       Silver|            27|                       2|                     2|                    2|     29081.0|               1396|        27685.0|               2.204|           1538|            36|              0.714|                0.048|                                                                                                                         8.5795E-5|                                                                                                                           0.99991|\n",
            "|710930508|Existing Customer|          37|     M|              3|     Uneducated|        Single|    $60K - $80K|         Blue|            36|                       5|                     2|                    0|     22352.0|               2517|        19835.0|               3.355|           1350|            24|              1.182|                0.113|                                                                                                                         4.4796E-5|                                                                                                                           0.99996|\n",
            "|719661558|Existing Customer|          48|     M|              2|       Graduate|        Single|   $80K - $120K|         Blue|            36|                       6|                     3|                    3|     11656.0|               1677|         9979.0|               1.524|           1441|            32|              0.882|                0.144|                                                                                                                         3.0251E-4|                                                                                                                            0.9997|\n",
            "|708790833|Existing Customer|          42|     M|              5|     Uneducated|       Unknown|        $120K +|         Blue|            31|                       5|                     3|                    2|      6748.0|               1467|         5281.0|               0.831|           1201|            42|               0.68|                0.217|                                                                                                                         1.9094E-4|                                                                                                                           0.99981|\n",
            "|710821833|Existing Customer|          65|     M|              1|        Unknown|       Married|    $40K - $60K|         Blue|            54|                       6|                     2|                    3|      9095.0|               1587|         7508.0|               1.433|           1314|            26|              1.364|                0.174|                                                                                                                         1.9751E-4|                                                                                                                            0.9998|\n",
            "|710599683|Existing Customer|          56|     M|              1|        College|        Single|   $80K - $120K|         Blue|            36|                       3|                     6|                    0|     11751.0|                  0|        11751.0|               3.397|           1539|            17|               3.25|                  0.0|                                                                                                                         4.7799E-5|                                                                                                                           0.99995|\n",
            "|816082233|Existing Customer|          35|     M|              3|       Graduate|       Unknown|    $60K - $80K|         Blue|            30|                       5|                     1|                    3|      8547.0|               1666|         6881.0|               1.163|           1311|            33|                2.0|                0.195|                                                                                                                         9.6126E-5|                                                                                                                            0.9999|\n",
            "|712396908|Existing Customer|          57|     F|              2|       Graduate|       Married| Less than $40K|         Blue|            48|                       5|                     2|                    2|      2436.0|                680|         1756.0|                1.19|           1570|            29|              0.611|                0.279|                                                                                                                         1.1382E-4|                                                                                                                           0.99989|\n",
            "|714885258|Existing Customer|          44|     M|              4|        Unknown|       Unknown|   $80K - $120K|         Blue|            37|                       5|                     1|                    2|      4234.0|                972|         3262.0|               1.707|           1348|            27|                1.7|                 0.23|                                                                                                                         6.3492E-5|                                                                                                                           0.99994|\n",
            "|709967358|Existing Customer|          48|     M|              4|  Post-Graduate|        Single|   $80K - $120K|         Blue|            36|                       6|                     2|                    3|     30367.0|               2362|        28005.0|               1.708|           1671|            27|              0.929|                0.078|                                                                                                                         2.3623E-4|                                                                                                                           0.99976|\n",
            "|753327333|Existing Customer|          41|     M|              3|        Unknown|       Married|   $80K - $120K|         Blue|            34|                       4|                     4|                    1|     13535.0|               1291|        12244.0|               0.653|           1028|            21|              1.625|                0.095|                                                                                                                         1.4953E-4|                                                                                                                           0.99985|\n",
            "|806160108|Existing Customer|          61|     M|              1|    High School|       Married|    $40K - $60K|         Blue|            56|                       2|                     2|                    3|      3193.0|               2517|          676.0|               1.831|           1336|            30|              1.143|                0.788|                                                                                                                         1.7468E-4|                                                                                                                           0.99983|\n",
            "|709327383|Existing Customer|          45|     F|              2|       Graduate|       Married|        Unknown|         Blue|            37|                       6|                     1|                    2|     14470.0|               1157|        13313.0|               0.966|           1207|            21|              0.909|                 0.08|                                                                                                                         5.5077E-5|                                                                                                                           0.99994|\n",
            "+---------+-----------------+------------+------+---------------+---------------+--------------+---------------+-------------+--------------+------------------------+----------------------+---------------------+------------+-------------------+---------------+--------------------+---------------+--------------+-------------------+---------------------+----------------------------------------------------------------------------------------------------------------------------------+----------------------------------------------------------------------------------------------------------------------------------+\n",
            "only showing top 20 rows\n",
            "\n"
          ]
        }
      ]
    },
    {
      "cell_type": "code",
      "source": [
        "credit_df= df.drop('CLIENTNUM', 'Customer_Age', 'Marital_Status',\n",
        "'Naive_Bayes_Classifier_Attrition_Flag_Card_Category_Contacts_Count_12_mon_Dependent_count_Education_Level_Months_Inactive_12_mon_1',\n",
        "'Naive_Bayes_Classifier_Attrition_Flag_Card_Category_Contacts_Count_12_mon_Dependent_count_Education_Level_Months_Inactive_12_mon_2',\n",
        "'Naive_Bayes_Classifier_Attrition_Flag_Card_Category_Contacts_Count_12_mon_Dependent_count_Education_Level_Months_Inactive_12_mon_1')\n",
        "\n",
        "credit_df.show()"
      ],
      "metadata": {
        "colab": {
          "base_uri": "https://localhost:8080/"
        },
        "id": "uUYaFCf_G6YV",
        "outputId": "fb0eb06a-e830-4ced-d715-1d692aa8c4dd"
      },
      "execution_count": 76,
      "outputs": [
        {
          "output_type": "stream",
          "name": "stdout",
          "text": [
            "+-----------------+------+---------------+---------------+---------------+-------------+--------------+------------------------+----------------------+---------------------+------------+-------------------+---------------+--------------------+---------------+--------------+-------------------+---------------------+\n",
            "|   Attrition_Flag|Gender|Dependent_count|Education_Level|Income_Category|Card_Category|Months_on_book|Total_Relationship_Count|Months_Inactive_12_mon|Contacts_Count_12_mon|Credit_Limit|Total_Revolving_Bal|Avg_Open_To_Buy|Total_Amt_Chng_Q4_Q1|Total_Trans_Amt|Total_Trans_Ct|Total_Ct_Chng_Q4_Q1|Avg_Utilization_Ratio|\n",
            "+-----------------+------+---------------+---------------+---------------+-------------+--------------+------------------------+----------------------+---------------------+------------+-------------------+---------------+--------------------+---------------+--------------+-------------------+---------------------+\n",
            "|Existing Customer|     M|              3|    High School|    $60K - $80K|         Blue|            39|                       5|                     1|                    3|     12691.0|                777|        11914.0|               1.335|           1144|            42|              1.625|                0.061|\n",
            "|Existing Customer|     F|              5|       Graduate| Less than $40K|         Blue|            44|                       6|                     1|                    2|      8256.0|                864|         7392.0|               1.541|           1291|            33|              3.714|                0.105|\n",
            "|Existing Customer|     M|              3|       Graduate|   $80K - $120K|         Blue|            36|                       4|                     1|                    0|      3418.0|                  0|         3418.0|               2.594|           1887|            20|              2.333|                  0.0|\n",
            "|Existing Customer|     F|              4|    High School| Less than $40K|         Blue|            34|                       3|                     4|                    1|      3313.0|               2517|          796.0|               1.405|           1171|            20|              2.333|                 0.76|\n",
            "|Existing Customer|     M|              3|     Uneducated|    $60K - $80K|         Blue|            21|                       5|                     1|                    0|      4716.0|                  0|         4716.0|               2.175|            816|            28|                2.5|                  0.0|\n",
            "|Existing Customer|     M|              2|       Graduate|    $40K - $60K|         Blue|            36|                       3|                     1|                    2|      4010.0|               1247|         2763.0|               1.376|           1088|            24|              0.846|                0.311|\n",
            "|Existing Customer|     M|              4|        Unknown|        $120K +|         Gold|            46|                       6|                     1|                    3|     34516.0|               2264|        32252.0|               1.975|           1330|            31|              0.722|                0.066|\n",
            "|Existing Customer|     M|              0|    High School|    $60K - $80K|       Silver|            27|                       2|                     2|                    2|     29081.0|               1396|        27685.0|               2.204|           1538|            36|              0.714|                0.048|\n",
            "|Existing Customer|     M|              3|     Uneducated|    $60K - $80K|         Blue|            36|                       5|                     2|                    0|     22352.0|               2517|        19835.0|               3.355|           1350|            24|              1.182|                0.113|\n",
            "|Existing Customer|     M|              2|       Graduate|   $80K - $120K|         Blue|            36|                       6|                     3|                    3|     11656.0|               1677|         9979.0|               1.524|           1441|            32|              0.882|                0.144|\n",
            "|Existing Customer|     M|              5|     Uneducated|        $120K +|         Blue|            31|                       5|                     3|                    2|      6748.0|               1467|         5281.0|               0.831|           1201|            42|               0.68|                0.217|\n",
            "|Existing Customer|     M|              1|        Unknown|    $40K - $60K|         Blue|            54|                       6|                     2|                    3|      9095.0|               1587|         7508.0|               1.433|           1314|            26|              1.364|                0.174|\n",
            "|Existing Customer|     M|              1|        College|   $80K - $120K|         Blue|            36|                       3|                     6|                    0|     11751.0|                  0|        11751.0|               3.397|           1539|            17|               3.25|                  0.0|\n",
            "|Existing Customer|     M|              3|       Graduate|    $60K - $80K|         Blue|            30|                       5|                     1|                    3|      8547.0|               1666|         6881.0|               1.163|           1311|            33|                2.0|                0.195|\n",
            "|Existing Customer|     F|              2|       Graduate| Less than $40K|         Blue|            48|                       5|                     2|                    2|      2436.0|                680|         1756.0|                1.19|           1570|            29|              0.611|                0.279|\n",
            "|Existing Customer|     M|              4|        Unknown|   $80K - $120K|         Blue|            37|                       5|                     1|                    2|      4234.0|                972|         3262.0|               1.707|           1348|            27|                1.7|                 0.23|\n",
            "|Existing Customer|     M|              4|  Post-Graduate|   $80K - $120K|         Blue|            36|                       6|                     2|                    3|     30367.0|               2362|        28005.0|               1.708|           1671|            27|              0.929|                0.078|\n",
            "|Existing Customer|     M|              3|        Unknown|   $80K - $120K|         Blue|            34|                       4|                     4|                    1|     13535.0|               1291|        12244.0|               0.653|           1028|            21|              1.625|                0.095|\n",
            "|Existing Customer|     M|              1|    High School|    $40K - $60K|         Blue|            56|                       2|                     2|                    3|      3193.0|               2517|          676.0|               1.831|           1336|            30|              1.143|                0.788|\n",
            "|Existing Customer|     F|              2|       Graduate|        Unknown|         Blue|            37|                       6|                     1|                    2|     14470.0|               1157|        13313.0|               0.966|           1207|            21|              0.909|                 0.08|\n",
            "+-----------------+------+---------------+---------------+---------------+-------------+--------------+------------------------+----------------------+---------------------+------------+-------------------+---------------+--------------------+---------------+--------------+-------------------+---------------------+\n",
            "only showing top 20 rows\n",
            "\n"
          ]
        }
      ]
    },
    {
      "cell_type": "code",
      "source": [
        "#Create a temporary view\n",
        "credit_df.createOrReplaceTempView(\"bank\")\n"
      ],
      "metadata": {
        "id": "bbNBAu9m_U8i"
      },
      "execution_count": 77,
      "outputs": []
    },
    {
      "cell_type": "markdown",
      "source": [
        "**Demographic Data to Analyze**"
      ],
      "metadata": {
        "id": "u3VxdsoNbD4C"
      }
    },
    {
      "cell_type": "markdown",
      "source": [
        "**Gender**"
      ],
      "metadata": {
        "id": "NcelSmF1bRf7"
      }
    },
    {
      "cell_type": "code",
      "source": [
        "gender = spark.sql(\"\"\"\n",
        "SELECT\n",
        "  Attrition_Flag as Flag,\n",
        "  Gender,\n",
        "  COUNT(Attrition_Flag) as Count\n",
        "FROM\n",
        "  bank\n",
        "WHERE\n",
        "  Gender IN ('F', 'M')\n",
        "GROUP BY\n",
        "  Attrition_Flag,\n",
        "  Gender\n",
        "\"\"\")\n",
        "\n",
        "gender.show()\n",
        "\n",
        "gendercount = spark.sql(\"\"\"\n",
        "SELECT\n",
        "  Attrition_Flag as Flag,\n",
        "  COUNT(*) as Count\n",
        "FROM\n",
        "  bank\n",
        "WHERE\n",
        "  Gender IN ('F', 'M')\n",
        "GROUP BY\n",
        "  Attrition_Flag\n",
        "\"\"\")\n",
        "\n",
        "gendercount.show()\n",
        "\n",
        "\n"
      ],
      "metadata": {
        "colab": {
          "base_uri": "https://localhost:8080/"
        },
        "id": "JjhH6Kh0_VJJ",
        "outputId": "d555aeee-3654-44a1-cdd5-a6a057954936"
      },
      "execution_count": 78,
      "outputs": [
        {
          "output_type": "stream",
          "name": "stdout",
          "text": [
            "+-----------------+------+-----+\n",
            "|             Flag|Gender|Count|\n",
            "+-----------------+------+-----+\n",
            "|Existing Customer|     F| 4428|\n",
            "|Attrited Customer|     F|  930|\n",
            "|Existing Customer|     M| 4072|\n",
            "|Attrited Customer|     M|  697|\n",
            "+-----------------+------+-----+\n",
            "\n",
            "+-----------------+-----+\n",
            "|             Flag|Count|\n",
            "+-----------------+-----+\n",
            "|Existing Customer| 8500|\n",
            "|Attrited Customer| 1627|\n",
            "+-----------------+-----+\n",
            "\n"
          ]
        }
      ]
    },
    {
      "cell_type": "markdown",
      "source": [
        "**Dependent Count**"
      ],
      "metadata": {
        "id": "hYLpwdGqbVnK"
      }
    },
    {
      "cell_type": "code",
      "source": [
        "dependent_count= spark.sql(\"\"\"\n",
        "SELECT\n",
        "  Attrition_Flag as Flag,\n",
        "  COUNT(*) as DependentCount,\n",
        "  CASE\n",
        "    WHEN Dependent_count BETWEEN 0 AND 5 THEN '0-5'\n",
        "    ELSE 'Other'\n",
        "  END AS DependentRange\n",
        "FROM\n",
        "  bank\n",
        "GROUP BY\n",
        "  Attrition_Flag,\n",
        "  CASE\n",
        "    WHEN Dependent_count BETWEEN 0 AND 5 THEN '0-5'\n",
        "    ELSE 'Other'\n",
        "  END\n",
        "ORDER BY\n",
        "  DependentRange\n",
        "\"\"\")\n",
        "dependent_count.show()"
      ],
      "metadata": {
        "colab": {
          "base_uri": "https://localhost:8080/"
        },
        "id": "DFWZYrJC_VLt",
        "outputId": "ea4c337d-ec7b-45a1-abec-dc48d58a74d4"
      },
      "execution_count": 79,
      "outputs": [
        {
          "output_type": "stream",
          "name": "stdout",
          "text": [
            "+-----------------+--------------+--------------+\n",
            "|             Flag|DependentCount|DependentRange|\n",
            "+-----------------+--------------+--------------+\n",
            "|Attrited Customer|          1627|           0-5|\n",
            "|Existing Customer|          8500|           0-5|\n",
            "+-----------------+--------------+--------------+\n",
            "\n"
          ]
        }
      ]
    },
    {
      "cell_type": "markdown",
      "source": [
        "**Education**"
      ],
      "metadata": {
        "id": "uAn1SW2gbZvK"
      }
    },
    {
      "cell_type": "code",
      "source": [
        "education = spark.sql(\"\"\"\n",
        "SELECT\n",
        "  Attrition_Flag as Flag,\n",
        "  Education_Level as Education,\n",
        "  COUNT(Education_Level) as EducationCount\n",
        "FROM\n",
        "  bank\n",
        "GROUP BY\n",
        "  Attrition_Flag,\n",
        "  Education_Level\n",
        "ORDER BY\n",
        "  EducationCount\n",
        "\"\"\")\n",
        "education.show()"
      ],
      "metadata": {
        "colab": {
          "base_uri": "https://localhost:8080/"
        },
        "id": "SQElJoHP_VOL",
        "outputId": "c202f9c4-4f4e-4d33-c884-abc3f367c3c5"
      },
      "execution_count": 80,
      "outputs": [
        {
          "output_type": "stream",
          "name": "stdout",
          "text": [
            "+-----------------+-------------+--------------+\n",
            "|             Flag|    Education|EducationCount|\n",
            "+-----------------+-------------+--------------+\n",
            "|Attrited Customer|Post-Graduate|            92|\n",
            "|Attrited Customer|    Doctorate|            95|\n",
            "|Attrited Customer|      College|           154|\n",
            "|Attrited Customer|   Uneducated|           237|\n",
            "|Attrited Customer|      Unknown|           256|\n",
            "|Attrited Customer|  High School|           306|\n",
            "|Existing Customer|    Doctorate|           356|\n",
            "|Existing Customer|Post-Graduate|           424|\n",
            "|Attrited Customer|     Graduate|           487|\n",
            "|Existing Customer|      College|           859|\n",
            "|Existing Customer|   Uneducated|          1250|\n",
            "|Existing Customer|      Unknown|          1263|\n",
            "|Existing Customer|  High School|          1707|\n",
            "|Existing Customer|     Graduate|          2641|\n",
            "+-----------------+-------------+--------------+\n",
            "\n"
          ]
        }
      ]
    },
    {
      "cell_type": "markdown",
      "source": [
        "**Income Category**"
      ],
      "metadata": {
        "id": "VHKqw2mobd6S"
      }
    },
    {
      "cell_type": "code",
      "source": [
        "income = spark.sql(\"\"\"\n",
        "SELECT\n",
        "  Attrition_Flag as Flag,\n",
        "  Income_Category as Income,\n",
        "  COUNT(*) as IncomeCount\n",
        "FROM\n",
        "  bank\n",
        "GROUP BY\n",
        "  Attrition_Flag,\n",
        "  Income_Category\n",
        "ORDER BY\n",
        "  IncomeCount\n",
        "\"\"\")\n",
        "\n",
        "income.show()"
      ],
      "metadata": {
        "colab": {
          "base_uri": "https://localhost:8080/"
        },
        "id": "19Px5uga_VQt",
        "outputId": "d1af723d-7e3d-4b0b-a514-1bbd6cd5218c"
      },
      "execution_count": 82,
      "outputs": [
        {
          "output_type": "stream",
          "name": "stdout",
          "text": [
            "+-----------------+--------------+-----------+\n",
            "|             Flag|        Income|IncomeCount|\n",
            "+-----------------+--------------+-----------+\n",
            "|Attrited Customer|       $120K +|        126|\n",
            "|Attrited Customer|       Unknown|        187|\n",
            "|Attrited Customer|   $60K - $80K|        189|\n",
            "|Attrited Customer|  $80K - $120K|        242|\n",
            "|Attrited Customer|   $40K - $60K|        271|\n",
            "|Existing Customer|       $120K +|        601|\n",
            "|Attrited Customer|Less than $40K|        612|\n",
            "|Existing Customer|       Unknown|        925|\n",
            "|Existing Customer|   $60K - $80K|       1213|\n",
            "|Existing Customer|  $80K - $120K|       1293|\n",
            "|Existing Customer|   $40K - $60K|       1519|\n",
            "|Existing Customer|Less than $40K|       2949|\n",
            "+-----------------+--------------+-----------+\n",
            "\n"
          ]
        }
      ]
    },
    {
      "cell_type": "markdown",
      "source": [
        "**Behavioral (Bank) Data**"
      ],
      "metadata": {
        "id": "QJXxbaH4bKG9"
      }
    },
    {
      "cell_type": "markdown",
      "source": [
        "**Months on book**"
      ],
      "metadata": {
        "id": "uDwkNQyXblOO"
      }
    },
    {
      "cell_type": "code",
      "source": [
        "month_book = spark.sql(\"\"\"SELECT\n",
        "  Attrition_Flag as Flag,\n",
        "  Months_on_book as Months,\n",
        "  COUNT(*) as MonthsCount\n",
        "FROM\n",
        "  bank\n",
        "GROUP BY\n",
        "  Attrition_Flag,\n",
        "  Months_on_book\n",
        "ORDER BY\n",
        "  Months\n",
        "\"\"\")\n",
        "month_book.show()"
      ],
      "metadata": {
        "colab": {
          "base_uri": "https://localhost:8080/"
        },
        "id": "5_iKF271a51f",
        "outputId": "cc5e9689-f074-4b7c-9091-0038c440b86d"
      },
      "execution_count": 14,
      "outputs": [
        {
          "output_type": "stream",
          "name": "stdout",
          "text": [
            "+-----------------+------+-----------+\n",
            "|             Flag|Months|MonthsCount|\n",
            "+-----------------+------+-----------+\n",
            "|Existing Customer|    13|         63|\n",
            "|Attrited Customer|    13|          7|\n",
            "|Existing Customer|    14|         15|\n",
            "|Attrited Customer|    14|          1|\n",
            "|Existing Customer|    15|         25|\n",
            "|Attrited Customer|    15|          9|\n",
            "|Existing Customer|    16|         26|\n",
            "|Attrited Customer|    16|          3|\n",
            "|Attrited Customer|    17|          4|\n",
            "|Existing Customer|    17|         35|\n",
            "|Attrited Customer|    18|         13|\n",
            "|Existing Customer|    18|         45|\n",
            "|Attrited Customer|    19|          6|\n",
            "|Existing Customer|    19|         57|\n",
            "|Attrited Customer|    20|         13|\n",
            "|Existing Customer|    20|         61|\n",
            "|Attrited Customer|    21|         10|\n",
            "|Existing Customer|    21|         73|\n",
            "|Attrited Customer|    22|         20|\n",
            "|Existing Customer|    22|         85|\n",
            "+-----------------+------+-----------+\n",
            "only showing top 20 rows\n",
            "\n"
          ]
        }
      ]
    },
    {
      "cell_type": "markdown",
      "source": [
        "**Total Relationsip Count**"
      ],
      "metadata": {
        "id": "CDwc-xqBhGzm"
      }
    },
    {
      "cell_type": "code",
      "source": [
        "total_relationship = spark.sql(\"\"\"SELECT\n",
        "  Attrition_Flag as Flag,\n",
        "  Total_Relationship_Count as TotalRelationship,\n",
        "  COUNT(*) as MonthsCount\n",
        "FROM\n",
        "  bank\n",
        "GROUP BY\n",
        "  Attrition_Flag,\n",
        "  Total_Relationship_Count\n",
        "ORDER BY\n",
        "  TotalRelationship\n",
        "\"\"\")\n",
        "total_relationship.show()"
      ],
      "metadata": {
        "colab": {
          "base_uri": "https://localhost:8080/"
        },
        "id": "7-AIveICa5yt",
        "outputId": "3f9caf95-cbf7-4bd5-9916-3ca41102c31b"
      },
      "execution_count": 15,
      "outputs": [
        {
          "output_type": "stream",
          "name": "stdout",
          "text": [
            "+-----------------+-----------------+-----------+\n",
            "|             Flag|TotalRelationship|MonthsCount|\n",
            "+-----------------+-----------------+-----------+\n",
            "|Existing Customer|                1|        677|\n",
            "|Attrited Customer|                1|        233|\n",
            "|Existing Customer|                2|        897|\n",
            "|Attrited Customer|                2|        346|\n",
            "|Attrited Customer|                3|        400|\n",
            "|Existing Customer|                3|       1905|\n",
            "|Attrited Customer|                4|        225|\n",
            "|Existing Customer|                4|       1687|\n",
            "|Existing Customer|                5|       1664|\n",
            "|Attrited Customer|                5|        227|\n",
            "|Existing Customer|                6|       1670|\n",
            "|Attrited Customer|                6|        196|\n",
            "+-----------------+-----------------+-----------+\n",
            "\n"
          ]
        }
      ]
    },
    {
      "cell_type": "markdown",
      "source": [
        "**Months Inactive 12 months**"
      ],
      "metadata": {
        "id": "AH03oylnhn6a"
      }
    },
    {
      "cell_type": "code",
      "source": [
        "months_inactive = spark.sql(\"\"\"SELECT\n",
        "  Attrition_Flag as Flag,\n",
        "  Months_Inactive_12_mon as MonthsInactive,\n",
        "  COUNT(*) as InactiveCount\n",
        "FROM\n",
        "  bank\n",
        "GROUP BY\n",
        "  Attrition_Flag,\n",
        "  Months_Inactive_12_mon\n",
        "ORDER BY\n",
        "  MonthsInactive\n",
        "\"\"\")\n",
        "months_inactive.show()"
      ],
      "metadata": {
        "colab": {
          "base_uri": "https://localhost:8080/"
        },
        "id": "QNcBIYC-a5v8",
        "outputId": "a78c48b3-fdd2-423b-d045-156403a0d7df"
      },
      "execution_count": 16,
      "outputs": [
        {
          "output_type": "stream",
          "name": "stdout",
          "text": [
            "+-----------------+--------------+-------------+\n",
            "|             Flag|MonthsInactive|InactiveCount|\n",
            "+-----------------+--------------+-------------+\n",
            "|Existing Customer|             0|           14|\n",
            "|Attrited Customer|             0|           15|\n",
            "|Existing Customer|             1|         2133|\n",
            "|Attrited Customer|             1|          100|\n",
            "|Existing Customer|             2|         2777|\n",
            "|Attrited Customer|             2|          505|\n",
            "|Attrited Customer|             3|          826|\n",
            "|Existing Customer|             3|         3020|\n",
            "|Attrited Customer|             4|          130|\n",
            "|Existing Customer|             4|          305|\n",
            "|Existing Customer|             5|          146|\n",
            "|Attrited Customer|             5|           32|\n",
            "|Existing Customer|             6|          105|\n",
            "|Attrited Customer|             6|           19|\n",
            "+-----------------+--------------+-------------+\n",
            "\n"
          ]
        }
      ]
    },
    {
      "cell_type": "markdown",
      "source": [
        "**Contacts Count 12 months**"
      ],
      "metadata": {
        "id": "fNhEOohUiEuB"
      }
    },
    {
      "cell_type": "code",
      "source": [
        "contacts = spark.sql(\"\"\"SELECT\n",
        "  Attrition_Flag as Flag,\n",
        "  Contacts_Count_12_mon as Contact,\n",
        "  COUNT(*) as MonthsCount\n",
        "FROM\n",
        "  bank\n",
        "GROUP BY\n",
        "  Attrition_Flag,\n",
        "  Contacts_Count_12_mon\n",
        "ORDER BY\n",
        "  Contact\n",
        "\"\"\")\n",
        "contacts.show()"
      ],
      "metadata": {
        "colab": {
          "base_uri": "https://localhost:8080/"
        },
        "id": "xSr7lDdEiCTU",
        "outputId": "bbbcdf49-54cf-4937-8a96-070ad17dcf9e"
      },
      "execution_count": 17,
      "outputs": [
        {
          "output_type": "stream",
          "name": "stdout",
          "text": [
            "+-----------------+-------+-----------+\n",
            "|             Flag|Contact|MonthsCount|\n",
            "+-----------------+-------+-----------+\n",
            "|Existing Customer|      0|        392|\n",
            "|Attrited Customer|      0|          7|\n",
            "|Existing Customer|      1|       1391|\n",
            "|Attrited Customer|      1|        108|\n",
            "|Existing Customer|      2|       2824|\n",
            "|Attrited Customer|      2|        403|\n",
            "|Attrited Customer|      3|        681|\n",
            "|Existing Customer|      3|       2699|\n",
            "|Attrited Customer|      4|        315|\n",
            "|Existing Customer|      4|       1077|\n",
            "|Existing Customer|      5|        117|\n",
            "|Attrited Customer|      5|         59|\n",
            "|Attrited Customer|      6|         54|\n",
            "+-----------------+-------+-----------+\n",
            "\n"
          ]
        }
      ]
    },
    {
      "cell_type": "markdown",
      "source": [
        "**Credit Limit**"
      ],
      "metadata": {
        "id": "1XWRJMUjjHjE"
      }
    },
    {
      "cell_type": "code",
      "source": [
        "credit = spark.sql(\"\"\"SELECT\n",
        "  Attrition_Flag as Flag,\n",
        "  Credit_Limit as CreditLimit,\n",
        "  COUNT(*) as CreditCount\n",
        "FROM\n",
        "  bank\n",
        "GROUP BY\n",
        "  Attrition_Flag,\n",
        "  Credit_Limit\n",
        "ORDER BY\n",
        "  CreditCount\n",
        "\"\"\")\n",
        "credit.show()"
      ],
      "metadata": {
        "colab": {
          "base_uri": "https://localhost:8080/"
        },
        "id": "65IOU0x9a5tO",
        "outputId": "8a8d3f46-c767-4c8e-aaf2-d32566a0dd1e"
      },
      "execution_count": 18,
      "outputs": [
        {
          "output_type": "stream",
          "name": "stdout",
          "text": [
            "+-----------------+-----------+-----------+\n",
            "|             Flag|CreditLimit|CreditCount|\n",
            "+-----------------+-----------+-----------+\n",
            "|Existing Customer|    23665.0|          1|\n",
            "|Existing Customer|    12932.0|          1|\n",
            "|Attrited Customer|     1491.0|          1|\n",
            "|Existing Customer|    14035.0|          1|\n",
            "|Attrited Customer|    11422.0|          1|\n",
            "|Existing Customer|     4844.0|          1|\n",
            "|Existing Customer|     4135.0|          1|\n",
            "|Existing Customer|     5478.0|          1|\n",
            "|Attrited Customer|     2066.0|          1|\n",
            "|Existing Customer|     1525.0|          1|\n",
            "|Existing Customer|     6966.0|          1|\n",
            "|Existing Customer|    19999.0|          1|\n",
            "|Existing Customer|    18379.0|          1|\n",
            "|Existing Customer|     5443.0|          1|\n",
            "|Existing Customer|     7264.0|          1|\n",
            "|Existing Customer|     7112.0|          1|\n",
            "|Existing Customer|     1671.0|          1|\n",
            "|Existing Customer|     5585.0|          1|\n",
            "|Attrited Customer|     5557.0|          1|\n",
            "|Existing Customer|    25666.0|          1|\n",
            "+-----------------+-----------+-----------+\n",
            "only showing top 20 rows\n",
            "\n"
          ]
        }
      ]
    },
    {
      "cell_type": "markdown",
      "source": [
        "**Total Trans Amt**"
      ],
      "metadata": {
        "id": "kSxpPwfBkqDv"
      }
    },
    {
      "cell_type": "code",
      "source": [
        "total_amt = spark.sql(\"\"\"SELECT\n",
        "  Attrition_Flag as Flag,\n",
        "  Total_Trans_Amt as TotalTrans,\n",
        "  COUNT(*) as TransCount\n",
        "FROM\n",
        "  bank\n",
        "GROUP BY\n",
        "  Attrition_Flag,\n",
        "  Total_Trans_Amt\n",
        "ORDER BY\n",
        "  TotalTrans\n",
        "\"\"\")\n",
        "total_amt.show()"
      ],
      "metadata": {
        "colab": {
          "base_uri": "https://localhost:8080/"
        },
        "id": "8HjjTPopa5qs",
        "outputId": "431fd9b5-29da-4a4a-cffb-79d89a6df20c"
      },
      "execution_count": 19,
      "outputs": [
        {
          "output_type": "stream",
          "name": "stdout",
          "text": [
            "+-----------------+----------+----------+\n",
            "|             Flag|TotalTrans|TransCount|\n",
            "+-----------------+----------+----------+\n",
            "|Attrited Customer|       510|         1|\n",
            "|Attrited Customer|       530|         1|\n",
            "|Attrited Customer|       563|         1|\n",
            "|Attrited Customer|       569|         1|\n",
            "|Attrited Customer|       594|         1|\n",
            "|Attrited Customer|       596|         1|\n",
            "|Attrited Customer|       597|         1|\n",
            "|Attrited Customer|       602|         1|\n",
            "|Attrited Customer|       615|         1|\n",
            "|Attrited Customer|       643|         1|\n",
            "|Attrited Customer|       644|         1|\n",
            "|Attrited Customer|       646|         1|\n",
            "|Attrited Customer|       647|         2|\n",
            "|Attrited Customer|       654|         1|\n",
            "|Attrited Customer|       660|         1|\n",
            "|Attrited Customer|       673|         1|\n",
            "|Attrited Customer|       678|         1|\n",
            "|Attrited Customer|       683|         1|\n",
            "|Attrited Customer|       687|         1|\n",
            "|Attrited Customer|       689|         1|\n",
            "+-----------------+----------+----------+\n",
            "only showing top 20 rows\n",
            "\n"
          ]
        }
      ]
    },
    {
      "cell_type": "markdown",
      "source": [
        "**Total Trans Count**"
      ],
      "metadata": {
        "id": "PA67Em2SlqIt"
      }
    },
    {
      "cell_type": "code",
      "source": [
        "total_count = spark.sql(\"\"\"SELECT\n",
        "  Attrition_Flag as Flag,\n",
        "  Total_Trans_Ct as TotalTransCount,\n",
        "  COUNT(*) as CountTotalTrans\n",
        "FROM\n",
        "  bank\n",
        "GROUP BY\n",
        "  Attrition_Flag,\n",
        "  Total_Trans_Ct\n",
        "ORDER BY\n",
        "  TotalTransCount\n",
        "\"\"\")\n",
        "total_count.show()\n"
      ],
      "metadata": {
        "colab": {
          "base_uri": "https://localhost:8080/"
        },
        "id": "OejN653ua5n7",
        "outputId": "de3d587c-120d-495d-c0fc-381563a0db1b"
      },
      "execution_count": 20,
      "outputs": [
        {
          "output_type": "stream",
          "name": "stdout",
          "text": [
            "+-----------------+---------------+---------------+\n",
            "|             Flag|TotalTransCount|CountTotalTrans|\n",
            "+-----------------+---------------+---------------+\n",
            "|Attrited Customer|             10|              4|\n",
            "|Attrited Customer|             11|              1|\n",
            "|Existing Customer|             11|              1|\n",
            "|Attrited Customer|             12|              4|\n",
            "|Existing Customer|             13|              2|\n",
            "|Attrited Customer|             13|              3|\n",
            "|Existing Customer|             14|              1|\n",
            "|Attrited Customer|             14|              8|\n",
            "|Existing Customer|             15|              4|\n",
            "|Attrited Customer|             15|             12|\n",
            "|Existing Customer|             16|              5|\n",
            "|Attrited Customer|             16|              8|\n",
            "|Attrited Customer|             17|             10|\n",
            "|Existing Customer|             17|              3|\n",
            "|Attrited Customer|             18|             15|\n",
            "|Existing Customer|             18|              8|\n",
            "|Attrited Customer|             19|              7|\n",
            "|Existing Customer|             19|              4|\n",
            "|Attrited Customer|             20|              9|\n",
            "|Existing Customer|             20|             10|\n",
            "+-----------------+---------------+---------------+\n",
            "only showing top 20 rows\n",
            "\n"
          ]
        }
      ]
    },
    {
      "cell_type": "code",
      "source": [
        "from pyspark.sql import functions as F\n",
        "from pyspark.sql import types as T\n",
        "\n",
        "\n",
        "#Gives a label to each category\n",
        "#creates onehot encoding vector\n",
        "from pyspark.ml.feature import StringIndexer, OneHotEncoder\n",
        "\n",
        "#Used to creat vector from features and modeling takes vector as an input\n",
        "from pyspark.ml.feature import VectorAssembler\n",
        "\n",
        "#Used for classification problems\n",
        "from pyspark.ml.classification import DecisionTreeClassifier\n"
      ],
      "metadata": {
        "id": "JqAMZQXR_VTO"
      },
      "execution_count": 21,
      "outputs": []
    },
    {
      "cell_type": "code",
      "source": [
        "attrition_df = credit_df.withColumn(\"Attrition_Flag\", F.when(F.col(\"Attrition_Flag\") =='Attrited Customer', 0).otherwise(1))\n",
        "card_df = credit_df.withColumn(\n",
        "    \"Card_Category\",\n",
        "    F.when(F.col(\"Card_Category\") == 'Blue', 0)\n",
        "     .when(F.col(\"Card_Category\") == 'Gold', 1)\n",
        "     .when(F.col(\"Card_Category\") == 'Platinum', 3)\n",
        "     .when(F.col(\"Card_Category\") == 'Silver', 4)\n",
        "     .otherwise(F.col(\"Card_Category\"))  # handle unexpected values\n",
        ")\n",
        "attrition_df.show(3, truncate=False)\n",
        "\n",
        "attrition_df.groupby(\"Attrition_Flag\").count().show()\n",
        "card_df.groupby(\"Card_Category\").count().show()\n"
      ],
      "metadata": {
        "colab": {
          "base_uri": "https://localhost:8080/"
        },
        "id": "qG-fCcncuEsY",
        "outputId": "e345c751-82c3-4f31-fe1d-398c5934ea72"
      },
      "execution_count": 88,
      "outputs": [
        {
          "output_type": "stream",
          "name": "stdout",
          "text": [
            "+--------------+------+---------------+---------------+---------------+-------------+--------------+------------------------+----------------------+---------------------+------------+-------------------+---------------+--------------------+---------------+--------------+-------------------+---------------------+\n",
            "|Attrition_Flag|Gender|Dependent_count|Education_Level|Income_Category|Card_Category|Months_on_book|Total_Relationship_Count|Months_Inactive_12_mon|Contacts_Count_12_mon|Credit_Limit|Total_Revolving_Bal|Avg_Open_To_Buy|Total_Amt_Chng_Q4_Q1|Total_Trans_Amt|Total_Trans_Ct|Total_Ct_Chng_Q4_Q1|Avg_Utilization_Ratio|\n",
            "+--------------+------+---------------+---------------+---------------+-------------+--------------+------------------------+----------------------+---------------------+------------+-------------------+---------------+--------------------+---------------+--------------+-------------------+---------------------+\n",
            "|1             |M     |3              |High School    |$60K - $80K    |Blue         |39            |5                       |1                     |3                    |12691.0     |777                |11914.0        |1.335               |1144           |42            |1.625              |0.061                |\n",
            "|1             |F     |5              |Graduate       |Less than $40K |Blue         |44            |6                       |1                     |2                    |8256.0      |864                |7392.0         |1.541               |1291           |33            |3.714              |0.105                |\n",
            "|1             |M     |3              |Graduate       |$80K - $120K   |Blue         |36            |4                       |1                     |0                    |3418.0      |0                  |3418.0         |2.594               |1887           |20            |2.333              |0.0                  |\n",
            "+--------------+------+---------------+---------------+---------------+-------------+--------------+------------------------+----------------------+---------------------+------------+-------------------+---------------+--------------------+---------------+--------------+-------------------+---------------------+\n",
            "only showing top 3 rows\n",
            "\n",
            "+--------------+-----+\n",
            "|Attrition_Flag|count|\n",
            "+--------------+-----+\n",
            "|             1| 8500|\n",
            "|             0| 1627|\n",
            "+--------------+-----+\n",
            "\n",
            "+-------------+-----+\n",
            "|Card_Category|count|\n",
            "+-------------+-----+\n",
            "|            3|   20|\n",
            "|            0| 9436|\n",
            "|            1|  116|\n",
            "|            4|  555|\n",
            "+-------------+-----+\n",
            "\n"
          ]
        }
      ]
    },
    {
      "cell_type": "markdown",
      "source": [
        "**1st Modeling**"
      ],
      "metadata": {
        "id": "M_7j-MGg0co0"
      }
    },
    {
      "cell_type": "code",
      "source": [
        "(train_df, test_df) = attrition_df.randomSplit([0.8, 0.2], 11)\n",
        "(train_df, test_df) = card_df.randomSplit([0.8, 0.2], 11)\n",
        "print(\"Number of train samples: \" + str(train_df.count()))\n",
        "print(\"Number of test samples: \" + str(test_df.count()))"
      ],
      "metadata": {
        "colab": {
          "base_uri": "https://localhost:8080/"
        },
        "id": "hCE6x_jguEpc",
        "outputId": "9a72475a-12f7-47ed-a192-52411766ae31"
      },
      "execution_count": 93,
      "outputs": [
        {
          "output_type": "stream",
          "name": "stdout",
          "text": [
            "Number of train samples: 8102\n",
            "Number of test samples: 2025\n"
          ]
        }
      ]
    },
    {
      "cell_type": "code",
      "source": [
        "# Apply StringIndexer to the Attrition_Flag column\n",
        "attrition_indexer = StringIndexer(inputCol=\"Attrition_Flag\", outputCol=\"Attrition_Flag_Index\")\n",
        "indexed_df = attrition_indexer.fit(credit_df).transform(credit_df)\n",
        "\n",
        "# Apply StringIndexer to the Card_Category column\n",
        "card_indexer = StringIndexer(inputCol=\"Card_Category\", outputCol=\"Card_Category_Index\")\n",
        "indexed_df = card_indexer.fit(indexed_df).transform(indexed_df)\n",
        "\n",
        "# Show the transformed DataFrame\n",
        "indexed_df.show(truncate=False)"
      ],
      "metadata": {
        "colab": {
          "base_uri": "https://localhost:8080/"
        },
        "id": "Zy2QUrAMMXvz",
        "outputId": "f8c30308-ee0b-4d41-84f0-ff92e5e8db1a"
      },
      "execution_count": 95,
      "outputs": [
        {
          "output_type": "stream",
          "name": "stdout",
          "text": [
            "+-----------------+------+---------------+---------------+---------------+-------------+--------------+------------------------+----------------------+---------------------+------------+-------------------+---------------+--------------------+---------------+--------------+-------------------+---------------------+--------------------+-------------------+\n",
            "|Attrition_Flag   |Gender|Dependent_count|Education_Level|Income_Category|Card_Category|Months_on_book|Total_Relationship_Count|Months_Inactive_12_mon|Contacts_Count_12_mon|Credit_Limit|Total_Revolving_Bal|Avg_Open_To_Buy|Total_Amt_Chng_Q4_Q1|Total_Trans_Amt|Total_Trans_Ct|Total_Ct_Chng_Q4_Q1|Avg_Utilization_Ratio|Attrition_Flag_Index|Card_Category_Index|\n",
            "+-----------------+------+---------------+---------------+---------------+-------------+--------------+------------------------+----------------------+---------------------+------------+-------------------+---------------+--------------------+---------------+--------------+-------------------+---------------------+--------------------+-------------------+\n",
            "|Existing Customer|M     |3              |High School    |$60K - $80K    |Blue         |39            |5                       |1                     |3                    |12691.0     |777                |11914.0        |1.335               |1144           |42            |1.625              |0.061                |0.0                 |0.0                |\n",
            "|Existing Customer|F     |5              |Graduate       |Less than $40K |Blue         |44            |6                       |1                     |2                    |8256.0      |864                |7392.0         |1.541               |1291           |33            |3.714              |0.105                |0.0                 |0.0                |\n",
            "|Existing Customer|M     |3              |Graduate       |$80K - $120K   |Blue         |36            |4                       |1                     |0                    |3418.0      |0                  |3418.0         |2.594               |1887           |20            |2.333              |0.0                  |0.0                 |0.0                |\n",
            "|Existing Customer|F     |4              |High School    |Less than $40K |Blue         |34            |3                       |4                     |1                    |3313.0      |2517               |796.0          |1.405               |1171           |20            |2.333              |0.76                 |0.0                 |0.0                |\n",
            "|Existing Customer|M     |3              |Uneducated     |$60K - $80K    |Blue         |21            |5                       |1                     |0                    |4716.0      |0                  |4716.0         |2.175               |816            |28            |2.5                |0.0                  |0.0                 |0.0                |\n",
            "|Existing Customer|M     |2              |Graduate       |$40K - $60K    |Blue         |36            |3                       |1                     |2                    |4010.0      |1247               |2763.0         |1.376               |1088           |24            |0.846              |0.311                |0.0                 |0.0                |\n",
            "|Existing Customer|M     |4              |Unknown        |$120K +        |Gold         |46            |6                       |1                     |3                    |34516.0     |2264               |32252.0        |1.975               |1330           |31            |0.722              |0.066                |0.0                 |2.0                |\n",
            "|Existing Customer|M     |0              |High School    |$60K - $80K    |Silver       |27            |2                       |2                     |2                    |29081.0     |1396               |27685.0        |2.204               |1538           |36            |0.714              |0.048                |0.0                 |1.0                |\n",
            "|Existing Customer|M     |3              |Uneducated     |$60K - $80K    |Blue         |36            |5                       |2                     |0                    |22352.0     |2517               |19835.0        |3.355               |1350           |24            |1.182              |0.113                |0.0                 |0.0                |\n",
            "|Existing Customer|M     |2              |Graduate       |$80K - $120K   |Blue         |36            |6                       |3                     |3                    |11656.0     |1677               |9979.0         |1.524               |1441           |32            |0.882              |0.144                |0.0                 |0.0                |\n",
            "|Existing Customer|M     |5              |Uneducated     |$120K +        |Blue         |31            |5                       |3                     |2                    |6748.0      |1467               |5281.0         |0.831               |1201           |42            |0.68               |0.217                |0.0                 |0.0                |\n",
            "|Existing Customer|M     |1              |Unknown        |$40K - $60K    |Blue         |54            |6                       |2                     |3                    |9095.0      |1587               |7508.0         |1.433               |1314           |26            |1.364              |0.174                |0.0                 |0.0                |\n",
            "|Existing Customer|M     |1              |College        |$80K - $120K   |Blue         |36            |3                       |6                     |0                    |11751.0     |0                  |11751.0        |3.397               |1539           |17            |3.25               |0.0                  |0.0                 |0.0                |\n",
            "|Existing Customer|M     |3              |Graduate       |$60K - $80K    |Blue         |30            |5                       |1                     |3                    |8547.0      |1666               |6881.0         |1.163               |1311           |33            |2.0                |0.195                |0.0                 |0.0                |\n",
            "|Existing Customer|F     |2              |Graduate       |Less than $40K |Blue         |48            |5                       |2                     |2                    |2436.0      |680                |1756.0         |1.19                |1570           |29            |0.611              |0.279                |0.0                 |0.0                |\n",
            "|Existing Customer|M     |4              |Unknown        |$80K - $120K   |Blue         |37            |5                       |1                     |2                    |4234.0      |972                |3262.0         |1.707               |1348           |27            |1.7                |0.23                 |0.0                 |0.0                |\n",
            "|Existing Customer|M     |4              |Post-Graduate  |$80K - $120K   |Blue         |36            |6                       |2                     |3                    |30367.0     |2362               |28005.0        |1.708               |1671           |27            |0.929              |0.078                |0.0                 |0.0                |\n",
            "|Existing Customer|M     |3              |Unknown        |$80K - $120K   |Blue         |34            |4                       |4                     |1                    |13535.0     |1291               |12244.0        |0.653               |1028           |21            |1.625              |0.095                |0.0                 |0.0                |\n",
            "|Existing Customer|M     |1              |High School    |$40K - $60K    |Blue         |56            |2                       |2                     |3                    |3193.0      |2517               |676.0          |1.831               |1336           |30            |1.143              |0.788                |0.0                 |0.0                |\n",
            "|Existing Customer|F     |2              |Graduate       |Unknown        |Blue         |37            |6                       |1                     |2                    |14470.0     |1157               |13313.0        |0.966               |1207           |21            |0.909              |0.08                 |0.0                 |0.0                |\n",
            "+-----------------+------+---------------+---------------+---------------+-------------+--------------+------------------------+----------------------+---------------------+------------+-------------------+---------------+--------------------+---------------+--------------+-------------------+---------------------+--------------------+-------------------+\n",
            "only showing top 20 rows\n",
            "\n"
          ]
        }
      ]
    },
    {
      "cell_type": "code",
      "source": [
        "inputCols=[\n",
        " 'Dependent_count',\n",
        " 'Months_on_book',\n",
        " 'Total_Relationship_Count',\n",
        " 'Months_Inactive_12_mon',\n",
        " 'Contacts_Count_12_mon',\n",
        " 'Credit_Limit',\n",
        " 'Total_Revolving_Bal',\n",
        " 'Avg_Open_To_Buy',\n",
        " 'Total_Amt_Chng_Q4_Q1',\n",
        " 'Total_Trans_Amt',\n",
        " 'Total_Trans_Ct',\n",
        " 'Total_Ct_Chng_Q4_Q1',\n",
        " 'Avg_Utilization_Ratio'\n",
        "    ]\n",
        "\n",
        "outputCol=\"features\"\n",
        "\n",
        "vector_assembler = VectorAssembler(inputCols= inputCols, outputCol=outputCol )\n",
        "train_df = vector_assembler.transform(train_df)"
      ],
      "metadata": {
        "id": "djo_2R1HuCeM"
      },
      "execution_count": 96,
      "outputs": []
    },
    {
      "cell_type": "code",
      "source": [
        "train_df.show(3, truncate=False)"
      ],
      "metadata": {
        "colab": {
          "base_uri": "https://localhost:8080/"
        },
        "id": "XW0Cg6kcuCbd",
        "outputId": "7e792742-20ab-4770-b361-f513d74336b3"
      },
      "execution_count": 97,
      "outputs": [
        {
          "output_type": "stream",
          "name": "stdout",
          "text": [
            "+-----------------+------+---------------+---------------+---------------+-------------+--------------+------------------------+----------------------+---------------------+------------+-------------------+---------------+--------------------+---------------+--------------+-------------------+---------------------+-------------------------------------------------------------------------+\n",
            "|Attrition_Flag   |Gender|Dependent_count|Education_Level|Income_Category|Card_Category|Months_on_book|Total_Relationship_Count|Months_Inactive_12_mon|Contacts_Count_12_mon|Credit_Limit|Total_Revolving_Bal|Avg_Open_To_Buy|Total_Amt_Chng_Q4_Q1|Total_Trans_Amt|Total_Trans_Ct|Total_Ct_Chng_Q4_Q1|Avg_Utilization_Ratio|features                                                                 |\n",
            "+-----------------+------+---------------+---------------+---------------+-------------+--------------+------------------------+----------------------+---------------------+------------+-------------------+---------------+--------------------+---------------+--------------+-------------------+---------------------+-------------------------------------------------------------------------+\n",
            "|Attrited Customer|F     |0              |College        |$40K - $60K    |0            |30            |5                       |2                     |3                    |1438.3      |1223               |215.3          |0.491               |2181           |43            |0.593              |0.85                 |[0.0,30.0,5.0,2.0,3.0,1438.3,1223.0,215.3,0.491,2181.0,43.0,0.593,0.85]  |\n",
            "|Attrited Customer|F     |0              |College        |Less than $40K |0            |19            |2                       |1                     |2                    |3261.0      |2517               |744.0          |0.636               |2461           |54            |0.742              |0.772                |[0.0,19.0,2.0,1.0,2.0,3261.0,2517.0,744.0,0.636,2461.0,54.0,0.742,0.772] |\n",
            "|Attrited Customer|F     |0              |College        |Less than $40K |0            |40            |5                       |4                     |2                    |7499.0      |1083               |6416.0         |0.716               |2478           |45            |0.667              |0.144                |[0.0,40.0,5.0,4.0,2.0,7499.0,1083.0,6416.0,0.716,2478.0,45.0,0.667,0.144]|\n",
            "+-----------------+------+---------------+---------------+---------------+-------------+--------------+------------------------+----------------------+---------------------+------------+-------------------+---------------+--------------------+---------------+--------------+-------------------+---------------------+-------------------------------------------------------------------------+\n",
            "only showing top 3 rows\n",
            "\n"
          ]
        }
      ]
    },
    {
      "cell_type": "code",
      "source": [
        "modeling_df = train_df.select(['features', 'Attrition_Flag'])\n",
        "modeling_df.show()\n",
        "\n",
        "modeling_df.tail(10)\n",
        "modeling_df.show()"
      ],
      "metadata": {
        "colab": {
          "base_uri": "https://localhost:8080/"
        },
        "id": "80dvFyF8QPY2",
        "outputId": "ba39c523-ce46-4c6c-89db-0ff200fdd37d"
      },
      "execution_count": 98,
      "outputs": [
        {
          "output_type": "stream",
          "name": "stdout",
          "text": [
            "+--------------------+-----------------+\n",
            "|            features|   Attrition_Flag|\n",
            "+--------------------+-----------------+\n",
            "|[0.0,30.0,5.0,2.0...|Attrited Customer|\n",
            "|[0.0,19.0,2.0,1.0...|Attrited Customer|\n",
            "|[0.0,40.0,5.0,4.0...|Attrited Customer|\n",
            "|[0.0,56.0,3.0,4.0...|Attrited Customer|\n",
            "|[0.0,15.0,3.0,1.0...|Attrited Customer|\n",
            "|[0.0,36.0,4.0,3.0...|Attrited Customer|\n",
            "|[0.0,36.0,4.0,3.0...|Attrited Customer|\n",
            "|[0.0,37.0,5.0,2.0...|Attrited Customer|\n",
            "|[0.0,38.0,4.0,3.0...|Attrited Customer|\n",
            "|[0.0,40.0,3.0,4.0...|Attrited Customer|\n",
            "|[0.0,56.0,5.0,4.0...|Attrited Customer|\n",
            "|[0.0,20.0,5.0,1.0...|Attrited Customer|\n",
            "|[0.0,21.0,4.0,2.0...|Attrited Customer|\n",
            "|[0.0,25.0,5.0,3.0...|Attrited Customer|\n",
            "|[0.0,36.0,1.0,3.0...|Attrited Customer|\n",
            "|[0.0,36.0,2.0,3.0...|Attrited Customer|\n",
            "|[0.0,36.0,2.0,3.0...|Attrited Customer|\n",
            "|[0.0,36.0,4.0,3.0...|Attrited Customer|\n",
            "|[0.0,36.0,5.0,3.0...|Attrited Customer|\n",
            "|[0.0,38.0,2.0,3.0...|Attrited Customer|\n",
            "+--------------------+-----------------+\n",
            "only showing top 20 rows\n",
            "\n",
            "+--------------------+-----------------+\n",
            "|            features|   Attrition_Flag|\n",
            "+--------------------+-----------------+\n",
            "|[0.0,30.0,5.0,2.0...|Attrited Customer|\n",
            "|[0.0,19.0,2.0,1.0...|Attrited Customer|\n",
            "|[0.0,40.0,5.0,4.0...|Attrited Customer|\n",
            "|[0.0,56.0,3.0,4.0...|Attrited Customer|\n",
            "|[0.0,15.0,3.0,1.0...|Attrited Customer|\n",
            "|[0.0,36.0,4.0,3.0...|Attrited Customer|\n",
            "|[0.0,36.0,4.0,3.0...|Attrited Customer|\n",
            "|[0.0,37.0,5.0,2.0...|Attrited Customer|\n",
            "|[0.0,38.0,4.0,3.0...|Attrited Customer|\n",
            "|[0.0,40.0,3.0,4.0...|Attrited Customer|\n",
            "|[0.0,56.0,5.0,4.0...|Attrited Customer|\n",
            "|[0.0,20.0,5.0,1.0...|Attrited Customer|\n",
            "|[0.0,21.0,4.0,2.0...|Attrited Customer|\n",
            "|[0.0,25.0,5.0,3.0...|Attrited Customer|\n",
            "|[0.0,36.0,1.0,3.0...|Attrited Customer|\n",
            "|[0.0,36.0,2.0,3.0...|Attrited Customer|\n",
            "|[0.0,36.0,2.0,3.0...|Attrited Customer|\n",
            "|[0.0,36.0,4.0,3.0...|Attrited Customer|\n",
            "|[0.0,36.0,5.0,3.0...|Attrited Customer|\n",
            "|[0.0,38.0,2.0,3.0...|Attrited Customer|\n",
            "+--------------------+-----------------+\n",
            "only showing top 20 rows\n",
            "\n"
          ]
        }
      ]
    },
    {
      "cell_type": "code",
      "source": [
        "#Creating a DecisionTreeClassifier model\n",
        "model_credit = DecisionTreeClassifier(labelCol=\"Attrition_Flag\", featuresCol=\"features\")\n",
        "\n",
        "#Train model\n",
        "model_credit = model_credit.fit(modeling_df)"
      ],
      "metadata": {
        "id": "H3msoV96uCY8"
      },
      "execution_count": 29,
      "outputs": []
    },
    {
      "cell_type": "code",
      "source": [
        "predicton = model_credit.transform(modeling_df)\n",
        "predicton.show()"
      ],
      "metadata": {
        "colab": {
          "base_uri": "https://localhost:8080/"
        },
        "id": "eZ8rhg-9_VV6",
        "outputId": "ac4c0eca-5d8b-4f65-87df-37922f8115c1"
      },
      "execution_count": 30,
      "outputs": [
        {
          "output_type": "stream",
          "name": "stdout",
          "text": [
            "+--------------------+--------------+-------------+--------------------+----------+\n",
            "|            features|Attrition_Flag|rawPrediction|         probability|prediction|\n",
            "+--------------------+--------------+-------------+--------------------+----------+\n",
            "|[0.0,30.0,5.0,2.0...|             0|[133.0,113.0]|[0.54065040650406...|       0.0|\n",
            "|[0.0,19.0,2.0,1.0...|             0| [125.0,19.0]|[0.86805555555555...|       0.0|\n",
            "|[0.0,40.0,5.0,4.0...|             0|[133.0,113.0]|[0.54065040650406...|       0.0|\n",
            "|[0.0,56.0,3.0,4.0...|             0| [14.0,137.0]|[0.09271523178807...|       1.0|\n",
            "|[0.0,15.0,3.0,1.0...|             0|   [18.0,3.0]|[0.85714285714285...|       0.0|\n",
            "|[0.0,36.0,4.0,3.0...|             0| [531.0,79.0]|[0.87049180327868...|       0.0|\n",
            "|[0.0,36.0,4.0,3.0...|             0|[30.0,1008.0]|[0.02890173410404...|       1.0|\n",
            "|[0.0,37.0,5.0,2.0...|             0| [531.0,79.0]|[0.87049180327868...|       0.0|\n",
            "|[0.0,38.0,4.0,3.0...|             0|[133.0,113.0]|[0.54065040650406...|       0.0|\n",
            "|[0.0,40.0,3.0,4.0...|             0|[133.0,113.0]|[0.54065040650406...|       0.0|\n",
            "|[0.0,56.0,5.0,4.0...|             0| [531.0,79.0]|[0.87049180327868...|       0.0|\n",
            "|[0.0,20.0,5.0,1.0...|             0|   [18.0,3.0]|[0.85714285714285...|       0.0|\n",
            "|[0.0,21.0,4.0,2.0...|             0|  [100.0,5.0]|[0.95238095238095...|       0.0|\n",
            "|[0.0,25.0,5.0,3.0...|             0| [531.0,79.0]|[0.87049180327868...|       0.0|\n",
            "|[0.0,36.0,1.0,3.0...|             0| [531.0,79.0]|[0.87049180327868...|       0.0|\n",
            "|[0.0,36.0,2.0,3.0...|             0| [531.0,79.0]|[0.87049180327868...|       0.0|\n",
            "|[0.0,36.0,2.0,3.0...|             0|   [47.0,3.0]|         [0.94,0.06]|       0.0|\n",
            "|[0.0,36.0,4.0,3.0...|             0| [531.0,79.0]|[0.87049180327868...|       0.0|\n",
            "|[0.0,36.0,5.0,3.0...|             0|[53.0,3975.0]|[0.01315789473684...|       1.0|\n",
            "|[0.0,38.0,2.0,3.0...|             0|[30.0,1008.0]|[0.02890173410404...|       1.0|\n",
            "+--------------------+--------------+-------------+--------------------+----------+\n",
            "only showing top 20 rows\n",
            "\n"
          ]
        }
      ]
    },
    {
      "cell_type": "code",
      "source": [
        "from pyspark.ml.evaluation import MulticlassClassificationEvaluator\n",
        "\n",
        "evaluator = MulticlassClassificationEvaluator(labelCol=\"Attrition_Flag\")\n",
        "area = evaluator.evaluate(predicton)\n",
        "\n",
        "print(area)"
      ],
      "metadata": {
        "colab": {
          "base_uri": "https://localhost:8080/"
        },
        "id": "v-CFU8gBR168",
        "outputId": "54e0e4a1-8761-4b9f-9c72-9eb7885e2b6e"
      },
      "execution_count": 31,
      "outputs": [
        {
          "output_type": "stream",
          "name": "stdout",
          "text": [
            "0.9354346039699568\n"
          ]
        }
      ]
    },
    {
      "cell_type": "markdown",
      "source": [
        "**1st Test Predictions**"
      ],
      "metadata": {
        "id": "_xG5VmkdV1vu"
      }
    },
    {
      "cell_type": "code",
      "source": [
        "#Test data- transform test data using all tranformers and estimators\n",
        "\n",
        "test_df = attrition_indexer.transform(test_df)\n",
        "test_df = vector_assembler.transform(test_df)\n",
        "test_predication = model_credit.transform(test_df)\n",
        "\n",
        "test_predication.show()"
      ],
      "metadata": {
        "colab": {
          "base_uri": "https://localhost:8080/"
        },
        "id": "k1EBmC-xTZlX",
        "outputId": "95af75ab-9dcf-4351-8264-0daf989e8347"
      },
      "execution_count": 32,
      "outputs": [
        {
          "output_type": "stream",
          "name": "stdout",
          "text": [
            "+--------------+------+---------------+---------------+---------------+--------------+------------------------+----------------------+---------------------+------------+-------------------+---------------+--------------------+---------------+--------------+-------------------+---------------------+-------------+--------------------+-------------+--------------------+----------+\n",
            "|Attrition_Flag|Gender|Dependent_count|Education_Level|Income_Category|Months_on_book|Total_Relationship_Count|Months_Inactive_12_mon|Contacts_Count_12_mon|Credit_Limit|Total_Revolving_Bal|Avg_Open_To_Buy|Total_Amt_Chng_Q4_Q1|Total_Trans_Amt|Total_Trans_Ct|Total_Ct_Chng_Q4_Q1|Avg_Utilization_Ratio|AttritedIndex|            features|rawPrediction|         probability|prediction|\n",
            "+--------------+------+---------------+---------------+---------------+--------------+------------------------+----------------------+---------------------+------------+-------------------+---------------+--------------------+---------------+--------------+-------------------+---------------------+-------------+--------------------+-------------+--------------------+----------+\n",
            "|             0|     F|              0|      Doctorate| Less than $40K|            27|                       2|                     3|                    2|      3876.0|                  0|         3876.0|               0.848|           7712|            73|              0.825|                  0.0|          1.0|[0.0,27.0,2.0,3.0...|  [100.0,5.0]|[0.95238095238095...|       0.0|\n",
            "|             0|     F|              0|      Doctorate| Less than $40K|            36|                       2|                     2|                    3|      1438.3|                978|          460.3|               0.773|            947|            33|              0.571|                 0.68|          1.0|[0.0,36.0,2.0,2.0...| [125.0,19.0]|[0.86805555555555...|       0.0|\n",
            "|             0|     F|              0|      Doctorate| Less than $40K|            50|                       6|                     3|                    5|      2936.0|                326|         2610.0|               0.935|           2692|            29|              0.526|                0.111|          1.0|[0.0,50.0,6.0,3.0...| [531.0,79.0]|[0.87049180327868...|       0.0|\n",
            "|             0|     F|              0|      Doctorate| Less than $40K|            52|                       6|                     4|                    2|      2302.0|                  0|         2302.0|                0.52|           2256|            40|              0.667|                  0.0|          1.0|[0.0,52.0,6.0,4.0...|  [59.0,51.0]|[0.53636363636363...|       0.0|\n",
            "|             0|     F|              0|      Doctorate|        Unknown|            46|                       6|                     4|                    3|      7210.0|                  0|         7210.0|               0.769|           2516|            36|                0.8|                  0.0|          1.0|[0.0,46.0,6.0,4.0...|  [59.0,51.0]|[0.53636363636363...|       0.0|\n",
            "|             0|     F|              0|       Graduate|    $40K - $60K|            56|                       3|                     3|                    4|      9721.0|                  0|         9721.0|               0.826|           2260|            46|                1.0|                  0.0|          1.0|[0.0,56.0,3.0,3.0...|  [59.0,51.0]|[0.53636363636363...|       0.0|\n",
            "|             0|     F|              0|       Graduate| Less than $40K|            18|                       5|                     1|                    1|      4203.0|                996|         3207.0|               0.705|           7292|            68|                0.7|                0.237|          1.0|[0.0,18.0,5.0,1.0...|  [20.0,48.0]|[0.29411764705882...|       1.0|\n",
            "|             0|     F|              0|       Graduate| Less than $40K|            32|                       4|                     2|                    3|      1757.0|                331|         1426.0|               0.879|           2377|            47|              0.516|                0.188|          1.0|[0.0,32.0,4.0,2.0...| [531.0,79.0]|[0.87049180327868...|       0.0|\n",
            "|             0|     F|              0|       Graduate| Less than $40K|            36|                       5|                     3|                    3|      8135.0|                  0|         8135.0|               0.841|           8620|            67|              0.971|                  0.0|          1.0|[0.0,36.0,5.0,3.0...|  [100.0,5.0]|[0.95238095238095...|       0.0|\n",
            "|             0|     F|              0|       Graduate| Less than $40K|            40|                       4|                     1|                    4|      1438.3|                  0|         1438.3|               0.503|           2014|            53|              0.472|                  0.0|          1.0|[0.0,40.0,4.0,1.0...|  [16.0,36.0]|[0.30769230769230...|       1.0|\n",
            "|             0|     F|              0|       Graduate| Less than $40K|            49|                       2|                     3|                    3|      1438.3|                  0|         1438.3|               1.047|            692|            16|                0.6|                  0.0|          1.0|[0.0,49.0,2.0,3.0...| [531.0,79.0]|[0.87049180327868...|       0.0|\n",
            "|             0|     F|              0|       Graduate|        Unknown|            38|                       2|                     2|                    2|     34516.0|                  0|        34516.0|               0.695|           3901|            54|              0.421|                  0.0|          1.0|[0.0,38.0,2.0,2.0...| [531.0,79.0]|[0.87049180327868...|       0.0|\n",
            "|             0|     F|              0|    High School|    $40K - $60K|            13|                       2|                     2|                    4|      1730.0|               1616|          114.0|               0.331|            869|            27|              0.286|                0.934|          1.0|[0.0,13.0,2.0,2.0...| [125.0,19.0]|[0.86805555555555...|       0.0|\n",
            "|             0|     F|              0|    High School| Less than $40K|            41|                       3|                     3|                    4|      1438.3|                  0|         1438.3|               0.387|           1587|            42|              0.448|                  0.0|          1.0|[0.0,41.0,3.0,3.0...| [531.0,79.0]|[0.87049180327868...|       0.0|\n",
            "|             0|     F|              0|    High School|        Unknown|            13|                       1|                     2|                    4|      6152.0|                  0|         6152.0|               0.391|            968|            23|              0.533|                  0.0|          1.0|[0.0,13.0,1.0,2.0...| [531.0,79.0]|[0.87049180327868...|       0.0|\n",
            "|             0|     F|              0|     Uneducated|        Unknown|            31|                       3|                     3|                    4|      2712.0|                  0|         2712.0|               0.724|           2307|            28|              0.474|                  0.0|          1.0|[0.0,31.0,3.0,3.0...| [531.0,79.0]|[0.87049180327868...|       0.0|\n",
            "|             0|     F|              0|        Unknown|    $40K - $60K|            52|                       2|                     4|                    3|      1852.0|                  0|         1852.0|               0.902|           2851|            49|               0.75|                  0.0|          1.0|[0.0,52.0,2.0,4.0...|   [47.0,3.0]|         [0.94,0.06]|       0.0|\n",
            "|             0|     F|              0|        Unknown| Less than $40K|            39|                       1|                     3|                    3|      4982.0|               2517|         2465.0|               0.903|           9274|            65|              0.857|                0.505|          1.0|[0.0,39.0,1.0,3.0...|   [32.0,6.0]|[0.84210526315789...|       0.0|\n",
            "|             0|     F|              1|        College|    $40K - $60K|            48|                       2|                     2|                    3|      3339.0|                  0|         3339.0|               0.694|           2432|            48|                0.6|                  0.0|          1.0|[1.0,48.0,2.0,2.0...| [531.0,79.0]|[0.87049180327868...|       0.0|\n",
            "|             0|     F|              1|        College| Less than $40K|            56|                       3|                     1|                    2|      6167.0|                  0|         6167.0|               0.422|           1648|            43|              0.536|                  0.0|          1.0|[1.0,56.0,3.0,1.0...|  [16.0,36.0]|[0.30769230769230...|       1.0|\n",
            "+--------------+------+---------------+---------------+---------------+--------------+------------------------+----------------------+---------------------+------------+-------------------+---------------+--------------------+---------------+--------------+-------------------+---------------------+-------------+--------------------+-------------+--------------------+----------+\n",
            "only showing top 20 rows\n",
            "\n"
          ]
        }
      ]
    },
    {
      "cell_type": "code",
      "source": [
        "area = evaluator.evaluate(test_predication)\n",
        "\n",
        "print(area)"
      ],
      "metadata": {
        "colab": {
          "base_uri": "https://localhost:8080/"
        },
        "id": "wXUPuJ-aTZhH",
        "outputId": "61d623e5-1f1b-45a3-90dd-67c51856ff26"
      },
      "execution_count": 33,
      "outputs": [
        {
          "output_type": "stream",
          "name": "stdout",
          "text": [
            "0.9237926606284816\n"
          ]
        }
      ]
    },
    {
      "cell_type": "markdown",
      "source": [
        "**2nd Modeling**"
      ],
      "metadata": {
        "id": "fGCLarOVWzFf"
      }
    },
    {
      "cell_type": "code",
      "source": [
        "from pyspark.sql import functions as F\n",
        "\n",
        "# Perform groupBy and count operation on 'Attrition_Flag' column\n",
        "attrition_flag_counts = credit_df.groupBy(\"Attrition_Flag\").count()\n",
        "\n",
        "# Join the original DataFrame with the DataFrame containing counts\n",
        "updated_df = credit_df.join(attrition_flag_counts, \"Attrition_Flag\", \"left\")\n",
        "\n",
        "df_8500 = updated_df.filter(updated_df[\"count\"]==8500)\n",
        "df_sample =df_8500.sample(fraction=1627.0/8500.0, seed=1)\n",
        "\n",
        "df_1627 = updated_df.filter(updated_df[\"count\"]==1627)\n",
        "updated_df = df_sample.union(df_1627)\n",
        "\n",
        "# Show the updated DataFrame\n",
        "updated_df.show()\n",
        "\n"
      ],
      "metadata": {
        "colab": {
          "base_uri": "https://localhost:8080/"
        },
        "id": "UtH0hOwpdsXa",
        "outputId": "aaf79f78-aef9-4893-c515-2e17f8f87084"
      },
      "execution_count": 64,
      "outputs": [
        {
          "output_type": "stream",
          "name": "stdout",
          "text": [
            "+-----------------+------+---------------+---------------+---------------+--------------+------------------------+----------------------+---------------------+------------+-------------------+---------------+--------------------+---------------+--------------+-------------------+---------------------+-----+\n",
            "|   Attrition_Flag|Gender|Dependent_count|Education_Level|Income_Category|Months_on_book|Total_Relationship_Count|Months_Inactive_12_mon|Contacts_Count_12_mon|Credit_Limit|Total_Revolving_Bal|Avg_Open_To_Buy|Total_Amt_Chng_Q4_Q1|Total_Trans_Amt|Total_Trans_Ct|Total_Ct_Chng_Q4_Q1|Avg_Utilization_Ratio|count|\n",
            "+-----------------+------+---------------+---------------+---------------+--------------+------------------------+----------------------+---------------------+------------+-------------------+---------------+--------------------+---------------+--------------+-------------------+---------------------+-----+\n",
            "|Existing Customer|     M|              3|       Graduate|   $80K - $120K|            36|                       4|                     1|                    0|      3418.0|                  0|         3418.0|               2.594|           1887|            20|              2.333|                  0.0| 8500|\n",
            "|Existing Customer|     F|              4|    High School| Less than $40K|            34|                       3|                     4|                    1|      3313.0|               2517|          796.0|               1.405|           1171|            20|              2.333|                 0.76| 8500|\n",
            "|Existing Customer|     M|              0|    High School|    $60K - $80K|            27|                       2|                     2|                    2|     29081.0|               1396|        27685.0|               2.204|           1538|            36|              0.714|                0.048| 8500|\n",
            "|Existing Customer|     M|              1|        Unknown|    $40K - $60K|            54|                       6|                     2|                    3|      9095.0|               1587|         7508.0|               1.433|           1314|            26|              1.364|                0.174| 8500|\n",
            "|Existing Customer|     M|              1|    High School|    $40K - $60K|            56|                       2|                     2|                    3|      3193.0|               2517|          676.0|               1.831|           1336|            30|              1.143|                0.788| 8500|\n",
            "|Existing Customer|     M|              1|      Doctorate|    $60K - $80K|            42|                       5|                     2|                    0|     20979.0|               1800|        19179.0|               0.906|           1178|            27|              0.929|                0.086| 8500|\n",
            "|Existing Customer|     F|              3|       Graduate| Less than $40K|            28|                       6|                     1|                    2|      7768.0|               1669|         6099.0|               0.797|           1051|            22|              0.833|                0.215| 8500|\n",
            "|Existing Customer|     M|              4|    High School|    $40K - $60K|            42|                       6|                     0|                    0|      4785.0|               1362|         3423.0|               0.739|           1045|            38|                0.9|                0.285| 8500|\n",
            "|Existing Customer|     M|              1|      Doctorate|    $40K - $60K|            52|                       3|                     2|                    2|      2548.0|               2020|          528.0|               2.357|           1719|            27|                1.7|                0.793| 8500|\n",
            "|Existing Customer|     M|              2|        Unknown|        $120K +|            36|                       4|                     2|                    0|     19763.0|               2517|        17246.0|               0.664|           1414|            35|               0.25|                0.127| 8500|\n",
            "|Existing Customer|     M|              2|    High School|    $60K - $80K|            34|                       4|                     4|                    3|      3336.0|               1753|         1583.0|                0.69|           1168|            27|               1.25|                0.525| 8500|\n",
            "|Existing Customer|     M|              3|        Unknown|   $80K - $120K|            47|                       4|                     2|                    3|      3436.0|               2016|         1420.0|               0.901|           1097|            33|              0.833|                0.587| 8500|\n",
            "|Existing Customer|     M|              4|     Uneducated|   $80K - $120K|            38|                       4|                     1|                    4|     34516.0|               1515|        33001.0|               0.592|           1293|            32|                0.6|                0.044| 8500|\n",
            "|Existing Customer|     M|              2|        College|    $60K - $80K|            52|                       5|                     3|                    3|      6584.0|               1817|         4767.0|                0.62|           1353|            35|              0.667|                0.276| 8500|\n",
            "|Existing Customer|     M|              2|      Doctorate|   $80K - $120K|            38|                       6|                     2|                    2|     25300.0|               1330|        23970.0|               1.072|            837|            15|                2.0|                0.053| 8500|\n",
            "|Existing Customer|     M|              3|       Graduate|    $60K - $80K|            30|                       6|                     1|                    2|      2536.0|               1823|          713.0|               0.703|           1468|            23|              0.353|                0.719| 8500|\n",
            "|Existing Customer|     M|              1|        Unknown|        $120K +|            36|                       6|                     2|                    2|     34516.0|               1533|        32983.0|               0.924|           1603|            29|              0.526|                0.044| 8500|\n",
            "|Existing Customer|     M|              2|       Graduate|    $60K - $80K|            47|                       5|                     3|                    0|      3085.0|               1910|         1175.0|               0.921|           1531|            35|              0.667|                0.619| 8500|\n",
            "|Existing Customer|     M|              4|    High School|   $80K - $120K|            38|                       4|                     3|                    0|     31302.0|               1953|        29349.0|               0.875|           1564|            35|              2.182|                0.062| 8500|\n",
            "|Existing Customer|     M|              0|       Graduate|   $80K - $120K|            42|                       5|                     4|                    1|      2664.0|               2037|          627.0|                0.85|           1286|            29|              0.933|                0.765| 8500|\n",
            "+-----------------+------+---------------+---------------+---------------+--------------+------------------------+----------------------+---------------------+------------+-------------------+---------------+--------------------+---------------+--------------+-------------------+---------------------+-----+\n",
            "only showing top 20 rows\n",
            "\n"
          ]
        }
      ]
    },
    {
      "cell_type": "code",
      "source": [
        "# Define the new value\n",
        "new_value = 1627\n",
        "\n",
        "# Use `withColumn` and `when` function to create a new column with updated values\n",
        "new_df = updated_df.withColumn(\"count\", when(updated_df[\"count\"] == 8500, new_value).otherwise(updated_df[\"count\"]))\n",
        "\n",
        "# Show the updated DataFrame\n",
        "new_df.show()"
      ],
      "metadata": {
        "colab": {
          "base_uri": "https://localhost:8080/"
        },
        "id": "6wzAHYSpdsSt",
        "outputId": "5f33739c-cbd0-410b-c5f4-7dd505b650e9"
      },
      "execution_count": 65,
      "outputs": [
        {
          "output_type": "stream",
          "name": "stdout",
          "text": [
            "+-----------------+------+---------------+---------------+---------------+--------------+------------------------+----------------------+---------------------+------------+-------------------+---------------+--------------------+---------------+--------------+-------------------+---------------------+-----+\n",
            "|   Attrition_Flag|Gender|Dependent_count|Education_Level|Income_Category|Months_on_book|Total_Relationship_Count|Months_Inactive_12_mon|Contacts_Count_12_mon|Credit_Limit|Total_Revolving_Bal|Avg_Open_To_Buy|Total_Amt_Chng_Q4_Q1|Total_Trans_Amt|Total_Trans_Ct|Total_Ct_Chng_Q4_Q1|Avg_Utilization_Ratio|count|\n",
            "+-----------------+------+---------------+---------------+---------------+--------------+------------------------+----------------------+---------------------+------------+-------------------+---------------+--------------------+---------------+--------------+-------------------+---------------------+-----+\n",
            "|Existing Customer|     M|              3|       Graduate|   $80K - $120K|            36|                       4|                     1|                    0|      3418.0|                  0|         3418.0|               2.594|           1887|            20|              2.333|                  0.0| 1627|\n",
            "|Existing Customer|     F|              4|    High School| Less than $40K|            34|                       3|                     4|                    1|      3313.0|               2517|          796.0|               1.405|           1171|            20|              2.333|                 0.76| 1627|\n",
            "|Existing Customer|     M|              0|    High School|    $60K - $80K|            27|                       2|                     2|                    2|     29081.0|               1396|        27685.0|               2.204|           1538|            36|              0.714|                0.048| 1627|\n",
            "|Existing Customer|     M|              1|        Unknown|    $40K - $60K|            54|                       6|                     2|                    3|      9095.0|               1587|         7508.0|               1.433|           1314|            26|              1.364|                0.174| 1627|\n",
            "|Existing Customer|     M|              1|    High School|    $40K - $60K|            56|                       2|                     2|                    3|      3193.0|               2517|          676.0|               1.831|           1336|            30|              1.143|                0.788| 1627|\n",
            "|Existing Customer|     M|              1|      Doctorate|    $60K - $80K|            42|                       5|                     2|                    0|     20979.0|               1800|        19179.0|               0.906|           1178|            27|              0.929|                0.086| 1627|\n",
            "|Existing Customer|     F|              3|       Graduate| Less than $40K|            28|                       6|                     1|                    2|      7768.0|               1669|         6099.0|               0.797|           1051|            22|              0.833|                0.215| 1627|\n",
            "|Existing Customer|     M|              4|    High School|    $40K - $60K|            42|                       6|                     0|                    0|      4785.0|               1362|         3423.0|               0.739|           1045|            38|                0.9|                0.285| 1627|\n",
            "|Existing Customer|     M|              1|      Doctorate|    $40K - $60K|            52|                       3|                     2|                    2|      2548.0|               2020|          528.0|               2.357|           1719|            27|                1.7|                0.793| 1627|\n",
            "|Existing Customer|     M|              2|        Unknown|        $120K +|            36|                       4|                     2|                    0|     19763.0|               2517|        17246.0|               0.664|           1414|            35|               0.25|                0.127| 1627|\n",
            "|Existing Customer|     M|              2|    High School|    $60K - $80K|            34|                       4|                     4|                    3|      3336.0|               1753|         1583.0|                0.69|           1168|            27|               1.25|                0.525| 1627|\n",
            "|Existing Customer|     M|              3|        Unknown|   $80K - $120K|            47|                       4|                     2|                    3|      3436.0|               2016|         1420.0|               0.901|           1097|            33|              0.833|                0.587| 1627|\n",
            "|Existing Customer|     M|              4|     Uneducated|   $80K - $120K|            38|                       4|                     1|                    4|     34516.0|               1515|        33001.0|               0.592|           1293|            32|                0.6|                0.044| 1627|\n",
            "|Existing Customer|     M|              2|        College|    $60K - $80K|            52|                       5|                     3|                    3|      6584.0|               1817|         4767.0|                0.62|           1353|            35|              0.667|                0.276| 1627|\n",
            "|Existing Customer|     M|              2|      Doctorate|   $80K - $120K|            38|                       6|                     2|                    2|     25300.0|               1330|        23970.0|               1.072|            837|            15|                2.0|                0.053| 1627|\n",
            "|Existing Customer|     M|              3|       Graduate|    $60K - $80K|            30|                       6|                     1|                    2|      2536.0|               1823|          713.0|               0.703|           1468|            23|              0.353|                0.719| 1627|\n",
            "|Existing Customer|     M|              1|        Unknown|        $120K +|            36|                       6|                     2|                    2|     34516.0|               1533|        32983.0|               0.924|           1603|            29|              0.526|                0.044| 1627|\n",
            "|Existing Customer|     M|              2|       Graduate|    $60K - $80K|            47|                       5|                     3|                    0|      3085.0|               1910|         1175.0|               0.921|           1531|            35|              0.667|                0.619| 1627|\n",
            "|Existing Customer|     M|              4|    High School|   $80K - $120K|            38|                       4|                     3|                    0|     31302.0|               1953|        29349.0|               0.875|           1564|            35|              2.182|                0.062| 1627|\n",
            "|Existing Customer|     M|              0|       Graduate|   $80K - $120K|            42|                       5|                     4|                    1|      2664.0|               2037|          627.0|                0.85|           1286|            29|              0.933|                0.765| 1627|\n",
            "+-----------------+------+---------------+---------------+---------------+--------------+------------------------+----------------------+---------------------+------------+-------------------+---------------+--------------------+---------------+--------------+-------------------+---------------------+-----+\n",
            "only showing top 20 rows\n",
            "\n"
          ]
        }
      ]
    },
    {
      "cell_type": "code",
      "source": [
        "new_attrited_df = new_df.withColumn(\"Attrition_Flag\", F.when(F.col(\"Attrition_Flag\") =='Attrited Customer', 0).otherwise(1))\n",
        "new_attrited_df.show(3, truncate=False)\n",
        "\n",
        "new_attrited_df.groupby(\"Attrition_Flag\").count().show()"
      ],
      "metadata": {
        "colab": {
          "base_uri": "https://localhost:8080/"
        },
        "id": "dMBYlXq6dsPV",
        "outputId": "ca3f1e3d-f1c4-412a-9bec-01717ab11185"
      },
      "execution_count": 66,
      "outputs": [
        {
          "output_type": "stream",
          "name": "stdout",
          "text": [
            "+--------------+------+---------------+---------------+---------------+--------------+------------------------+----------------------+---------------------+------------+-------------------+---------------+--------------------+---------------+--------------+-------------------+---------------------+-----+\n",
            "|Attrition_Flag|Gender|Dependent_count|Education_Level|Income_Category|Months_on_book|Total_Relationship_Count|Months_Inactive_12_mon|Contacts_Count_12_mon|Credit_Limit|Total_Revolving_Bal|Avg_Open_To_Buy|Total_Amt_Chng_Q4_Q1|Total_Trans_Amt|Total_Trans_Ct|Total_Ct_Chng_Q4_Q1|Avg_Utilization_Ratio|count|\n",
            "+--------------+------+---------------+---------------+---------------+--------------+------------------------+----------------------+---------------------+------------+-------------------+---------------+--------------------+---------------+--------------+-------------------+---------------------+-----+\n",
            "|1             |M     |3              |Graduate       |$80K - $120K   |36            |4                       |1                     |0                    |3418.0      |0                  |3418.0         |2.594               |1887           |20            |2.333              |0.0                  |1627 |\n",
            "|1             |F     |4              |High School    |Less than $40K |34            |3                       |4                     |1                    |3313.0      |2517               |796.0          |1.405               |1171           |20            |2.333              |0.76                 |1627 |\n",
            "|1             |M     |0              |High School    |$60K - $80K    |27            |2                       |2                     |2                    |29081.0     |1396               |27685.0        |2.204               |1538           |36            |0.714              |0.048                |1627 |\n",
            "+--------------+------+---------------+---------------+---------------+--------------+------------------------+----------------------+---------------------+------------+-------------------+---------------+--------------------+---------------+--------------+-------------------+---------------------+-----+\n",
            "only showing top 3 rows\n",
            "\n",
            "+--------------+-----+\n",
            "|Attrition_Flag|count|\n",
            "+--------------+-----+\n",
            "|             1| 1684|\n",
            "|             0| 1627|\n",
            "+--------------+-----+\n",
            "\n"
          ]
        }
      ]
    },
    {
      "cell_type": "code",
      "source": [
        "(train_df, test_df) = new_attrited_df.randomSplit([0.8, 0.2], 11)\n",
        "print(\"Number of train samples: \" + str(train_df.count()))\n",
        "print(\"Number of test samples: \" + str(test_df.count()))"
      ],
      "metadata": {
        "colab": {
          "base_uri": "https://localhost:8080/"
        },
        "id": "IvEIroBlUp8U",
        "outputId": "a5f44ac6-81c2-4589-d692-e6d0438ba08a"
      },
      "execution_count": 67,
      "outputs": [
        {
          "output_type": "stream",
          "name": "stdout",
          "text": [
            "Number of train samples: 2632\n",
            "Number of test samples: 679\n"
          ]
        }
      ]
    },
    {
      "cell_type": "code",
      "source": [],
      "metadata": {
        "colab": {
          "base_uri": "https://localhost:8080/",
          "height": 353
        },
        "id": "P8ISOGM2Upzs",
        "outputId": "38863f3e-a0b1-4177-bc50-af1549d117cc"
      },
      "execution_count": 75,
      "outputs": [
        {
          "output_type": "error",
          "ename": "IllegalArgumentException",
          "evalue": "requirement failed: Output column AttritedIndex already exists.",
          "traceback": [
            "\u001b[0;31m---------------------------------------------------------------------------\u001b[0m",
            "\u001b[0;31mIllegalArgumentException\u001b[0m                  Traceback (most recent call last)",
            "\u001b[0;32m<ipython-input-75-2fbd9c441b53>\u001b[0m in \u001b[0;36m<cell line: 2>\u001b[0;34m()\u001b[0m\n\u001b[1;32m      1\u001b[0m \u001b[0mattrition_indexer_2\u001b[0m \u001b[0;34m=\u001b[0m \u001b[0mStringIndexer\u001b[0m\u001b[0;34m(\u001b[0m\u001b[0minputCol\u001b[0m\u001b[0;34m=\u001b[0m\u001b[0;34m'Attrition_Flag'\u001b[0m\u001b[0;34m,\u001b[0m \u001b[0moutputCol\u001b[0m\u001b[0;34m=\u001b[0m\u001b[0;34m'AttritedIndex'\u001b[0m\u001b[0;34m)\u001b[0m\u001b[0;34m\u001b[0m\u001b[0;34m\u001b[0m\u001b[0m\n\u001b[0;32m----> 2\u001b[0;31m \u001b[0mattrition_indexer_2\u001b[0m \u001b[0;34m=\u001b[0m \u001b[0mattrition_indexer_2\u001b[0m\u001b[0;34m.\u001b[0m\u001b[0mfit\u001b[0m\u001b[0;34m(\u001b[0m\u001b[0mtrain_df\u001b[0m\u001b[0;34m)\u001b[0m\u001b[0;34m\u001b[0m\u001b[0;34m\u001b[0m\u001b[0m\n\u001b[0m\u001b[1;32m      3\u001b[0m \u001b[0mtrain_df\u001b[0m \u001b[0;34m=\u001b[0m \u001b[0mattrition_indexer_2\u001b[0m\u001b[0;34m.\u001b[0m\u001b[0mtransform\u001b[0m\u001b[0;34m(\u001b[0m\u001b[0mtrain_df\u001b[0m\u001b[0;34m)\u001b[0m\u001b[0;34m\u001b[0m\u001b[0;34m\u001b[0m\u001b[0m\n\u001b[1;32m      4\u001b[0m \u001b[0mtrain_df\u001b[0m\u001b[0;34m.\u001b[0m\u001b[0mshow\u001b[0m\u001b[0;34m(\u001b[0m\u001b[0;36m3\u001b[0m\u001b[0;34m,\u001b[0m \u001b[0mtruncate\u001b[0m\u001b[0;34m=\u001b[0m\u001b[0;32mFalse\u001b[0m\u001b[0;34m)\u001b[0m\u001b[0;34m\u001b[0m\u001b[0;34m\u001b[0m\u001b[0m\n",
            "\u001b[0;32m/content/spark-3.5.1-bin-hadoop3/python/pyspark/ml/base.py\u001b[0m in \u001b[0;36mfit\u001b[0;34m(self, dataset, params)\u001b[0m\n\u001b[1;32m    203\u001b[0m                 \u001b[0;32mreturn\u001b[0m \u001b[0mself\u001b[0m\u001b[0;34m.\u001b[0m\u001b[0mcopy\u001b[0m\u001b[0;34m(\u001b[0m\u001b[0mparams\u001b[0m\u001b[0;34m)\u001b[0m\u001b[0;34m.\u001b[0m\u001b[0m_fit\u001b[0m\u001b[0;34m(\u001b[0m\u001b[0mdataset\u001b[0m\u001b[0;34m)\u001b[0m\u001b[0;34m\u001b[0m\u001b[0;34m\u001b[0m\u001b[0m\n\u001b[1;32m    204\u001b[0m             \u001b[0;32melse\u001b[0m\u001b[0;34m:\u001b[0m\u001b[0;34m\u001b[0m\u001b[0;34m\u001b[0m\u001b[0m\n\u001b[0;32m--> 205\u001b[0;31m                 \u001b[0;32mreturn\u001b[0m \u001b[0mself\u001b[0m\u001b[0;34m.\u001b[0m\u001b[0m_fit\u001b[0m\u001b[0;34m(\u001b[0m\u001b[0mdataset\u001b[0m\u001b[0;34m)\u001b[0m\u001b[0;34m\u001b[0m\u001b[0;34m\u001b[0m\u001b[0m\n\u001b[0m\u001b[1;32m    206\u001b[0m         \u001b[0;32melse\u001b[0m\u001b[0;34m:\u001b[0m\u001b[0;34m\u001b[0m\u001b[0;34m\u001b[0m\u001b[0m\n\u001b[1;32m    207\u001b[0m             raise TypeError(\n",
            "\u001b[0;32m/content/spark-3.5.1-bin-hadoop3/python/pyspark/ml/wrapper.py\u001b[0m in \u001b[0;36m_fit\u001b[0;34m(self, dataset)\u001b[0m\n\u001b[1;32m    379\u001b[0m \u001b[0;34m\u001b[0m\u001b[0m\n\u001b[1;32m    380\u001b[0m     \u001b[0;32mdef\u001b[0m \u001b[0m_fit\u001b[0m\u001b[0;34m(\u001b[0m\u001b[0mself\u001b[0m\u001b[0;34m,\u001b[0m \u001b[0mdataset\u001b[0m\u001b[0;34m:\u001b[0m \u001b[0mDataFrame\u001b[0m\u001b[0;34m)\u001b[0m \u001b[0;34m->\u001b[0m \u001b[0mJM\u001b[0m\u001b[0;34m:\u001b[0m\u001b[0;34m\u001b[0m\u001b[0;34m\u001b[0m\u001b[0m\n\u001b[0;32m--> 381\u001b[0;31m         \u001b[0mjava_model\u001b[0m \u001b[0;34m=\u001b[0m \u001b[0mself\u001b[0m\u001b[0;34m.\u001b[0m\u001b[0m_fit_java\u001b[0m\u001b[0;34m(\u001b[0m\u001b[0mdataset\u001b[0m\u001b[0;34m)\u001b[0m\u001b[0;34m\u001b[0m\u001b[0;34m\u001b[0m\u001b[0m\n\u001b[0m\u001b[1;32m    382\u001b[0m         \u001b[0mmodel\u001b[0m \u001b[0;34m=\u001b[0m \u001b[0mself\u001b[0m\u001b[0;34m.\u001b[0m\u001b[0m_create_model\u001b[0m\u001b[0;34m(\u001b[0m\u001b[0mjava_model\u001b[0m\u001b[0;34m)\u001b[0m\u001b[0;34m\u001b[0m\u001b[0;34m\u001b[0m\u001b[0m\n\u001b[1;32m    383\u001b[0m         \u001b[0;32mreturn\u001b[0m \u001b[0mself\u001b[0m\u001b[0;34m.\u001b[0m\u001b[0m_copyValues\u001b[0m\u001b[0;34m(\u001b[0m\u001b[0mmodel\u001b[0m\u001b[0;34m)\u001b[0m\u001b[0;34m\u001b[0m\u001b[0;34m\u001b[0m\u001b[0m\n",
            "\u001b[0;32m/content/spark-3.5.1-bin-hadoop3/python/pyspark/ml/wrapper.py\u001b[0m in \u001b[0;36m_fit_java\u001b[0;34m(self, dataset)\u001b[0m\n\u001b[1;32m    376\u001b[0m \u001b[0;34m\u001b[0m\u001b[0m\n\u001b[1;32m    377\u001b[0m         \u001b[0mself\u001b[0m\u001b[0;34m.\u001b[0m\u001b[0m_transfer_params_to_java\u001b[0m\u001b[0;34m(\u001b[0m\u001b[0;34m)\u001b[0m\u001b[0;34m\u001b[0m\u001b[0;34m\u001b[0m\u001b[0m\n\u001b[0;32m--> 378\u001b[0;31m         \u001b[0;32mreturn\u001b[0m \u001b[0mself\u001b[0m\u001b[0;34m.\u001b[0m\u001b[0m_java_obj\u001b[0m\u001b[0;34m.\u001b[0m\u001b[0mfit\u001b[0m\u001b[0;34m(\u001b[0m\u001b[0mdataset\u001b[0m\u001b[0;34m.\u001b[0m\u001b[0m_jdf\u001b[0m\u001b[0;34m)\u001b[0m\u001b[0;34m\u001b[0m\u001b[0;34m\u001b[0m\u001b[0m\n\u001b[0m\u001b[1;32m    379\u001b[0m \u001b[0;34m\u001b[0m\u001b[0m\n\u001b[1;32m    380\u001b[0m     \u001b[0;32mdef\u001b[0m \u001b[0m_fit\u001b[0m\u001b[0;34m(\u001b[0m\u001b[0mself\u001b[0m\u001b[0;34m,\u001b[0m \u001b[0mdataset\u001b[0m\u001b[0;34m:\u001b[0m \u001b[0mDataFrame\u001b[0m\u001b[0;34m)\u001b[0m \u001b[0;34m->\u001b[0m \u001b[0mJM\u001b[0m\u001b[0;34m:\u001b[0m\u001b[0;34m\u001b[0m\u001b[0;34m\u001b[0m\u001b[0m\n",
            "\u001b[0;32m/content/spark-3.5.1-bin-hadoop3/python/lib/py4j-0.10.9.7-src.zip/py4j/java_gateway.py\u001b[0m in \u001b[0;36m__call__\u001b[0;34m(self, *args)\u001b[0m\n\u001b[1;32m   1320\u001b[0m \u001b[0;34m\u001b[0m\u001b[0m\n\u001b[1;32m   1321\u001b[0m         \u001b[0manswer\u001b[0m \u001b[0;34m=\u001b[0m \u001b[0mself\u001b[0m\u001b[0;34m.\u001b[0m\u001b[0mgateway_client\u001b[0m\u001b[0;34m.\u001b[0m\u001b[0msend_command\u001b[0m\u001b[0;34m(\u001b[0m\u001b[0mcommand\u001b[0m\u001b[0;34m)\u001b[0m\u001b[0;34m\u001b[0m\u001b[0;34m\u001b[0m\u001b[0m\n\u001b[0;32m-> 1322\u001b[0;31m         return_value = get_return_value(\n\u001b[0m\u001b[1;32m   1323\u001b[0m             answer, self.gateway_client, self.target_id, self.name)\n\u001b[1;32m   1324\u001b[0m \u001b[0;34m\u001b[0m\u001b[0m\n",
            "\u001b[0;32m/content/spark-3.5.1-bin-hadoop3/python/pyspark/errors/exceptions/captured.py\u001b[0m in \u001b[0;36mdeco\u001b[0;34m(*a, **kw)\u001b[0m\n\u001b[1;32m    183\u001b[0m                 \u001b[0;31m# Hide where the exception came from that shows a non-Pythonic\u001b[0m\u001b[0;34m\u001b[0m\u001b[0;34m\u001b[0m\u001b[0m\n\u001b[1;32m    184\u001b[0m                 \u001b[0;31m# JVM exception message.\u001b[0m\u001b[0;34m\u001b[0m\u001b[0;34m\u001b[0m\u001b[0m\n\u001b[0;32m--> 185\u001b[0;31m                 \u001b[0;32mraise\u001b[0m \u001b[0mconverted\u001b[0m \u001b[0;32mfrom\u001b[0m \u001b[0;32mNone\u001b[0m\u001b[0;34m\u001b[0m\u001b[0;34m\u001b[0m\u001b[0m\n\u001b[0m\u001b[1;32m    186\u001b[0m             \u001b[0;32melse\u001b[0m\u001b[0;34m:\u001b[0m\u001b[0;34m\u001b[0m\u001b[0;34m\u001b[0m\u001b[0m\n\u001b[1;32m    187\u001b[0m                 \u001b[0;32mraise\u001b[0m\u001b[0;34m\u001b[0m\u001b[0;34m\u001b[0m\u001b[0m\n",
            "\u001b[0;31mIllegalArgumentException\u001b[0m: requirement failed: Output column AttritedIndex already exists."
          ]
        }
      ]
    },
    {
      "cell_type": "code",
      "source": [
        "inputCols=[\n",
        " 'Dependent_count',\n",
        " 'Months_on_book',\n",
        " 'Total_Relationship_Count',\n",
        " 'Months_Inactive_12_mon',\n",
        " 'Contacts_Count_12_mon',\n",
        " 'Credit_Limit',\n",
        " 'Total_Revolving_Bal',\n",
        " 'Avg_Open_To_Buy',\n",
        " 'Total_Amt_Chng_Q4_Q1',\n",
        " 'Total_Trans_Amt',\n",
        " 'Total_Trans_Ct',\n",
        " 'Total_Ct_Chng_Q4_Q1',\n",
        " 'Avg_Utilization_Ratio'\n",
        "    ]\n",
        "\n",
        "outputCol=\"features\"\n",
        "\n",
        "vector_assembler2 = VectorAssembler(inputCols= inputCols, outputCol=outputCol )\n",
        "train_df2 = vector_assembler2.transform(train_df)"
      ],
      "metadata": {
        "id": "N3Wu5wQwUpra"
      },
      "execution_count": 69,
      "outputs": []
    },
    {
      "cell_type": "code",
      "source": [
        "modeling_df = train_df.select(['features', 'Attrition_Flag'])\n",
        "modeling_df.show()\n",
        "\n",
        "modeling_df.tail(10)\n",
        "modeling_df.show()"
      ],
      "metadata": {
        "colab": {
          "base_uri": "https://localhost:8080/"
        },
        "id": "EkmpPwmXVo5f",
        "outputId": "301c3e1a-96b8-43d6-8c4c-af7503ba0d9f"
      },
      "execution_count": 70,
      "outputs": [
        {
          "output_type": "stream",
          "name": "stdout",
          "text": [
            "+--------------------+--------------+\n",
            "|            features|Attrition_Flag|\n",
            "+--------------------+--------------+\n",
            "|[0.0,13.0,2.0,3.0...|             1|\n",
            "|[0.0,46.0,6.0,2.0...|             1|\n",
            "|[0.0,53.0,3.0,2.0...|             1|\n",
            "|[0.0,30.0,3.0,2.0...|             1|\n",
            "|[0.0,36.0,1.0,2.0...|             1|\n",
            "|[0.0,56.0,5.0,2.0...|             1|\n",
            "|[0.0,36.0,1.0,1.0...|             1|\n",
            "|[0.0,51.0,3.0,3.0...|             1|\n",
            "|[0.0,36.0,3.0,1.0...|             1|\n",
            "|[0.0,45.0,5.0,2.0...|             1|\n",
            "|[0.0,45.0,6.0,3.0...|             1|\n",
            "|[0.0,56.0,4.0,2.0...|             1|\n",
            "|[0.0,56.0,4.0,3.0...|             1|\n",
            "|[0.0,17.0,4.0,1.0...|             1|\n",
            "|[0.0,20.0,5.0,1.0...|             1|\n",
            "|[0.0,26.0,3.0,1.0...|             1|\n",
            "|[0.0,26.0,6.0,1.0...|             1|\n",
            "|[0.0,32.0,2.0,2.0...|             1|\n",
            "|[0.0,36.0,2.0,2.0...|             1|\n",
            "|[0.0,36.0,4.0,3.0...|             1|\n",
            "+--------------------+--------------+\n",
            "only showing top 20 rows\n",
            "\n",
            "+--------------------+--------------+\n",
            "|            features|Attrition_Flag|\n",
            "+--------------------+--------------+\n",
            "|[0.0,13.0,2.0,3.0...|             1|\n",
            "|[0.0,46.0,6.0,2.0...|             1|\n",
            "|[0.0,53.0,3.0,2.0...|             1|\n",
            "|[0.0,30.0,3.0,2.0...|             1|\n",
            "|[0.0,36.0,1.0,2.0...|             1|\n",
            "|[0.0,56.0,5.0,2.0...|             1|\n",
            "|[0.0,36.0,1.0,1.0...|             1|\n",
            "|[0.0,51.0,3.0,3.0...|             1|\n",
            "|[0.0,36.0,3.0,1.0...|             1|\n",
            "|[0.0,45.0,5.0,2.0...|             1|\n",
            "|[0.0,45.0,6.0,3.0...|             1|\n",
            "|[0.0,56.0,4.0,2.0...|             1|\n",
            "|[0.0,56.0,4.0,3.0...|             1|\n",
            "|[0.0,17.0,4.0,1.0...|             1|\n",
            "|[0.0,20.0,5.0,1.0...|             1|\n",
            "|[0.0,26.0,3.0,1.0...|             1|\n",
            "|[0.0,26.0,6.0,1.0...|             1|\n",
            "|[0.0,32.0,2.0,2.0...|             1|\n",
            "|[0.0,36.0,2.0,2.0...|             1|\n",
            "|[0.0,36.0,4.0,3.0...|             1|\n",
            "+--------------------+--------------+\n",
            "only showing top 20 rows\n",
            "\n"
          ]
        }
      ]
    },
    {
      "cell_type": "code",
      "source": [
        "#Creatind a DecisionTreeClassifier model\n",
        "model_credit = DecisionTreeClassifier(labelCol=\"Attrition_Flag\", featuresCol=\"features\")\n",
        "\n",
        "#Train model\n",
        "model_credit = model_credit.fit(modeling_df)"
      ],
      "metadata": {
        "id": "_5jqAE8fVot-"
      },
      "execution_count": 71,
      "outputs": []
    },
    {
      "cell_type": "code",
      "source": [
        "predicton = model_credit.transform(modeling_df)\n",
        "predicton.show()"
      ],
      "metadata": {
        "colab": {
          "base_uri": "https://localhost:8080/"
        },
        "id": "RGg5yc7hV2zN",
        "outputId": "5859f748-1fbf-4570-88f1-9f46eaf983da"
      },
      "execution_count": 72,
      "outputs": [
        {
          "output_type": "stream",
          "name": "stdout",
          "text": [
            "+--------------------+--------------+-------------+--------------------+----------+\n",
            "|            features|Attrition_Flag|rawPrediction|         probability|prediction|\n",
            "+--------------------+--------------+-------------+--------------------+----------+\n",
            "|[0.0,13.0,2.0,3.0...|             1|  [4.0,612.0]|[0.00649350649350...|       1.0|\n",
            "|[0.0,46.0,6.0,2.0...|             1|  [4.0,612.0]|[0.00649350649350...|       1.0|\n",
            "|[0.0,53.0,3.0,2.0...|             1|  [4.0,612.0]|[0.00649350649350...|       1.0|\n",
            "|[0.0,30.0,3.0,2.0...|             1|   [5.0,74.0]|[0.06329113924050...|       1.0|\n",
            "|[0.0,36.0,1.0,2.0...|             1| [10.0,194.0]|[0.04901960784313...|       1.0|\n",
            "|[0.0,56.0,5.0,2.0...|             1|  [4.0,612.0]|[0.00649350649350...|       1.0|\n",
            "|[0.0,36.0,1.0,1.0...|             1| [10.0,194.0]|[0.04901960784313...|       1.0|\n",
            "|[0.0,51.0,3.0,3.0...|             1| [56.0,244.0]|[0.18666666666666...|       1.0|\n",
            "|[0.0,36.0,3.0,1.0...|             1|   [25.0,2.0]|[0.92592592592592...|       0.0|\n",
            "|[0.0,45.0,5.0,2.0...|             1|   [15.0,4.0]|[0.78947368421052...|       0.0|\n",
            "|[0.0,45.0,6.0,3.0...|             1|  [4.0,612.0]|[0.00649350649350...|       1.0|\n",
            "|[0.0,56.0,4.0,2.0...|             1| [56.0,244.0]|[0.18666666666666...|       1.0|\n",
            "|[0.0,56.0,4.0,3.0...|             1|  [4.0,612.0]|[0.00649350649350...|       1.0|\n",
            "|[0.0,17.0,4.0,1.0...|             1|  [4.0,612.0]|[0.00649350649350...|       1.0|\n",
            "|[0.0,20.0,5.0,1.0...|             1|  [4.0,612.0]|[0.00649350649350...|       1.0|\n",
            "|[0.0,26.0,3.0,1.0...|             1| [56.0,244.0]|[0.18666666666666...|       1.0|\n",
            "|[0.0,26.0,6.0,1.0...|             1|  [4.0,612.0]|[0.00649350649350...|       1.0|\n",
            "|[0.0,32.0,2.0,2.0...|             1|  [4.0,612.0]|[0.00649350649350...|       1.0|\n",
            "|[0.0,36.0,2.0,2.0...|             1|  [4.0,612.0]|[0.00649350649350...|       1.0|\n",
            "|[0.0,36.0,4.0,3.0...|             1| [652.0,25.0]|[0.96307237813884...|       0.0|\n",
            "+--------------------+--------------+-------------+--------------------+----------+\n",
            "only showing top 20 rows\n",
            "\n"
          ]
        }
      ]
    },
    {
      "cell_type": "code",
      "source": [
        "\n",
        "evaluator = MulticlassClassificationEvaluator(labelCol=\"Attrition_Flag\")\n",
        "area = evaluator.evaluate(predicton)\n",
        "\n",
        "print(area)"
      ],
      "metadata": {
        "colab": {
          "base_uri": "https://localhost:8080/"
        },
        "id": "bWT21dkaV9EQ",
        "outputId": "183f2650-6aa0-43c4-ec52-af7b62760b39"
      },
      "execution_count": 73,
      "outputs": [
        {
          "output_type": "stream",
          "name": "stdout",
          "text": [
            "0.9201211456673946\n"
          ]
        }
      ]
    },
    {
      "cell_type": "code",
      "source": [],
      "metadata": {
        "id": "dkU5QIerWC2z"
      },
      "execution_count": null,
      "outputs": []
    },
    {
      "cell_type": "code",
      "source": [],
      "metadata": {
        "id": "SZKEupPaWCz2"
      },
      "execution_count": null,
      "outputs": []
    },
    {
      "cell_type": "code",
      "source": [],
      "metadata": {
        "id": "ILysrhHsWCw0"
      },
      "execution_count": null,
      "outputs": []
    }
  ]
}