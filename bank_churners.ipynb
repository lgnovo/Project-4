{
 "cells": [
  {
   "cell_type": "code",
   "execution_count": 23,
   "metadata": {
    "colab": {
     "base_uri": "https://localhost:8080/"
    },
    "id": "a_KW73O2e3dw",
    "outputId": "fa5fd2b3-e2de-491b-ee1c-405317ba7ebc"
   },
   "outputs": [],
   "source": [
    "# Import findspark and initialize. \n",
    "import findspark\n",
    "findspark.init()"
   ]
  },
  {
   "cell_type": "code",
   "execution_count": 24,
   "metadata": {
    "id": "2XbWNf1Te5fM"
   },
   "outputs": [],
   "source": [
    "# Import packages\n",
    "from pyspark.sql import SparkSession\n",
    "import time\n",
    "\n",
    "# Create a SparkSession\n",
    "spark = SparkSession.builder.appName(\"SparkSQL\").getOrCreate()"
   ]
  },
  {
   "cell_type": "code",
   "execution_count": 25,
   "metadata": {
    "colab": {
     "base_uri": "https://localhost:8080/"
    },
    "id": "wOJqxG_RPSwp",
    "outputId": "7857ef9f-5b04-405d-f5aa-e535dfe7870c"
   },
   "outputs": [
    {
     "name": "stderr",
     "output_type": "stream",
     "text": [
      "24/05/30 19:38:31 WARN SparkContext: The path https://groupfourproject.s3.ca-central-1.amazonaws.com/bank_churners.csv has been added already. Overwriting of added paths is not supported in the current version.\n"
     ]
    },
    {
     "name": "stdout",
     "output_type": "stream",
     "text": [
      "+---------+-----------------+------------+------+---------------+---------------+--------------+---------------+-------------+--------------+------------------------+----------------------+---------------------+------------+-------------------+---------------+--------------------+---------------+--------------+-------------------+---------------------+----------------------------------------------------------------------------------------------------------------------------------+----------------------------------------------------------------------------------------------------------------------------------+\n",
      "|CLIENTNUM|   Attrition_Flag|Customer_Age|Gender|Dependent_count|Education_Level|Marital_Status|Income_Category|Card_Category|Months_on_book|Total_Relationship_Count|Months_Inactive_12_mon|Contacts_Count_12_mon|Credit_Limit|Total_Revolving_Bal|Avg_Open_To_Buy|Total_Amt_Chng_Q4_Q1|Total_Trans_Amt|Total_Trans_Ct|Total_Ct_Chng_Q4_Q1|Avg_Utilization_Ratio|Naive_Bayes_Classifier_Attrition_Flag_Card_Category_Contacts_Count_12_mon_Dependent_count_Education_Level_Months_Inactive_12_mon_1|Naive_Bayes_Classifier_Attrition_Flag_Card_Category_Contacts_Count_12_mon_Dependent_count_Education_Level_Months_Inactive_12_mon_2|\n",
      "+---------+-----------------+------------+------+---------------+---------------+--------------+---------------+-------------+--------------+------------------------+----------------------+---------------------+------------+-------------------+---------------+--------------------+---------------+--------------+-------------------+---------------------+----------------------------------------------------------------------------------------------------------------------------------+----------------------------------------------------------------------------------------------------------------------------------+\n",
      "|768805383|Existing Customer|          45|     M|              3|    High School|       Married|    $60K - $80K|         Blue|            39|                       5|                     1|                    3|       12691|                777|          11914|               1.335|           1144|            42|              1.625|                0.061|                                                                                                                        9.3448e-05|                                                                                                                           0.99991|\n",
      "|818770008|Existing Customer|          49|     F|              5|       Graduate|        Single| Less than $40K|         Blue|            44|                       6|                     1|                    2|        8256|                864|           7392|               1.541|           1291|            33|              3.714|                0.105|                                                                                                                        5.6861e-05|                                                                                                                           0.99994|\n",
      "|713982108|Existing Customer|          51|     M|              3|       Graduate|       Married|   $80K - $120K|         Blue|            36|                       4|                     1|                    0|        3418|                  0|           3418|               2.594|           1887|            20|              2.333|                    0|                                                                                                                        2.1081e-05|                                                                                                                           0.99998|\n",
      "|769911858|Existing Customer|          40|     F|              4|    High School|       Unknown| Less than $40K|         Blue|            34|                       3|                     4|                    1|        3313|               2517|            796|               1.405|           1171|            20|              2.333|                 0.76|                                                                                                                        0.00013366|                                                                                                                           0.99987|\n",
      "|709106358|Existing Customer|          40|     M|              3|     Uneducated|       Married|    $60K - $80K|         Blue|            21|                       5|                     1|                    0|        4716|                  0|           4716|               2.175|            816|            28|                2.5|                    0|                                                                                                                        2.1676e-05|                                                                                                                           0.99998|\n",
      "|713061558|Existing Customer|          44|     M|              2|       Graduate|       Married|    $40K - $60K|         Blue|            36|                       3|                     1|                    2|        4010|               1247|           2763|               1.376|           1088|            24|              0.846|                0.311|                                                                                                                        5.5077e-05|                                                                                                                           0.99994|\n",
      "|810347208|Existing Customer|          51|     M|              4|        Unknown|       Married|        $120K +|         Gold|            46|                       6|                     1|                    3|       34516|               2264|          32252|               1.975|           1330|            31|              0.722|                0.066|                                                                                                                        0.00012303|                                                                                                                           0.99988|\n",
      "|818906208|Existing Customer|          32|     M|              0|    High School|       Unknown|    $60K - $80K|       Silver|            27|                       2|                     2|                    2|       29081|               1396|          27685|               2.204|           1538|            36|              0.714|                0.048|                                                                                                                        8.5795e-05|                                                                                                                           0.99991|\n",
      "|710930508|Existing Customer|          37|     M|              3|     Uneducated|        Single|    $60K - $80K|         Blue|            36|                       5|                     2|                    0|       22352|               2517|          19835|               3.355|           1350|            24|              1.182|                0.113|                                                                                                                        4.4796e-05|                                                                                                                           0.99996|\n",
      "|719661558|Existing Customer|          48|     M|              2|       Graduate|        Single|   $80K - $120K|         Blue|            36|                       6|                     3|                    3|       11656|               1677|           9979|               1.524|           1441|            32|              0.882|                0.144|                                                                                                                        0.00030251|                                                                                                                            0.9997|\n",
      "|708790833|Existing Customer|          42|     M|              5|     Uneducated|       Unknown|        $120K +|         Blue|            31|                       5|                     3|                    2|        6748|               1467|           5281|               0.831|           1201|            42|               0.68|                0.217|                                                                                                                        0.00019094|                                                                                                                           0.99981|\n",
      "|710821833|Existing Customer|          65|     M|              1|        Unknown|       Married|    $40K - $60K|         Blue|            54|                       6|                     2|                    3|        9095|               1587|           7508|               1.433|           1314|            26|              1.364|                0.174|                                                                                                                        0.00019751|                                                                                                                            0.9998|\n",
      "|710599683|Existing Customer|          56|     M|              1|        College|        Single|   $80K - $120K|         Blue|            36|                       3|                     6|                    0|       11751|                  0|          11751|               3.397|           1539|            17|               3.25|                    0|                                                                                                                        4.7799e-05|                                                                                                                           0.99995|\n",
      "|816082233|Existing Customer|          35|     M|              3|       Graduate|       Unknown|    $60K - $80K|         Blue|            30|                       5|                     1|                    3|        8547|               1666|           6881|               1.163|           1311|            33|                  2|                0.195|                                                                                                                        9.6126e-05|                                                                                                                            0.9999|\n",
      "|712396908|Existing Customer|          57|     F|              2|       Graduate|       Married| Less than $40K|         Blue|            48|                       5|                     2|                    2|        2436|                680|           1756|                1.19|           1570|            29|              0.611|                0.279|                                                                                                                        0.00011382|                                                                                                                           0.99989|\n",
      "|714885258|Existing Customer|          44|     M|              4|        Unknown|       Unknown|   $80K - $120K|         Blue|            37|                       5|                     1|                    2|        4234|                972|           3262|               1.707|           1348|            27|                1.7|                 0.23|                                                                                                                        6.3492e-05|                                                                                                                           0.99994|\n",
      "|709967358|Existing Customer|          48|     M|              4|  Post-Graduate|        Single|   $80K - $120K|         Blue|            36|                       6|                     2|                    3|       30367|               2362|          28005|               1.708|           1671|            27|              0.929|                0.078|                                                                                                                        0.00023623|                                                                                                                           0.99976|\n",
      "|753327333|Existing Customer|          41|     M|              3|        Unknown|       Married|   $80K - $120K|         Blue|            34|                       4|                     4|                    1|       13535|               1291|          12244|               0.653|           1028|            21|              1.625|                0.095|                                                                                                                        0.00014953|                                                                                                                           0.99985|\n",
      "|806160108|Existing Customer|          61|     M|              1|    High School|       Married|    $40K - $60K|         Blue|            56|                       2|                     2|                    3|        3193|               2517|            676|               1.831|           1336|            30|              1.143|                0.788|                                                                                                                        0.00017468|                                                                                                                           0.99983|\n",
      "|709327383|Existing Customer|          45|     F|              2|       Graduate|       Married|        Unknown|         Blue|            37|                       6|                     1|                    2|       14470|               1157|          13313|               0.966|           1207|            21|              0.909|                 0.08|                                                                                                                        5.5077e-05|                                                                                                                           0.99994|\n",
      "+---------+-----------------+------------+------+---------------+---------------+--------------+---------------+-------------+--------------+------------------------+----------------------+---------------------+------------+-------------------+---------------+--------------------+---------------+--------------+-------------------+---------------------+----------------------------------------------------------------------------------------------------------------------------------+----------------------------------------------------------------------------------------------------------------------------------+\n",
      "only showing top 20 rows\n",
      "\n"
     ]
    }
   ],
   "source": [
    "# 1. Read in the AWS S3 bucket into a DataFrame.\n",
    "from pyspark import SparkFiles\n",
    "url = \"https://groupfourproject.s3.ca-central-1.amazonaws.com/bank_churners.csv\"\n",
    "spark.sparkContext.addFile(url)\n",
    "df = spark.read.csv(SparkFiles.get(\"bank_churners.csv\"), sep=\",\", header=True, ignoreLeadingWhiteSpace=True)\n",
    "df.show()\n"
   ]
  },
  {
   "cell_type": "code",
   "execution_count": 26,
   "metadata": {},
   "outputs": [
    {
     "name": "stdout",
     "output_type": "stream",
     "text": [
      "<class 'pandas.core.frame.DataFrame'>\n",
      "RangeIndex: 10127 entries, 0 to 10126\n",
      "Data columns (total 23 columns):\n",
      " #   Column                                                                                                                              Non-Null Count  Dtype \n",
      "---  ------                                                                                                                              --------------  ----- \n",
      " 0   CLIENTNUM                                                                                                                           10127 non-null  object\n",
      " 1   Attrition_Flag                                                                                                                      10127 non-null  object\n",
      " 2   Customer_Age                                                                                                                        10127 non-null  object\n",
      " 3   Gender                                                                                                                              10127 non-null  object\n",
      " 4   Dependent_count                                                                                                                     10127 non-null  object\n",
      " 5   Education_Level                                                                                                                     10127 non-null  object\n",
      " 6   Marital_Status                                                                                                                      10127 non-null  object\n",
      " 7   Income_Category                                                                                                                     10127 non-null  object\n",
      " 8   Card_Category                                                                                                                       10127 non-null  object\n",
      " 9   Months_on_book                                                                                                                      10127 non-null  object\n",
      " 10  Total_Relationship_Count                                                                                                            10127 non-null  object\n",
      " 11  Months_Inactive_12_mon                                                                                                              10127 non-null  object\n",
      " 12  Contacts_Count_12_mon                                                                                                               10127 non-null  object\n",
      " 13  Credit_Limit                                                                                                                        10127 non-null  object\n",
      " 14  Total_Revolving_Bal                                                                                                                 10127 non-null  object\n",
      " 15  Avg_Open_To_Buy                                                                                                                     10127 non-null  object\n",
      " 16  Total_Amt_Chng_Q4_Q1                                                                                                                10127 non-null  object\n",
      " 17  Total_Trans_Amt                                                                                                                     10127 non-null  object\n",
      " 18  Total_Trans_Ct                                                                                                                      10127 non-null  object\n",
      " 19  Total_Ct_Chng_Q4_Q1                                                                                                                 10127 non-null  object\n",
      " 20  Avg_Utilization_Ratio                                                                                                               10127 non-null  object\n",
      " 21  Naive_Bayes_Classifier_Attrition_Flag_Card_Category_Contacts_Count_12_mon_Dependent_count_Education_Level_Months_Inactive_12_mon_1  10127 non-null  object\n",
      " 22  Naive_Bayes_Classifier_Attrition_Flag_Card_Category_Contacts_Count_12_mon_Dependent_count_Education_Level_Months_Inactive_12_mon_2  10127 non-null  object\n",
      "dtypes: object(23)\n",
      "memory usage: 1.8+ MB\n"
     ]
    }
   ],
   "source": [
    "import pandas as pd\n",
    "pandas_df = df.toPandas()\n",
    "pandas_df.info()\n"
   ]
  },
  {
   "cell_type": "code",
   "execution_count": 27,
   "metadata": {},
   "outputs": [
    {
     "data": {
      "text/plain": [
       "CLIENTNUM                                                                                                                             10127\n",
       "Attrition_Flag                                                                                                                            2\n",
       "Customer_Age                                                                                                                             45\n",
       "Gender                                                                                                                                    2\n",
       "Dependent_count                                                                                                                           6\n",
       "Education_Level                                                                                                                           7\n",
       "Marital_Status                                                                                                                            4\n",
       "Income_Category                                                                                                                           6\n",
       "Card_Category                                                                                                                             4\n",
       "Months_on_book                                                                                                                           44\n",
       "Total_Relationship_Count                                                                                                                  6\n",
       "Months_Inactive_12_mon                                                                                                                    7\n",
       "Contacts_Count_12_mon                                                                                                                     7\n",
       "Credit_Limit                                                                                                                           6205\n",
       "Total_Revolving_Bal                                                                                                                    1974\n",
       "Avg_Open_To_Buy                                                                                                                        6813\n",
       "Total_Amt_Chng_Q4_Q1                                                                                                                   1158\n",
       "Total_Trans_Amt                                                                                                                        5033\n",
       "Total_Trans_Ct                                                                                                                          126\n",
       "Total_Ct_Chng_Q4_Q1                                                                                                                     830\n",
       "Avg_Utilization_Ratio                                                                                                                   964\n",
       "Naive_Bayes_Classifier_Attrition_Flag_Card_Category_Contacts_Count_12_mon_Dependent_count_Education_Level_Months_Inactive_12_mon_1     1704\n",
       "Naive_Bayes_Classifier_Attrition_Flag_Card_Category_Contacts_Count_12_mon_Dependent_count_Education_Level_Months_Inactive_12_mon_2      640\n",
       "dtype: int64"
      ]
     },
     "execution_count": 27,
     "metadata": {},
     "output_type": "execute_result"
    }
   ],
   "source": [
    "pandas_df.select_dtypes(include=\"object\").nunique()"
   ]
  },
  {
   "cell_type": "code",
   "execution_count": 28,
   "metadata": {},
   "outputs": [],
   "source": [
    "bank_df = pandas_df.drop([\"Naive_Bayes_Classifier_Attrition_Flag_Card_Category_Contacts_Count_12_mon_Dependent_count_Education_Level_Months_Inactive_12_mon_1\", \"Naive_Bayes_Classifier_Attrition_Flag_Card_Category_Contacts_Count_12_mon_Dependent_count_Education_Level_Months_Inactive_12_mon_2\"], axis=1)"
   ]
  },
  {
   "cell_type": "code",
   "execution_count": 29,
   "metadata": {},
   "outputs": [
    {
     "data": {
      "text/html": [
       "<div>\n",
       "<style scoped>\n",
       "    .dataframe tbody tr th:only-of-type {\n",
       "        vertical-align: middle;\n",
       "    }\n",
       "\n",
       "    .dataframe tbody tr th {\n",
       "        vertical-align: top;\n",
       "    }\n",
       "\n",
       "    .dataframe thead th {\n",
       "        text-align: right;\n",
       "    }\n",
       "</style>\n",
       "<table border=\"1\" class=\"dataframe\">\n",
       "  <thead>\n",
       "    <tr style=\"text-align: right;\">\n",
       "      <th></th>\n",
       "      <th>count</th>\n",
       "      <th>unique</th>\n",
       "      <th>top</th>\n",
       "      <th>freq</th>\n",
       "    </tr>\n",
       "  </thead>\n",
       "  <tbody>\n",
       "    <tr>\n",
       "      <th>CLIENTNUM</th>\n",
       "      <td>10127</td>\n",
       "      <td>10127</td>\n",
       "      <td>768805383</td>\n",
       "      <td>1</td>\n",
       "    </tr>\n",
       "    <tr>\n",
       "      <th>Attrition_Flag</th>\n",
       "      <td>10127</td>\n",
       "      <td>2</td>\n",
       "      <td>Existing Customer</td>\n",
       "      <td>8500</td>\n",
       "    </tr>\n",
       "    <tr>\n",
       "      <th>Customer_Age</th>\n",
       "      <td>10127</td>\n",
       "      <td>45</td>\n",
       "      <td>44</td>\n",
       "      <td>500</td>\n",
       "    </tr>\n",
       "    <tr>\n",
       "      <th>Gender</th>\n",
       "      <td>10127</td>\n",
       "      <td>2</td>\n",
       "      <td>F</td>\n",
       "      <td>5358</td>\n",
       "    </tr>\n",
       "    <tr>\n",
       "      <th>Dependent_count</th>\n",
       "      <td>10127</td>\n",
       "      <td>6</td>\n",
       "      <td>3</td>\n",
       "      <td>2732</td>\n",
       "    </tr>\n",
       "    <tr>\n",
       "      <th>Education_Level</th>\n",
       "      <td>10127</td>\n",
       "      <td>7</td>\n",
       "      <td>Graduate</td>\n",
       "      <td>3128</td>\n",
       "    </tr>\n",
       "    <tr>\n",
       "      <th>Marital_Status</th>\n",
       "      <td>10127</td>\n",
       "      <td>4</td>\n",
       "      <td>Married</td>\n",
       "      <td>4687</td>\n",
       "    </tr>\n",
       "    <tr>\n",
       "      <th>Income_Category</th>\n",
       "      <td>10127</td>\n",
       "      <td>6</td>\n",
       "      <td>Less than $40K</td>\n",
       "      <td>3561</td>\n",
       "    </tr>\n",
       "    <tr>\n",
       "      <th>Card_Category</th>\n",
       "      <td>10127</td>\n",
       "      <td>4</td>\n",
       "      <td>Blue</td>\n",
       "      <td>9436</td>\n",
       "    </tr>\n",
       "    <tr>\n",
       "      <th>Months_on_book</th>\n",
       "      <td>10127</td>\n",
       "      <td>44</td>\n",
       "      <td>36</td>\n",
       "      <td>2463</td>\n",
       "    </tr>\n",
       "    <tr>\n",
       "      <th>Total_Relationship_Count</th>\n",
       "      <td>10127</td>\n",
       "      <td>6</td>\n",
       "      <td>3</td>\n",
       "      <td>2305</td>\n",
       "    </tr>\n",
       "    <tr>\n",
       "      <th>Months_Inactive_12_mon</th>\n",
       "      <td>10127</td>\n",
       "      <td>7</td>\n",
       "      <td>3</td>\n",
       "      <td>3846</td>\n",
       "    </tr>\n",
       "    <tr>\n",
       "      <th>Contacts_Count_12_mon</th>\n",
       "      <td>10127</td>\n",
       "      <td>7</td>\n",
       "      <td>3</td>\n",
       "      <td>3380</td>\n",
       "    </tr>\n",
       "    <tr>\n",
       "      <th>Credit_Limit</th>\n",
       "      <td>10127</td>\n",
       "      <td>6205</td>\n",
       "      <td>34516</td>\n",
       "      <td>508</td>\n",
       "    </tr>\n",
       "    <tr>\n",
       "      <th>Total_Revolving_Bal</th>\n",
       "      <td>10127</td>\n",
       "      <td>1974</td>\n",
       "      <td>0</td>\n",
       "      <td>2470</td>\n",
       "    </tr>\n",
       "    <tr>\n",
       "      <th>Avg_Open_To_Buy</th>\n",
       "      <td>10127</td>\n",
       "      <td>6813</td>\n",
       "      <td>1438.3</td>\n",
       "      <td>324</td>\n",
       "    </tr>\n",
       "    <tr>\n",
       "      <th>Total_Amt_Chng_Q4_Q1</th>\n",
       "      <td>10127</td>\n",
       "      <td>1158</td>\n",
       "      <td>0.791</td>\n",
       "      <td>36</td>\n",
       "    </tr>\n",
       "    <tr>\n",
       "      <th>Total_Trans_Amt</th>\n",
       "      <td>10127</td>\n",
       "      <td>5033</td>\n",
       "      <td>4253</td>\n",
       "      <td>11</td>\n",
       "    </tr>\n",
       "    <tr>\n",
       "      <th>Total_Trans_Ct</th>\n",
       "      <td>10127</td>\n",
       "      <td>126</td>\n",
       "      <td>81</td>\n",
       "      <td>208</td>\n",
       "    </tr>\n",
       "    <tr>\n",
       "      <th>Total_Ct_Chng_Q4_Q1</th>\n",
       "      <td>10127</td>\n",
       "      <td>830</td>\n",
       "      <td>0.667</td>\n",
       "      <td>171</td>\n",
       "    </tr>\n",
       "    <tr>\n",
       "      <th>Avg_Utilization_Ratio</th>\n",
       "      <td>10127</td>\n",
       "      <td>964</td>\n",
       "      <td>0</td>\n",
       "      <td>2470</td>\n",
       "    </tr>\n",
       "  </tbody>\n",
       "</table>\n",
       "</div>"
      ],
      "text/plain": [
       "                          count unique                top  freq\n",
       "CLIENTNUM                 10127  10127          768805383     1\n",
       "Attrition_Flag            10127      2  Existing Customer  8500\n",
       "Customer_Age              10127     45                 44   500\n",
       "Gender                    10127      2                  F  5358\n",
       "Dependent_count           10127      6                  3  2732\n",
       "Education_Level           10127      7           Graduate  3128\n",
       "Marital_Status            10127      4            Married  4687\n",
       "Income_Category           10127      6     Less than $40K  3561\n",
       "Card_Category             10127      4               Blue  9436\n",
       "Months_on_book            10127     44                 36  2463\n",
       "Total_Relationship_Count  10127      6                  3  2305\n",
       "Months_Inactive_12_mon    10127      7                  3  3846\n",
       "Contacts_Count_12_mon     10127      7                  3  3380\n",
       "Credit_Limit              10127   6205              34516   508\n",
       "Total_Revolving_Bal       10127   1974                  0  2470\n",
       "Avg_Open_To_Buy           10127   6813             1438.3   324\n",
       "Total_Amt_Chng_Q4_Q1      10127   1158              0.791    36\n",
       "Total_Trans_Amt           10127   5033               4253    11\n",
       "Total_Trans_Ct            10127    126                 81   208\n",
       "Total_Ct_Chng_Q4_Q1       10127    830              0.667   171\n",
       "Avg_Utilization_Ratio     10127    964                  0  2470"
      ]
     },
     "execution_count": 29,
     "metadata": {},
     "output_type": "execute_result"
    }
   ],
   "source": [
    "bank_df.describe().T"
   ]
  },
  {
   "cell_type": "code",
   "execution_count": 40,
   "metadata": {},
   "outputs": [
    {
     "name": "stdout",
     "output_type": "stream",
     "text": [
      "Requirement already satisfied: tabulate in /Users/chuchu/anaconda3/envs/dev/lib/python3.10/site-packages (0.9.0)\n"
     ]
    }
   ],
   "source": [
    "%matplotlib inline\n",
    "import matplotlib.pyplot as plt\n",
    "import seaborn as sns\n",
    "import numpy as np\n",
    "!pip install tabulate\n",
    "from tabulate import tabulate"
   ]
  },
  {
   "cell_type": "code",
   "execution_count": 32,
   "metadata": {},
   "outputs": [],
   "source": [
    "data = bank_df.copy()"
   ]
  },
  {
   "cell_type": "code",
   "execution_count": 44,
   "metadata": {},
   "outputs": [],
   "source": [
    "def summary(data: pd.DataFrame, x: str):\n",
    "    \"\"\"\n",
    "    The function prints the 5 point summary and histogram, box plot,\n",
    "    violin plot, and cumulative density distribution plots for each\n",
    "    feature name passed as the argument.\n",
    "\n",
    "    Parameters:\n",
    "    ----------\n",
    "\n",
    "    x: str, feature name\n",
    "\n",
    "    Usage:\n",
    "    ------------\n",
    "\n",
    "    summary('age')\n",
    "    \"\"\"\n",
    "    x_min = data[x].min()\n",
    "    x_max = data[x].max()\n",
    "    Q1 = data[x].quantile(0.25)\n",
    "    Q2 = data[x].quantile(0.50)\n",
    "    Q3 = data[x].quantile(0.75)\n",
    "\n",
    "    dict = {\"Min\": x_min, \"Q1\": Q1, \"Q2\": Q2, \"Q3\": Q3, \"Max\": x_max}\n",
    "    df = pd.DataFrame(data=dict, index=[\"Value\"])\n",
    "    print(f\"5 Point Summary of {x.capitalize()} Attribute:\\n\")\n",
    "    print(tabulate(df, headers=\"keys\", tablefmt=\"psql\"))\n",
    "\n",
    "    fig = plt.figure(figsize=(16, 8))\n",
    "    plt.subplots_adjust(hspace=0.6)\n",
    "    sns.set_palette(\"Pastel1\")\n",
    "\n",
    "    plt.subplot(221, frameon=True)\n",
    "    ax1 = sns.distplot(data[x], color=\"purple\")\n",
    "    ax1.axvline(\n",
    "        np.mean(data[x]), color=\"purple\", linestyle=\"--\"\n",
    "    )  # Add mean to the histogram\n",
    "    ax1.axvline(\n",
    "        np.median(data[x]), color=\"black\", linestyle=\"-\"\n",
    "    )  # Add median to the histogram\n",
    "    plt.title(f\"{x.capitalize()} Density Distribution\")\n",
    "\n",
    "    plt.subplot(222, frameon=True)\n",
    "    ax2 = sns.violinplot(x=data[x], palette=\"Accent\", split=True)\n",
    "    plt.title(f\"{x.capitalize()} Violinplot\")\n",
    "\n",
    "    plt.subplot(223, frameon=True, sharex=ax1)\n",
    "    ax3 = sns.boxplot(\n",
    "        x=data[x], palette=\"cool\", width=0.7, linewidth=0.6, showmeans=True\n",
    "    )\n",
    "    plt.title(f\"{x.capitalize()} Boxplot\")\n",
    "\n",
    "    plt.subplot(224, frameon=True, sharex=ax2)\n",
    "    ax4 = sns.kdeplot(data[x], cumulative=True)\n",
    "    plt.title(f\"{x.capitalize()} Cumulative Density Distribution\")\n",
    "\n",
    "    plt.show()"
   ]
  },
  {
   "cell_type": "code",
   "execution_count": 45,
   "metadata": {},
   "outputs": [
    {
     "ename": "TypeError",
     "evalue": "unsupported operand type(s) for -: 'str' and 'str'",
     "output_type": "error",
     "traceback": [
      "\u001b[0;31m---------------------------------------------------------------------------\u001b[0m",
      "\u001b[0;31mTypeError\u001b[0m                                 Traceback (most recent call last)",
      "\u001b[1;32m/Users/chuchu/Desktop/Class_Folder/Project-4/bank_churners.ipynb Cell 11\u001b[0m line \u001b[0;36m1\n\u001b[0;32m----> <a href='vscode-notebook-cell:/Users/chuchu/Desktop/Class_Folder/Project-4/bank_churners.ipynb#X32sZmlsZQ%3D%3D?line=0'>1</a>\u001b[0m summary(data, \u001b[39m\"\u001b[39;49m\u001b[39mCustomer_Age\u001b[39;49m\u001b[39m\"\u001b[39;49m)\n",
      "\u001b[1;32m/Users/chuchu/Desktop/Class_Folder/Project-4/bank_churners.ipynb Cell 11\u001b[0m line \u001b[0;36m1\n\u001b[1;32m     <a href='vscode-notebook-cell:/Users/chuchu/Desktop/Class_Folder/Project-4/bank_churners.ipynb#X32sZmlsZQ%3D%3D?line=16'>17</a>\u001b[0m x_min \u001b[39m=\u001b[39m data[x]\u001b[39m.\u001b[39mmin()\n\u001b[1;32m     <a href='vscode-notebook-cell:/Users/chuchu/Desktop/Class_Folder/Project-4/bank_churners.ipynb#X32sZmlsZQ%3D%3D?line=17'>18</a>\u001b[0m x_max \u001b[39m=\u001b[39m data[x]\u001b[39m.\u001b[39mmax()\n\u001b[0;32m---> <a href='vscode-notebook-cell:/Users/chuchu/Desktop/Class_Folder/Project-4/bank_churners.ipynb#X32sZmlsZQ%3D%3D?line=18'>19</a>\u001b[0m Q1 \u001b[39m=\u001b[39m data[x]\u001b[39m.\u001b[39;49mquantile(\u001b[39m0.25\u001b[39;49m)\n\u001b[1;32m     <a href='vscode-notebook-cell:/Users/chuchu/Desktop/Class_Folder/Project-4/bank_churners.ipynb#X32sZmlsZQ%3D%3D?line=19'>20</a>\u001b[0m Q2 \u001b[39m=\u001b[39m data[x]\u001b[39m.\u001b[39mquantile(\u001b[39m0.50\u001b[39m)\n\u001b[1;32m     <a href='vscode-notebook-cell:/Users/chuchu/Desktop/Class_Folder/Project-4/bank_churners.ipynb#X32sZmlsZQ%3D%3D?line=20'>21</a>\u001b[0m Q3 \u001b[39m=\u001b[39m data[x]\u001b[39m.\u001b[39mquantile(\u001b[39m0.75\u001b[39m)\n",
      "File \u001b[0;32m~/anaconda3/envs/dev/lib/python3.10/site-packages/pandas/core/series.py:2773\u001b[0m, in \u001b[0;36mSeries.quantile\u001b[0;34m(self, q, interpolation)\u001b[0m\n\u001b[1;32m   2769\u001b[0m \u001b[39m# We dispatch to DataFrame so that core.internals only has to worry\u001b[39;00m\n\u001b[1;32m   2770\u001b[0m \u001b[39m#  about 2D cases.\u001b[39;00m\n\u001b[1;32m   2771\u001b[0m df \u001b[39m=\u001b[39m \u001b[39mself\u001b[39m\u001b[39m.\u001b[39mto_frame()\n\u001b[0;32m-> 2773\u001b[0m result \u001b[39m=\u001b[39m df\u001b[39m.\u001b[39;49mquantile(q\u001b[39m=\u001b[39;49mq, interpolation\u001b[39m=\u001b[39;49minterpolation, numeric_only\u001b[39m=\u001b[39;49m\u001b[39mFalse\u001b[39;49;00m)\n\u001b[1;32m   2774\u001b[0m \u001b[39mif\u001b[39;00m result\u001b[39m.\u001b[39mndim \u001b[39m==\u001b[39m \u001b[39m2\u001b[39m:\n\u001b[1;32m   2775\u001b[0m     result \u001b[39m=\u001b[39m result\u001b[39m.\u001b[39miloc[:, \u001b[39m0\u001b[39m]\n",
      "File \u001b[0;32m~/anaconda3/envs/dev/lib/python3.10/site-packages/pandas/core/frame.py:11786\u001b[0m, in \u001b[0;36mDataFrame.quantile\u001b[0;34m(self, q, axis, numeric_only, interpolation, method)\u001b[0m\n\u001b[1;32m  11779\u001b[0m axis \u001b[39m=\u001b[39m \u001b[39mself\u001b[39m\u001b[39m.\u001b[39m_get_axis_number(axis)\n\u001b[1;32m  11781\u001b[0m \u001b[39mif\u001b[39;00m \u001b[39mnot\u001b[39;00m is_list_like(q):\n\u001b[1;32m  11782\u001b[0m     \u001b[39m# BlockManager.quantile expects listlike, so we wrap and unwrap here\u001b[39;00m\n\u001b[1;32m  11783\u001b[0m     \u001b[39m# error: List item 0 has incompatible type \"Union[float, Union[Union[\u001b[39;00m\n\u001b[1;32m  11784\u001b[0m     \u001b[39m# ExtensionArray, ndarray[Any, Any]], Index, Series], Sequence[float]]\";\u001b[39;00m\n\u001b[1;32m  11785\u001b[0m     \u001b[39m# expected \"float\"\u001b[39;00m\n\u001b[0;32m> 11786\u001b[0m     res_df \u001b[39m=\u001b[39m \u001b[39mself\u001b[39;49m\u001b[39m.\u001b[39;49mquantile(  \u001b[39m# type: ignore[call-overload]\u001b[39;49;00m\n\u001b[1;32m  11787\u001b[0m         [q],\n\u001b[1;32m  11788\u001b[0m         axis\u001b[39m=\u001b[39;49maxis,\n\u001b[1;32m  11789\u001b[0m         numeric_only\u001b[39m=\u001b[39;49mnumeric_only,\n\u001b[1;32m  11790\u001b[0m         interpolation\u001b[39m=\u001b[39;49minterpolation,\n\u001b[1;32m  11791\u001b[0m         method\u001b[39m=\u001b[39;49mmethod,\n\u001b[1;32m  11792\u001b[0m     )\n\u001b[1;32m  11793\u001b[0m     \u001b[39mif\u001b[39;00m method \u001b[39m==\u001b[39m \u001b[39m\"\u001b[39m\u001b[39msingle\u001b[39m\u001b[39m\"\u001b[39m:\n\u001b[1;32m  11794\u001b[0m         res \u001b[39m=\u001b[39m res_df\u001b[39m.\u001b[39miloc[\u001b[39m0\u001b[39m]\n",
      "File \u001b[0;32m~/anaconda3/envs/dev/lib/python3.10/site-packages/pandas/core/frame.py:11831\u001b[0m, in \u001b[0;36mDataFrame.quantile\u001b[0;34m(self, q, axis, numeric_only, interpolation, method)\u001b[0m\n\u001b[1;32m  11827\u001b[0m     \u001b[39mraise\u001b[39;00m \u001b[39mValueError\u001b[39;00m(\n\u001b[1;32m  11828\u001b[0m         \u001b[39mf\u001b[39m\u001b[39m\"\u001b[39m\u001b[39mInvalid method: \u001b[39m\u001b[39m{\u001b[39;00mmethod\u001b[39m}\u001b[39;00m\u001b[39m. Method must be in \u001b[39m\u001b[39m{\u001b[39;00mvalid_method\u001b[39m}\u001b[39;00m\u001b[39m.\u001b[39m\u001b[39m\"\u001b[39m\n\u001b[1;32m  11829\u001b[0m     )\n\u001b[1;32m  11830\u001b[0m \u001b[39mif\u001b[39;00m method \u001b[39m==\u001b[39m \u001b[39m\"\u001b[39m\u001b[39msingle\u001b[39m\u001b[39m\"\u001b[39m:\n\u001b[0;32m> 11831\u001b[0m     res \u001b[39m=\u001b[39m data\u001b[39m.\u001b[39;49m_mgr\u001b[39m.\u001b[39;49mquantile(qs\u001b[39m=\u001b[39;49mq, interpolation\u001b[39m=\u001b[39;49minterpolation)\n\u001b[1;32m  11832\u001b[0m \u001b[39melif\u001b[39;00m method \u001b[39m==\u001b[39m \u001b[39m\"\u001b[39m\u001b[39mtable\u001b[39m\u001b[39m\"\u001b[39m:\n\u001b[1;32m  11833\u001b[0m     valid_interpolation \u001b[39m=\u001b[39m {\u001b[39m\"\u001b[39m\u001b[39mnearest\u001b[39m\u001b[39m\"\u001b[39m, \u001b[39m\"\u001b[39m\u001b[39mlower\u001b[39m\u001b[39m\"\u001b[39m, \u001b[39m\"\u001b[39m\u001b[39mhigher\u001b[39m\u001b[39m\"\u001b[39m}\n",
      "File \u001b[0;32m~/anaconda3/envs/dev/lib/python3.10/site-packages/pandas/core/internals/managers.py:1507\u001b[0m, in \u001b[0;36mBlockManager.quantile\u001b[0;34m(self, qs, interpolation)\u001b[0m\n\u001b[1;32m   1504\u001b[0m new_axes \u001b[39m=\u001b[39m \u001b[39mlist\u001b[39m(\u001b[39mself\u001b[39m\u001b[39m.\u001b[39maxes)\n\u001b[1;32m   1505\u001b[0m new_axes[\u001b[39m1\u001b[39m] \u001b[39m=\u001b[39m Index(qs, dtype\u001b[39m=\u001b[39mnp\u001b[39m.\u001b[39mfloat64)\n\u001b[0;32m-> 1507\u001b[0m blocks \u001b[39m=\u001b[39m [\n\u001b[1;32m   1508\u001b[0m     blk\u001b[39m.\u001b[39mquantile(qs\u001b[39m=\u001b[39mqs, interpolation\u001b[39m=\u001b[39minterpolation) \u001b[39mfor\u001b[39;00m blk \u001b[39min\u001b[39;00m \u001b[39mself\u001b[39m\u001b[39m.\u001b[39mblocks\n\u001b[1;32m   1509\u001b[0m ]\n\u001b[1;32m   1511\u001b[0m \u001b[39mreturn\u001b[39;00m \u001b[39mtype\u001b[39m(\u001b[39mself\u001b[39m)(blocks, new_axes)\n",
      "File \u001b[0;32m~/anaconda3/envs/dev/lib/python3.10/site-packages/pandas/core/internals/managers.py:1508\u001b[0m, in \u001b[0;36m<listcomp>\u001b[0;34m(.0)\u001b[0m\n\u001b[1;32m   1504\u001b[0m new_axes \u001b[39m=\u001b[39m \u001b[39mlist\u001b[39m(\u001b[39mself\u001b[39m\u001b[39m.\u001b[39maxes)\n\u001b[1;32m   1505\u001b[0m new_axes[\u001b[39m1\u001b[39m] \u001b[39m=\u001b[39m Index(qs, dtype\u001b[39m=\u001b[39mnp\u001b[39m.\u001b[39mfloat64)\n\u001b[1;32m   1507\u001b[0m blocks \u001b[39m=\u001b[39m [\n\u001b[0;32m-> 1508\u001b[0m     blk\u001b[39m.\u001b[39;49mquantile(qs\u001b[39m=\u001b[39;49mqs, interpolation\u001b[39m=\u001b[39;49minterpolation) \u001b[39mfor\u001b[39;00m blk \u001b[39min\u001b[39;00m \u001b[39mself\u001b[39m\u001b[39m.\u001b[39mblocks\n\u001b[1;32m   1509\u001b[0m ]\n\u001b[1;32m   1511\u001b[0m \u001b[39mreturn\u001b[39;00m \u001b[39mtype\u001b[39m(\u001b[39mself\u001b[39m)(blocks, new_axes)\n",
      "File \u001b[0;32m~/anaconda3/envs/dev/lib/python3.10/site-packages/pandas/core/internals/blocks.py:1587\u001b[0m, in \u001b[0;36mBlock.quantile\u001b[0;34m(self, qs, interpolation)\u001b[0m\n\u001b[1;32m   1584\u001b[0m \u001b[39massert\u001b[39;00m \u001b[39mself\u001b[39m\u001b[39m.\u001b[39mndim \u001b[39m==\u001b[39m \u001b[39m2\u001b[39m\n\u001b[1;32m   1585\u001b[0m \u001b[39massert\u001b[39;00m is_list_like(qs)  \u001b[39m# caller is responsible for this\u001b[39;00m\n\u001b[0;32m-> 1587\u001b[0m result \u001b[39m=\u001b[39m quantile_compat(\u001b[39mself\u001b[39;49m\u001b[39m.\u001b[39;49mvalues, np\u001b[39m.\u001b[39;49masarray(qs\u001b[39m.\u001b[39;49m_values), interpolation)\n\u001b[1;32m   1588\u001b[0m \u001b[39m# ensure_block_shape needed for cases where we start with EA and result\u001b[39;00m\n\u001b[1;32m   1589\u001b[0m \u001b[39m#  is ndarray, e.g. IntegerArray, SparseArray\u001b[39;00m\n\u001b[1;32m   1590\u001b[0m result \u001b[39m=\u001b[39m ensure_block_shape(result, ndim\u001b[39m=\u001b[39m\u001b[39m2\u001b[39m)\n",
      "File \u001b[0;32m~/anaconda3/envs/dev/lib/python3.10/site-packages/pandas/core/array_algos/quantile.py:39\u001b[0m, in \u001b[0;36mquantile_compat\u001b[0;34m(values, qs, interpolation)\u001b[0m\n\u001b[1;32m     37\u001b[0m     fill_value \u001b[39m=\u001b[39m na_value_for_dtype(values\u001b[39m.\u001b[39mdtype, compat\u001b[39m=\u001b[39m\u001b[39mFalse\u001b[39;00m)\n\u001b[1;32m     38\u001b[0m     mask \u001b[39m=\u001b[39m isna(values)\n\u001b[0;32m---> 39\u001b[0m     \u001b[39mreturn\u001b[39;00m quantile_with_mask(values, mask, fill_value, qs, interpolation)\n\u001b[1;32m     40\u001b[0m \u001b[39melse\u001b[39;00m:\n\u001b[1;32m     41\u001b[0m     \u001b[39mreturn\u001b[39;00m values\u001b[39m.\u001b[39m_quantile(qs, interpolation)\n",
      "File \u001b[0;32m~/anaconda3/envs/dev/lib/python3.10/site-packages/pandas/core/array_algos/quantile.py:97\u001b[0m, in \u001b[0;36mquantile_with_mask\u001b[0;34m(values, mask, fill_value, qs, interpolation)\u001b[0m\n\u001b[1;32m     95\u001b[0m     result \u001b[39m=\u001b[39m np\u001b[39m.\u001b[39mrepeat(flat, \u001b[39mlen\u001b[39m(values))\u001b[39m.\u001b[39mreshape(\u001b[39mlen\u001b[39m(values), \u001b[39mlen\u001b[39m(qs))\n\u001b[1;32m     96\u001b[0m \u001b[39melse\u001b[39;00m:\n\u001b[0;32m---> 97\u001b[0m     result \u001b[39m=\u001b[39m _nanpercentile(\n\u001b[1;32m     98\u001b[0m         values,\n\u001b[1;32m     99\u001b[0m         qs \u001b[39m*\u001b[39;49m \u001b[39m100.0\u001b[39;49m,\n\u001b[1;32m    100\u001b[0m         na_value\u001b[39m=\u001b[39;49mfill_value,\n\u001b[1;32m    101\u001b[0m         mask\u001b[39m=\u001b[39;49mmask,\n\u001b[1;32m    102\u001b[0m         interpolation\u001b[39m=\u001b[39;49minterpolation,\n\u001b[1;32m    103\u001b[0m     )\n\u001b[1;32m    105\u001b[0m     result \u001b[39m=\u001b[39m np\u001b[39m.\u001b[39marray(result, copy\u001b[39m=\u001b[39m\u001b[39mFalse\u001b[39;00m)\n\u001b[1;32m    106\u001b[0m     result \u001b[39m=\u001b[39m result\u001b[39m.\u001b[39mT\n",
      "File \u001b[0;32m~/anaconda3/envs/dev/lib/python3.10/site-packages/pandas/core/array_algos/quantile.py:218\u001b[0m, in \u001b[0;36m_nanpercentile\u001b[0;34m(values, qs, na_value, mask, interpolation)\u001b[0m\n\u001b[1;32m    216\u001b[0m     \u001b[39mreturn\u001b[39;00m result\n\u001b[1;32m    217\u001b[0m \u001b[39melse\u001b[39;00m:\n\u001b[0;32m--> 218\u001b[0m     \u001b[39mreturn\u001b[39;00m np\u001b[39m.\u001b[39;49mpercentile(\n\u001b[1;32m    219\u001b[0m         values,\n\u001b[1;32m    220\u001b[0m         qs,\n\u001b[1;32m    221\u001b[0m         axis\u001b[39m=\u001b[39;49m\u001b[39m1\u001b[39;49m,\n\u001b[1;32m    222\u001b[0m         \u001b[39m# error: No overload variant of \"percentile\" matches argument types\u001b[39;49;00m\n\u001b[1;32m    223\u001b[0m         \u001b[39m# \"ndarray[Any, Any]\", \"ndarray[Any, dtype[floating[_64Bit]]]\",\u001b[39;49;00m\n\u001b[1;32m    224\u001b[0m         \u001b[39m# \"int\", \"Dict[str, str]\"  [call-overload]\u001b[39;49;00m\n\u001b[1;32m    225\u001b[0m         method\u001b[39m=\u001b[39;49minterpolation,  \u001b[39m# type: ignore[call-overload]\u001b[39;49;00m\n\u001b[1;32m    226\u001b[0m     )\n",
      "File \u001b[0;32m~/anaconda3/envs/dev/lib/python3.10/site-packages/numpy/lib/function_base.py:4283\u001b[0m, in \u001b[0;36mpercentile\u001b[0;34m(a, q, axis, out, overwrite_input, method, keepdims, interpolation)\u001b[0m\n\u001b[1;32m   4281\u001b[0m \u001b[39mif\u001b[39;00m \u001b[39mnot\u001b[39;00m _quantile_is_valid(q):\n\u001b[1;32m   4282\u001b[0m     \u001b[39mraise\u001b[39;00m \u001b[39mValueError\u001b[39;00m(\u001b[39m\"\u001b[39m\u001b[39mPercentiles must be in the range [0, 100]\u001b[39m\u001b[39m\"\u001b[39m)\n\u001b[0;32m-> 4283\u001b[0m \u001b[39mreturn\u001b[39;00m _quantile_unchecked(\n\u001b[1;32m   4284\u001b[0m     a, q, axis, out, overwrite_input, method, keepdims)\n",
      "File \u001b[0;32m~/anaconda3/envs/dev/lib/python3.10/site-packages/numpy/lib/function_base.py:4555\u001b[0m, in \u001b[0;36m_quantile_unchecked\u001b[0;34m(a, q, axis, out, overwrite_input, method, keepdims)\u001b[0m\n\u001b[1;32m   4547\u001b[0m \u001b[39mdef\u001b[39;00m \u001b[39m_quantile_unchecked\u001b[39m(a,\n\u001b[1;32m   4548\u001b[0m                         q,\n\u001b[1;32m   4549\u001b[0m                         axis\u001b[39m=\u001b[39m\u001b[39mNone\u001b[39;00m,\n\u001b[0;32m   (...)\u001b[0m\n\u001b[1;32m   4552\u001b[0m                         method\u001b[39m=\u001b[39m\u001b[39m\"\u001b[39m\u001b[39mlinear\u001b[39m\u001b[39m\"\u001b[39m,\n\u001b[1;32m   4553\u001b[0m                         keepdims\u001b[39m=\u001b[39m\u001b[39mFalse\u001b[39;00m):\n\u001b[1;32m   4554\u001b[0m \u001b[39m    \u001b[39m\u001b[39m\"\"\"Assumes that q is in [0, 1], and is an ndarray\"\"\"\u001b[39;00m\n\u001b[0;32m-> 4555\u001b[0m     \u001b[39mreturn\u001b[39;00m _ureduce(a,\n\u001b[1;32m   4556\u001b[0m                     func\u001b[39m=\u001b[39;49m_quantile_ureduce_func,\n\u001b[1;32m   4557\u001b[0m                     q\u001b[39m=\u001b[39;49mq,\n\u001b[1;32m   4558\u001b[0m                     keepdims\u001b[39m=\u001b[39;49mkeepdims,\n\u001b[1;32m   4559\u001b[0m                     axis\u001b[39m=\u001b[39;49maxis,\n\u001b[1;32m   4560\u001b[0m                     out\u001b[39m=\u001b[39;49mout,\n\u001b[1;32m   4561\u001b[0m                     overwrite_input\u001b[39m=\u001b[39;49moverwrite_input,\n\u001b[1;32m   4562\u001b[0m                     method\u001b[39m=\u001b[39;49mmethod)\n",
      "File \u001b[0;32m~/anaconda3/envs/dev/lib/python3.10/site-packages/numpy/lib/function_base.py:3823\u001b[0m, in \u001b[0;36m_ureduce\u001b[0;34m(a, func, keepdims, **kwargs)\u001b[0m\n\u001b[1;32m   3820\u001b[0m             index_out \u001b[39m=\u001b[39m (\u001b[39m0\u001b[39m, ) \u001b[39m*\u001b[39m nd\n\u001b[1;32m   3821\u001b[0m             kwargs[\u001b[39m'\u001b[39m\u001b[39mout\u001b[39m\u001b[39m'\u001b[39m] \u001b[39m=\u001b[39m out[(\u001b[39mEllipsis\u001b[39m, ) \u001b[39m+\u001b[39m index_out]\n\u001b[0;32m-> 3823\u001b[0m r \u001b[39m=\u001b[39m func(a, \u001b[39m*\u001b[39;49m\u001b[39m*\u001b[39;49mkwargs)\n\u001b[1;32m   3825\u001b[0m \u001b[39mif\u001b[39;00m out \u001b[39mis\u001b[39;00m \u001b[39mnot\u001b[39;00m \u001b[39mNone\u001b[39;00m:\n\u001b[1;32m   3826\u001b[0m     \u001b[39mreturn\u001b[39;00m out\n",
      "File \u001b[0;32m~/anaconda3/envs/dev/lib/python3.10/site-packages/numpy/lib/function_base.py:4721\u001b[0m, in \u001b[0;36m_quantile_ureduce_func\u001b[0;34m(a, q, axis, out, overwrite_input, method)\u001b[0m\n\u001b[1;32m   4719\u001b[0m     \u001b[39melse\u001b[39;00m:\n\u001b[1;32m   4720\u001b[0m         arr \u001b[39m=\u001b[39m a\u001b[39m.\u001b[39mcopy()\n\u001b[0;32m-> 4721\u001b[0m result \u001b[39m=\u001b[39m _quantile(arr,\n\u001b[1;32m   4722\u001b[0m                    quantiles\u001b[39m=\u001b[39;49mq,\n\u001b[1;32m   4723\u001b[0m                    axis\u001b[39m=\u001b[39;49maxis,\n\u001b[1;32m   4724\u001b[0m                    method\u001b[39m=\u001b[39;49mmethod,\n\u001b[1;32m   4725\u001b[0m                    out\u001b[39m=\u001b[39;49mout)\n\u001b[1;32m   4726\u001b[0m \u001b[39mreturn\u001b[39;00m result\n",
      "File \u001b[0;32m~/anaconda3/envs/dev/lib/python3.10/site-packages/numpy/lib/function_base.py:4840\u001b[0m, in \u001b[0;36m_quantile\u001b[0;34m(arr, quantiles, axis, method, out)\u001b[0m\n\u001b[1;32m   4838\u001b[0m     result_shape \u001b[39m=\u001b[39m virtual_indexes\u001b[39m.\u001b[39mshape \u001b[39m+\u001b[39m (\u001b[39m1\u001b[39m,) \u001b[39m*\u001b[39m (arr\u001b[39m.\u001b[39mndim \u001b[39m-\u001b[39m \u001b[39m1\u001b[39m)\n\u001b[1;32m   4839\u001b[0m     gamma \u001b[39m=\u001b[39m gamma\u001b[39m.\u001b[39mreshape(result_shape)\n\u001b[0;32m-> 4840\u001b[0m     result \u001b[39m=\u001b[39m _lerp(previous,\n\u001b[1;32m   4841\u001b[0m                    \u001b[39mnext\u001b[39;49m,\n\u001b[1;32m   4842\u001b[0m                    gamma,\n\u001b[1;32m   4843\u001b[0m                    out\u001b[39m=\u001b[39;49mout)\n\u001b[1;32m   4844\u001b[0m \u001b[39mif\u001b[39;00m np\u001b[39m.\u001b[39many(slices_having_nans):\n\u001b[1;32m   4845\u001b[0m     \u001b[39mif\u001b[39;00m result\u001b[39m.\u001b[39mndim \u001b[39m==\u001b[39m \u001b[39m0\u001b[39m \u001b[39mand\u001b[39;00m out \u001b[39mis\u001b[39;00m \u001b[39mNone\u001b[39;00m:\n\u001b[1;32m   4846\u001b[0m         \u001b[39m# can't write to a scalar, but indexing will be correct\u001b[39;00m\n",
      "File \u001b[0;32m~/anaconda3/envs/dev/lib/python3.10/site-packages/numpy/lib/function_base.py:4655\u001b[0m, in \u001b[0;36m_lerp\u001b[0;34m(a, b, t, out)\u001b[0m\n\u001b[1;32m   4641\u001b[0m \u001b[39mdef\u001b[39;00m \u001b[39m_lerp\u001b[39m(a, b, t, out\u001b[39m=\u001b[39m\u001b[39mNone\u001b[39;00m):\n\u001b[1;32m   4642\u001b[0m \u001b[39m    \u001b[39m\u001b[39m\"\"\"\u001b[39;00m\n\u001b[1;32m   4643\u001b[0m \u001b[39m    Compute the linear interpolation weighted by gamma on each point of\u001b[39;00m\n\u001b[1;32m   4644\u001b[0m \u001b[39m    two same shape array.\u001b[39;00m\n\u001b[0;32m   (...)\u001b[0m\n\u001b[1;32m   4653\u001b[0m \u001b[39m        Output array.\u001b[39;00m\n\u001b[1;32m   4654\u001b[0m \u001b[39m    \"\"\"\u001b[39;00m\n\u001b[0;32m-> 4655\u001b[0m     diff_b_a \u001b[39m=\u001b[39m subtract(b, a)\n\u001b[1;32m   4656\u001b[0m     \u001b[39m# asanyarray is a stop-gap until gh-13105\u001b[39;00m\n\u001b[1;32m   4657\u001b[0m     lerp_interpolation \u001b[39m=\u001b[39m asanyarray(add(a, diff_b_a \u001b[39m*\u001b[39m t, out\u001b[39m=\u001b[39mout))\n",
      "\u001b[0;31mTypeError\u001b[0m: unsupported operand type(s) for -: 'str' and 'str'"
     ]
    }
   ],
   "source": [
    "summary(data, \"Customer_Age\")"
   ]
  }
 ],
 "metadata": {
  "colab": {
   "collapsed_sections": [],
   "name": "Copy of Home_Sales_solution.ipynb",
   "provenance": []
  },
  "kernelspec": {
   "display_name": "Python 3 (ipykernel)",
   "language": "python",
   "name": "python3"
  },
  "language_info": {
   "codemirror_mode": {
    "name": "ipython",
    "version": 3
   },
   "file_extension": ".py",
   "mimetype": "text/x-python",
   "name": "python",
   "nbconvert_exporter": "python",
   "pygments_lexer": "ipython3",
   "version": "3.10.13"
  },
  "nteract": {
   "version": "0.28.0"
  }
 },
 "nbformat": 4,
 "nbformat_minor": 1
}
