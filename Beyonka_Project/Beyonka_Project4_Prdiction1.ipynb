{
  "nbformat": 4,
  "nbformat_minor": 0,
  "metadata": {
    "colab": {
      "provenance": []
    },
    "kernelspec": {
      "name": "python3",
      "display_name": "Python 3"
    },
    "language_info": {
      "name": "python"
    }
  },
  "cells": [
    {
      "cell_type": "code",
      "execution_count": 1,
      "metadata": {
        "colab": {
          "base_uri": "https://localhost:8080/"
        },
        "id": "zdevKISlkjnb",
        "outputId": "9c64caac-b052-476d-c481-c8b19532e897"
      },
      "outputs": [
        {
          "output_type": "stream",
          "name": "stdout",
          "text": [
            "\r0% [Working]\r            \rHit:1 https://cloud.r-project.org/bin/linux/ubuntu jammy-cran40/ InRelease\n",
            "\r0% [Connecting to archive.ubuntu.com (91.189.91.81)] [Connecting to security.ubuntu.com (185.125.190\r                                                                                                    \rHit:2 https://developer.download.nvidia.com/compute/cuda/repos/ubuntu2204/x86_64  InRelease\n",
            "\r0% [Waiting for headers] [Waiting for headers] [Connecting to ppa.launchpadcontent.net (185.125.190.\r                                                                                                    \rHit:3 http://archive.ubuntu.com/ubuntu jammy InRelease\n",
            "\r0% [Waiting for headers] [Waiting for headers] [Connecting to ppa.launchpadcontent.net (185.125.190.\r                                                                                                    \rHit:4 http://archive.ubuntu.com/ubuntu jammy-updates InRelease\n",
            "\r0% [Waiting for headers] [Waiting for headers] [Connected to ppa.launchpadcontent.net (185.125.190.8\r                                                                                                    \rHit:5 http://archive.ubuntu.com/ubuntu jammy-backports InRelease\n",
            "Hit:6 http://security.ubuntu.com/ubuntu jammy-security InRelease\n",
            "Hit:7 https://ppa.launchpadcontent.net/c2d4u.team/c2d4u4.0+/ubuntu jammy InRelease\n",
            "Hit:8 https://ppa.launchpadcontent.net/deadsnakes/ppa/ubuntu jammy InRelease\n",
            "Hit:9 https://ppa.launchpadcontent.net/graphics-drivers/ppa/ubuntu jammy InRelease\n",
            "Hit:10 https://ppa.launchpadcontent.net/ubuntugis/ppa/ubuntu jammy InRelease\n",
            "Reading package lists... Done\n"
          ]
        }
      ],
      "source": [
        "import os\n",
        "# Find the latest version of spark 3.2 from http://www.apache.org/dist/spark/ and enter as the spark version\n",
        "# For example:\n",
        "spark_version = 'spark-3.4.3'\n",
        "os.environ['SPARK_VERSION']=spark_version\n",
        "\n",
        "# Install Spark and Java\n",
        "!apt-get update\n",
        "!apt-get install openjdk-11-jdk-headless -qq > /dev/null\n",
        "!wget -q http://www.apache.org/dist/spark/$SPARK_VERSION/$SPARK_VERSION-bin-hadoop3.tgz\n",
        "!tar xf $SPARK_VERSION-bin-hadoop3.tgz\n",
        "!pip install -q findspark\n",
        "\n",
        "# Set Environment Variables\n",
        "import os\n",
        "os.environ[\"JAVA_HOME\"] = \"/usr/lib/jvm/java-11-openjdk-amd64\"\n",
        "os.environ[\"SPARK_HOME\"] = f\"/content/{spark_version}-bin-hadoop3\"\n",
        "\n",
        "# Start a SparkSession\n",
        "import findspark\n",
        "findspark.init()\n",
        "\n",
        "\n",
        "from pyspark.sql import SparkSession\n",
        "from pyspark.sql.functions import col, desc, when\n",
        "spark = SparkSession.builder.appName(\"BankChurners\").getOrCreate()\n"
      ]
    },
    {
      "cell_type": "code",
      "source": [
        "# Read in data from S3 Buckets\n",
        "from pyspark import SparkFiles\n",
        "\n",
        "url = \"https://groupfourproject.s3.ca-central-1.amazonaws.com/bank_churners.csv\"\n",
        "spark.sparkContext.addFile(url)\n",
        "df = spark.read.csv(SparkFiles.get(\"bank_churners.csv\"), header=True, sep=',', inferSchema=True)\n",
        "\n",
        "# Show the DataFrame\n",
        "df.show()\n"
      ],
      "metadata": {
        "id": "yey_-3fjn0xM",
        "colab": {
          "base_uri": "https://localhost:8080/"
        },
        "outputId": "abfc1198-fe35-4d40-b7fd-8bdcb084b7fa"
      },
      "execution_count": 2,
      "outputs": [
        {
          "output_type": "stream",
          "name": "stdout",
          "text": [
            "+---------+-----------------+------------+------+---------------+---------------+--------------+---------------+-------------+--------------+------------------------+----------------------+---------------------+------------+-------------------+---------------+--------------------+---------------+--------------+-------------------+---------------------+----------------------------------------------------------------------------------------------------------------------------------+----------------------------------------------------------------------------------------------------------------------------------+\n",
            "|CLIENTNUM|   Attrition_Flag|Customer_Age|Gender|Dependent_count|Education_Level|Marital_Status|Income_Category|Card_Category|Months_on_book|Total_Relationship_Count|Months_Inactive_12_mon|Contacts_Count_12_mon|Credit_Limit|Total_Revolving_Bal|Avg_Open_To_Buy|Total_Amt_Chng_Q4_Q1|Total_Trans_Amt|Total_Trans_Ct|Total_Ct_Chng_Q4_Q1|Avg_Utilization_Ratio|Naive_Bayes_Classifier_Attrition_Flag_Card_Category_Contacts_Count_12_mon_Dependent_count_Education_Level_Months_Inactive_12_mon_1|Naive_Bayes_Classifier_Attrition_Flag_Card_Category_Contacts_Count_12_mon_Dependent_count_Education_Level_Months_Inactive_12_mon_2|\n",
            "+---------+-----------------+------------+------+---------------+---------------+--------------+---------------+-------------+--------------+------------------------+----------------------+---------------------+------------+-------------------+---------------+--------------------+---------------+--------------+-------------------+---------------------+----------------------------------------------------------------------------------------------------------------------------------+----------------------------------------------------------------------------------------------------------------------------------+\n",
            "|768805383|Existing Customer|          45|     M|              3|    High School|       Married|    $60K - $80K|         Blue|            39|                       5|                     1|                    3|     12691.0|                777|        11914.0|               1.335|           1144|            42|              1.625|                0.061|                                                                                                                         9.3448E-5|                                                                                                                           0.99991|\n",
            "|818770008|Existing Customer|          49|     F|              5|       Graduate|        Single| Less than $40K|         Blue|            44|                       6|                     1|                    2|      8256.0|                864|         7392.0|               1.541|           1291|            33|              3.714|                0.105|                                                                                                                         5.6861E-5|                                                                                                                           0.99994|\n",
            "|713982108|Existing Customer|          51|     M|              3|       Graduate|       Married|   $80K - $120K|         Blue|            36|                       4|                     1|                    0|      3418.0|                  0|         3418.0|               2.594|           1887|            20|              2.333|                  0.0|                                                                                                                         2.1081E-5|                                                                                                                           0.99998|\n",
            "|769911858|Existing Customer|          40|     F|              4|    High School|       Unknown| Less than $40K|         Blue|            34|                       3|                     4|                    1|      3313.0|               2517|          796.0|               1.405|           1171|            20|              2.333|                 0.76|                                                                                                                         1.3366E-4|                                                                                                                           0.99987|\n",
            "|709106358|Existing Customer|          40|     M|              3|     Uneducated|       Married|    $60K - $80K|         Blue|            21|                       5|                     1|                    0|      4716.0|                  0|         4716.0|               2.175|            816|            28|                2.5|                  0.0|                                                                                                                         2.1676E-5|                                                                                                                           0.99998|\n",
            "|713061558|Existing Customer|          44|     M|              2|       Graduate|       Married|    $40K - $60K|         Blue|            36|                       3|                     1|                    2|      4010.0|               1247|         2763.0|               1.376|           1088|            24|              0.846|                0.311|                                                                                                                         5.5077E-5|                                                                                                                           0.99994|\n",
            "|810347208|Existing Customer|          51|     M|              4|        Unknown|       Married|        $120K +|         Gold|            46|                       6|                     1|                    3|     34516.0|               2264|        32252.0|               1.975|           1330|            31|              0.722|                0.066|                                                                                                                         1.2303E-4|                                                                                                                           0.99988|\n",
            "|818906208|Existing Customer|          32|     M|              0|    High School|       Unknown|    $60K - $80K|       Silver|            27|                       2|                     2|                    2|     29081.0|               1396|        27685.0|               2.204|           1538|            36|              0.714|                0.048|                                                                                                                         8.5795E-5|                                                                                                                           0.99991|\n",
            "|710930508|Existing Customer|          37|     M|              3|     Uneducated|        Single|    $60K - $80K|         Blue|            36|                       5|                     2|                    0|     22352.0|               2517|        19835.0|               3.355|           1350|            24|              1.182|                0.113|                                                                                                                         4.4796E-5|                                                                                                                           0.99996|\n",
            "|719661558|Existing Customer|          48|     M|              2|       Graduate|        Single|   $80K - $120K|         Blue|            36|                       6|                     3|                    3|     11656.0|               1677|         9979.0|               1.524|           1441|            32|              0.882|                0.144|                                                                                                                         3.0251E-4|                                                                                                                            0.9997|\n",
            "|708790833|Existing Customer|          42|     M|              5|     Uneducated|       Unknown|        $120K +|         Blue|            31|                       5|                     3|                    2|      6748.0|               1467|         5281.0|               0.831|           1201|            42|               0.68|                0.217|                                                                                                                         1.9094E-4|                                                                                                                           0.99981|\n",
            "|710821833|Existing Customer|          65|     M|              1|        Unknown|       Married|    $40K - $60K|         Blue|            54|                       6|                     2|                    3|      9095.0|               1587|         7508.0|               1.433|           1314|            26|              1.364|                0.174|                                                                                                                         1.9751E-4|                                                                                                                            0.9998|\n",
            "|710599683|Existing Customer|          56|     M|              1|        College|        Single|   $80K - $120K|         Blue|            36|                       3|                     6|                    0|     11751.0|                  0|        11751.0|               3.397|           1539|            17|               3.25|                  0.0|                                                                                                                         4.7799E-5|                                                                                                                           0.99995|\n",
            "|816082233|Existing Customer|          35|     M|              3|       Graduate|       Unknown|    $60K - $80K|         Blue|            30|                       5|                     1|                    3|      8547.0|               1666|         6881.0|               1.163|           1311|            33|                2.0|                0.195|                                                                                                                         9.6126E-5|                                                                                                                            0.9999|\n",
            "|712396908|Existing Customer|          57|     F|              2|       Graduate|       Married| Less than $40K|         Blue|            48|                       5|                     2|                    2|      2436.0|                680|         1756.0|                1.19|           1570|            29|              0.611|                0.279|                                                                                                                         1.1382E-4|                                                                                                                           0.99989|\n",
            "|714885258|Existing Customer|          44|     M|              4|        Unknown|       Unknown|   $80K - $120K|         Blue|            37|                       5|                     1|                    2|      4234.0|                972|         3262.0|               1.707|           1348|            27|                1.7|                 0.23|                                                                                                                         6.3492E-5|                                                                                                                           0.99994|\n",
            "|709967358|Existing Customer|          48|     M|              4|  Post-Graduate|        Single|   $80K - $120K|         Blue|            36|                       6|                     2|                    3|     30367.0|               2362|        28005.0|               1.708|           1671|            27|              0.929|                0.078|                                                                                                                         2.3623E-4|                                                                                                                           0.99976|\n",
            "|753327333|Existing Customer|          41|     M|              3|        Unknown|       Married|   $80K - $120K|         Blue|            34|                       4|                     4|                    1|     13535.0|               1291|        12244.0|               0.653|           1028|            21|              1.625|                0.095|                                                                                                                         1.4953E-4|                                                                                                                           0.99985|\n",
            "|806160108|Existing Customer|          61|     M|              1|    High School|       Married|    $40K - $60K|         Blue|            56|                       2|                     2|                    3|      3193.0|               2517|          676.0|               1.831|           1336|            30|              1.143|                0.788|                                                                                                                         1.7468E-4|                                                                                                                           0.99983|\n",
            "|709327383|Existing Customer|          45|     F|              2|       Graduate|       Married|        Unknown|         Blue|            37|                       6|                     1|                    2|     14470.0|               1157|        13313.0|               0.966|           1207|            21|              0.909|                 0.08|                                                                                                                         5.5077E-5|                                                                                                                           0.99994|\n",
            "+---------+-----------------+------------+------+---------------+---------------+--------------+---------------+-------------+--------------+------------------------+----------------------+---------------------+------------+-------------------+---------------+--------------------+---------------+--------------+-------------------+---------------------+----------------------------------------------------------------------------------------------------------------------------------+----------------------------------------------------------------------------------------------------------------------------------+\n",
            "only showing top 20 rows\n",
            "\n"
          ]
        }
      ]
    },
    {
      "cell_type": "code",
      "source": [
        "#Displaying Column Type\n",
        "df.printSchema()"
      ],
      "metadata": {
        "id": "w0fA2MS8Naal",
        "colab": {
          "base_uri": "https://localhost:8080/"
        },
        "outputId": "54445b7d-70ab-450e-c8e9-4499dc28e109"
      },
      "execution_count": 3,
      "outputs": [
        {
          "output_type": "stream",
          "name": "stdout",
          "text": [
            "root\n",
            " |-- CLIENTNUM: integer (nullable = true)\n",
            " |-- Attrition_Flag: string (nullable = true)\n",
            " |-- Customer_Age: integer (nullable = true)\n",
            " |-- Gender: string (nullable = true)\n",
            " |-- Dependent_count: integer (nullable = true)\n",
            " |-- Education_Level: string (nullable = true)\n",
            " |-- Marital_Status: string (nullable = true)\n",
            " |-- Income_Category: string (nullable = true)\n",
            " |-- Card_Category: string (nullable = true)\n",
            " |-- Months_on_book: integer (nullable = true)\n",
            " |-- Total_Relationship_Count: integer (nullable = true)\n",
            " |-- Months_Inactive_12_mon: integer (nullable = true)\n",
            " |-- Contacts_Count_12_mon: integer (nullable = true)\n",
            " |-- Credit_Limit: double (nullable = true)\n",
            " |-- Total_Revolving_Bal: integer (nullable = true)\n",
            " |-- Avg_Open_To_Buy: double (nullable = true)\n",
            " |-- Total_Amt_Chng_Q4_Q1: double (nullable = true)\n",
            " |-- Total_Trans_Amt: integer (nullable = true)\n",
            " |-- Total_Trans_Ct: integer (nullable = true)\n",
            " |-- Total_Ct_Chng_Q4_Q1: double (nullable = true)\n",
            " |-- Avg_Utilization_Ratio: double (nullable = true)\n",
            " |-- Naive_Bayes_Classifier_Attrition_Flag_Card_Category_Contacts_Count_12_mon_Dependent_count_Education_Level_Months_Inactive_12_mon_1: double (nullable = true)\n",
            " |-- Naive_Bayes_Classifier_Attrition_Flag_Card_Category_Contacts_Count_12_mon_Dependent_count_Education_Level_Months_Inactive_12_mon_2: double (nullable = true)\n",
            "\n"
          ]
        }
      ]
    },
    {
      "cell_type": "code",
      "source": [
        "#Dropping duplicates within the dataframe\n",
        "df.dropDuplicates().show()"
      ],
      "metadata": {
        "id": "WLKWXrRongRV",
        "colab": {
          "base_uri": "https://localhost:8080/"
        },
        "outputId": "60f7ac64-8e0d-4b55-d7dd-ee37a007feab"
      },
      "execution_count": 4,
      "outputs": [
        {
          "output_type": "stream",
          "name": "stdout",
          "text": [
            "+---------+-----------------+------------+------+---------------+---------------+--------------+---------------+-------------+--------------+------------------------+----------------------+---------------------+------------+-------------------+---------------+--------------------+---------------+--------------+-------------------+---------------------+----------------------------------------------------------------------------------------------------------------------------------+----------------------------------------------------------------------------------------------------------------------------------+\n",
            "|CLIENTNUM|   Attrition_Flag|Customer_Age|Gender|Dependent_count|Education_Level|Marital_Status|Income_Category|Card_Category|Months_on_book|Total_Relationship_Count|Months_Inactive_12_mon|Contacts_Count_12_mon|Credit_Limit|Total_Revolving_Bal|Avg_Open_To_Buy|Total_Amt_Chng_Q4_Q1|Total_Trans_Amt|Total_Trans_Ct|Total_Ct_Chng_Q4_Q1|Avg_Utilization_Ratio|Naive_Bayes_Classifier_Attrition_Flag_Card_Category_Contacts_Count_12_mon_Dependent_count_Education_Level_Months_Inactive_12_mon_1|Naive_Bayes_Classifier_Attrition_Flag_Card_Category_Contacts_Count_12_mon_Dependent_count_Education_Level_Months_Inactive_12_mon_2|\n",
            "+---------+-----------------+------------+------+---------------+---------------+--------------+---------------+-------------+--------------+------------------------+----------------------+---------------------+------------+-------------------+---------------+--------------------+---------------+--------------+-------------------+---------------------+----------------------------------------------------------------------------------------------------------------------------------+----------------------------------------------------------------------------------------------------------------------------------+\n",
            "|789124683|Existing Customer|          54|     M|              2|        Unknown|       Married|   $80K - $120K|         Blue|            42|                       4|                     2|                    3|     12217.0|                  0|        12217.0|               1.075|           1110|            21|               0.75|                  0.0|                                                                                                                         2.1042E-4|                                                                                                                           0.99979|\n",
            "|717296808|Existing Customer|          67|     F|              1|       Graduate|       Married| Less than $40K|         Blue|            56|                       4|                     3|                    2|      3006.0|               2517|          489.0|               2.053|           1661|            32|                1.0|                0.837|                                                                                                                         1.6883E-4|                                                                                                                           0.99983|\n",
            "|711551958|Attrited Customer|          59|     M|              2|  Post-Graduate|       Married|    $60K - $80K|         Blue|            46|                       3|                     3|                    3|      1438.3|                  0|         1438.3|               0.688|            844|            24|                0.5|                  0.0|                                                                                                                            0.9972|                                                                                                                        0.00280059|\n",
            "|713441958|Existing Customer|          46|     M|              2|    High School|       Married|        $120K +|         Blue|            36|                       5|                     3|                    2|     19727.0|               1785|        17942.0|               0.572|           1245|            25|              0.786|                 0.09|                                                                                                                         1.7486E-4|                                                                                                                           0.99983|\n",
            "|789513858|Attrited Customer|          43|     M|              3|        Unknown|       Married|    $40K - $60K|         Blue|            35|                       2|                     2|                    3|      1438.3|                  0|         1438.3|               0.694|            891|            28|                0.4|                  0.0|                                                                                                                           0.99544|                                                                                                                        0.00455805|\n",
            "|720680058|Existing Customer|          47|     M|              2|  Post-Graduate|       Married| Less than $40K|         Blue|            36|                       6|                     1|                    3|      3888.0|               1663|         2225.0|               0.664|           1145|            37|              0.423|                0.428|                                                                                                                           1.09E-4|                                                                                                                           0.99989|\n",
            "|802817358|Existing Customer|          38|     F|              3|    High School|       Married|        Unknown|         Blue|            32|                       4|                     2|                    1|     11594.0|               2072|         9522.0|               0.983|           2320|            51|              0.594|                0.179|                                                                                                                         6.9242E-5|                                                                                                                           0.99993|\n",
            "|801369258|Existing Customer|          47|     F|              5|  Post-Graduate|       Married|    $40K - $60K|         Blue|            41|                       6|                     2|                    2|      4466.0|                777|         3689.0|                1.02|           1757|            59|              0.595|                0.174|                                                                                                                         1.3827E-4|                                                                                                                           0.99986|\n",
            "|770882508|Existing Customer|          38|     M|              2|        College|       Married|   $80K - $120K|         Blue|            24|                       4|                     1|                    5|     17162.0|                773|        16389.0|               1.238|           2457|            54|                1.0|                0.045|                                                                                                                         2.6586E-4|                                                                                                                           0.99973|\n",
            "|709334658|Existing Customer|          39|     F|              2|     Uneducated|       Married| Less than $40K|         Blue|            26|                       4|                     2|                    5|      5484.0|               2517|         2967.0|               0.489|           2025|            51|              0.378|                0.459|                                                                                                                         5.8091E-4|                                                                                                                           0.99942|\n",
            "|710540883|Existing Customer|          37|     M|              3|    High School|        Single|   $80K - $120K|         Blue|            24|                       5|                     3|                    2|      6590.0|                  0|         6590.0|               0.714|           2449|            67|              0.634|                  0.0|                                                                                                                         1.8145E-4|                                                                                                                           0.99982|\n",
            "|713426358|Existing Customer|          28|     F|              0|        College|       Married|        Unknown|         Blue|            36|                       3|                     2|                    3|      5685.0|                  0|         5685.0|               1.334|           2395|            62|                1.0|                  0.0|                                                                                                                         1.5971E-4|                                                                                                                           0.99984|\n",
            "|770937183|Existing Customer|          40|     F|              4|       Graduate|        Single| Less than $40K|       Silver|            27|                       3|                     1|                    2|     10745.0|               2084|         8661.0|               0.847|           3502|            87|              0.933|                0.194|                                                                                                                         5.2192E-5|                                                                                                                           0.99995|\n",
            "|789430083|Existing Customer|          41|     F|              5|    High School|        Single|    $40K - $60K|         Blue|            32|                       6|                     1|                    2|     14987.0|               1425|        13562.0|                 0.8|           4470|            83|              0.844|                0.095|                                                                                                                         5.5277E-5|                                                                                                                           0.99994|\n",
            "|827476983|Attrited Customer|          56|     F|              2|        College|        Single| Less than $40K|         Blue|            52|                       3|                     5|                    1|      3639.0|               2178|         1461.0|               0.451|           1865|            42|                0.5|                0.599|                                                                                                                           0.99158|                                                                                                                           0.00842|\n",
            "|816261858|Attrited Customer|          61|     M|              0|       Graduate|        Single|    $40K - $60K|         Blue|            56|                       2|                     5|                    4|      3984.0|               2245|         1739.0|               0.612|           1821|            39|              0.696|                0.564|                                                                                                                           0.99798|                                                                                                                        0.00201684|\n",
            "|716714733|Existing Customer|          41|     M|              3|       Graduate|        Single|   $80K - $120K|         Blue|            30|                       3|                     2|                    0|      3460.0|                955|         2505.0|               0.644|           3642|            69|              0.769|                0.276|                                                                                                                         4.3568E-5|                                                                                                                           0.99996|\n",
            "|785529708|Existing Customer|          59|     M|              1|       Graduate|        Single|        $120K +|         Blue|            53|                       6|                     2|                    2|     34516.0|                  0|        34516.0|               0.711|           4333|            70|              0.628|                  0.0|                                                                                                                         1.0684E-4|                                                                                                                           0.99989|\n",
            "|771790083|Existing Customer|          43|     F|              3|        Unknown|       Married| Less than $40K|       Silver|            32|                       4|                     3|                    2|     10466.0|               2080|         8386.0|               0.648|           4116|            64|              0.684|                0.199|                                                                                                                         1.8538E-4|                                                                                                                           0.99981|\n",
            "|720519333|Attrited Customer|          59|     F|              2|        Unknown|        Single|        Unknown|         Blue|            45|                       1|                     3|                    3|      2721.0|               1885|          836.0|               0.853|           2594|            48|              0.455|                0.693|                                                                                                                             0.997|                                                                                                                        0.00299743|\n",
            "+---------+-----------------+------------+------+---------------+---------------+--------------+---------------+-------------+--------------+------------------------+----------------------+---------------------+------------+-------------------+---------------+--------------------+---------------+--------------+-------------------+---------------------+----------------------------------------------------------------------------------------------------------------------------------+----------------------------------------------------------------------------------------------------------------------------------+\n",
            "only showing top 20 rows\n",
            "\n"
          ]
        }
      ]
    },
    {
      "cell_type": "code",
      "source": [
        "#Drooping NA in the dataframe\n",
        "df.na.drop(how='all')\n",
        "\n",
        "#Display DataFrame\n",
        "df.show()"
      ],
      "metadata": {
        "id": "FPpPNFzNngLZ",
        "colab": {
          "base_uri": "https://localhost:8080/"
        },
        "outputId": "7a89714b-d5d4-47bb-8c19-c739f88eb327"
      },
      "execution_count": 5,
      "outputs": [
        {
          "output_type": "stream",
          "name": "stdout",
          "text": [
            "+---------+-----------------+------------+------+---------------+---------------+--------------+---------------+-------------+--------------+------------------------+----------------------+---------------------+------------+-------------------+---------------+--------------------+---------------+--------------+-------------------+---------------------+----------------------------------------------------------------------------------------------------------------------------------+----------------------------------------------------------------------------------------------------------------------------------+\n",
            "|CLIENTNUM|   Attrition_Flag|Customer_Age|Gender|Dependent_count|Education_Level|Marital_Status|Income_Category|Card_Category|Months_on_book|Total_Relationship_Count|Months_Inactive_12_mon|Contacts_Count_12_mon|Credit_Limit|Total_Revolving_Bal|Avg_Open_To_Buy|Total_Amt_Chng_Q4_Q1|Total_Trans_Amt|Total_Trans_Ct|Total_Ct_Chng_Q4_Q1|Avg_Utilization_Ratio|Naive_Bayes_Classifier_Attrition_Flag_Card_Category_Contacts_Count_12_mon_Dependent_count_Education_Level_Months_Inactive_12_mon_1|Naive_Bayes_Classifier_Attrition_Flag_Card_Category_Contacts_Count_12_mon_Dependent_count_Education_Level_Months_Inactive_12_mon_2|\n",
            "+---------+-----------------+------------+------+---------------+---------------+--------------+---------------+-------------+--------------+------------------------+----------------------+---------------------+------------+-------------------+---------------+--------------------+---------------+--------------+-------------------+---------------------+----------------------------------------------------------------------------------------------------------------------------------+----------------------------------------------------------------------------------------------------------------------------------+\n",
            "|768805383|Existing Customer|          45|     M|              3|    High School|       Married|    $60K - $80K|         Blue|            39|                       5|                     1|                    3|     12691.0|                777|        11914.0|               1.335|           1144|            42|              1.625|                0.061|                                                                                                                         9.3448E-5|                                                                                                                           0.99991|\n",
            "|818770008|Existing Customer|          49|     F|              5|       Graduate|        Single| Less than $40K|         Blue|            44|                       6|                     1|                    2|      8256.0|                864|         7392.0|               1.541|           1291|            33|              3.714|                0.105|                                                                                                                         5.6861E-5|                                                                                                                           0.99994|\n",
            "|713982108|Existing Customer|          51|     M|              3|       Graduate|       Married|   $80K - $120K|         Blue|            36|                       4|                     1|                    0|      3418.0|                  0|         3418.0|               2.594|           1887|            20|              2.333|                  0.0|                                                                                                                         2.1081E-5|                                                                                                                           0.99998|\n",
            "|769911858|Existing Customer|          40|     F|              4|    High School|       Unknown| Less than $40K|         Blue|            34|                       3|                     4|                    1|      3313.0|               2517|          796.0|               1.405|           1171|            20|              2.333|                 0.76|                                                                                                                         1.3366E-4|                                                                                                                           0.99987|\n",
            "|709106358|Existing Customer|          40|     M|              3|     Uneducated|       Married|    $60K - $80K|         Blue|            21|                       5|                     1|                    0|      4716.0|                  0|         4716.0|               2.175|            816|            28|                2.5|                  0.0|                                                                                                                         2.1676E-5|                                                                                                                           0.99998|\n",
            "|713061558|Existing Customer|          44|     M|              2|       Graduate|       Married|    $40K - $60K|         Blue|            36|                       3|                     1|                    2|      4010.0|               1247|         2763.0|               1.376|           1088|            24|              0.846|                0.311|                                                                                                                         5.5077E-5|                                                                                                                           0.99994|\n",
            "|810347208|Existing Customer|          51|     M|              4|        Unknown|       Married|        $120K +|         Gold|            46|                       6|                     1|                    3|     34516.0|               2264|        32252.0|               1.975|           1330|            31|              0.722|                0.066|                                                                                                                         1.2303E-4|                                                                                                                           0.99988|\n",
            "|818906208|Existing Customer|          32|     M|              0|    High School|       Unknown|    $60K - $80K|       Silver|            27|                       2|                     2|                    2|     29081.0|               1396|        27685.0|               2.204|           1538|            36|              0.714|                0.048|                                                                                                                         8.5795E-5|                                                                                                                           0.99991|\n",
            "|710930508|Existing Customer|          37|     M|              3|     Uneducated|        Single|    $60K - $80K|         Blue|            36|                       5|                     2|                    0|     22352.0|               2517|        19835.0|               3.355|           1350|            24|              1.182|                0.113|                                                                                                                         4.4796E-5|                                                                                                                           0.99996|\n",
            "|719661558|Existing Customer|          48|     M|              2|       Graduate|        Single|   $80K - $120K|         Blue|            36|                       6|                     3|                    3|     11656.0|               1677|         9979.0|               1.524|           1441|            32|              0.882|                0.144|                                                                                                                         3.0251E-4|                                                                                                                            0.9997|\n",
            "|708790833|Existing Customer|          42|     M|              5|     Uneducated|       Unknown|        $120K +|         Blue|            31|                       5|                     3|                    2|      6748.0|               1467|         5281.0|               0.831|           1201|            42|               0.68|                0.217|                                                                                                                         1.9094E-4|                                                                                                                           0.99981|\n",
            "|710821833|Existing Customer|          65|     M|              1|        Unknown|       Married|    $40K - $60K|         Blue|            54|                       6|                     2|                    3|      9095.0|               1587|         7508.0|               1.433|           1314|            26|              1.364|                0.174|                                                                                                                         1.9751E-4|                                                                                                                            0.9998|\n",
            "|710599683|Existing Customer|          56|     M|              1|        College|        Single|   $80K - $120K|         Blue|            36|                       3|                     6|                    0|     11751.0|                  0|        11751.0|               3.397|           1539|            17|               3.25|                  0.0|                                                                                                                         4.7799E-5|                                                                                                                           0.99995|\n",
            "|816082233|Existing Customer|          35|     M|              3|       Graduate|       Unknown|    $60K - $80K|         Blue|            30|                       5|                     1|                    3|      8547.0|               1666|         6881.0|               1.163|           1311|            33|                2.0|                0.195|                                                                                                                         9.6126E-5|                                                                                                                            0.9999|\n",
            "|712396908|Existing Customer|          57|     F|              2|       Graduate|       Married| Less than $40K|         Blue|            48|                       5|                     2|                    2|      2436.0|                680|         1756.0|                1.19|           1570|            29|              0.611|                0.279|                                                                                                                         1.1382E-4|                                                                                                                           0.99989|\n",
            "|714885258|Existing Customer|          44|     M|              4|        Unknown|       Unknown|   $80K - $120K|         Blue|            37|                       5|                     1|                    2|      4234.0|                972|         3262.0|               1.707|           1348|            27|                1.7|                 0.23|                                                                                                                         6.3492E-5|                                                                                                                           0.99994|\n",
            "|709967358|Existing Customer|          48|     M|              4|  Post-Graduate|        Single|   $80K - $120K|         Blue|            36|                       6|                     2|                    3|     30367.0|               2362|        28005.0|               1.708|           1671|            27|              0.929|                0.078|                                                                                                                         2.3623E-4|                                                                                                                           0.99976|\n",
            "|753327333|Existing Customer|          41|     M|              3|        Unknown|       Married|   $80K - $120K|         Blue|            34|                       4|                     4|                    1|     13535.0|               1291|        12244.0|               0.653|           1028|            21|              1.625|                0.095|                                                                                                                         1.4953E-4|                                                                                                                           0.99985|\n",
            "|806160108|Existing Customer|          61|     M|              1|    High School|       Married|    $40K - $60K|         Blue|            56|                       2|                     2|                    3|      3193.0|               2517|          676.0|               1.831|           1336|            30|              1.143|                0.788|                                                                                                                         1.7468E-4|                                                                                                                           0.99983|\n",
            "|709327383|Existing Customer|          45|     F|              2|       Graduate|       Married|        Unknown|         Blue|            37|                       6|                     1|                    2|     14470.0|               1157|        13313.0|               0.966|           1207|            21|              0.909|                 0.08|                                                                                                                         5.5077E-5|                                                                                                                           0.99994|\n",
            "+---------+-----------------+------------+------+---------------+---------------+--------------+---------------+-------------+--------------+------------------------+----------------------+---------------------+------------+-------------------+---------------+--------------------+---------------+--------------+-------------------+---------------------+----------------------------------------------------------------------------------------------------------------------------------+----------------------------------------------------------------------------------------------------------------------------------+\n",
            "only showing top 20 rows\n",
            "\n"
          ]
        }
      ]
    },
    {
      "cell_type": "code",
      "source": [
        "#Dropping columns in DataFrame\n",
        "credit_df= df.drop('CLIENTNUM',\n",
        "'Naive_Bayes_Classifier_Attrition_Flag_Card_Category_Contacts_Count_12_mon_Dependent_count_Education_Level_Months_Inactive_12_mon_1',\n",
        "'Naive_Bayes_Classifier_Attrition_Flag_Card_Category_Contacts_Count_12_mon_Dependent_count_Education_Level_Months_Inactive_12_mon_2',\n",
        "'Naive_Bayes_Classifier_Attrition_Flag_Card_Category_Contacts_Count_12_mon_Dependent_count_Education_Level_Months_Inactive_12_mon_1')\n",
        "\n",
        "#Displaying DataFrame\n",
        "credit_df.show()\n"
      ],
      "metadata": {
        "id": "uUYaFCf_G6YV",
        "colab": {
          "base_uri": "https://localhost:8080/"
        },
        "outputId": "5bae659f-cbf0-4fa8-a4a4-e078f1ad4a32"
      },
      "execution_count": 6,
      "outputs": [
        {
          "output_type": "stream",
          "name": "stdout",
          "text": [
            "+-----------------+------------+------+---------------+---------------+--------------+---------------+-------------+--------------+------------------------+----------------------+---------------------+------------+-------------------+---------------+--------------------+---------------+--------------+-------------------+---------------------+\n",
            "|   Attrition_Flag|Customer_Age|Gender|Dependent_count|Education_Level|Marital_Status|Income_Category|Card_Category|Months_on_book|Total_Relationship_Count|Months_Inactive_12_mon|Contacts_Count_12_mon|Credit_Limit|Total_Revolving_Bal|Avg_Open_To_Buy|Total_Amt_Chng_Q4_Q1|Total_Trans_Amt|Total_Trans_Ct|Total_Ct_Chng_Q4_Q1|Avg_Utilization_Ratio|\n",
            "+-----------------+------------+------+---------------+---------------+--------------+---------------+-------------+--------------+------------------------+----------------------+---------------------+------------+-------------------+---------------+--------------------+---------------+--------------+-------------------+---------------------+\n",
            "|Existing Customer|          45|     M|              3|    High School|       Married|    $60K - $80K|         Blue|            39|                       5|                     1|                    3|     12691.0|                777|        11914.0|               1.335|           1144|            42|              1.625|                0.061|\n",
            "|Existing Customer|          49|     F|              5|       Graduate|        Single| Less than $40K|         Blue|            44|                       6|                     1|                    2|      8256.0|                864|         7392.0|               1.541|           1291|            33|              3.714|                0.105|\n",
            "|Existing Customer|          51|     M|              3|       Graduate|       Married|   $80K - $120K|         Blue|            36|                       4|                     1|                    0|      3418.0|                  0|         3418.0|               2.594|           1887|            20|              2.333|                  0.0|\n",
            "|Existing Customer|          40|     F|              4|    High School|       Unknown| Less than $40K|         Blue|            34|                       3|                     4|                    1|      3313.0|               2517|          796.0|               1.405|           1171|            20|              2.333|                 0.76|\n",
            "|Existing Customer|          40|     M|              3|     Uneducated|       Married|    $60K - $80K|         Blue|            21|                       5|                     1|                    0|      4716.0|                  0|         4716.0|               2.175|            816|            28|                2.5|                  0.0|\n",
            "|Existing Customer|          44|     M|              2|       Graduate|       Married|    $40K - $60K|         Blue|            36|                       3|                     1|                    2|      4010.0|               1247|         2763.0|               1.376|           1088|            24|              0.846|                0.311|\n",
            "|Existing Customer|          51|     M|              4|        Unknown|       Married|        $120K +|         Gold|            46|                       6|                     1|                    3|     34516.0|               2264|        32252.0|               1.975|           1330|            31|              0.722|                0.066|\n",
            "|Existing Customer|          32|     M|              0|    High School|       Unknown|    $60K - $80K|       Silver|            27|                       2|                     2|                    2|     29081.0|               1396|        27685.0|               2.204|           1538|            36|              0.714|                0.048|\n",
            "|Existing Customer|          37|     M|              3|     Uneducated|        Single|    $60K - $80K|         Blue|            36|                       5|                     2|                    0|     22352.0|               2517|        19835.0|               3.355|           1350|            24|              1.182|                0.113|\n",
            "|Existing Customer|          48|     M|              2|       Graduate|        Single|   $80K - $120K|         Blue|            36|                       6|                     3|                    3|     11656.0|               1677|         9979.0|               1.524|           1441|            32|              0.882|                0.144|\n",
            "|Existing Customer|          42|     M|              5|     Uneducated|       Unknown|        $120K +|         Blue|            31|                       5|                     3|                    2|      6748.0|               1467|         5281.0|               0.831|           1201|            42|               0.68|                0.217|\n",
            "|Existing Customer|          65|     M|              1|        Unknown|       Married|    $40K - $60K|         Blue|            54|                       6|                     2|                    3|      9095.0|               1587|         7508.0|               1.433|           1314|            26|              1.364|                0.174|\n",
            "|Existing Customer|          56|     M|              1|        College|        Single|   $80K - $120K|         Blue|            36|                       3|                     6|                    0|     11751.0|                  0|        11751.0|               3.397|           1539|            17|               3.25|                  0.0|\n",
            "|Existing Customer|          35|     M|              3|       Graduate|       Unknown|    $60K - $80K|         Blue|            30|                       5|                     1|                    3|      8547.0|               1666|         6881.0|               1.163|           1311|            33|                2.0|                0.195|\n",
            "|Existing Customer|          57|     F|              2|       Graduate|       Married| Less than $40K|         Blue|            48|                       5|                     2|                    2|      2436.0|                680|         1756.0|                1.19|           1570|            29|              0.611|                0.279|\n",
            "|Existing Customer|          44|     M|              4|        Unknown|       Unknown|   $80K - $120K|         Blue|            37|                       5|                     1|                    2|      4234.0|                972|         3262.0|               1.707|           1348|            27|                1.7|                 0.23|\n",
            "|Existing Customer|          48|     M|              4|  Post-Graduate|        Single|   $80K - $120K|         Blue|            36|                       6|                     2|                    3|     30367.0|               2362|        28005.0|               1.708|           1671|            27|              0.929|                0.078|\n",
            "|Existing Customer|          41|     M|              3|        Unknown|       Married|   $80K - $120K|         Blue|            34|                       4|                     4|                    1|     13535.0|               1291|        12244.0|               0.653|           1028|            21|              1.625|                0.095|\n",
            "|Existing Customer|          61|     M|              1|    High School|       Married|    $40K - $60K|         Blue|            56|                       2|                     2|                    3|      3193.0|               2517|          676.0|               1.831|           1336|            30|              1.143|                0.788|\n",
            "|Existing Customer|          45|     F|              2|       Graduate|       Married|        Unknown|         Blue|            37|                       6|                     1|                    2|     14470.0|               1157|        13313.0|               0.966|           1207|            21|              0.909|                 0.08|\n",
            "+-----------------+------------+------+---------------+---------------+--------------+---------------+-------------+--------------+------------------------+----------------------+---------------------+------------+-------------------+---------------+--------------------+---------------+--------------+-------------------+---------------------+\n",
            "only showing top 20 rows\n",
            "\n"
          ]
        }
      ]
    },
    {
      "cell_type": "code",
      "source": [
        "#Create a temporary view\n",
        "credit_df.createOrReplaceTempView(\"bank\")"
      ],
      "metadata": {
        "id": "yIU10Imio-XF"
      },
      "execution_count": 7,
      "outputs": []
    },
    {
      "cell_type": "markdown",
      "source": [
        "**Demographic Data to Analyze**"
      ],
      "metadata": {
        "id": "u3VxdsoNbD4C"
      }
    },
    {
      "cell_type": "markdown",
      "source": [
        "**Gender**"
      ],
      "metadata": {
        "id": "NcelSmF1bRf7"
      }
    },
    {
      "cell_type": "code",
      "source": [
        "gender = spark.sql(\"\"\"\n",
        "SELECT\n",
        "  Attrition_Flag as Flag,\n",
        "  Gender,\n",
        "  COUNT(Attrition_Flag) as Count\n",
        "FROM\n",
        "  bank\n",
        "WHERE\n",
        "  Gender IN ('F', 'M')\n",
        "GROUP BY\n",
        "  Attrition_Flag,\n",
        "  Gender\n",
        "\"\"\")\n",
        "\n",
        "gender.show()\n",
        "\n",
        "gendercount = spark.sql(\"\"\"\n",
        "SELECT\n",
        "  Attrition_Flag as Flag,\n",
        "  COUNT(*) as Count\n",
        "FROM\n",
        "  bank\n",
        "WHERE\n",
        "  Gender IN ('F', 'M')\n",
        "GROUP BY\n",
        "  Attrition_Flag\n",
        "\"\"\")\n",
        "\n",
        "gendercount.show()\n",
        "\n",
        "\n"
      ],
      "metadata": {
        "id": "JjhH6Kh0_VJJ",
        "colab": {
          "base_uri": "https://localhost:8080/"
        },
        "outputId": "0121a4fd-8528-4b1a-9838-e23b66ce36df"
      },
      "execution_count": 8,
      "outputs": [
        {
          "output_type": "stream",
          "name": "stdout",
          "text": [
            "+-----------------+------+-----+\n",
            "|             Flag|Gender|Count|\n",
            "+-----------------+------+-----+\n",
            "|Existing Customer|     F| 4428|\n",
            "|Attrited Customer|     F|  930|\n",
            "|Existing Customer|     M| 4072|\n",
            "|Attrited Customer|     M|  697|\n",
            "+-----------------+------+-----+\n",
            "\n",
            "+-----------------+-----+\n",
            "|             Flag|Count|\n",
            "+-----------------+-----+\n",
            "|Existing Customer| 8500|\n",
            "|Attrited Customer| 1627|\n",
            "+-----------------+-----+\n",
            "\n"
          ]
        }
      ]
    },
    {
      "cell_type": "code",
      "source": [
        "import matplotlib.pyplot as plt\n",
        "\n",
        "gendercount_pandas = gendercount.toPandas()\n",
        "\n",
        "# Extract data for the pie chart\n",
        "labels = gendercount_pandas['Flag']\n",
        "sizes = gendercount_pandas['Count']\n",
        "\n",
        "# Define custom colors\n",
        "colors = ['#99ff99','#ffcc99']\n",
        "\n",
        "# Plotting the pie chart\n",
        "plt.figure(figsize=(8, 8))\n",
        "plt.pie(sizes, labels=labels, autopct='%1.1f%%', startangle=140, colors=colors)\n",
        "plt.axis('equal')  # Equal aspect ratio ensures that pie is drawn as a circle.\n",
        "plt.title(\"Attrition Flag Distribution by Gender\")\n",
        "plt.show()"
      ],
      "metadata": {
        "id": "W5TlmxMNcLk4",
        "colab": {
          "base_uri": "https://localhost:8080/",
          "height": 675
        },
        "outputId": "282ab7ab-2eb6-4786-c23b-7703dc9e64d7"
      },
      "execution_count": 9,
      "outputs": [
        {
          "output_type": "display_data",
          "data": {
            "text/plain": [
              "<Figure size 800x800 with 1 Axes>"
            ],
            "image/png": "[encoded data removed]"
          },
          "metadata": {}
        }
      ]
    },
    {
      "cell_type": "markdown",
      "source": [
        "**Dependent Count**"
      ],
      "metadata": {
        "id": "hYLpwdGqbVnK"
      }
    },
    {
      "cell_type": "code",
      "source": [
        "dependent_count= spark.sql(\"\"\"\n",
        "SELECT\n",
        "  Attrition_Flag as Flag,\n",
        "  COUNT(*) as DependentCount,\n",
        "  CASE\n",
        "    WHEN Dependent_count BETWEEN 0 AND 5 THEN '0-5'\n",
        "    ELSE 'Other'\n",
        "  END AS DependentRange\n",
        "FROM\n",
        "  bank\n",
        "GROUP BY\n",
        "  Attrition_Flag,\n",
        "  CASE\n",
        "    WHEN Dependent_count BETWEEN 0 AND 5 THEN '0-5'\n",
        "    ELSE 'Other'\n",
        "  END\n",
        "ORDER BY\n",
        "  DependentRange\n",
        "\"\"\")\n",
        "dependent_count.show()"
      ],
      "metadata": {
        "id": "DFWZYrJC_VLt",
        "colab": {
          "base_uri": "https://localhost:8080/"
        },
        "outputId": "4bf58f09-2cb3-4e63-912e-f80748aff8a2"
      },
      "execution_count": 10,
      "outputs": [
        {
          "output_type": "stream",
          "name": "stdout",
          "text": [
            "+-----------------+--------------+--------------+\n",
            "|             Flag|DependentCount|DependentRange|\n",
            "+-----------------+--------------+--------------+\n",
            "|Attrited Customer|          1627|           0-5|\n",
            "|Existing Customer|          8500|           0-5|\n",
            "+-----------------+--------------+--------------+\n",
            "\n"
          ]
        }
      ]
    },
    {
      "cell_type": "markdown",
      "source": [
        "**Education**"
      ],
      "metadata": {
        "id": "uAn1SW2gbZvK"
      }
    },
    {
      "cell_type": "code",
      "source": [
        "education = spark.sql(\"\"\"\n",
        "SELECT\n",
        "  Attrition_Flag as Flag,\n",
        "  Education_Level as Education,\n",
        "  COUNT(Education_Level) as EducationCount\n",
        "FROM\n",
        "  bank\n",
        "GROUP BY\n",
        "  Attrition_Flag,\n",
        "  Education_Level\n",
        "ORDER BY\n",
        "  Flag\n",
        "\"\"\")\n",
        "education.show()"
      ],
      "metadata": {
        "id": "SQElJoHP_VOL",
        "colab": {
          "base_uri": "https://localhost:8080/"
        },
        "outputId": "e1b78ebb-95eb-43d6-d8d1-da71a79a2d1f"
      },
      "execution_count": 11,
      "outputs": [
        {
          "output_type": "stream",
          "name": "stdout",
          "text": [
            "+-----------------+-------------+--------------+\n",
            "|             Flag|    Education|EducationCount|\n",
            "+-----------------+-------------+--------------+\n",
            "|Attrited Customer|  High School|           306|\n",
            "|Attrited Customer|     Graduate|           487|\n",
            "|Attrited Customer|      Unknown|           256|\n",
            "|Attrited Customer|Post-Graduate|            92|\n",
            "|Attrited Customer|      College|           154|\n",
            "|Attrited Customer|   Uneducated|           237|\n",
            "|Attrited Customer|    Doctorate|            95|\n",
            "|Existing Customer|  High School|          1707|\n",
            "|Existing Customer|Post-Graduate|           424|\n",
            "|Existing Customer|    Doctorate|           356|\n",
            "|Existing Customer|     Graduate|          2641|\n",
            "|Existing Customer|   Uneducated|          1250|\n",
            "|Existing Customer|      Unknown|          1263|\n",
            "|Existing Customer|      College|           859|\n",
            "+-----------------+-------------+--------------+\n",
            "\n"
          ]
        }
      ]
    },
    {
      "cell_type": "markdown",
      "source": [
        "**Income Category**"
      ],
      "metadata": {
        "id": "VHKqw2mobd6S"
      }
    },
    {
      "cell_type": "code",
      "source": [
        "income = spark.sql(\"\"\"\n",
        "SELECT\n",
        "  Attrition_Flag as Flag,\n",
        "  Income_Category as Income,\n",
        "  COUNT(*) as IncomeCount\n",
        "FROM\n",
        "  bank\n",
        "GROUP BY\n",
        "  Attrition_Flag,\n",
        "  Income_Category\n",
        "ORDER BY\n",
        "  Income\n",
        "\"\"\")\n",
        "\n",
        "income.show()"
      ],
      "metadata": {
        "id": "19Px5uga_VQt",
        "colab": {
          "base_uri": "https://localhost:8080/"
        },
        "outputId": "2fb9bc6a-c4d5-4671-ac2b-3b94a658021a"
      },
      "execution_count": 12,
      "outputs": [
        {
          "output_type": "stream",
          "name": "stdout",
          "text": [
            "+-----------------+--------------+-----------+\n",
            "|             Flag|        Income|IncomeCount|\n",
            "+-----------------+--------------+-----------+\n",
            "|Attrited Customer|       $120K +|        126|\n",
            "|Existing Customer|       $120K +|        601|\n",
            "|Existing Customer|   $40K - $60K|       1519|\n",
            "|Attrited Customer|   $40K - $60K|        271|\n",
            "|Existing Customer|   $60K - $80K|       1213|\n",
            "|Attrited Customer|   $60K - $80K|        189|\n",
            "|Existing Customer|  $80K - $120K|       1293|\n",
            "|Attrited Customer|  $80K - $120K|        242|\n",
            "|Existing Customer|Less than $40K|       2949|\n",
            "|Attrited Customer|Less than $40K|        612|\n",
            "|Attrited Customer|       Unknown|        187|\n",
            "|Existing Customer|       Unknown|        925|\n",
            "+-----------------+--------------+-----------+\n",
            "\n"
          ]
        }
      ]
    },
    {
      "cell_type": "markdown",
      "source": [
        "**Behavioral (Bank) Data**"
      ],
      "metadata": {
        "id": "QJXxbaH4bKG9"
      }
    },
    {
      "cell_type": "markdown",
      "source": [
        "**Months on book**"
      ],
      "metadata": {
        "id": "uDwkNQyXblOO"
      }
    },
    {
      "cell_type": "code",
      "source": [
        "month_book = spark.sql(\"\"\"SELECT\n",
        "  Attrition_Flag as Flag,\n",
        "  Months_on_book as Months,\n",
        "  COUNT(*) as MonthsCount\n",
        "FROM\n",
        "  bank\n",
        "GROUP BY\n",
        "  Attrition_Flag,\n",
        "  Months_on_book\n",
        "ORDER BY\n",
        " Months\n",
        "\"\"\")\n",
        "month_book.show()"
      ],
      "metadata": {
        "id": "5_iKF271a51f",
        "colab": {
          "base_uri": "https://localhost:8080/"
        },
        "outputId": "7709de50-dc8b-4965-86f6-926dd12adcc1"
      },
      "execution_count": 13,
      "outputs": [
        {
          "output_type": "stream",
          "name": "stdout",
          "text": [
            "+-----------------+------+-----------+\n",
            "|             Flag|Months|MonthsCount|\n",
            "+-----------------+------+-----------+\n",
            "|Existing Customer|    13|         63|\n",
            "|Attrited Customer|    13|          7|\n",
            "|Existing Customer|    14|         15|\n",
            "|Attrited Customer|    14|          1|\n",
            "|Existing Customer|    15|         25|\n",
            "|Attrited Customer|    15|          9|\n",
            "|Existing Customer|    16|         26|\n",
            "|Attrited Customer|    16|          3|\n",
            "|Attrited Customer|    17|          4|\n",
            "|Existing Customer|    17|         35|\n",
            "|Attrited Customer|    18|         13|\n",
            "|Existing Customer|    18|         45|\n",
            "|Attrited Customer|    19|          6|\n",
            "|Existing Customer|    19|         57|\n",
            "|Attrited Customer|    20|         13|\n",
            "|Existing Customer|    20|         61|\n",
            "|Attrited Customer|    21|         10|\n",
            "|Existing Customer|    21|         73|\n",
            "|Attrited Customer|    22|         20|\n",
            "|Existing Customer|    22|         85|\n",
            "+-----------------+------+-----------+\n",
            "only showing top 20 rows\n",
            "\n"
          ]
        }
      ]
    },
    {
      "cell_type": "markdown",
      "source": [
        "**Total Relationsip Count**"
      ],
      "metadata": {
        "id": "CDwc-xqBhGzm"
      }
    },
    {
      "cell_type": "code",
      "source": [
        "total_relationship = spark.sql(\"\"\"SELECT\n",
        "  Attrition_Flag as Flag,\n",
        "  Total_Relationship_Count as TotalRelationship,\n",
        "  COUNT(*) as MonthsCount\n",
        "FROM\n",
        "  bank\n",
        "GROUP BY\n",
        "  Attrition_Flag,\n",
        "  Total_Relationship_Count\n",
        "ORDER BY\n",
        "  TotalRelationship\n",
        "\"\"\")\n",
        "total_relationship.show()"
      ],
      "metadata": {
        "id": "7-AIveICa5yt",
        "colab": {
          "base_uri": "https://localhost:8080/"
        },
        "outputId": "458bb39d-ba82-4a16-afb5-829e1173bceb"
      },
      "execution_count": 14,
      "outputs": [
        {
          "output_type": "stream",
          "name": "stdout",
          "text": [
            "+-----------------+-----------------+-----------+\n",
            "|             Flag|TotalRelationship|MonthsCount|\n",
            "+-----------------+-----------------+-----------+\n",
            "|Existing Customer|                1|        677|\n",
            "|Attrited Customer|                1|        233|\n",
            "|Existing Customer|                2|        897|\n",
            "|Attrited Customer|                2|        346|\n",
            "|Attrited Customer|                3|        400|\n",
            "|Existing Customer|                3|       1905|\n",
            "|Attrited Customer|                4|        225|\n",
            "|Existing Customer|                4|       1687|\n",
            "|Existing Customer|                5|       1664|\n",
            "|Attrited Customer|                5|        227|\n",
            "|Existing Customer|                6|       1670|\n",
            "|Attrited Customer|                6|        196|\n",
            "+-----------------+-----------------+-----------+\n",
            "\n"
          ]
        }
      ]
    },
    {
      "cell_type": "markdown",
      "source": [
        "**Months Inactive 12 months**"
      ],
      "metadata": {
        "id": "AH03oylnhn6a"
      }
    },
    {
      "cell_type": "code",
      "source": [
        "months_inactive = spark.sql(\"\"\"SELECT\n",
        "  Attrition_Flag as Flag,\n",
        "  Months_Inactive_12_mon as MonthsInactive,\n",
        "  COUNT(*) as InactiveCount\n",
        "FROM\n",
        "  bank\n",
        "GROUP BY\n",
        "  Attrition_Flag,\n",
        "  Months_Inactive_12_mon\n",
        "ORDER BY\n",
        "  MonthsInactive\n",
        "\"\"\")\n",
        "months_inactive.show()"
      ],
      "metadata": {
        "id": "QNcBIYC-a5v8",
        "colab": {
          "base_uri": "https://localhost:8080/"
        },
        "outputId": "af7a5d6d-01e3-4c0a-e4bf-ea565cfd1a3a"
      },
      "execution_count": 15,
      "outputs": [
        {
          "output_type": "stream",
          "name": "stdout",
          "text": [
            "+-----------------+--------------+-------------+\n",
            "|             Flag|MonthsInactive|InactiveCount|\n",
            "+-----------------+--------------+-------------+\n",
            "|Existing Customer|             0|           14|\n",
            "|Attrited Customer|             0|           15|\n",
            "|Existing Customer|             1|         2133|\n",
            "|Attrited Customer|             1|          100|\n",
            "|Existing Customer|             2|         2777|\n",
            "|Attrited Customer|             2|          505|\n",
            "|Attrited Customer|             3|          826|\n",
            "|Existing Customer|             3|         3020|\n",
            "|Attrited Customer|             4|          130|\n",
            "|Existing Customer|             4|          305|\n",
            "|Existing Customer|             5|          146|\n",
            "|Attrited Customer|             5|           32|\n",
            "|Existing Customer|             6|          105|\n",
            "|Attrited Customer|             6|           19|\n",
            "+-----------------+--------------+-------------+\n",
            "\n"
          ]
        }
      ]
    },
    {
      "cell_type": "markdown",
      "source": [
        "**Contacts Count 12 months**"
      ],
      "metadata": {
        "id": "fNhEOohUiEuB"
      }
    },
    {
      "cell_type": "code",
      "source": [
        "contacts = spark.sql(\"\"\"SELECT\n",
        "  Attrition_Flag as Flag,\n",
        "  Contacts_Count_12_mon as Contact,\n",
        "  COUNT(*) as MonthsCount\n",
        "FROM\n",
        "  bank\n",
        "GROUP BY\n",
        "  Attrition_Flag,\n",
        "  Contacts_Count_12_mon\n",
        "ORDER BY\n",
        "  Contact\n",
        "\"\"\")\n",
        "contacts.show()"
      ],
      "metadata": {
        "id": "xSr7lDdEiCTU",
        "colab": {
          "base_uri": "https://localhost:8080/"
        },
        "outputId": "89eec5aa-5c07-4c14-f636-e655eeeea807"
      },
      "execution_count": 16,
      "outputs": [
        {
          "output_type": "stream",
          "name": "stdout",
          "text": [
            "+-----------------+-------+-----------+\n",
            "|             Flag|Contact|MonthsCount|\n",
            "+-----------------+-------+-----------+\n",
            "|Existing Customer|      0|        392|\n",
            "|Attrited Customer|      0|          7|\n",
            "|Existing Customer|      1|       1391|\n",
            "|Attrited Customer|      1|        108|\n",
            "|Existing Customer|      2|       2824|\n",
            "|Attrited Customer|      2|        403|\n",
            "|Attrited Customer|      3|        681|\n",
            "|Existing Customer|      3|       2699|\n",
            "|Attrited Customer|      4|        315|\n",
            "|Existing Customer|      4|       1077|\n",
            "|Existing Customer|      5|        117|\n",
            "|Attrited Customer|      5|         59|\n",
            "|Attrited Customer|      6|         54|\n",
            "+-----------------+-------+-----------+\n",
            "\n"
          ]
        }
      ]
    },
    {
      "cell_type": "markdown",
      "source": [
        "**Credit Limit**"
      ],
      "metadata": {
        "id": "1XWRJMUjjHjE"
      }
    },
    {
      "cell_type": "code",
      "source": [
        "credit = spark.sql(\"\"\"SELECT\n",
        "  Attrition_Flag as Flag,\n",
        "  Credit_Limit as CreditLimit,\n",
        "  COUNT(*) as CreditCount\n",
        "FROM\n",
        "  bank\n",
        "GROUP BY\n",
        "  Attrition_Flag,\n",
        "  Credit_Limit\n",
        "ORDER BY\n",
        "  CreditCount\n",
        "\"\"\")\n",
        "credit.show()"
      ],
      "metadata": {
        "id": "65IOU0x9a5tO",
        "colab": {
          "base_uri": "https://localhost:8080/"
        },
        "outputId": "12f34ae1-726a-49d2-c30c-9c3c87155eee"
      },
      "execution_count": 17,
      "outputs": [
        {
          "output_type": "stream",
          "name": "stdout",
          "text": [
            "+-----------------+-----------+-----------+\n",
            "|             Flag|CreditLimit|CreditCount|\n",
            "+-----------------+-----------+-----------+\n",
            "|Existing Customer|    23665.0|          1|\n",
            "|Existing Customer|    12932.0|          1|\n",
            "|Attrited Customer|     1491.0|          1|\n",
            "|Existing Customer|    14035.0|          1|\n",
            "|Attrited Customer|    11422.0|          1|\n",
            "|Existing Customer|     4844.0|          1|\n",
            "|Existing Customer|     4135.0|          1|\n",
            "|Existing Customer|     5478.0|          1|\n",
            "|Attrited Customer|     2066.0|          1|\n",
            "|Existing Customer|     1525.0|          1|\n",
            "|Existing Customer|     6966.0|          1|\n",
            "|Existing Customer|    19999.0|          1|\n",
            "|Existing Customer|    18379.0|          1|\n",
            "|Existing Customer|     5443.0|          1|\n",
            "|Existing Customer|     7264.0|          1|\n",
            "|Existing Customer|     7112.0|          1|\n",
            "|Existing Customer|     1671.0|          1|\n",
            "|Existing Customer|     5585.0|          1|\n",
            "|Attrited Customer|     5557.0|          1|\n",
            "|Existing Customer|    25666.0|          1|\n",
            "+-----------------+-----------+-----------+\n",
            "only showing top 20 rows\n",
            "\n"
          ]
        }
      ]
    },
    {
      "cell_type": "markdown",
      "source": [
        "**Total Trans Amt**"
      ],
      "metadata": {
        "id": "kSxpPwfBkqDv"
      }
    },
    {
      "cell_type": "code",
      "source": [
        "total_amt = spark.sql(\"\"\"SELECT\n",
        "  Attrition_Flag as Flag,\n",
        "  Total_Trans_Amt as TotalTrans,\n",
        "  COUNT(*) as TransCount\n",
        "FROM\n",
        "  bank\n",
        "GROUP BY\n",
        "  Attrition_Flag,\n",
        "  Total_Trans_Amt\n",
        "ORDER BY\n",
        "  TotalTrans\n",
        "\"\"\")\n",
        "total_amt.show()"
      ],
      "metadata": {
        "id": "8HjjTPopa5qs",
        "colab": {
          "base_uri": "https://localhost:8080/"
        },
        "outputId": "2ccaabb7-45cd-4308-b369-718f7f7d7267"
      },
      "execution_count": 18,
      "outputs": [
        {
          "output_type": "stream",
          "name": "stdout",
          "text": [
            "+-----------------+----------+----------+\n",
            "|             Flag|TotalTrans|TransCount|\n",
            "+-----------------+----------+----------+\n",
            "|Attrited Customer|       510|         1|\n",
            "|Attrited Customer|       530|         1|\n",
            "|Attrited Customer|       563|         1|\n",
            "|Attrited Customer|       569|         1|\n",
            "|Attrited Customer|       594|         1|\n",
            "|Attrited Customer|       596|         1|\n",
            "|Attrited Customer|       597|         1|\n",
            "|Attrited Customer|       602|         1|\n",
            "|Attrited Customer|       615|         1|\n",
            "|Attrited Customer|       643|         1|\n",
            "|Attrited Customer|       644|         1|\n",
            "|Attrited Customer|       646|         1|\n",
            "|Attrited Customer|       647|         2|\n",
            "|Attrited Customer|       654|         1|\n",
            "|Attrited Customer|       660|         1|\n",
            "|Attrited Customer|       673|         1|\n",
            "|Attrited Customer|       678|         1|\n",
            "|Attrited Customer|       683|         1|\n",
            "|Attrited Customer|       687|         1|\n",
            "|Attrited Customer|       689|         1|\n",
            "+-----------------+----------+----------+\n",
            "only showing top 20 rows\n",
            "\n"
          ]
        }
      ]
    },
    {
      "cell_type": "markdown",
      "source": [
        "**Total Trans Count**"
      ],
      "metadata": {
        "id": "PA67Em2SlqIt"
      }
    },
    {
      "cell_type": "code",
      "source": [
        "total_count = spark.sql(\"\"\"SELECT\n",
        "  Attrition_Flag as Flag,\n",
        "  Total_Trans_Ct as TotalTransCount,\n",
        "  COUNT(*) as CountTotalTrans\n",
        "FROM\n",
        "  bank\n",
        "GROUP BY\n",
        "  Attrition_Flag,\n",
        "  Total_Trans_Ct\n",
        "ORDER BY\n",
        "  CountTotalTrans\n",
        "\"\"\")\n",
        "total_count.show()\n"
      ],
      "metadata": {
        "id": "OejN653ua5n7",
        "colab": {
          "base_uri": "https://localhost:8080/"
        },
        "outputId": "adeb0d24-07ce-4732-c71c-8d774e58ea87"
      },
      "execution_count": 19,
      "outputs": [
        {
          "output_type": "stream",
          "name": "stdout",
          "text": [
            "+-----------------+---------------+---------------+\n",
            "|             Flag|TotalTransCount|CountTotalTrans|\n",
            "+-----------------+---------------+---------------+\n",
            "|Existing Customer|            132|              1|\n",
            "|Existing Customer|            134|              1|\n",
            "|Existing Customer|            139|              1|\n",
            "|Existing Customer|            138|              1|\n",
            "|Attrited Customer|             86|              1|\n",
            "|Attrited Customer|             11|              1|\n",
            "|Existing Customer|             11|              1|\n",
            "|Attrited Customer|             83|              1|\n",
            "|Attrited Customer|             94|              1|\n",
            "|Attrited Customer|             91|              1|\n",
            "|Existing Customer|             14|              1|\n",
            "|Existing Customer|             13|              2|\n",
            "|Attrited Customer|             89|              2|\n",
            "|Attrited Customer|             90|              3|\n",
            "|Existing Customer|             17|              3|\n",
            "|Attrited Customer|             13|              3|\n",
            "|Attrited Customer|             12|              4|\n",
            "|Attrited Customer|             85|              4|\n",
            "|Existing Customer|             15|              4|\n",
            "|Existing Customer|             19|              4|\n",
            "+-----------------+---------------+---------------+\n",
            "only showing top 20 rows\n",
            "\n"
          ]
        }
      ]
    },
    {
      "cell_type": "code",
      "source": [
        "from pyspark.sql import functions as F\n",
        "from pyspark.sql import types as T\n",
        "\n",
        "\n",
        "#Gives a label to each category\n",
        "#creates onehot encoding vector\n",
        "from pyspark.ml.feature import StringIndexer, OneHotEncoder\n",
        "\n",
        "#Used to creat vector from features and modeling takes vector as an input\n",
        "from pyspark.ml.feature import VectorAssembler\n",
        "\n",
        "#Used for classification problems\n",
        "from pyspark.ml.classification import DecisionTreeClassifier\n"
      ],
      "metadata": {
        "id": "JqAMZQXR_VTO"
      },
      "execution_count": 20,
      "outputs": []
    },
    {
      "cell_type": "code",
      "source": [
        "#Maniplating Attrition_Flag to 0= Attrited Customer and 1= Existing Customer\n",
        "attrition_df = credit_df.withColumn(\"Attrition_Flag\", F.when(F.col(\"Attrition_Flag\") =='Attrited Customer', 0).otherwise(1))\n",
        "\n",
        "#Displaying DataFrame\n",
        "attrition_df.show(3, truncate=False)\n",
        "\n",
        "#Displaying count of Attrition_Flag\n",
        "attrition_df.groupby(\"Attrition_Flag\").count().show()\n"
      ],
      "metadata": {
        "id": "qG-fCcncuEsY",
        "colab": {
          "base_uri": "https://localhost:8080/"
        },
        "outputId": "979b1cd5-f3be-4000-f016-773fdcfdb4e0"
      },
      "execution_count": 21,
      "outputs": [
        {
          "output_type": "stream",
          "name": "stdout",
          "text": [
            "+--------------+------------+------+---------------+---------------+--------------+---------------+-------------+--------------+------------------------+----------------------+---------------------+------------+-------------------+---------------+--------------------+---------------+--------------+-------------------+---------------------+\n",
            "|Attrition_Flag|Customer_Age|Gender|Dependent_count|Education_Level|Marital_Status|Income_Category|Card_Category|Months_on_book|Total_Relationship_Count|Months_Inactive_12_mon|Contacts_Count_12_mon|Credit_Limit|Total_Revolving_Bal|Avg_Open_To_Buy|Total_Amt_Chng_Q4_Q1|Total_Trans_Amt|Total_Trans_Ct|Total_Ct_Chng_Q4_Q1|Avg_Utilization_Ratio|\n",
            "+--------------+------------+------+---------------+---------------+--------------+---------------+-------------+--------------+------------------------+----------------------+---------------------+------------+-------------------+---------------+--------------------+---------------+--------------+-------------------+---------------------+\n",
            "|1             |45          |M     |3              |High School    |Married       |$60K - $80K    |Blue         |39            |5                       |1                     |3                    |12691.0     |777                |11914.0        |1.335               |1144           |42            |1.625              |0.061                |\n",
            "|1             |49          |F     |5              |Graduate       |Single        |Less than $40K |Blue         |44            |6                       |1                     |2                    |8256.0      |864                |7392.0         |1.541               |1291           |33            |3.714              |0.105                |\n",
            "|1             |51          |M     |3              |Graduate       |Married       |$80K - $120K   |Blue         |36            |4                       |1                     |0                    |3418.0      |0                  |3418.0         |2.594               |1887           |20            |2.333              |0.0                  |\n",
            "+--------------+------------+------+---------------+---------------+--------------+---------------+-------------+--------------+------------------------+----------------------+---------------------+------------+-------------------+---------------+--------------------+---------------+--------------+-------------------+---------------------+\n",
            "only showing top 3 rows\n",
            "\n",
            "+--------------+-----+\n",
            "|Attrition_Flag|count|\n",
            "+--------------+-----+\n",
            "|             1| 8500|\n",
            "|             0| 1627|\n",
            "+--------------+-----+\n",
            "\n"
          ]
        }
      ]
    },
    {
      "cell_type": "markdown",
      "source": [
        "**1st Modeling**"
      ],
      "metadata": {
        "id": "M_7j-MGg0co0"
      }
    },
    {
      "cell_type": "code",
      "source": [
        "(attrited_train_df, attrited_test_df) = attrition_df.randomSplit([0.8, 0.2], 11)\n",
        "print(\"Number of train samples: \" + str(attrited_train_df.count()))\n",
        "print(\"Number of test samples: \" + str(attrited_test_df.count()))"
      ],
      "metadata": {
        "id": "hCE6x_jguEpc",
        "colab": {
          "base_uri": "https://localhost:8080/"
        },
        "outputId": "1e1346a5-fa45-4eb5-d465-52b6fc6862fa"
      },
      "execution_count": 22,
      "outputs": [
        {
          "output_type": "stream",
          "name": "stdout",
          "text": [
            "Number of train samples: 8102\n",
            "Number of test samples: 2025\n"
          ]
        }
      ]
    },
    {
      "cell_type": "code",
      "source": [
        "# Apply StringIndexer to the Attrition_Flag column\n",
        "attrition_indexer = StringIndexer(inputCol=\"Attrition_Flag\", outputCol=\"Attrition_Flag_Index\")\n",
        "attrition_indexer = attrition_indexer.fit(attrited_train_df)\n",
        "attrited_train_df = attrition_indexer.transform(attrited_train_df)\n",
        "\n",
        "# Show the transformed DataFrame\n",
        "attrited_train_df.show(3, truncate=False)"
      ],
      "metadata": {
        "id": "Zy2QUrAMMXvz",
        "colab": {
          "base_uri": "https://localhost:8080/"
        },
        "outputId": "19c9472f-d207-43b4-e06f-a5f0d103aa8f"
      },
      "execution_count": 23,
      "outputs": [
        {
          "output_type": "stream",
          "name": "stdout",
          "text": [
            "+--------------+------------+------+---------------+---------------+--------------+---------------+-------------+--------------+------------------------+----------------------+---------------------+------------+-------------------+---------------+--------------------+---------------+--------------+-------------------+---------------------+--------------------+\n",
            "|Attrition_Flag|Customer_Age|Gender|Dependent_count|Education_Level|Marital_Status|Income_Category|Card_Category|Months_on_book|Total_Relationship_Count|Months_Inactive_12_mon|Contacts_Count_12_mon|Credit_Limit|Total_Revolving_Bal|Avg_Open_To_Buy|Total_Amt_Chng_Q4_Q1|Total_Trans_Amt|Total_Trans_Ct|Total_Ct_Chng_Q4_Q1|Avg_Utilization_Ratio|Attrition_Flag_Index|\n",
            "+--------------+------------+------+---------------+---------------+--------------+---------------+-------------+--------------+------------------------+----------------------+---------------------+------------+-------------------+---------------+--------------------+---------------+--------------+-------------------+---------------------+--------------------+\n",
            "|0             |26          |F     |0              |High School    |Single        |$40K - $60K    |Blue         |13            |2                       |2                     |4                    |1730.0      |1616               |114.0          |0.331               |869            |27            |0.286              |0.934                |1.0                 |\n",
            "|0             |26          |F     |0              |High School    |Single        |Unknown        |Blue         |13            |1                       |2                     |4                    |6152.0      |0                  |6152.0         |0.391               |968            |23            |0.533              |0.0                  |1.0                 |\n",
            "|0             |26          |F     |0              |Post-Graduate  |Single        |Less than $40K |Blue         |15            |3                       |2                     |3                    |1442.0      |1428               |14.0           |0.496               |1134           |26            |0.238              |0.99                 |1.0                 |\n",
            "+--------------+------------+------+---------------+---------------+--------------+---------------+-------------+--------------+------------------------+----------------------+---------------------+------------+-------------------+---------------+--------------------+---------------+--------------+-------------------+---------------------+--------------------+\n",
            "only showing top 3 rows\n",
            "\n"
          ]
        }
      ]
    },
    {
      "cell_type": "code",
      "source": [
        "attrited_inputCols=[\n",
        " 'Dependent_count',\n",
        " 'Months_on_book',\n",
        " 'Total_Relationship_Count',\n",
        " 'Months_Inactive_12_mon',\n",
        " 'Contacts_Count_12_mon',\n",
        " 'Credit_Limit',\n",
        " 'Total_Revolving_Bal',\n",
        " 'Avg_Open_To_Buy',\n",
        " 'Total_Amt_Chng_Q4_Q1',\n",
        " 'Total_Trans_Amt',\n",
        " 'Total_Trans_Ct',\n",
        " 'Total_Ct_Chng_Q4_Q1',\n",
        " 'Avg_Utilization_Ratio'\n",
        "    ]\n",
        "\n",
        "attrited_outputCol=\"features\"\n",
        "\n",
        "vector_assembler = VectorAssembler(inputCols= attrited_inputCols, outputCol=attrited_outputCol )\n",
        "attrited_train_df = vector_assembler.transform(attrited_train_df)"
      ],
      "metadata": {
        "id": "djo_2R1HuCeM"
      },
      "execution_count": 24,
      "outputs": []
    },
    {
      "cell_type": "code",
      "source": [
        "attrited_train_df.show(3, truncate=False)"
      ],
      "metadata": {
        "id": "XW0Cg6kcuCbd",
        "colab": {
          "base_uri": "https://localhost:8080/"
        },
        "outputId": "2267ed99-b050-4ebd-a432-a1015dd29dfb"
      },
      "execution_count": 25,
      "outputs": [
        {
          "output_type": "stream",
          "name": "stdout",
          "text": [
            "+--------------+------------+------+---------------+---------------+--------------+---------------+-------------+--------------+------------------------+----------------------+---------------------+------------+-------------------+---------------+--------------------+---------------+--------------+-------------------+---------------------+--------------------+-----------------------------------------------------------------------+\n",
            "|Attrition_Flag|Customer_Age|Gender|Dependent_count|Education_Level|Marital_Status|Income_Category|Card_Category|Months_on_book|Total_Relationship_Count|Months_Inactive_12_mon|Contacts_Count_12_mon|Credit_Limit|Total_Revolving_Bal|Avg_Open_To_Buy|Total_Amt_Chng_Q4_Q1|Total_Trans_Amt|Total_Trans_Ct|Total_Ct_Chng_Q4_Q1|Avg_Utilization_Ratio|Attrition_Flag_Index|features                                                               |\n",
            "+--------------+------------+------+---------------+---------------+--------------+---------------+-------------+--------------+------------------------+----------------------+---------------------+------------+-------------------+---------------+--------------------+---------------+--------------+-------------------+---------------------+--------------------+-----------------------------------------------------------------------+\n",
            "|0             |26          |F     |0              |High School    |Single        |$40K - $60K    |Blue         |13            |2                       |2                     |4                    |1730.0      |1616               |114.0          |0.331               |869            |27            |0.286              |0.934                |1.0                 |[0.0,13.0,2.0,2.0,4.0,1730.0,1616.0,114.0,0.331,869.0,27.0,0.286,0.934]|\n",
            "|0             |26          |F     |0              |High School    |Single        |Unknown        |Blue         |13            |1                       |2                     |4                    |6152.0      |0                  |6152.0         |0.391               |968            |23            |0.533              |0.0                  |1.0                 |[0.0,13.0,1.0,2.0,4.0,6152.0,0.0,6152.0,0.391,968.0,23.0,0.533,0.0]    |\n",
            "|0             |26          |F     |0              |Post-Graduate  |Single        |Less than $40K |Blue         |15            |3                       |2                     |3                    |1442.0      |1428               |14.0           |0.496               |1134           |26            |0.238              |0.99                 |1.0                 |[0.0,15.0,3.0,2.0,3.0,1442.0,1428.0,14.0,0.496,1134.0,26.0,0.238,0.99] |\n",
            "+--------------+------------+------+---------------+---------------+--------------+---------------+-------------+--------------+------------------------+----------------------+---------------------+------------+-------------------+---------------+--------------------+---------------+--------------+-------------------+---------------------+--------------------+-----------------------------------------------------------------------+\n",
            "only showing top 3 rows\n",
            "\n"
          ]
        }
      ]
    },
    {
      "cell_type": "code",
      "source": [
        "#Modeling dataframe for Attrition_Flag\n",
        "attrited_modeling_df = attrited_train_df.select('features', 'Attrition_Flag')\n",
        "\n",
        "#Displaying DataFrame\n",
        "attrited_modeling_df.show()\n"
      ],
      "metadata": {
        "id": "80dvFyF8QPY2",
        "colab": {
          "base_uri": "https://localhost:8080/"
        },
        "outputId": "e02396db-fde6-49a3-9c30-e8100e06f0d8"
      },
      "execution_count": 26,
      "outputs": [
        {
          "output_type": "stream",
          "name": "stdout",
          "text": [
            "+--------------------+--------------+\n",
            "|            features|Attrition_Flag|\n",
            "+--------------------+--------------+\n",
            "|[0.0,13.0,2.0,2.0...|             0|\n",
            "|[0.0,13.0,1.0,2.0...|             0|\n",
            "|[0.0,15.0,3.0,2.0...|             0|\n",
            "|[0.0,20.0,3.0,2.0...|             0|\n",
            "|[0.0,13.0,5.0,2.0...|             0|\n",
            "|[0.0,16.0,6.0,1.0...|             0|\n",
            "|[0.0,36.0,2.0,3.0...|             0|\n",
            "|[1.0,36.0,4.0,2.0...|             0|\n",
            "|[0.0,19.0,2.0,1.0...|             0|\n",
            "|[1.0,36.0,3.0,2.0...|             0|\n",
            "|[1.0,17.0,5.0,1.0...|             0|\n",
            "|[0.0,36.0,5.0,3.0...|             0|\n",
            "|[0.0,22.0,1.0,2.0...|             0|\n",
            "|[0.0,13.0,3.0,1.0...|             0|\n",
            "|[1.0,36.0,2.0,2.0...|             0|\n",
            "|[1.0,18.0,4.0,1.0...|             0|\n",
            "|[1.0,19.0,6.0,1.0...|             0|\n",
            "|[0.0,24.0,6.0,2.0...|             0|\n",
            "|[0.0,23.0,6.0,2.0...|             0|\n",
            "|[1.0,19.0,4.0,3.0...|             0|\n",
            "+--------------------+--------------+\n",
            "only showing top 20 rows\n",
            "\n"
          ]
        }
      ]
    },
    {
      "cell_type": "code",
      "source": [
        "#Creating a DecisionTreeClassifier model\n",
        "model_attrition = DecisionTreeClassifier(labelCol=\"Attrition_Flag\", featuresCol=\"features\")\n",
        "\n",
        "\n",
        "#Train model with traing data\n",
        "model_attrition = model_attrition.fit(attrited_modeling_df)\n",
        "\n"
      ],
      "metadata": {
        "id": "H3msoV96uCY8"
      },
      "execution_count": 27,
      "outputs": []
    },
    {
      "cell_type": "code",
      "source": [
        "prediction = model_attrition.transform(attrited_modeling_df)\n",
        "prediction.show()"
      ],
      "metadata": {
        "id": "5lDGyo4U5u8u",
        "colab": {
          "base_uri": "https://localhost:8080/"
        },
        "outputId": "f7ad90ef-01d4-47dd-c471-2aa7ece1d822"
      },
      "execution_count": 28,
      "outputs": [
        {
          "output_type": "stream",
          "name": "stdout",
          "text": [
            "+--------------------+--------------+--------------+--------------------+----------+\n",
            "|            features|Attrition_Flag| rawPrediction|         probability|prediction|\n",
            "+--------------------+--------------+--------------+--------------------+----------+\n",
            "|[0.0,13.0,2.0,2.0...|             0|  [121.0,25.0]|[0.82876712328767...|       0.0|\n",
            "|[0.0,13.0,1.0,2.0...|             0|  [525.0,74.0]|[0.87646076794657...|       0.0|\n",
            "|[0.0,15.0,3.0,2.0...|             0|[103.0,1198.0]|[0.07916986933128...|       1.0|\n",
            "|[0.0,20.0,3.0,2.0...|             0|  [525.0,74.0]|[0.87646076794657...|       0.0|\n",
            "|[0.0,13.0,5.0,2.0...|             0|[103.0,1198.0]|[0.07916986933128...|       1.0|\n",
            "|[0.0,16.0,6.0,1.0...|             0|[103.0,1198.0]|[0.07916986933128...|       1.0|\n",
            "|[0.0,36.0,2.0,3.0...|             0|  [22.0,966.0]|[0.02226720647773...|       1.0|\n",
            "|[1.0,36.0,4.0,2.0...|             0|  [525.0,74.0]|[0.87646076794657...|       0.0|\n",
            "|[0.0,19.0,2.0,1.0...|             0|  [121.0,25.0]|[0.82876712328767...|       0.0|\n",
            "|[1.0,36.0,3.0,2.0...|             0|  [112.0,65.0]|[0.63276836158192...|       0.0|\n",
            "|[1.0,17.0,5.0,1.0...|             0|  [22.0,966.0]|[0.02226720647773...|       1.0|\n",
            "|[0.0,36.0,5.0,3.0...|             0|  [38.0,469.0]|[0.07495069033530...|       1.0|\n",
            "|[0.0,22.0,1.0,2.0...|             0|  [160.0,42.0]|[0.79207920792079...|       0.0|\n",
            "|[0.0,13.0,3.0,1.0...|             0|  [160.0,42.0]|[0.79207920792079...|       0.0|\n",
            "|[1.0,36.0,2.0,2.0...|             0|  [121.0,25.0]|[0.82876712328767...|       0.0|\n",
            "|[1.0,18.0,4.0,1.0...|             0|  [160.0,42.0]|[0.79207920792079...|       0.0|\n",
            "|[1.0,19.0,6.0,1.0...|             0|    [18.0,4.0]|[0.81818181818181...|       0.0|\n",
            "|[0.0,24.0,6.0,2.0...|             0|  [160.0,42.0]|[0.79207920792079...|       0.0|\n",
            "|[0.0,23.0,6.0,2.0...|             0|  [160.0,42.0]|[0.79207920792079...|       0.0|\n",
            "|[1.0,19.0,4.0,3.0...|             0|  [525.0,74.0]|[0.87646076794657...|       0.0|\n",
            "+--------------------+--------------+--------------+--------------------+----------+\n",
            "only showing top 20 rows\n",
            "\n"
          ]
        }
      ]
    },
    {
      "cell_type": "code",
      "source": [
        "from pyspark.ml.evaluation import MulticlassClassificationEvaluator\n",
        "\n",
        "evaluator = MulticlassClassificationEvaluator(labelCol=\"Attrition_Flag\")\n",
        "\n",
        "accuracy = evaluator.evaluate(prediction, {evaluator.metricName: 'accuracy'})\n",
        "f1 = evaluator.evaluate(prediction, {evaluator.metricName: 'f1'})\n",
        "recall = evaluator.evaluate(prediction, {evaluator.metricName: 'recallByLabel'})\n",
        "precision = evaluator.evaluate(prediction, {evaluator.metricName: 'precisionByLabel'})\n",
        "\n",
        "print(f\"The Precision for 1st Train Prediction: {precision}\")\n",
        "print(f\"The F1 for 1st Train Prediction: {f1}\")\n",
        "print(f\"The Recall for 1st Train Prediction: {recall}\")\n",
        "print(f\"The Accuracy for 1st Train Prediction: {accuracy}\")"
      ],
      "metadata": {
        "id": "v-CFU8gBR168",
        "colab": {
          "base_uri": "https://localhost:8080/"
        },
        "outputId": "75afcdfc-1a47-4521-fd86-e722e348f72f"
      },
      "execution_count": 29,
      "outputs": [
        {
          "output_type": "stream",
          "name": "stdout",
          "text": [
            "The Precision for 1st Train Prediction: 0.8013698630136986\n",
            "The F1 for 1st Train Prediction: 0.9373021145127812\n",
            "The Recall for 1st Train Prediction: 0.8093774019984628\n",
            "The Accuracy for 1st Train Prediction: 0.937176005924463\n"
          ]
        }
      ]
    },
    {
      "cell_type": "markdown",
      "source": [
        "**1st Test Prediction**"
      ],
      "metadata": {
        "id": "_xG5VmkdV1vu"
      }
    },
    {
      "cell_type": "code",
      "source": [
        "#Test data- transform train test data using all tranformers and estimators in order\n",
        "\n",
        "attrited_test_df = attrition_indexer.transform(attrited_test_df)\n",
        "attrited_test_df = vector_assembler.transform(attrited_test_df)\n",
        "test_predications =  model_attrition.transform(attrited_test_df)\n",
        "\n",
        "test_predications.show(3, truncate=False)"
      ],
      "metadata": {
        "id": "k1EBmC-xTZlX",
        "colab": {
          "base_uri": "https://localhost:8080/"
        },
        "outputId": "8422e138-d081-4c50-ae6f-dc5709b88050"
      },
      "execution_count": 30,
      "outputs": [
        {
          "output_type": "stream",
          "name": "stdout",
          "text": [
            "+--------------+------------+------+---------------+---------------+--------------+---------------+-------------+--------------+------------------------+----------------------+---------------------+------------+-------------------+---------------+--------------------+---------------+--------------+-------------------+---------------------+--------------------+----------------------------------------------------------------------+-------------+----------------------------------------+----------+\n",
            "|Attrition_Flag|Customer_Age|Gender|Dependent_count|Education_Level|Marital_Status|Income_Category|Card_Category|Months_on_book|Total_Relationship_Count|Months_Inactive_12_mon|Contacts_Count_12_mon|Credit_Limit|Total_Revolving_Bal|Avg_Open_To_Buy|Total_Amt_Chng_Q4_Q1|Total_Trans_Amt|Total_Trans_Ct|Total_Ct_Chng_Q4_Q1|Avg_Utilization_Ratio|Attrition_Flag_Index|features                                                              |rawPrediction|probability                             |prediction|\n",
            "+--------------+------------+------+---------------+---------------+--------------+---------------+-------------+--------------+------------------------+----------------------+---------------------+------------+-------------------+---------------+--------------------+---------------+--------------+-------------------+---------------------+--------------------+----------------------------------------------------------------------+-------------+----------------------------------------+----------+\n",
            "|0             |26          |M     |0              |High School    |Single        |$40K - $60K    |Blue         |15            |3                       |1                     |3                    |3324.0      |0                  |3324.0         |0.537               |982            |22            |0.692              |0.0                  |1.0                 |[0.0,15.0,3.0,1.0,3.0,3324.0,0.0,3324.0,0.537,982.0,22.0,0.692,0.0]   |[16.0,91.0]  |[0.14953271028037382,0.8504672897196262]|1.0       |\n",
            "|0             |27          |F     |0              |High School    |Single        |Less than $40K |Blue         |18            |6                       |1                     |4                    |1438.3      |0                  |1438.3         |0.781               |2641           |40            |0.6                |0.0                  |1.0                 |[0.0,18.0,6.0,1.0,4.0,1438.3,0.0,1438.3,0.781,2641.0,40.0,0.6,0.0]    |[18.0,4.0]   |[0.8181818181818182,0.18181818181818182]|0.0       |\n",
            "|0             |29          |M     |0              |Graduate       |Single        |$120K +        |Blue         |22            |2                       |2                     |3                    |11722.0     |0                  |11722.0        |0.778               |8302           |78            |0.902              |0.0                  |1.0                 |[0.0,22.0,2.0,2.0,3.0,11722.0,0.0,11722.0,0.778,8302.0,78.0,0.902,0.0]|[160.0,42.0] |[0.7920792079207921,0.2079207920792079] |0.0       |\n",
            "+--------------+------------+------+---------------+---------------+--------------+---------------+-------------+--------------+------------------------+----------------------+---------------------+------------+-------------------+---------------+--------------------+---------------+--------------+-------------------+---------------------+--------------------+----------------------------------------------------------------------+-------------+----------------------------------------+----------+\n",
            "only showing top 3 rows\n",
            "\n"
          ]
        }
      ]
    },
    {
      "cell_type": "code",
      "source": [
        "evaluator = MulticlassClassificationEvaluator(labelCol=\"Attrition_Flag\")\n",
        "\n",
        "accuracy = evaluator.evaluate(test_predications, {evaluator.metricName: 'accuracy'})\n",
        "f1 = evaluator.evaluate(test_predications, {evaluator.metricName: 'f1'})\n",
        "recall = evaluator.evaluate(test_predications, {evaluator.metricName: 'recallByLabel'})\n",
        "precision = evaluator.evaluate(test_predications, {evaluator.metricName: 'precisionByLabel'})\n",
        "\n",
        "print(f\"The Precision for 1st Test Prediction: {precision}\")\n",
        "print(f\"The F1 for 1st Test Prediction: {f1}\")\n",
        "print(f\"The Recall for 1st Test Prediction: {recall}\")\n",
        "print(f\"The Accuracy for 1st Test Prediction: {accuracy}\")\n",
        "\n"
      ],
      "metadata": {
        "id": "wXUPuJ-aTZhH",
        "colab": {
          "base_uri": "https://localhost:8080/"
        },
        "outputId": "19af3eb4-649a-43cd-feac-62bb50981d60"
      },
      "execution_count": 31,
      "outputs": [
        {
          "output_type": "stream",
          "name": "stdout",
          "text": [
            "The Precision for 1st Test Prediction: 0.798219584569733\n",
            "The F1 for 1st Test Prediction: 0.9386834425940117\n",
            "The Recall for 1st Test Prediction: 0.8251533742331288\n",
            "The Accuracy for 1st Test Prediction: 0.9382716049382716\n"
          ]
        }
      ]
    }
  ]
}